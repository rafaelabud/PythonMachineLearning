{
 "cells": [
  {
   "cell_type": "code",
   "execution_count": 2,
   "metadata": {},
   "outputs": [],
   "source": [
    "#Crie um array data com a seguinte lista : [1,2,3,4,5,6,7,8,9,10,11,12,13,14,15,16]\n",
    "import numpy as np\n",
    "data = np.array([1,2,3,4,5,6,7,8,9,10,11,12,13,14,15,16])"
   ]
  },
  {
   "cell_type": "code",
   "execution_count": 3,
   "metadata": {},
   "outputs": [
    {
     "data": {
      "text/plain": [
       "array([ 1,  2,  3,  5,  7,  9, 11, 12, 13, 14, 15, 16])"
      ]
     },
     "execution_count": 3,
     "metadata": {},
     "output_type": "execute_result"
    }
   ],
   "source": [
    "#Selecione apenas os dados diferentes de 4,6,8,10. Aloque em um array chamado data_2\n",
    "data_2 = data[(data != 4) & (data != 6) & (data != 8) & (data != 10)]\n",
    "data_2"
   ]
  },
  {
   "cell_type": "code",
   "execution_count": 4,
   "metadata": {},
   "outputs": [
    {
     "data": {
      "text/plain": [
       "array([[ 1,  2,  3,  4,  5],\n",
       "       [ 6,  7,  8,  9, 10]])"
      ]
     },
     "execution_count": 4,
     "metadata": {},
     "output_type": "execute_result"
    }
   ],
   "source": [
    "#Crie um array dim2, que tenha 2 dimensões e a lista [1,2,3,4,5 na primeira linha e a lista [6,7,8,9,10] na 2a linha\n",
    "dim2 = np.array([[1,2,3,4,5],[6,7,8,9,10]])\n",
    "dim2"
   ]
  },
  {
   "cell_type": "code",
   "execution_count": 27,
   "metadata": {},
   "outputs": [],
   "source": [
    "#Crie um array chamado dim_2_2 que seja uma fatia de dim2 e que contenha apenas os valores 3,4,8,9\n",
    "dim_2_2 = dim2[:,2:4]"
   ]
  }
 ],
 "metadata": {
  "kernelspec": {
   "display_name": "Python 3",
   "language": "python",
   "name": "python3"
  },
  "language_info": {
   "codemirror_mode": {
    "name": "ipython",
    "version": 3
   },
   "file_extension": ".py",
   "mimetype": "text/x-python",
   "name": "python",
   "nbconvert_exporter": "python",
   "pygments_lexer": "ipython3",
   "version": "3.7.3"
  }
 },
 "nbformat": 4,
 "nbformat_minor": 4
}
