{
 "cells": [
  {
   "cell_type": "code",
   "execution_count": 1,
   "metadata": {},
   "outputs": [
    {
     "name": "stdin",
     "output_type": "stream",
     "text": [
      "Qual o seu nome? Rafael\n"
     ]
    }
   ],
   "source": [
    "#1 - Pergunte o nome da pessoa e atribua a variável nome\n",
    "nome=input(\"Qual o seu nome?\")"
   ]
  },
  {
   "cell_type": "code",
   "execution_count": 2,
   "metadata": {},
   "outputs": [
    {
     "name": "stdin",
     "output_type": "stream",
     "text": [
      "Qual a sua altura? 1.42\n"
     ]
    }
   ],
   "source": [
    "#2 - Pergunte a altura (em metros) e atribua na variável alt. Não esqueça de que a variável deve ser do tipo float\n",
    "alt=float(input(\"Qual a sua altura?\"))"
   ]
  },
  {
   "cell_type": "code",
   "execution_count": 3,
   "metadata": {},
   "outputs": [
    {
     "name": "stdin",
     "output_type": "stream",
     "text": [
      "Qual o seu peso? 91\n"
     ]
    }
   ],
   "source": [
    "#3 - Pergunte o peso (em quilos) e atribua na variável kg. Não esqueça de que a variável deve ser do tipo float\n",
    "peso=float(input(\"Qual o seu peso?\"))"
   ]
  },
  {
   "cell_type": "code",
   "execution_count": 4,
   "metadata": {},
   "outputs": [],
   "source": [
    "#4 - Calcule o IMC através da formula IMC = peso/(alt*alt)\n",
    "IMC = peso/(alt*alt)"
   ]
  },
  {
   "cell_type": "code",
   "execution_count": 5,
   "metadata": {},
   "outputs": [
    {
     "name": "stdout",
     "output_type": "stream",
     "text": [
      "Olá Rafael seu IMC é  45.12993453679825\n"
     ]
    }
   ],
   "source": [
    "#5 - Escreva o resultado do cálculo do IMC como \"Olá <Fulano>, seu IMC é <xx>\"\n",
    "print('Olá', nome, 'seu IMC é ',IMC)"
   ]
  }
 ],
 "metadata": {
  "kernelspec": {
   "display_name": "Python 3 (ipykernel)",
   "language": "python",
   "name": "python3"
  },
  "language_info": {
   "codemirror_mode": {
    "name": "ipython",
    "version": 3
   },
   "file_extension": ".py",
   "mimetype": "text/x-python",
   "name": "python",
   "nbconvert_exporter": "python",
   "pygments_lexer": "ipython3",
   "version": "3.12.1"
  }
 },
 "nbformat": 4,
 "nbformat_minor": 4
}
