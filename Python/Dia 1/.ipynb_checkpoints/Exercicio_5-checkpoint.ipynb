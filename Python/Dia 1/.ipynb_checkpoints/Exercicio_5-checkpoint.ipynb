{
 "cells": [
  {
   "cell_type": "code",
   "execution_count": 2,
   "metadata": {},
   "outputs": [
    {
     "data": {
      "text/plain": [
       "'segunda'"
      ]
     },
     "metadata": {},
     "output_type": "display_data"
    },
    {
     "name": "stdout",
     "output_type": "stream",
     "text": [
      "Hoje tem salada\n"
     ]
    },
    {
     "data": {
      "text/plain": [
       "'terça'"
      ]
     },
     "metadata": {},
     "output_type": "display_data"
    },
    {
     "name": "stdout",
     "output_type": "stream",
     "text": [
      "Hoje tem feijoada\n"
     ]
    },
    {
     "data": {
      "text/plain": [
       "'quarta'"
      ]
     },
     "metadata": {},
     "output_type": "display_data"
    },
    {
     "name": "stdout",
     "output_type": "stream",
     "text": [
      "Hoje tem macarronada\n"
     ]
    },
    {
     "data": {
      "text/plain": [
       "'quinta'"
      ]
     },
     "metadata": {},
     "output_type": "display_data"
    },
    {
     "name": "stdout",
     "output_type": "stream",
     "text": [
      "Hoje tem massa\n"
     ]
    },
    {
     "data": {
      "text/plain": [
       "'sexta'"
      ]
     },
     "metadata": {},
     "output_type": "display_data"
    },
    {
     "name": "stdout",
     "output_type": "stream",
     "text": [
      "Hoje tem feijoada e comida baiana e escondidinho\n"
     ]
    }
   ],
   "source": [
    "#2 - Crie um dicionário chamado cardápio em que as chaves são os dias da semana e os respectivos valores sejam os pratos do dia\n",
    "cardapio = {'segunda':'salada','terça':'feijoada','quarta':'macarronada','quinta':'massa','sexta':['feijoada','comida baiana', 'escondidinho']}\n",
    "\n",
    "lista_dias = list(cardapio.keys())\n",
    "for dia in lista_dias:\n",
    "    display(dia)\n",
    "    if type(cardapio[dia]) is list:\n",
    "        print('Hoje tem', ' e '.join(cardapio[dia]))\n",
    "    else:\n",
    "        if type(cardapio[dia]) is str:\n",
    "            print('Hoje tem',cardapio[dia])"
   ]
  },
  {
   "cell_type": "code",
   "execution_count": 3,
   "metadata": {},
   "outputs": [],
   "source": [
    "#3Crie um dicionário chamado hemograma que contenha as seguintes chave:valor\n",
    "hemograma = {'hemacias':4.71, 'hemoglobina':14.1, 'hematocrito':41.2,'linfocitos':38,'monocitos':7,'resultado':'saudável'}"
   ]
  },
  {
   "cell_type": "code",
   "execution_count": 4,
   "metadata": {},
   "outputs": [],
   "source": [
    "#Corrija o dicionário acima com monócitos:12\n",
    "hemograma.update({'monocitos':12})"
   ]
  },
  {
   "cell_type": "code",
   "execution_count": 5,
   "metadata": {},
   "outputs": [
    {
     "data": {
      "text/plain": [
       "{'hemacias': 4.71,\n",
       " 'hemoglobina': 14.1,\n",
       " 'hematocrito': 41.2,\n",
       " 'linfocitos': 38,\n",
       " 'monocitos': 12,\n",
       " 'resultado': 'saudável'}"
      ]
     },
     "execution_count": 5,
     "metadata": {},
     "output_type": "execute_result"
    }
   ],
   "source": [
    "hemograma"
   ]
  },
  {
   "cell_type": "code",
   "execution_count": null,
   "metadata": {},
   "outputs": [],
   "source": []
  }
 ],
 "metadata": {
  "kernelspec": {
   "display_name": "Python 3 (ipykernel)",
   "language": "python",
   "name": "python3"
  },
  "language_info": {
   "codemirror_mode": {
    "name": "ipython",
    "version": 3
   },
   "file_extension": ".py",
   "mimetype": "text/x-python",
   "name": "python",
   "nbconvert_exporter": "python",
   "pygments_lexer": "ipython3",
   "version": "3.12.1"
  }
 },
 "nbformat": 4,
 "nbformat_minor": 4
}
