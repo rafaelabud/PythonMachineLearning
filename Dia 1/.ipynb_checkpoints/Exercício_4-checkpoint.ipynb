{
 "cells": [
  {
   "cell_type": "code",
   "execution_count": 1,
   "metadata": {},
   "outputs": [],
   "source": [
    "#Crie uma lista com nomes de 4 times de futebol\n",
    "lista_times = ['Bahia','Corinthians','Internacional','Cruzeiro']"
   ]
  },
  {
   "cell_type": "code",
   "execution_count": 2,
   "metadata": {},
   "outputs": [
    {
     "data": {
      "text/plain": [
       "'Internacional'"
      ]
     },
     "metadata": {},
     "output_type": "display_data"
    }
   ],
   "source": [
    "#Acesse o time que está na 3a posição\n",
    "display(lista_times[2])"
   ]
  },
  {
   "cell_type": "code",
   "execution_count": 3,
   "metadata": {},
   "outputs": [],
   "source": [
    "#Crie uma nova lista com duas listas de 3 times de futebol, cada uma de uma divisão diferente\n",
    "lista_divisão_1 = ['Bahia','Gremio','Atlético-MG']\n",
    "lista_divisão_2 = ['Avaí','Vitória','CRB']\n",
    "lista = [lista_divisão_1,lista_divisão_2]"
   ]
  },
  {
   "cell_type": "code",
   "execution_count": 4,
   "metadata": {},
   "outputs": [],
   "source": [
    "#Cria uma lista com 3 diferentes moedas. Acrescente mais 2 outras moedas a essa mesma lista\n",
    "lista_moedas = ['real','dolar','euro']\n",
    "lista_moedas.append('francos')\n",
    "lista_moedas.append('cruzeiros')"
   ]
  },
  {
   "cell_type": "code",
   "execution_count": 5,
   "metadata": {},
   "outputs": [],
   "source": [
    "#Crie uma string com a lista do exerício anterior\n",
    "moedas = ','.join(lista_moedas)"
   ]
  },
  {
   "cell_type": "code",
   "execution_count": 6,
   "metadata": {},
   "outputs": [],
   "source": [
    "#Agora utilize a string do exercício 6 pra cria uma lista\n",
    "lista_moedas = moedas.split(',')"
   ]
  }
 ],
 "metadata": {
  "kernelspec": {
   "display_name": "Python 3 (ipykernel)",
   "language": "python",
   "name": "python3"
  },
  "language_info": {
   "codemirror_mode": {
    "name": "ipython",
    "version": 3
   },
   "file_extension": ".py",
   "mimetype": "text/x-python",
   "name": "python",
   "nbconvert_exporter": "python",
   "pygments_lexer": "ipython3",
   "version": "3.12.1"
  }
 },
 "nbformat": 4,
 "nbformat_minor": 4
}
