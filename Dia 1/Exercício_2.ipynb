{
 "cells": [
  {
   "cell_type": "code",
   "execution_count": 3,
   "metadata": {},
   "outputs": [],
   "source": [
    "#2 - Defina as sgeuintes variáveis x = 3, y = 4.0, z = 12 e t = 'banana'\n",
    "x = 3\n",
    "y = 4.0\n",
    "z = 12\n",
    "t = 'banana'"
   ]
  },
  {
   "cell_type": "code",
   "execution_count": 6,
   "metadata": {},
   "outputs": [],
   "source": [
    "#3 - Calcule:\n",
    "#a.x+y\n",
    "#b.z-y\n",
    "#c.y**x\n",
    "#d.x*z\n",
    "#e.z/x\n",
    "#f.y/x\n",
    "#g.y%x\n",
    "display(x+y)\n",
    "display(z-y)\n",
    "display(y**x)\n",
    "display(x*z)\n",
    "display(z/x)\n",
    "display(y/x)\n",
    "display(y%x)"
   ]
  },
  {
   "cell_type": "code",
   "execution_count": 7,
   "metadata": {},
   "outputs": [],
   "source": [
    "#4 - Teste as seguintes relações"
   ]
  },
  {
   "cell_type": "code",
   "execution_count": 5,
   "metadata": {},
   "outputs": [
    {
     "data": {
      "text/plain": [
       "1.0"
      ]
     },
     "execution_count": 5,
     "metadata": {},
     "output_type": "execute_result"
    }
   ],
   "source": []
  }
 ],
 "metadata": {
  "kernelspec": {
   "display_name": "Python 3",
   "language": "python",
   "name": "python3"
  },
  "language_info": {
   "codemirror_mode": {
    "name": "ipython",
    "version": 3
   },
   "file_extension": ".py",
   "mimetype": "text/x-python",
   "name": "python",
   "nbconvert_exporter": "python",
   "pygments_lexer": "ipython3",
   "version": "3.7.3"
  }
 },
 "nbformat": 4,
 "nbformat_minor": 4
}
