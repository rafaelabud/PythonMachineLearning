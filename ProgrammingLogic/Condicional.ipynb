{
 "cells": [
  {
   "cell_type": "code",
   "execution_count": null,
   "id": "b68071fe-17c5-4d9b-9771-c3a7fda9934f",
   "metadata": {},
   "outputs": [],
   "source": [
    "if condição:\n",
    "    # código se a condição for verdadeira\n",
    "else:\n",
    "    # código se a condição for falsa"
   ]
  },
  {
   "cell_type": "code",
   "execution_count": null,
   "id": "d2810b2a-6443-4c12-8c3c-891efbcc15c4",
   "metadata": {},
   "outputs": [],
   "source": [
    "idade = int(input(\"Digite sua idade: \"))\n",
    "if idade >= 18:\n",
    "    print(\"Você é maior de idade.\")\n",
    "else:\n",
    "    print(\"Você é menor de idade.\")"
   ]
  },
  {
   "cell_type": "code",
   "execution_count": null,
   "id": "5eb82776-372a-4d88-adec-c009da39a457",
   "metadata": {},
   "outputs": [],
   "source": [
    "Exercício 1: Verificar se um número é positivo, negativo ou zero.\n",
    "Exercício 2: Verificação de Vogal ou Consoante\n",
    "Exercício 3: Cálculo de Média e Situação do Aluno\n",
    "Exercício 4: Classificação de Triângulos\n",
    "\n",
    "Exercício 5: Uma determinada loja vende canetas em trios e a unidade, sendo que se vendida em trios o preço cai pela metade. \n",
    "Assim, como a escola vai comprar o número exatos de canetas, crie um programa que leia o número de alunos de uma sala\n",
    "e define quantos trios e quantas unidades a escola deve comprar para a sala em questão.\n",
    "    \n",
    "Exercício 7: Determinar se um número é divisível por 3.\n",
    "  \n",
    "Exercício 8: Determinar se um número é par ou ímpar.\n",
    "Exercício 9: Calculadora simples."
   ]
  },
  {
   "cell_type": "code",
   "execution_count": 7,
   "id": "4191acba-4dfd-4b73-8eba-c41bf5fffe8a",
   "metadata": {},
   "outputs": [
    {
     "name": "stdout",
     "output_type": "stream",
     "text": [
      "reprovado\n"
     ]
    }
   ],
   "source": [
    "nota = 3\n",
    "if (nota>=0) and (nota<=3.9):\n",
    "    print(\"reprovado\")\n",
    "if (nota>=4) and (nota<=5.9):\n",
    "    print(\"prova final\")\n",
    "if (nota>=6):\n",
    "    print(\"aprovado\")"
   ]
  },
  {
   "cell_type": "code",
   "execution_count": 8,
   "id": "67e4b4af-71c6-4c6d-9730-3fec1ba12116",
   "metadata": {},
   "outputs": [
    {
     "data": {
      "text/plain": [
       "2"
      ]
     },
     "execution_count": 8,
     "metadata": {},
     "output_type": "execute_result"
    }
   ],
   "source": [
    "unidades"
   ]
  },
  {
   "cell_type": "code",
   "execution_count": null,
   "id": "a8bfcdb7-43e2-4194-882b-3353262891f1",
   "metadata": {},
   "outputs": [],
   "source": []
  }
 ],
 "metadata": {
  "kernelspec": {
   "display_name": "Python 3 (ipykernel)",
   "language": "python",
   "name": "python3"
  },
  "language_info": {
   "codemirror_mode": {
    "name": "ipython",
    "version": 3
   },
   "file_extension": ".py",
   "mimetype": "text/x-python",
   "name": "python",
   "nbconvert_exporter": "python",
   "pygments_lexer": "ipython3",
   "version": "3.12.1"
  }
 },
 "nbformat": 4,
 "nbformat_minor": 5
}
