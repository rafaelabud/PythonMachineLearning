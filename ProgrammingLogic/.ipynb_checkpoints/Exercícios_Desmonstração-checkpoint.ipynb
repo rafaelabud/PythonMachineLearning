{
 "cells": [
  {
   "cell_type": "code",
   "execution_count": 15,
   "id": "e5729ffe-3f4b-44b3-9808-e81e1f8618d4",
   "metadata": {},
   "outputs": [
    {
     "name": "stdout",
     "output_type": "stream",
     "text": [
      "O usuário é de menor\n"
     ]
    }
   ],
   "source": [
    "#Exemplo: Verificar se o usuário é de maior ou de menor.\n",
    "idade = 10 #int(input())\n",
    "if (idade<18):\n",
    "    print(\"O usuário é de menor\")\n",
    "if (idade>=18):\n",
    "    print(\"O usuário é de maior\")"
   ]
  },
  {
   "cell_type": "code",
   "execution_count": null,
   "id": "c53918db-cddc-4a8d-9832-453a88840722",
   "metadata": {},
   "outputs": [],
   "source": [
    "#Exercício 1: Verificar se um número é positivo, negativo ou zero.\n",
    "numero = 0 #int(input())\n",
    "if (numero>0):\n",
    "    print(\"Número positivo\")\n",
    "if (numero<0):\n",
    "    print(\"Número negativo\")\n",
    "if (numero==0):\n",
    "    print(\"Número igual a zero\")"
   ]
  },
  {
   "cell_type": "code",
   "execution_count": 28,
   "id": "ab198dc9-e949-4929-ac16-fbeb9f852771",
   "metadata": {},
   "outputs": [],
   "source": [
    "#Exercício 2: Verificação de Vogal\n",
    "letra = 'p' #input()\n",
    "if (letra == 'a'):\n",
    "    print(\"Vogal\")\n",
    "if (letra == 'e'):\n",
    "    print(\"Vogal\")\n",
    "if (letra == 'i'):\n",
    "    print(\"Vogal\")\n",
    "if (letra == 'o'):\n",
    "    print(\"Vogal\")\n",
    "if (letra == 'u'):\n",
    "    print(\"Vogal\")"
   ]
  },
  {
   "cell_type": "code",
   "execution_count": null,
   "id": "fd5c67e1-a339-4f89-a62d-600f49a60b5d",
   "metadata": {},
   "outputs": [],
   "source": [
    "#Exercício 2: Verificação de Vogal\n",
    "letra = 'k' #input()\n",
    "if ((letra == 'a') or (letra == 'e') or (letra == 'i') or (letra == 'o') or (letra == 'u')):\n",
    "    print(\"Vogal\")\n",
    "else:\n",
    "    print(\"É uma consoante\")"
   ]
  }
 ],
 "metadata": {
  "kernelspec": {
   "display_name": "Python 3 (ipykernel)",
   "language": "python",
   "name": "python3"
  },
  "language_info": {
   "codemirror_mode": {
    "name": "ipython",
    "version": 3
   },
   "file_extension": ".py",
   "mimetype": "text/x-python",
   "name": "python",
   "nbconvert_exporter": "python",
   "pygments_lexer": "ipython3",
   "version": "3.12.1"
  }
 },
 "nbformat": 4,
 "nbformat_minor": 5
}
