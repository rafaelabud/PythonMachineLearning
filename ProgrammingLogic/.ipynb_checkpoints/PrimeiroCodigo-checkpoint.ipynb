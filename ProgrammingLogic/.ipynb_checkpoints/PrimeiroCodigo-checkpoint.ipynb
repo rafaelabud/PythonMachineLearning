{
 "cells": [
  {
   "cell_type": "code",
   "execution_count": 13,
   "id": "589c912c-79b7-4f93-9e71-5516cd3e479b",
   "metadata": {},
   "outputs": [
    {
     "name": "stdout",
     "output_type": "stream",
     "text": [
      "16\n"
     ]
    }
   ],
   "source": [
    "print(\"Meu primeiro código\")"
   ]
  },
  {
   "cell_type": "code",
   "execution_count": 9,
   "id": "f21bf50c-5e07-4573-b446-66047c3fb2b8",
   "metadata": {},
   "outputs": [
    {
     "name": "stdout",
     "output_type": "stream",
     "text": [
      "16\n"
     ]
    }
   ],
   "source": [
    "print(16)"
   ]
  },
  {
   "cell_type": "code",
   "execution_count": 14,
   "id": "8370f632-39ab-439e-8f02-61d02ebf95f9",
   "metadata": {},
   "outputs": [
    {
     "data": {
      "text/plain": [
       "'16'"
      ]
     },
     "metadata": {},
     "output_type": "display_data"
    }
   ],
   "source": [
    "display(\"16\")"
   ]
  },
  {
   "cell_type": "code",
   "execution_count": 12,
   "id": "9d10a2fd-5797-4639-a6c7-ca528373d942",
   "metadata": {},
   "outputs": [
    {
     "data": {
      "text/plain": [
       "16"
      ]
     },
     "metadata": {},
     "output_type": "display_data"
    }
   ],
   "source": [
    "display(16)"
   ]
  },
  {
   "cell_type": "code",
   "execution_count": 16,
   "id": "67473453-ddd4-4c32-bbe9-019955644948",
   "metadata": {},
   "outputs": [],
   "source": [
    "idade = 16\n",
    "idade_texto = \"16\""
   ]
  },
  {
   "cell_type": "code",
   "execution_count": 17,
   "id": "ce915a4e-e272-425c-b0e5-f6e18d392d48",
   "metadata": {},
   "outputs": [
    {
     "data": {
      "text/plain": [
       "18"
      ]
     },
     "execution_count": 17,
     "metadata": {},
     "output_type": "execute_result"
    }
   ],
   "source": [
    "idade + 2"
   ]
  },
  {
   "cell_type": "code",
   "execution_count": 19,
   "id": "3ac01319-25b6-4de5-a133-360c7add8239",
   "metadata": {},
   "outputs": [
    {
     "data": {
      "text/plain": [
       "'162'"
      ]
     },
     "execution_count": 19,
     "metadata": {},
     "output_type": "execute_result"
    }
   ],
   "source": [
    "idade_texto + \"2\""
   ]
  },
  {
   "cell_type": "code",
   "execution_count": null,
   "id": "278ee375-8040-41b7-bcde-e832f7cc968d",
   "metadata": {},
   "outputs": [],
   "source": []
  }
 ],
 "metadata": {
  "kernelspec": {
   "display_name": "Python 3 (ipykernel)",
   "language": "python",
   "name": "python3"
  },
  "language_info": {
   "codemirror_mode": {
    "name": "ipython",
    "version": 3
   },
   "file_extension": ".py",
   "mimetype": "text/x-python",
   "name": "python",
   "nbconvert_exporter": "python",
   "pygments_lexer": "ipython3",
   "version": "3.12.1"
  }
 },
 "nbformat": 4,
 "nbformat_minor": 5
}
