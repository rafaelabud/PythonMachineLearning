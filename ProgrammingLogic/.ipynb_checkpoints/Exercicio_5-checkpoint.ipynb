{
 "cells": [
  {
   "cell_type": "code",
   "execution_count": 1,
   "id": "7b147ce8-7544-4f56-9629-33048d784855",
   "metadata": {},
   "outputs": [
    {
     "data": {
      "text/plain": [
       "29"
      ]
     },
     "metadata": {},
     "output_type": "display_data"
    },
    {
     "data": {
      "text/plain": [
       "2"
      ]
     },
     "metadata": {},
     "output_type": "display_data"
    }
   ],
   "source": [
    "canetas = 89\n",
    "divisão = canetas/3\n",
    "pacotes = int(divisão)\n",
    "unidades = canetas - (pacotes*3)\n",
    "display(pacotes)\n",
    "display(unidades)"
   ]
  },
  {
   "cell_type": "code",
   "execution_count": 2,
   "id": "a9a341d8-718c-4443-9a37-4fc73c7b94dd",
   "metadata": {},
   "outputs": [
    {
     "data": {
      "text/plain": [
       "29"
      ]
     },
     "metadata": {},
     "output_type": "display_data"
    },
    {
     "data": {
      "text/plain": [
       "2"
      ]
     },
     "metadata": {},
     "output_type": "display_data"
    }
   ],
   "source": [
    "canetas = 89\n",
    "divisão = canetas/3\n",
    "pacotes = int(divisão)\n",
    "resto_divisão = canetas%3\n",
    "unidades = resto_divisão\n",
    "display(pacotes)\n",
    "display(unidades)"
   ]
  },
  {
   "cell_type": "code",
   "execution_count": null,
   "id": "b502bd6f-7bdf-4700-a857-ddafc6e3ed83",
   "metadata": {},
   "outputs": [],
   "source": []
  }
 ],
 "metadata": {
  "kernelspec": {
   "display_name": "Python 3 (ipykernel)",
   "language": "python",
   "name": "python3"
  },
  "language_info": {
   "codemirror_mode": {
    "name": "ipython",
    "version": 3
   },
   "file_extension": ".py",
   "mimetype": "text/x-python",
   "name": "python",
   "nbconvert_exporter": "python",
   "pygments_lexer": "ipython3",
   "version": "3.12.1"
  }
 },
 "nbformat": 4,
 "nbformat_minor": 5
}
