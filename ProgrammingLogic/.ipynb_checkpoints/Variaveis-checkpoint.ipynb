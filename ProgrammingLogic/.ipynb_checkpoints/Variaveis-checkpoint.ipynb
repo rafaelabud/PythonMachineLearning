{
 "cells": [
  {
   "cell_type": "code",
   "execution_count": 1,
   "id": "b8742762-fe0c-43bc-9be2-19392d10919c",
   "metadata": {},
   "outputs": [],
   "source": [
    "#Gustavo, Mateus, Francesco, João e Lucca"
   ]
  },
  {
   "cell_type": "code",
   "execution_count": 8,
   "id": "85fe5be9-4188-4331-8f63-c152f70e7a9e",
   "metadata": {},
   "outputs": [],
   "source": [
    "idade = 16  #inteiro \n",
    "nome = \"Ana\"  # string\n",
    "altura = 1.75  # float"
   ]
  },
  {
   "cell_type": "code",
   "execution_count": 2,
   "id": "5bbb0388-b916-4807-b960-0799f6fa02d4",
   "metadata": {},
   "outputs": [
    {
     "name": "stdout",
     "output_type": "stream",
     "text": [
      "Nome: Ana\n",
      "Idade: 16\n",
      "Altura: 1.75\n"
     ]
    }
   ],
   "source": [
    "print(\"Nome:\", nome)\n",
    "print(\"Idade:\", idade)\n",
    "print(\"Altura:\", altura)"
   ]
  },
  {
   "cell_type": "code",
   "execution_count": 19,
   "id": "02b48af5-16d6-437b-bd0b-a5f292c8cab6",
   "metadata": {},
   "outputs": [
    {
     "data": {
      "text/plain": [
       "'Nome:Ana'"
      ]
     },
     "metadata": {},
     "output_type": "display_data"
    },
    {
     "data": {
      "text/plain": [
       "'Idade:16'"
      ]
     },
     "metadata": {},
     "output_type": "display_data"
    },
    {
     "data": {
      "text/plain": [
       "'Altura:1.75'"
      ]
     },
     "metadata": {},
     "output_type": "display_data"
    }
   ],
   "source": [
    "display(\"Nome:\" + nome)\n",
    "display(\"Idade:\" + str(idade))\n",
    "display(\"Altura:\"+ str(altura))"
   ]
  },
  {
   "cell_type": "code",
   "execution_count": 14,
   "id": "47ff70fe-65b9-4ab8-857e-30f07102e71e",
   "metadata": {},
   "outputs": [
    {
     "data": {
      "text/plain": [
       "'Rafael12'"
      ]
     },
     "execution_count": 14,
     "metadata": {},
     "output_type": "execute_result"
    }
   ],
   "source": [
    "\"Rafael\" + str(12)"
   ]
  },
  {
   "cell_type": "code",
   "execution_count": null,
   "id": "c09a42e2-0e6d-4c17-9a12-e8a5f5eadf5e",
   "metadata": {},
   "outputs": [],
   "source": []
  }
 ],
 "metadata": {
  "kernelspec": {
   "display_name": "Python 3 (ipykernel)",
   "language": "python",
   "name": "python3"
  },
  "language_info": {
   "codemirror_mode": {
    "name": "ipython",
    "version": 3
   },
   "file_extension": ".py",
   "mimetype": "text/x-python",
   "name": "python",
   "nbconvert_exporter": "python",
   "pygments_lexer": "ipython3",
   "version": "3.12.1"
  }
 },
 "nbformat": 4,
 "nbformat_minor": 5
}
