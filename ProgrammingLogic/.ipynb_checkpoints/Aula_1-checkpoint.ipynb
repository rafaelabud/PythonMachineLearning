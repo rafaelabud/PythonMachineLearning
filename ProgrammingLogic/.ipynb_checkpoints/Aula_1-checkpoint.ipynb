{
 "cells": [
  {
   "cell_type": "code",
   "execution_count": 3,
   "id": "5afe6f0b-a97c-42ab-ba83-976fc8b34d5f",
   "metadata": {},
   "outputs": [
    {
     "data": {
      "text/plain": [
       "'Hoje estou aprendendo a programar!'"
      ]
     },
     "metadata": {},
     "output_type": "display_data"
    }
   ],
   "source": [
    "display(\"Hoje estou aprendendo a programar!\")"
   ]
  },
  {
   "cell_type": "code",
   "execution_count": 4,
   "id": "6267c5c4-e1ce-469e-b5e3-0d5e3fdca02d",
   "metadata": {},
   "outputs": [
    {
     "name": "stdin",
     "output_type": "stream",
     "text": [
      "Qual é o seu nome? Rafael\n"
     ]
    },
    {
     "data": {
      "text/plain": [
       "'Oi,'"
      ]
     },
     "metadata": {},
     "output_type": "display_data"
    },
    {
     "data": {
      "text/plain": [
       "'Rafael'"
      ]
     },
     "metadata": {},
     "output_type": "display_data"
    },
    {
     "data": {
      "text/plain": [
       "'tudo bem?'"
      ]
     },
     "metadata": {},
     "output_type": "display_data"
    }
   ],
   "source": [
    "nome = input(\"Qual é o seu nome?\")\n",
    "display(\"Oi,\", nome, \"tudo bem?\")"
   ]
  },
  {
   "cell_type": "code",
   "execution_count": null,
   "id": "c9cf8123-c0a6-4648-847c-cf8036533f05",
   "metadata": {},
   "outputs": [],
   "source": []
  }
 ],
 "metadata": {
  "kernelspec": {
   "display_name": "Python 3 (ipykernel)",
   "language": "python",
   "name": "python3"
  },
  "language_info": {
   "codemirror_mode": {
    "name": "ipython",
    "version": 3
   },
   "file_extension": ".py",
   "mimetype": "text/x-python",
   "name": "python",
   "nbconvert_exporter": "python",
   "pygments_lexer": "ipython3",
   "version": "3.12.1"
  }
 },
 "nbformat": 4,
 "nbformat_minor": 5
}
