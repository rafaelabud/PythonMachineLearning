{
 "cells": [
  {
   "cell_type": "code",
   "execution_count": null,
   "metadata": {},
   "outputs": [],
   "source": [
    "#1. Pesquise o resultado de overfitting e reescreva utilizando suas palavras\n",
    "#Overfitting ocorre quando o algoritmo treina em excesso e fica muito bom em dados muito específicos. O ideal é que o modelo \n",
    "#não seja muito especifista (overfitting) e nem muito generalista (underfitting)."
   ]
  },
  {
   "cell_type": "code",
   "execution_count": null,
   "metadata": {},
   "outputs": [],
   "source": [
    "#2. Pesquise quais as melhores práticas para separação de amostra de treino e teste\n",
    "#Holdhout e k-fold"
   ]
  },
  {
   "cell_type": "code",
   "execution_count": null,
   "metadata": {},
   "outputs": [],
   "source": [
    "#3. É razoável dividir os dados de treino e teste com os mesmo tamanhos? Por quê?\n",
    "#O ideal é deixar uma parte maior para treino, pois quanto mais dados pra gerar o modelo, maior a tendência de ele\n",
    "#ter melhor desempenho."
   ]
  }
 ],
 "metadata": {
  "kernelspec": {
   "display_name": "Python 3",
   "language": "python",
   "name": "python3"
  },
  "language_info": {
   "codemirror_mode": {
    "name": "ipython",
    "version": 3
   },
   "file_extension": ".py",
   "mimetype": "text/x-python",
   "name": "python",
   "nbconvert_exporter": "python",
   "pygments_lexer": "ipython3",
   "version": "3.7.3"
  }
 },
 "nbformat": 4,
 "nbformat_minor": 4
}
