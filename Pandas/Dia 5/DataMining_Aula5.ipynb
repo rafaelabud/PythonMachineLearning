{
 "cells": [
  {
   "cell_type": "markdown",
   "metadata": {},
   "source": [
    "<h4> Análise de Dados com Python <br> <b> Aula 4 <b> </h4> "
   ]
  },
  {
   "cell_type": "markdown",
   "metadata": {},
   "source": [
    "<b><h5> Data Mining </h5></b>"
   ]
  },
  {
   "cell_type": "code",
   "execution_count": 2,
   "metadata": {},
   "outputs": [],
   "source": [
    "#Importando as bibliotecas necessárias\n",
    "import numpy as np\n",
    "import pandas as pd\n",
    "import matplotlib.pyplot as plt\n",
    "import seaborn as sns"
   ]
  },
  {
   "cell_type": "code",
   "execution_count": 3,
   "metadata": {},
   "outputs": [],
   "source": [
    "# Abrindo o arquivo\n",
    "df = pd.read_csv('carros.csv')"
   ]
  },
  {
   "cell_type": "code",
   "execution_count": 3,
   "metadata": {},
   "outputs": [
    {
     "data": {
      "text/html": [
       "<div>\n",
       "<style scoped>\n",
       "    .dataframe tbody tr th:only-of-type {\n",
       "        vertical-align: middle;\n",
       "    }\n",
       "\n",
       "    .dataframe tbody tr th {\n",
       "        vertical-align: top;\n",
       "    }\n",
       "\n",
       "    .dataframe thead th {\n",
       "        text-align: right;\n",
       "    }\n",
       "</style>\n",
       "<table border=\"1\" class=\"dataframe\">\n",
       "  <thead>\n",
       "    <tr style=\"text-align: right;\">\n",
       "      <th></th>\n",
       "      <th>riskiness</th>\n",
       "      <th>losses</th>\n",
       "      <th>make</th>\n",
       "      <th>fuel type</th>\n",
       "      <th>city mpg</th>\n",
       "      <th>highway mpg</th>\n",
       "      <th>aspiration</th>\n",
       "      <th>doors</th>\n",
       "      <th>body</th>\n",
       "      <th>drive</th>\n",
       "      <th>...</th>\n",
       "      <th>engine type</th>\n",
       "      <th>cylinders</th>\n",
       "      <th>engine size</th>\n",
       "      <th>fuel system</th>\n",
       "      <th>bore</th>\n",
       "      <th>stroke</th>\n",
       "      <th>compression ratio</th>\n",
       "      <th>horsepower</th>\n",
       "      <th>peak rpm</th>\n",
       "      <th>price</th>\n",
       "    </tr>\n",
       "  </thead>\n",
       "  <tbody>\n",
       "    <tr>\n",
       "      <th>0</th>\n",
       "      <td>2</td>\n",
       "      <td>164.0</td>\n",
       "      <td>audi</td>\n",
       "      <td>gas</td>\n",
       "      <td>24.0</td>\n",
       "      <td>30.0</td>\n",
       "      <td>std</td>\n",
       "      <td>four</td>\n",
       "      <td>sedan</td>\n",
       "      <td>fwd</td>\n",
       "      <td>...</td>\n",
       "      <td>ohc</td>\n",
       "      <td>four</td>\n",
       "      <td>109</td>\n",
       "      <td>mpfi</td>\n",
       "      <td>3.19</td>\n",
       "      <td>3.4</td>\n",
       "      <td>10.0</td>\n",
       "      <td>102</td>\n",
       "      <td>5500</td>\n",
       "      <td>13950</td>\n",
       "    </tr>\n",
       "    <tr>\n",
       "      <th>1</th>\n",
       "      <td>2</td>\n",
       "      <td>164.0</td>\n",
       "      <td>audi</td>\n",
       "      <td>gas</td>\n",
       "      <td>18.0</td>\n",
       "      <td>22.0</td>\n",
       "      <td>std</td>\n",
       "      <td>four</td>\n",
       "      <td>sedan</td>\n",
       "      <td>4wd</td>\n",
       "      <td>...</td>\n",
       "      <td>ohc</td>\n",
       "      <td>five</td>\n",
       "      <td>136</td>\n",
       "      <td>mpfi</td>\n",
       "      <td>3.19</td>\n",
       "      <td>3.4</td>\n",
       "      <td>8.0</td>\n",
       "      <td>115</td>\n",
       "      <td>5500</td>\n",
       "      <td>17450</td>\n",
       "    </tr>\n",
       "    <tr>\n",
       "      <th>2</th>\n",
       "      <td>1</td>\n",
       "      <td>158.0</td>\n",
       "      <td>audi</td>\n",
       "      <td>gas</td>\n",
       "      <td>19.0</td>\n",
       "      <td>25.0</td>\n",
       "      <td>std</td>\n",
       "      <td>four</td>\n",
       "      <td>sedan</td>\n",
       "      <td>fwd</td>\n",
       "      <td>...</td>\n",
       "      <td>ohc</td>\n",
       "      <td>five</td>\n",
       "      <td>136</td>\n",
       "      <td>mpfi</td>\n",
       "      <td>3.19</td>\n",
       "      <td>3.4</td>\n",
       "      <td>8.5</td>\n",
       "      <td>110</td>\n",
       "      <td>5500</td>\n",
       "      <td>17710</td>\n",
       "    </tr>\n",
       "    <tr>\n",
       "      <th>3</th>\n",
       "      <td>1</td>\n",
       "      <td>158.0</td>\n",
       "      <td>audi</td>\n",
       "      <td>gas</td>\n",
       "      <td>17.0</td>\n",
       "      <td>20.0</td>\n",
       "      <td>turbo</td>\n",
       "      <td>four</td>\n",
       "      <td>sedan</td>\n",
       "      <td>fwd</td>\n",
       "      <td>...</td>\n",
       "      <td>ohc</td>\n",
       "      <td>five</td>\n",
       "      <td>131</td>\n",
       "      <td>mpfi</td>\n",
       "      <td>3.13</td>\n",
       "      <td>3.4</td>\n",
       "      <td>8.3</td>\n",
       "      <td>140</td>\n",
       "      <td>5500</td>\n",
       "      <td>23875</td>\n",
       "    </tr>\n",
       "    <tr>\n",
       "      <th>4</th>\n",
       "      <td>2</td>\n",
       "      <td>192.0</td>\n",
       "      <td>bmw</td>\n",
       "      <td>gas</td>\n",
       "      <td>23.0</td>\n",
       "      <td>29.0</td>\n",
       "      <td>std</td>\n",
       "      <td>two</td>\n",
       "      <td>sedan</td>\n",
       "      <td>rwd</td>\n",
       "      <td>...</td>\n",
       "      <td>ohc</td>\n",
       "      <td>four</td>\n",
       "      <td>108</td>\n",
       "      <td>mpfi</td>\n",
       "      <td>3.50</td>\n",
       "      <td>2.8</td>\n",
       "      <td>8.8</td>\n",
       "      <td>101</td>\n",
       "      <td>5800</td>\n",
       "      <td>16430</td>\n",
       "    </tr>\n",
       "  </tbody>\n",
       "</table>\n",
       "<p>5 rows × 26 columns</p>\n",
       "</div>"
      ],
      "text/plain": [
       "   riskiness  losses  make fuel type  city mpg  highway mpg aspiration doors  \\\n",
       "0          2   164.0  audi       gas      24.0         30.0        std  four   \n",
       "1          2   164.0  audi       gas      18.0         22.0        std  four   \n",
       "2          1   158.0  audi       gas      19.0         25.0        std  four   \n",
       "3          1   158.0  audi       gas      17.0         20.0      turbo  four   \n",
       "4          2   192.0   bmw       gas      23.0         29.0        std   two   \n",
       "\n",
       "    body drive  ... engine type  cylinders  engine size  fuel system  bore  \\\n",
       "0  sedan   fwd  ...         ohc       four          109         mpfi  3.19   \n",
       "1  sedan   4wd  ...         ohc       five          136         mpfi  3.19   \n",
       "2  sedan   fwd  ...         ohc       five          136         mpfi  3.19   \n",
       "3  sedan   fwd  ...         ohc       five          131         mpfi  3.13   \n",
       "4  sedan   rwd  ...         ohc       four          108         mpfi  3.50   \n",
       "\n",
       "   stroke compression ratio horsepower  peak rpm  price  \n",
       "0     3.4              10.0        102      5500  13950  \n",
       "1     3.4               8.0        115      5500  17450  \n",
       "2     3.4               8.5        110      5500  17710  \n",
       "3     3.4               8.3        140      5500  23875  \n",
       "4     2.8               8.8        101      5800  16430  \n",
       "\n",
       "[5 rows x 26 columns]"
      ]
     },
     "execution_count": 3,
     "metadata": {},
     "output_type": "execute_result"
    }
   ],
   "source": [
    "#Visualizando o dataframe\n",
    "df.head()"
   ]
  },
  {
   "cell_type": "markdown",
   "metadata": {},
   "source": [
    "# Conhecendo os Dados\n",
    "\n",
    "Abaixo, descrevemos as informações contidas no dataset **Carros**.\n",
    "\n",
    "### Informações contidas no dataset\n",
    "As variáveis contidas e seus significados estão abaixo:\n",
    "\n",
    "- riskiness: Classificação do risco associado à subscrição de uma nova apólice e o prêmio que deve ser cobrado pela cobertura\n",
    "- losses: Taxa de desvalorização\n",
    "- make: Fabricante\n",
    "- fuel type: tipo de combustível\n",
    "- aspiration: motores aspirados ou turbinados\n",
    "- doors: quantidade de portas\n",
    "- body: tipo de carro (sedan, hatch...)\n",
    "- drive: Tração\n",
    "- engine location: localização do motor\n",
    "- wheel base: distância entre os eixos das rodas dianteiras e traseiras\n",
    "- length: comprimento\n",
    "- width: largura\n",
    "- height: altura\n",
    "- weight: peso\n",
    "- engine type: tipo de motor\n",
    "- cylinders: quantidade de cilindros\n",
    "- engine size: tamanho do motor\n",
    "- fuel system: Injeção de combustível\n",
    "- bore: diâmetro do cilindro\n",
    "- stroke: tempo do motor (ciclo)\n",
    "- compression ratio: Taxa de compressão (É um valor numérico adimensional representando a proporção entre o volume aspirado somado ao volume da câmara de combustão em relação ao volume da câmara de combustão)\n",
    "- horsepower: cavalos de potência\n",
    "- peak rpm: pico velocidade de rotação do motor\n",
    "- city mpg: eficiência do combustível na cidade (milhas por galão)\n",
    "- highway mpg: eficiência do combustível na estrada (milhas por galão)\n",
    "- price: preço"
   ]
  },
  {
   "cell_type": "code",
   "execution_count": 6,
   "metadata": {},
   "outputs": [
    {
     "data": {
      "text/html": [
       "<div>\n",
       "<style scoped>\n",
       "    .dataframe tbody tr th:only-of-type {\n",
       "        vertical-align: middle;\n",
       "    }\n",
       "\n",
       "    .dataframe tbody tr th {\n",
       "        vertical-align: top;\n",
       "    }\n",
       "\n",
       "    .dataframe thead th {\n",
       "        text-align: right;\n",
       "    }\n",
       "</style>\n",
       "<table border=\"1\" class=\"dataframe\">\n",
       "  <thead>\n",
       "    <tr style=\"text-align: right;\">\n",
       "      <th></th>\n",
       "      <th>count</th>\n",
       "      <th>mean</th>\n",
       "      <th>std</th>\n",
       "      <th>min</th>\n",
       "      <th>25%</th>\n",
       "      <th>50%</th>\n",
       "      <th>75%</th>\n",
       "      <th>max</th>\n",
       "    </tr>\n",
       "  </thead>\n",
       "  <tbody>\n",
       "    <tr>\n",
       "      <th>riskiness</th>\n",
       "      <td>165.0</td>\n",
       "      <td>0.739394</td>\n",
       "      <td>1.183716</td>\n",
       "      <td>-2.00</td>\n",
       "      <td>0.00</td>\n",
       "      <td>1.00</td>\n",
       "      <td>2.00</td>\n",
       "      <td>3.00</td>\n",
       "    </tr>\n",
       "    <tr>\n",
       "      <th>losses</th>\n",
       "      <td>159.0</td>\n",
       "      <td>122.566038</td>\n",
       "      <td>36.905889</td>\n",
       "      <td>65.00</td>\n",
       "      <td>94.00</td>\n",
       "      <td>115.00</td>\n",
       "      <td>151.50</td>\n",
       "      <td>256.00</td>\n",
       "    </tr>\n",
       "    <tr>\n",
       "      <th>city mpg</th>\n",
       "      <td>164.0</td>\n",
       "      <td>26.408537</td>\n",
       "      <td>6.234491</td>\n",
       "      <td>15.00</td>\n",
       "      <td>22.75</td>\n",
       "      <td>26.00</td>\n",
       "      <td>31.00</td>\n",
       "      <td>49.00</td>\n",
       "    </tr>\n",
       "    <tr>\n",
       "      <th>highway mpg</th>\n",
       "      <td>159.0</td>\n",
       "      <td>32.088050</td>\n",
       "      <td>6.723644</td>\n",
       "      <td>18.00</td>\n",
       "      <td>28.00</td>\n",
       "      <td>32.00</td>\n",
       "      <td>37.00</td>\n",
       "      <td>54.00</td>\n",
       "    </tr>\n",
       "    <tr>\n",
       "      <th>wheel base</th>\n",
       "      <td>165.0</td>\n",
       "      <td>98.321212</td>\n",
       "      <td>5.183802</td>\n",
       "      <td>86.60</td>\n",
       "      <td>94.50</td>\n",
       "      <td>97.00</td>\n",
       "      <td>101.20</td>\n",
       "      <td>115.60</td>\n",
       "    </tr>\n",
       "    <tr>\n",
       "      <th>length</th>\n",
       "      <td>165.0</td>\n",
       "      <td>172.453333</td>\n",
       "      <td>11.699643</td>\n",
       "      <td>141.10</td>\n",
       "      <td>165.70</td>\n",
       "      <td>172.40</td>\n",
       "      <td>177.80</td>\n",
       "      <td>202.60</td>\n",
       "    </tr>\n",
       "    <tr>\n",
       "      <th>width</th>\n",
       "      <td>165.0</td>\n",
       "      <td>65.590909</td>\n",
       "      <td>2.011819</td>\n",
       "      <td>60.30</td>\n",
       "      <td>64.00</td>\n",
       "      <td>65.40</td>\n",
       "      <td>66.50</td>\n",
       "      <td>71.70</td>\n",
       "    </tr>\n",
       "    <tr>\n",
       "      <th>height</th>\n",
       "      <td>165.0</td>\n",
       "      <td>53.916970</td>\n",
       "      <td>2.233821</td>\n",
       "      <td>49.40</td>\n",
       "      <td>52.50</td>\n",
       "      <td>54.10</td>\n",
       "      <td>55.50</td>\n",
       "      <td>59.80</td>\n",
       "    </tr>\n",
       "    <tr>\n",
       "      <th>weight</th>\n",
       "      <td>165.0</td>\n",
       "      <td>2461.575758</td>\n",
       "      <td>482.616638</td>\n",
       "      <td>1488.00</td>\n",
       "      <td>2081.00</td>\n",
       "      <td>2370.00</td>\n",
       "      <td>2808.00</td>\n",
       "      <td>4066.00</td>\n",
       "    </tr>\n",
       "    <tr>\n",
       "      <th>engine size</th>\n",
       "      <td>165.0</td>\n",
       "      <td>119.351515</td>\n",
       "      <td>30.682244</td>\n",
       "      <td>61.00</td>\n",
       "      <td>97.00</td>\n",
       "      <td>110.00</td>\n",
       "      <td>136.00</td>\n",
       "      <td>258.00</td>\n",
       "    </tr>\n",
       "    <tr>\n",
       "      <th>bore</th>\n",
       "      <td>165.0</td>\n",
       "      <td>3.299273</td>\n",
       "      <td>0.265416</td>\n",
       "      <td>2.54</td>\n",
       "      <td>3.05</td>\n",
       "      <td>3.27</td>\n",
       "      <td>3.54</td>\n",
       "      <td>3.94</td>\n",
       "    </tr>\n",
       "    <tr>\n",
       "      <th>stroke</th>\n",
       "      <td>165.0</td>\n",
       "      <td>3.230242</td>\n",
       "      <td>0.294127</td>\n",
       "      <td>2.07</td>\n",
       "      <td>3.08</td>\n",
       "      <td>3.27</td>\n",
       "      <td>3.41</td>\n",
       "      <td>4.17</td>\n",
       "    </tr>\n",
       "    <tr>\n",
       "      <th>compression ratio</th>\n",
       "      <td>165.0</td>\n",
       "      <td>10.115273</td>\n",
       "      <td>3.825605</td>\n",
       "      <td>7.00</td>\n",
       "      <td>8.70</td>\n",
       "      <td>9.00</td>\n",
       "      <td>9.40</td>\n",
       "      <td>23.00</td>\n",
       "    </tr>\n",
       "    <tr>\n",
       "      <th>horsepower</th>\n",
       "      <td>165.0</td>\n",
       "      <td>96.181818</td>\n",
       "      <td>30.706374</td>\n",
       "      <td>48.00</td>\n",
       "      <td>69.00</td>\n",
       "      <td>90.00</td>\n",
       "      <td>114.00</td>\n",
       "      <td>200.00</td>\n",
       "    </tr>\n",
       "    <tr>\n",
       "      <th>peak rpm</th>\n",
       "      <td>165.0</td>\n",
       "      <td>5113.939394</td>\n",
       "      <td>474.071232</td>\n",
       "      <td>4150.00</td>\n",
       "      <td>4800.00</td>\n",
       "      <td>5200.00</td>\n",
       "      <td>5500.00</td>\n",
       "      <td>6600.00</td>\n",
       "    </tr>\n",
       "    <tr>\n",
       "      <th>price</th>\n",
       "      <td>165.0</td>\n",
       "      <td>11662.587879</td>\n",
       "      <td>5989.829793</td>\n",
       "      <td>5118.00</td>\n",
       "      <td>7395.00</td>\n",
       "      <td>9279.00</td>\n",
       "      <td>15690.00</td>\n",
       "      <td>35056.00</td>\n",
       "    </tr>\n",
       "  </tbody>\n",
       "</table>\n",
       "</div>"
      ],
      "text/plain": [
       "                   count          mean          std      min      25%  \\\n",
       "riskiness          165.0      0.739394     1.183716    -2.00     0.00   \n",
       "losses             159.0    122.566038    36.905889    65.00    94.00   \n",
       "city mpg           164.0     26.408537     6.234491    15.00    22.75   \n",
       "highway mpg        159.0     32.088050     6.723644    18.00    28.00   \n",
       "wheel base         165.0     98.321212     5.183802    86.60    94.50   \n",
       "length             165.0    172.453333    11.699643   141.10   165.70   \n",
       "width              165.0     65.590909     2.011819    60.30    64.00   \n",
       "height             165.0     53.916970     2.233821    49.40    52.50   \n",
       "weight             165.0   2461.575758   482.616638  1488.00  2081.00   \n",
       "engine size        165.0    119.351515    30.682244    61.00    97.00   \n",
       "bore               165.0      3.299273     0.265416     2.54     3.05   \n",
       "stroke             165.0      3.230242     0.294127     2.07     3.08   \n",
       "compression ratio  165.0     10.115273     3.825605     7.00     8.70   \n",
       "horsepower         165.0     96.181818    30.706374    48.00    69.00   \n",
       "peak rpm           165.0   5113.939394   474.071232  4150.00  4800.00   \n",
       "price              165.0  11662.587879  5989.829793  5118.00  7395.00   \n",
       "\n",
       "                       50%       75%       max  \n",
       "riskiness             1.00      2.00      3.00  \n",
       "losses              115.00    151.50    256.00  \n",
       "city mpg             26.00     31.00     49.00  \n",
       "highway mpg          32.00     37.00     54.00  \n",
       "wheel base           97.00    101.20    115.60  \n",
       "length              172.40    177.80    202.60  \n",
       "width                65.40     66.50     71.70  \n",
       "height               54.10     55.50     59.80  \n",
       "weight             2370.00   2808.00   4066.00  \n",
       "engine size         110.00    136.00    258.00  \n",
       "bore                  3.27      3.54      3.94  \n",
       "stroke                3.27      3.41      4.17  \n",
       "compression ratio     9.00      9.40     23.00  \n",
       "horsepower           90.00    114.00    200.00  \n",
       "peak rpm           5200.00   5500.00   6600.00  \n",
       "price              9279.00  15690.00  35056.00  "
      ]
     },
     "execution_count": 6,
     "metadata": {},
     "output_type": "execute_result"
    }
   ],
   "source": [
    "#Describe das variáveis numéricas.\n",
    "df.describe().T "
   ]
  },
  {
   "cell_type": "code",
   "execution_count": 39,
   "metadata": {},
   "outputs": [
    {
     "data": {
      "text/plain": [
       "nan"
      ]
     },
     "execution_count": 39,
     "metadata": {},
     "output_type": "execute_result"
    }
   ],
   "source": [
    "#Describe das variáveis categóricas.\n",
    "#df.describe(include='O').T\n",
    "#df['body'].unique()\n",
    "#df[df['make']=='mercedes-benz']#['price'].mean()\n",
    "#df[df.price>35000]\n",
    "df[(df['fuel type']=='diesel') & (df.riskiness==3)]['losses'].mean()"
   ]
  },
  {
   "cell_type": "code",
   "execution_count": 41,
   "metadata": {},
   "outputs": [
    {
     "name": "stdout",
     "output_type": "stream",
     "text": [
      "<class 'pandas.core.frame.DataFrame'>\n",
      "Int64Index: 152 entries, 0 to 164\n",
      "Data columns (total 26 columns):\n",
      "riskiness            152 non-null int64\n",
      "losses               152 non-null float64\n",
      "make                 152 non-null object\n",
      "fuel type            152 non-null object\n",
      "city mpg             152 non-null float64\n",
      "highway mpg          152 non-null float64\n",
      "aspiration           152 non-null object\n",
      "doors                152 non-null object\n",
      "body                 152 non-null object\n",
      "drive                152 non-null object\n",
      "engine location      152 non-null object\n",
      "wheel base           152 non-null float64\n",
      "length               152 non-null float64\n",
      "width                152 non-null float64\n",
      "height               152 non-null float64\n",
      "weight               152 non-null int64\n",
      "engine type          152 non-null object\n",
      "cylinders            152 non-null object\n",
      "engine size          152 non-null int64\n",
      "fuel system          152 non-null object\n",
      "bore                 152 non-null float64\n",
      "stroke               152 non-null float64\n",
      "compression ratio    152 non-null float64\n",
      "horsepower           152 non-null int64\n",
      "peak rpm             152 non-null int64\n",
      "price                152 non-null int64\n",
      "dtypes: float64(10), int64(6), object(10)\n",
      "memory usage: 32.1+ KB\n"
     ]
    }
   ],
   "source": [
    "#Verificando os tipos das variáveis e se possuem valores nulos.\n",
    "df.info()"
   ]
  },
  {
   "cell_type": "code",
   "execution_count": 31,
   "metadata": {},
   "outputs": [
    {
     "data": {
      "text/plain": [
       "riskiness            0\n",
       "losses               6\n",
       "make                 0\n",
       "fuel type            0\n",
       "city mpg             1\n",
       "highway mpg          6\n",
       "aspiration           0\n",
       "doors                0\n",
       "body                 0\n",
       "drive                0\n",
       "engine location      0\n",
       "wheel base           0\n",
       "length               0\n",
       "width                0\n",
       "height               0\n",
       "weight               0\n",
       "engine type          0\n",
       "cylinders            0\n",
       "engine size          0\n",
       "fuel system          0\n",
       "bore                 0\n",
       "stroke               0\n",
       "compression ratio    0\n",
       "horsepower           0\n",
       "peak rpm             0\n",
       "price                0\n",
       "dtype: int64"
      ]
     },
     "execution_count": 31,
     "metadata": {},
     "output_type": "execute_result"
    }
   ],
   "source": [
    "#Visualizando se o dataframe possui dados faltantes.\n",
    "df.isnull().sum()"
   ]
  },
  {
   "cell_type": "code",
   "execution_count": 43,
   "metadata": {},
   "outputs": [
    {
     "data": {
      "text/plain": [
       "riskiness            0\n",
       "losses               6\n",
       "make                 0\n",
       "fuel type            0\n",
       "city mpg             1\n",
       "highway mpg          6\n",
       "aspiration           0\n",
       "doors                0\n",
       "body                 0\n",
       "drive                0\n",
       "engine location      0\n",
       "wheel base           0\n",
       "length               0\n",
       "width                0\n",
       "height               0\n",
       "weight               0\n",
       "engine type          0\n",
       "cylinders            0\n",
       "engine size          0\n",
       "fuel system          0\n",
       "bore                 0\n",
       "stroke               0\n",
       "compression ratio    0\n",
       "horsepower           0\n",
       "peak rpm             0\n",
       "price                0\n",
       "dtype: int64"
      ]
     },
     "execution_count": 43,
     "metadata": {},
     "output_type": "execute_result"
    }
   ],
   "source": [
    "#Ou desta forma (relembrando)\n",
    "df.isna().sum()"
   ]
  },
  {
   "cell_type": "code",
   "execution_count": 40,
   "metadata": {},
   "outputs": [
    {
     "data": {
      "text/plain": [
       "riskiness            0\n",
       "losses               0\n",
       "make                 0\n",
       "fuel type            0\n",
       "city mpg             0\n",
       "highway mpg          0\n",
       "aspiration           0\n",
       "doors                0\n",
       "body                 0\n",
       "drive                0\n",
       "engine location      0\n",
       "wheel base           0\n",
       "length               0\n",
       "width                0\n",
       "height               0\n",
       "weight               0\n",
       "engine type          0\n",
       "cylinders            0\n",
       "engine size          0\n",
       "fuel system          0\n",
       "bore                 0\n",
       "stroke               0\n",
       "compression ratio    0\n",
       "horsepower           0\n",
       "peak rpm             0\n",
       "price                0\n",
       "dtype: int64"
      ]
     },
     "execution_count": 40,
     "metadata": {},
     "output_type": "execute_result"
    }
   ],
   "source": [
    "#Exclusão das linhas com dados faltantes (após análise do impacto no estudo)\n",
    "df.dropna(subset=['losses','highway mpg', 'city mpg'], inplace=True)\n",
    "df.isna().sum()"
   ]
  },
  {
   "cell_type": "code",
   "execution_count": 75,
   "metadata": {},
   "outputs": [
    {
     "data": {
      "text/plain": [
       "riskiness            0\n",
       "losses               0\n",
       "make                 0\n",
       "fuel type            0\n",
       "city mpg             0\n",
       "highway mpg          0\n",
       "aspiration           0\n",
       "doors                0\n",
       "body                 0\n",
       "drive                0\n",
       "engine location      0\n",
       "wheel base           0\n",
       "length               0\n",
       "width                0\n",
       "height               0\n",
       "weight               0\n",
       "engine type          0\n",
       "cylinders            0\n",
       "engine size          0\n",
       "fuel system          0\n",
       "bore                 0\n",
       "stroke               0\n",
       "compression ratio    0\n",
       "horsepower           0\n",
       "peak rpm             0\n",
       "price                0\n",
       "dtype: int64"
      ]
     },
     "execution_count": 75,
     "metadata": {},
     "output_type": "execute_result"
    }
   ],
   "source": [
    "#Caso seja necessário podemos substituí-los por outros dados.\n",
    "df.losses.fillna(0,inplace=True) #Substituidos por 0\n",
    "df['city mpg'].fillna(-999, inplace=True) #Substituidos por 0\n",
    "df['highway mpg'].fillna(df['highway mpg'].median(), inplace=True) #Substituidos pela mediana.\n",
    "\n",
    "df.isna().sum()"
   ]
  },
  {
   "cell_type": "code",
   "execution_count": 59,
   "metadata": {},
   "outputs": [
    {
     "data": {
      "text/html": [
       "<div>\n",
       "<style scoped>\n",
       "    .dataframe tbody tr th:only-of-type {\n",
       "        vertical-align: middle;\n",
       "    }\n",
       "\n",
       "    .dataframe tbody tr th {\n",
       "        vertical-align: top;\n",
       "    }\n",
       "\n",
       "    .dataframe thead th {\n",
       "        text-align: right;\n",
       "    }\n",
       "</style>\n",
       "<table border=\"1\" class=\"dataframe\">\n",
       "  <thead>\n",
       "    <tr style=\"text-align: right;\">\n",
       "      <th></th>\n",
       "      <th>riskiness</th>\n",
       "      <th>losses</th>\n",
       "      <th>make</th>\n",
       "      <th>fuel type</th>\n",
       "      <th>city mpg</th>\n",
       "      <th>highway mpg</th>\n",
       "      <th>aspiration</th>\n",
       "      <th>doors</th>\n",
       "      <th>body</th>\n",
       "      <th>drive</th>\n",
       "      <th>...</th>\n",
       "      <th>engine type</th>\n",
       "      <th>cylinders</th>\n",
       "      <th>engine size</th>\n",
       "      <th>fuel system</th>\n",
       "      <th>bore</th>\n",
       "      <th>stroke</th>\n",
       "      <th>compression ratio</th>\n",
       "      <th>horsepower</th>\n",
       "      <th>peak rpm</th>\n",
       "      <th>price</th>\n",
       "    </tr>\n",
       "  </thead>\n",
       "  <tbody>\n",
       "    <tr>\n",
       "      <th>96</th>\n",
       "      <td>2</td>\n",
       "      <td>104.0</td>\n",
       "      <td>saab</td>\n",
       "      <td>gas</td>\n",
       "      <td>19.0</td>\n",
       "      <td>32.0</td>\n",
       "      <td>turbo</td>\n",
       "      <td>four</td>\n",
       "      <td>sedan</td>\n",
       "      <td>fwd</td>\n",
       "      <td>...</td>\n",
       "      <td>dohc</td>\n",
       "      <td>four</td>\n",
       "      <td>121</td>\n",
       "      <td>mpfi</td>\n",
       "      <td>3.54</td>\n",
       "      <td>3.07</td>\n",
       "      <td>9.0</td>\n",
       "      <td>160</td>\n",
       "      <td>5500</td>\n",
       "      <td>18620</td>\n",
       "    </tr>\n",
       "    <tr>\n",
       "      <th>98</th>\n",
       "      <td>2</td>\n",
       "      <td>83.0</td>\n",
       "      <td>subaru</td>\n",
       "      <td>gas</td>\n",
       "      <td>26.0</td>\n",
       "      <td>32.0</td>\n",
       "      <td>std</td>\n",
       "      <td>two</td>\n",
       "      <td>hatchback</td>\n",
       "      <td>fwd</td>\n",
       "      <td>...</td>\n",
       "      <td>ohcf</td>\n",
       "      <td>four</td>\n",
       "      <td>108</td>\n",
       "      <td>2bbl</td>\n",
       "      <td>3.62</td>\n",
       "      <td>2.64</td>\n",
       "      <td>8.7</td>\n",
       "      <td>73</td>\n",
       "      <td>4400</td>\n",
       "      <td>7053</td>\n",
       "    </tr>\n",
       "    <tr>\n",
       "      <th>104</th>\n",
       "      <td>0</td>\n",
       "      <td>102.0</td>\n",
       "      <td>subaru</td>\n",
       "      <td>gas</td>\n",
       "      <td>24.0</td>\n",
       "      <td>32.0</td>\n",
       "      <td>turbo</td>\n",
       "      <td>four</td>\n",
       "      <td>sedan</td>\n",
       "      <td>4wd</td>\n",
       "      <td>...</td>\n",
       "      <td>ohcf</td>\n",
       "      <td>four</td>\n",
       "      <td>108</td>\n",
       "      <td>mpfi</td>\n",
       "      <td>3.62</td>\n",
       "      <td>2.64</td>\n",
       "      <td>7.7</td>\n",
       "      <td>111</td>\n",
       "      <td>4800</td>\n",
       "      <td>11259</td>\n",
       "    </tr>\n",
       "    <tr>\n",
       "      <th>107</th>\n",
       "      <td>0</td>\n",
       "      <td>85.0</td>\n",
       "      <td>subaru</td>\n",
       "      <td>gas</td>\n",
       "      <td>23.0</td>\n",
       "      <td>32.0</td>\n",
       "      <td>std</td>\n",
       "      <td>four</td>\n",
       "      <td>wagon</td>\n",
       "      <td>4wd</td>\n",
       "      <td>...</td>\n",
       "      <td>ohcf</td>\n",
       "      <td>four</td>\n",
       "      <td>108</td>\n",
       "      <td>2bbl</td>\n",
       "      <td>3.62</td>\n",
       "      <td>2.64</td>\n",
       "      <td>9.0</td>\n",
       "      <td>82</td>\n",
       "      <td>4800</td>\n",
       "      <td>8013</td>\n",
       "    </tr>\n",
       "    <tr>\n",
       "      <th>115</th>\n",
       "      <td>0</td>\n",
       "      <td>91.0</td>\n",
       "      <td>toyota</td>\n",
       "      <td>gas</td>\n",
       "      <td>30.0</td>\n",
       "      <td>32.0</td>\n",
       "      <td>std</td>\n",
       "      <td>four</td>\n",
       "      <td>sedan</td>\n",
       "      <td>fwd</td>\n",
       "      <td>...</td>\n",
       "      <td>ohc</td>\n",
       "      <td>four</td>\n",
       "      <td>98</td>\n",
       "      <td>2bbl</td>\n",
       "      <td>3.19</td>\n",
       "      <td>3.03</td>\n",
       "      <td>9.0</td>\n",
       "      <td>70</td>\n",
       "      <td>4800</td>\n",
       "      <td>6938</td>\n",
       "    </tr>\n",
       "    <tr>\n",
       "      <th>123</th>\n",
       "      <td>1</td>\n",
       "      <td>168.0</td>\n",
       "      <td>toyota</td>\n",
       "      <td>gas</td>\n",
       "      <td>29.0</td>\n",
       "      <td>32.0</td>\n",
       "      <td>std</td>\n",
       "      <td>two</td>\n",
       "      <td>hatchback</td>\n",
       "      <td>rwd</td>\n",
       "      <td>...</td>\n",
       "      <td>ohc</td>\n",
       "      <td>four</td>\n",
       "      <td>98</td>\n",
       "      <td>2bbl</td>\n",
       "      <td>3.19</td>\n",
       "      <td>3.03</td>\n",
       "      <td>9.0</td>\n",
       "      <td>70</td>\n",
       "      <td>4800</td>\n",
       "      <td>8238</td>\n",
       "    </tr>\n",
       "  </tbody>\n",
       "</table>\n",
       "<p>6 rows × 26 columns</p>\n",
       "</div>"
      ],
      "text/plain": [
       "     riskiness  losses    make fuel type  city mpg  highway mpg aspiration  \\\n",
       "96           2   104.0    saab       gas      19.0         32.0      turbo   \n",
       "98           2    83.0  subaru       gas      26.0         32.0        std   \n",
       "104          0   102.0  subaru       gas      24.0         32.0      turbo   \n",
       "107          0    85.0  subaru       gas      23.0         32.0        std   \n",
       "115          0    91.0  toyota       gas      30.0         32.0        std   \n",
       "123          1   168.0  toyota       gas      29.0         32.0        std   \n",
       "\n",
       "    doors       body drive  ... engine type  cylinders  engine size  \\\n",
       "96   four      sedan   fwd  ...        dohc       four          121   \n",
       "98    two  hatchback   fwd  ...        ohcf       four          108   \n",
       "104  four      sedan   4wd  ...        ohcf       four          108   \n",
       "107  four      wagon   4wd  ...        ohcf       four          108   \n",
       "115  four      sedan   fwd  ...         ohc       four           98   \n",
       "123   two  hatchback   rwd  ...         ohc       four           98   \n",
       "\n",
       "     fuel system  bore  stroke compression ratio horsepower  peak rpm  price  \n",
       "96          mpfi  3.54    3.07               9.0        160      5500  18620  \n",
       "98          2bbl  3.62    2.64               8.7         73      4400   7053  \n",
       "104         mpfi  3.62    2.64               7.7        111      4800  11259  \n",
       "107         2bbl  3.62    2.64               9.0         82      4800   8013  \n",
       "115         2bbl  3.19    3.03               9.0         70      4800   6938  \n",
       "123         2bbl  3.19    3.03               9.0         70      4800   8238  \n",
       "\n",
       "[6 rows x 26 columns]"
      ]
     },
     "execution_count": 59,
     "metadata": {},
     "output_type": "execute_result"
    }
   ],
   "source": [
    "#lista_nulos = df[pd.isnull(df['highway mpg'])].index\n",
    "df.iloc[lista_nulos]"
   ]
  },
  {
   "cell_type": "code",
   "execution_count": 60,
   "metadata": {},
   "outputs": [
    {
     "data": {
      "text/plain": [
       "165"
      ]
     },
     "execution_count": 60,
     "metadata": {},
     "output_type": "execute_result"
    }
   ],
   "source": [
    "len(df)"
   ]
  },
  {
   "cell_type": "code",
   "execution_count": 68,
   "metadata": {},
   "outputs": [
    {
     "data": {
      "text/html": [
       "<div>\n",
       "<style scoped>\n",
       "    .dataframe tbody tr th:only-of-type {\n",
       "        vertical-align: middle;\n",
       "    }\n",
       "\n",
       "    .dataframe tbody tr th {\n",
       "        vertical-align: top;\n",
       "    }\n",
       "\n",
       "    .dataframe thead th {\n",
       "        text-align: right;\n",
       "    }\n",
       "</style>\n",
       "<table border=\"1\" class=\"dataframe\">\n",
       "  <thead>\n",
       "    <tr style=\"text-align: right;\">\n",
       "      <th></th>\n",
       "      <th>riskiness</th>\n",
       "      <th>losses</th>\n",
       "      <th>make</th>\n",
       "      <th>fuel type</th>\n",
       "      <th>city mpg</th>\n",
       "      <th>highway mpg</th>\n",
       "      <th>aspiration</th>\n",
       "      <th>doors</th>\n",
       "      <th>body</th>\n",
       "      <th>drive</th>\n",
       "      <th>...</th>\n",
       "      <th>engine type</th>\n",
       "      <th>cylinders</th>\n",
       "      <th>engine size</th>\n",
       "      <th>fuel system</th>\n",
       "      <th>bore</th>\n",
       "      <th>stroke</th>\n",
       "      <th>compression ratio</th>\n",
       "      <th>horsepower</th>\n",
       "      <th>peak rpm</th>\n",
       "      <th>price</th>\n",
       "    </tr>\n",
       "  </thead>\n",
       "  <tbody>\n",
       "  </tbody>\n",
       "</table>\n",
       "<p>0 rows × 26 columns</p>\n",
       "</div>"
      ],
      "text/plain": [
       "Empty DataFrame\n",
       "Columns: [riskiness, losses, make, fuel type, city mpg, highway mpg, aspiration, doors, body, drive, engine location, wheel base, length, width, height, weight, engine type, cylinders, engine size, fuel system, bore, stroke, compression ratio, horsepower, peak rpm, price]\n",
       "Index: []\n",
       "\n",
       "[0 rows x 26 columns]"
      ]
     },
     "execution_count": 68,
     "metadata": {},
     "output_type": "execute_result"
    }
   ],
   "source": [
    "#Verificando duplicidade de dados\n",
    "df[df.duplicated()]"
   ]
  },
  {
   "cell_type": "code",
   "execution_count": 67,
   "metadata": {},
   "outputs": [],
   "source": [
    "#Excluindo os dados duplicados.\n",
    "df.drop_duplicates(inplace=True)\n"
   ]
  },
  {
   "cell_type": "code",
   "execution_count": 38,
   "metadata": {},
   "outputs": [
    {
     "data": {
      "text/plain": [
       "147"
      ]
     },
     "execution_count": 38,
     "metadata": {},
     "output_type": "execute_result"
    }
   ],
   "source": [
    "len(df)"
   ]
  },
  {
   "cell_type": "markdown",
   "metadata": {},
   "source": [
    "----------------------------\n",
    "<h2> Atividade 1</h2>\n",
    "<i> Hora de Praticar </i>"
   ]
  },
  {
   "cell_type": "markdown",
   "metadata": {},
   "source": [
    "--------------"
   ]
  },
  {
   "cell_type": "code",
   "execution_count": 76,
   "metadata": {},
   "outputs": [
    {
     "data": {
      "text/plain": [
       "<matplotlib.axes._subplots.AxesSubplot at 0x29428c502e8>"
      ]
     },
     "execution_count": 76,
     "metadata": {},
     "output_type": "execute_result"
    },
    {
     "data": {
      "image/png": "[encoded data removed]",
      "text/plain": [
       "<Figure size 432x288 with 1 Axes>"
      ]
     },
     "metadata": {
      "needs_background": "light"
     },
     "output_type": "display_data"
    }
   ],
   "source": [
    "#Verificando a distribuição dos dados numéricos.\n",
    "sns.distplot(df[\"highway mpg\"], kde=False)\n",
    "#Curva normal ou curva de Gauss"
   ]
  },
  {
   "cell_type": "markdown",
   "metadata": {},
   "source": [
    "<h5> Distribuição da Variável Highway mpg </h5>\n",
    "\n",
    "A distribuição da variável highway mpg se estende desde ~17 até ~54 com o pico em torno de 32. (Condizente coma  média de 32 obtida anteriormente.)"
   ]
  },
  {
   "cell_type": "code",
   "execution_count": 78,
   "metadata": {},
   "outputs": [
    {
     "data": {
      "text/plain": [
       "<matplotlib.axes._subplots.AxesSubplot at 0x29428da61d0>"
      ]
     },
     "execution_count": 78,
     "metadata": {},
     "output_type": "execute_result"
    },
    {
     "data": {
      "image/png": "[encoded data removed]",
      "text/plain": [
       "<Figure size 432x288 with 1 Axes>"
      ]
     },
     "metadata": {
      "needs_background": "light"
     },
     "output_type": "display_data"
    }
   ],
   "source": [
    "#Verificando a distribuição dos dados categóricos.\n",
    "sns.countplot(df.body)"
   ]
  },
  {
   "cell_type": "code",
   "execution_count": 104,
   "metadata": {},
   "outputs": [
    {
     "data": {
      "text/plain": [
       "<matplotlib.axes._subplots.AxesSubplot at 0x29429350710>"
      ]
     },
     "execution_count": 104,
     "metadata": {},
     "output_type": "execute_result"
    },
    {
     "data": {
      "image/png": "[encoded data removed]",
      "text/plain": [
       "<Figure size 432x288 with 1 Axes>"
      ]
     },
     "metadata": {
      "needs_background": "light"
     },
     "output_type": "display_data"
    }
   ],
   "source": [
    "df_plot = pd.DataFrame(df.body.value_counts())\n",
    "#df_plot.index=['Corpo']\n",
    "df_plot.plot(kind='bar', title='Trabalhando com Python', color=['blue','green','red','yellow','black'])"
   ]
  },
  {
   "cell_type": "markdown",
   "metadata": {},
   "source": [
    "<h5> Distribuição da Variável Body </h5>\n",
    "\n",
    "Nota-se que a maior parte dos veículos são do tipo sedan e hatchback, com uma proporção pequena de veículos conversíveis. "
   ]
  },
  {
   "cell_type": "markdown",
   "metadata": {},
   "source": [
    "----------------------------\n",
    "<h2> Atividade 2</h2>\n",
    "<i> Hora de Praticar </i>"
   ]
  },
  {
   "cell_type": "markdown",
   "metadata": {},
   "source": [
    "-------------"
   ]
  },
  {
   "cell_type": "code",
   "execution_count": 44,
   "metadata": {},
   "outputs": [
    {
     "data": {
      "text/plain": [
       "31.918367346938776"
      ]
     },
     "execution_count": 44,
     "metadata": {},
     "output_type": "execute_result"
    }
   ],
   "source": [
    "#Calculando a média do conjunto\n",
    "df[\"highway mpg\"].mean()"
   ]
  },
  {
   "cell_type": "code",
   "execution_count": 105,
   "metadata": {},
   "outputs": [
    {
     "data": {
      "text/plain": [
       "96.18181818181819"
      ]
     },
     "execution_count": 105,
     "metadata": {},
     "output_type": "execute_result"
    }
   ],
   "source": [
    "df[\"horsepower\"].mean()"
   ]
  },
  {
   "cell_type": "code",
   "execution_count": 106,
   "metadata": {},
   "outputs": [
    {
     "data": {
      "text/plain": [
       "32.0"
      ]
     },
     "execution_count": 106,
     "metadata": {},
     "output_type": "execute_result"
    }
   ],
   "source": [
    "#Calculando a mediana\n",
    "df[\"highway mpg\"].median()"
   ]
  },
  {
   "cell_type": "code",
   "execution_count": 107,
   "metadata": {},
   "outputs": [
    {
     "data": {
      "text/plain": [
       "90.0"
      ]
     },
     "execution_count": 107,
     "metadata": {},
     "output_type": "execute_result"
    }
   ],
   "source": [
    "df[\"horsepower\"].median()"
   ]
  },
  {
   "cell_type": "code",
   "execution_count": 108,
   "metadata": {},
   "outputs": [
    {
     "data": {
      "text/plain": [
       "30.706373519561655"
      ]
     },
     "execution_count": 108,
     "metadata": {},
     "output_type": "execute_result"
    }
   ],
   "source": [
    "#Calculando desvio padrão\n",
    "df[\"horsepower\"].std()"
   ]
  },
  {
   "cell_type": "code",
   "execution_count": 52,
   "metadata": {},
   "outputs": [
    {
     "data": {
      "text/plain": [
       "5.233602888888646"
      ]
     },
     "execution_count": 52,
     "metadata": {},
     "output_type": "execute_result"
    }
   ],
   "source": [
    "df[\"wheel base\"].std()"
   ]
  },
  {
   "cell_type": "code",
   "execution_count": 109,
   "metadata": {},
   "outputs": [
    {
     "data": {
      "text/plain": [
       "0    four\n",
       "dtype: object"
      ]
     },
     "execution_count": 109,
     "metadata": {},
     "output_type": "execute_result"
    }
   ],
   "source": [
    "#Calculando a moda\n",
    "df[\"doors\"].mode()"
   ]
  },
  {
   "cell_type": "code",
   "execution_count": 115,
   "metadata": {},
   "outputs": [
    {
     "data": {
      "text/plain": [
       "0    sedan\n",
       "dtype: object"
      ]
     },
     "execution_count": 115,
     "metadata": {},
     "output_type": "execute_result"
    }
   ],
   "source": [
    "df[\"body\"].mode()"
   ]
  },
  {
   "cell_type": "code",
   "execution_count": 116,
   "metadata": {},
   "outputs": [
    {
     "data": {
      "text/plain": [
       "0    3.03\n",
       "dtype: float64"
      ]
     },
     "execution_count": 116,
     "metadata": {},
     "output_type": "execute_result"
    }
   ],
   "source": [
    "df[\"stroke\"].mode()"
   ]
  },
  {
   "cell_type": "code",
   "execution_count": 56,
   "metadata": {},
   "outputs": [
    {
     "data": {
      "text/plain": [
       "count    147.000000\n",
       "mean      31.918367\n",
       "std        6.498166\n",
       "min       18.000000\n",
       "25%       28.000000\n",
       "50%       32.000000\n",
       "75%       37.000000\n",
       "max       54.000000\n",
       "Name: highway mpg, dtype: float64"
      ]
     },
     "execution_count": 56,
     "metadata": {},
     "output_type": "execute_result"
    }
   ],
   "source": [
    "df[\"highway mpg\"].describe()"
   ]
  },
  {
   "cell_type": "code",
   "execution_count": 119,
   "metadata": {},
   "outputs": [
    {
     "data": {
      "text/plain": [
       "<matplotlib.axes._subplots.AxesSubplot at 0x2942a5db940>"
      ]
     },
     "execution_count": 119,
     "metadata": {},
     "output_type": "execute_result"
    },
    {
     "data": {
      "image/png": "[encoded data removed]",
      "text/plain": [
       "<Figure size 432x288 with 1 Axes>"
      ]
     },
     "metadata": {
      "needs_background": "light"
     },
     "output_type": "display_data"
    }
   ],
   "source": [
    "#Criando um boxplot para análise dos dados.\n",
    "sns.boxplot(df[\"highway mpg\"])"
   ]
  },
  {
   "cell_type": "code",
   "execution_count": 118,
   "metadata": {},
   "outputs": [
    {
     "data": {
      "text/plain": [
       "{'whiskers': [<matplotlib.lines.Line2D at 0x2942a59ce48>,\n",
       "  <matplotlib.lines.Line2D at 0x294293861d0>],\n",
       " 'caps': [<matplotlib.lines.Line2D at 0x2942a5a8550>,\n",
       "  <matplotlib.lines.Line2D at 0x2942a5a8898>],\n",
       " 'boxes': [<matplotlib.lines.Line2D at 0x2942a59cac8>],\n",
       " 'medians': [<matplotlib.lines.Line2D at 0x2942a5a8be0>],\n",
       " 'fliers': [<matplotlib.lines.Line2D at 0x2942a5a8f28>],\n",
       " 'means': []}"
      ]
     },
     "execution_count": 118,
     "metadata": {},
     "output_type": "execute_result"
    },
    {
     "data": {
      "image/png": "[encoded data removed]",
      "text/plain": [
       "<Figure size 432x288 with 1 Axes>"
      ]
     },
     "metadata": {
      "needs_background": "light"
     },
     "output_type": "display_data"
    }
   ],
   "source": [
    "plt.boxplot(df[\"highway mpg\"])"
   ]
  },
  {
   "cell_type": "code",
   "execution_count": 136,
   "metadata": {
    "collapsed": true,
    "jupyter": {
     "outputs_hidden": true
    }
   },
   "outputs": [
    {
     "data": {
      "text/plain": [
       "riskiness                    2\n",
       "losses                     137\n",
       "make                     honda\n",
       "fuel type                  gas\n",
       "city mpg                    49\n",
       "highway mpg                 54\n",
       "aspiration                 std\n",
       "doors                      two\n",
       "body                 hatchback\n",
       "drive                      fwd\n",
       "engine location          front\n",
       "wheel base                86.6\n",
       "length                   144.6\n",
       "width                     63.9\n",
       "height                    50.8\n",
       "weight                    1713\n",
       "engine type                ohc\n",
       "cylinders                 four\n",
       "engine size                 92\n",
       "fuel system               1bbl\n",
       "bore                      2.91\n",
       "stroke                    3.41\n",
       "compression ratio          9.6\n",
       "horsepower                  58\n",
       "peak rpm                  4800\n",
       "price                     6479\n",
       "Name: 19, dtype: object"
      ]
     },
     "execution_count": 136,
     "metadata": {},
     "output_type": "execute_result"
    }
   ],
   "source": [
    "df[df[\"highway mpg\"]>50].iloc[1]\n",
    "#df[df.make=='honda']\n",
    "#df.make.value_counts()"
   ]
  },
  {
   "cell_type": "code",
   "execution_count": 128,
   "metadata": {},
   "outputs": [
    {
     "data": {
      "text/plain": [
       "{'whiskers': [<matplotlib.lines.Line2D at 0x2942958a908>,\n",
       "  <matplotlib.lines.Line2D at 0x2942a670f98>],\n",
       " 'caps': [<matplotlib.lines.Line2D at 0x2942a6806d8>,\n",
       "  <matplotlib.lines.Line2D at 0x2942a6809e8>],\n",
       " 'boxes': [<matplotlib.lines.Line2D at 0x2942a670c18>],\n",
       " 'medians': [<matplotlib.lines.Line2D at 0x2942a680d30>],\n",
       " 'fliers': [<matplotlib.lines.Line2D at 0x2942a680e10>],\n",
       " 'means': []}"
      ]
     },
     "execution_count": 128,
     "metadata": {},
     "output_type": "execute_result"
    },
    {
     "data": {
      "image/png": "[encoded data removed]",
      "text/plain": [
       "<Figure size 432x288 with 1 Axes>"
      ]
     },
     "metadata": {
      "needs_background": "light"
     },
     "output_type": "display_data"
    }
   ],
   "source": [
    "plt.boxplot(df[\"price\"])"
   ]
  },
  {
   "cell_type": "code",
   "execution_count": 150,
   "metadata": {},
   "outputs": [],
   "source": [
    "sns.boxplot(df[\"price\"])"
   ]
  },
  {
   "cell_type": "code",
   "execution_count": 171,
   "metadata": {},
   "outputs": [
    {
     "data": {
      "text/plain": [
       "9279.0"
      ]
     },
     "execution_count": 171,
     "metadata": {},
     "output_type": "execute_result"
    }
   ],
   "source": [
    "df['price'].median()"
   ]
  },
  {
   "cell_type": "code",
   "execution_count": 169,
   "metadata": {},
   "outputs": [
    {
     "data": {
      "text/plain": [
       "[Text(0, 0, 'audi'),\n",
       " Text(0, 0, 'bmw'),\n",
       " Text(0, 0, 'chevrolet'),\n",
       " Text(0, 0, 'dodge'),\n",
       " Text(0, 0, 'honda'),\n",
       " Text(0, 0, 'jaguar'),\n",
       " Text(0, 0, 'mazda'),\n",
       " Text(0, 0, 'mercedes-benz'),\n",
       " Text(0, 0, 'mitsubishi'),\n",
       " Text(0, 0, 'nissan'),\n",
       " Text(0, 0, 'peugot'),\n",
       " Text(0, 0, 'plymouth'),\n",
       " Text(0, 0, 'porsche'),\n",
       " Text(0, 0, 'saab'),\n",
       " Text(0, 0, 'subaru'),\n",
       " Text(0, 0, 'toyota'),\n",
       " Text(0, 0, 'volkswagen'),\n",
       " Text(0, 0, 'volvo')]"
      ]
     },
     "execution_count": 169,
     "metadata": {},
     "output_type": "execute_result"
    },
    {
     "data": {
      "image/png": "[encoded data removed]",
      "text/plain": [
       "<Figure size 432x288 with 1 Axes>"
      ]
     },
     "metadata": {
      "needs_background": "light"
     },
     "output_type": "display_data"
    }
   ],
   "source": [
    "df_2 = df[df['city mpg']>=0]\n",
    "g = sns.boxplot(x='make', y='city mpg', data=df_2)\n",
    "g.set_xticklabels(g.get_xticklabels(),rotation=90)"
   ]
  },
  {
   "cell_type": "code",
   "execution_count": 165,
   "metadata": {},
   "outputs": [
    {
     "data": {
      "text/plain": [
       "[Text(0, 0, 'audi'),\n",
       " Text(0, 0, 'bmw'),\n",
       " Text(0, 0, 'chevrolet'),\n",
       " Text(0, 0, 'dodge'),\n",
       " Text(0, 0, 'honda'),\n",
       " Text(0, 0, 'jaguar'),\n",
       " Text(0, 0, 'mazda'),\n",
       " Text(0, 0, 'mercedes-benz'),\n",
       " Text(0, 0, 'mitsubishi'),\n",
       " Text(0, 0, 'nissan'),\n",
       " Text(0, 0, 'peugot'),\n",
       " Text(0, 0, 'plymouth'),\n",
       " Text(0, 0, 'porsche'),\n",
       " Text(0, 0, 'saab'),\n",
       " Text(0, 0, 'subaru'),\n",
       " Text(0, 0, 'toyota'),\n",
       " Text(0, 0, 'volkswagen'),\n",
       " Text(0, 0, 'volvo')]"
      ]
     },
     "execution_count": 165,
     "metadata": {},
     "output_type": "execute_result"
    },
    {
     "data": {
      "image/png": "[encoded data removed]",
      "text/plain": [
       "<Figure size 432x288 with 1 Axes>"
      ]
     },
     "metadata": {
      "needs_background": "light"
     },
     "output_type": "display_data"
    }
   ],
   "source": [
    "g = sns.boxplot(x='make', y='city mpg', data=df)\n",
    "g.set_xticklabels(g.get_xticklabels(),rotation=90)"
   ]
  },
  {
   "cell_type": "code",
   "execution_count": 175,
   "metadata": {},
   "outputs": [
    {
     "data": {
      "text/plain": [
       "[Text(0, 0, 'audi'),\n",
       " Text(0, 0, 'bmw'),\n",
       " Text(0, 0, 'chevrolet'),\n",
       " Text(0, 0, 'dodge'),\n",
       " Text(0, 0, 'honda'),\n",
       " Text(0, 0, 'jaguar'),\n",
       " Text(0, 0, 'mazda'),\n",
       " Text(0, 0, 'mercedes-benz'),\n",
       " Text(0, 0, 'mitsubishi'),\n",
       " Text(0, 0, 'nissan'),\n",
       " Text(0, 0, 'peugot'),\n",
       " Text(0, 0, 'plymouth'),\n",
       " Text(0, 0, 'porsche'),\n",
       " Text(0, 0, 'saab'),\n",
       " Text(0, 0, 'subaru'),\n",
       " Text(0, 0, 'toyota'),\n",
       " Text(0, 0, 'volkswagen'),\n",
       " Text(0, 0, 'volvo')]"
      ]
     },
     "execution_count": 175,
     "metadata": {},
     "output_type": "execute_result"
    },
    {
     "data": {
      "image/png": "[encoded data removed]",
      "text/plain": [
       "<Figure size 432x288 with 1 Axes>"
      ]
     },
     "metadata": {
      "needs_background": "light"
     },
     "output_type": "display_data"
    }
   ],
   "source": [
    "g = sns.boxplot(x='make', y='price', data=df)\n",
    "g.set_xticklabels(g.get_xticklabels(),rotation=90)\n",
    "#1 - Tirar conclusões a partir desse gráfico\n",
    "#A Mercedez-Benz se sobresai em relação ao preço"
   ]
  },
  {
   "cell_type": "code",
   "execution_count": 178,
   "metadata": {},
   "outputs": [
    {
     "data": {
      "text/plain": [
       "[Text(0, 0, 'audi'),\n",
       " Text(0, 0, 'bmw'),\n",
       " Text(0, 0, 'chevrolet'),\n",
       " Text(0, 0, 'dodge'),\n",
       " Text(0, 0, 'honda'),\n",
       " Text(0, 0, 'mazda'),\n",
       " Text(0, 0, 'mitsubishi'),\n",
       " Text(0, 0, 'nissan'),\n",
       " Text(0, 0, 'peugot'),\n",
       " Text(0, 0, 'plymouth'),\n",
       " Text(0, 0, 'saab'),\n",
       " Text(0, 0, 'subaru'),\n",
       " Text(0, 0, 'toyota'),\n",
       " Text(0, 0, 'volkswagen'),\n",
       " Text(0, 0, 'volvo')]"
      ]
     },
     "execution_count": 178,
     "metadata": {},
     "output_type": "execute_result"
    },
    {
     "data": {
      "image/png": "[encoded data removed]",
      "text/plain": [
       "<Figure size 432x288 with 1 Axes>"
      ]
     },
     "metadata": {
      "needs_background": "light"
     },
     "output_type": "display_data"
    }
   ],
   "source": [
    "#2 - Criar gráfico com menos de 15 mil e tentar tirar conclusões\n",
    "#Chevrolet tem preço abaixo\n",
    "#Peugeto, Saab, Volto e Audi tem preços intermediários\n",
    "df_2 = df[df.price<=20000]\n",
    "g = sns.boxplot(x='make', y='price', data=df_2)\n",
    "g.set_xticklabels(g.get_xticklabels(),rotation=90)"
   ]
  },
  {
   "cell_type": "code",
   "execution_count": 181,
   "metadata": {},
   "outputs": [
    {
     "data": {
      "text/plain": [
       "[Text(0, 0, 'audi'),\n",
       " Text(0, 0, 'bmw'),\n",
       " Text(0, 0, 'dodge'),\n",
       " Text(0, 0, 'honda'),\n",
       " Text(0, 0, 'jaguar'),\n",
       " Text(0, 0, 'mazda'),\n",
       " Text(0, 0, 'mercedes-benz'),\n",
       " Text(0, 0, 'mitsubishi'),\n",
       " Text(0, 0, 'nissan'),\n",
       " Text(0, 0, 'peugot'),\n",
       " Text(0, 0, 'plymouth'),\n",
       " Text(0, 0, 'porsche'),\n",
       " Text(0, 0, 'saab'),\n",
       " Text(0, 0, 'subaru'),\n",
       " Text(0, 0, 'toyota'),\n",
       " Text(0, 0, 'volkswagen'),\n",
       " Text(0, 0, 'volvo')]"
      ]
     },
     "execution_count": 181,
     "metadata": {},
     "output_type": "execute_result"
    },
    {
     "data": {
      "image/png": "[encoded data removed]",
      "text/plain": [
       "<Figure size 432x288 with 1 Axes>"
      ]
     },
     "metadata": {
      "needs_background": "light"
     },
     "output_type": "display_data"
    }
   ],
   "source": [
    "#Criar gráfico co city mpg. Caso haja algum problema, resolver e tirar conclusões\n",
    "#Chevrolet tem city mpg maior do que os outros\n",
    "#Audi tem valor bem abaixo dos outros\n",
    "df_3 = df[(df['city mpg']>=0) & (df['city mpg']<=35)]\n",
    "g = sns.boxplot(x='make', y='city mpg', data=df_3)\n",
    "g.set_xticklabels(g.get_xticklabels(),rotation=90)"
   ]
  },
  {
   "cell_type": "code",
   "execution_count": 189,
   "metadata": {},
   "outputs": [],
   "source": [
    "df_audi = df_3[df_3.make=='audi']\n",
    "#sns.boxplot(df_audi[\"city mpg\"])"
   ]
  },
  {
   "cell_type": "code",
   "execution_count": 4,
   "metadata": {},
   "outputs": [],
   "source": [
    "df_chev = df[df.make=='chevrolet']"
   ]
  },
  {
   "cell_type": "code",
   "execution_count": 195,
   "metadata": {
    "collapsed": true,
    "jupyter": {
     "outputs_hidden": true
    }
   },
   "outputs": [
    {
     "data": {
      "text/html": [
       "<div>\n",
       "<style scoped>\n",
       "    .dataframe tbody tr th:only-of-type {\n",
       "        vertical-align: middle;\n",
       "    }\n",
       "\n",
       "    .dataframe tbody tr th {\n",
       "        vertical-align: top;\n",
       "    }\n",
       "\n",
       "    .dataframe thead th {\n",
       "        text-align: right;\n",
       "    }\n",
       "</style>\n",
       "<table border=\"1\" class=\"dataframe\">\n",
       "  <thead>\n",
       "    <tr style=\"text-align: right;\">\n",
       "      <th></th>\n",
       "      <th>riskiness</th>\n",
       "      <th>losses</th>\n",
       "      <th>city mpg</th>\n",
       "      <th>highway mpg</th>\n",
       "      <th>wheel base</th>\n",
       "      <th>length</th>\n",
       "      <th>width</th>\n",
       "      <th>height</th>\n",
       "      <th>weight</th>\n",
       "      <th>engine size</th>\n",
       "      <th>bore</th>\n",
       "      <th>stroke</th>\n",
       "      <th>compression ratio</th>\n",
       "      <th>horsepower</th>\n",
       "      <th>peak rpm</th>\n",
       "      <th>price</th>\n",
       "    </tr>\n",
       "  </thead>\n",
       "  <tbody>\n",
       "    <tr>\n",
       "      <th>riskiness</th>\n",
       "      <td>1.000000</td>\n",
       "      <td>0.997117</td>\n",
       "      <td>0.904534</td>\n",
       "      <td>0.904534</td>\n",
       "      <td>-0.904534</td>\n",
       "      <td>-0.950802</td>\n",
       "      <td>-0.904534</td>\n",
       "      <td>0.904534</td>\n",
       "      <td>-0.928942</td>\n",
       "      <td>-0.904534</td>\n",
       "      <td>-0.904534</td>\n",
       "      <td>-0.904534</td>\n",
       "      <td>-0.904534</td>\n",
       "      <td>-0.904534</td>\n",
       "      <td>-0.904534</td>\n",
       "      <td>-0.958951</td>\n",
       "    </tr>\n",
       "    <tr>\n",
       "      <th>losses</th>\n",
       "      <td>0.997117</td>\n",
       "      <td>1.000000</td>\n",
       "      <td>0.934282</td>\n",
       "      <td>0.934282</td>\n",
       "      <td>-0.934282</td>\n",
       "      <td>-0.971569</td>\n",
       "      <td>-0.934282</td>\n",
       "      <td>0.934282</td>\n",
       "      <td>-0.954357</td>\n",
       "      <td>-0.934282</td>\n",
       "      <td>-0.934282</td>\n",
       "      <td>-0.934282</td>\n",
       "      <td>-0.934282</td>\n",
       "      <td>-0.934282</td>\n",
       "      <td>-0.934282</td>\n",
       "      <td>-0.977704</td>\n",
       "    </tr>\n",
       "    <tr>\n",
       "      <th>city mpg</th>\n",
       "      <td>0.904534</td>\n",
       "      <td>0.934282</td>\n",
       "      <td>1.000000</td>\n",
       "      <td>1.000000</td>\n",
       "      <td>-1.000000</td>\n",
       "      <td>-0.992132</td>\n",
       "      <td>-1.000000</td>\n",
       "      <td>1.000000</td>\n",
       "      <td>-0.998124</td>\n",
       "      <td>-1.000000</td>\n",
       "      <td>-1.000000</td>\n",
       "      <td>-1.000000</td>\n",
       "      <td>-1.000000</td>\n",
       "      <td>-1.000000</td>\n",
       "      <td>-1.000000</td>\n",
       "      <td>-0.988319</td>\n",
       "    </tr>\n",
       "    <tr>\n",
       "      <th>highway mpg</th>\n",
       "      <td>0.904534</td>\n",
       "      <td>0.934282</td>\n",
       "      <td>1.000000</td>\n",
       "      <td>1.000000</td>\n",
       "      <td>-1.000000</td>\n",
       "      <td>-0.992132</td>\n",
       "      <td>-1.000000</td>\n",
       "      <td>1.000000</td>\n",
       "      <td>-0.998124</td>\n",
       "      <td>-1.000000</td>\n",
       "      <td>-1.000000</td>\n",
       "      <td>-1.000000</td>\n",
       "      <td>-1.000000</td>\n",
       "      <td>-1.000000</td>\n",
       "      <td>-1.000000</td>\n",
       "      <td>-0.988319</td>\n",
       "    </tr>\n",
       "    <tr>\n",
       "      <th>wheel base</th>\n",
       "      <td>-0.904534</td>\n",
       "      <td>-0.934282</td>\n",
       "      <td>-1.000000</td>\n",
       "      <td>-1.000000</td>\n",
       "      <td>1.000000</td>\n",
       "      <td>0.992132</td>\n",
       "      <td>1.000000</td>\n",
       "      <td>-1.000000</td>\n",
       "      <td>0.998124</td>\n",
       "      <td>1.000000</td>\n",
       "      <td>1.000000</td>\n",
       "      <td>1.000000</td>\n",
       "      <td>1.000000</td>\n",
       "      <td>1.000000</td>\n",
       "      <td>1.000000</td>\n",
       "      <td>0.988319</td>\n",
       "    </tr>\n",
       "    <tr>\n",
       "      <th>length</th>\n",
       "      <td>-0.950802</td>\n",
       "      <td>-0.971569</td>\n",
       "      <td>-0.992132</td>\n",
       "      <td>-0.992132</td>\n",
       "      <td>0.992132</td>\n",
       "      <td>1.000000</td>\n",
       "      <td>0.992132</td>\n",
       "      <td>-0.992132</td>\n",
       "      <td>0.997935</td>\n",
       "      <td>0.992132</td>\n",
       "      <td>0.992132</td>\n",
       "      <td>0.992132</td>\n",
       "      <td>0.992132</td>\n",
       "      <td>0.992132</td>\n",
       "      <td>0.992132</td>\n",
       "      <td>0.999623</td>\n",
       "    </tr>\n",
       "    <tr>\n",
       "      <th>width</th>\n",
       "      <td>-0.904534</td>\n",
       "      <td>-0.934282</td>\n",
       "      <td>-1.000000</td>\n",
       "      <td>-1.000000</td>\n",
       "      <td>1.000000</td>\n",
       "      <td>0.992132</td>\n",
       "      <td>1.000000</td>\n",
       "      <td>-1.000000</td>\n",
       "      <td>0.998124</td>\n",
       "      <td>1.000000</td>\n",
       "      <td>1.000000</td>\n",
       "      <td>1.000000</td>\n",
       "      <td>1.000000</td>\n",
       "      <td>1.000000</td>\n",
       "      <td>1.000000</td>\n",
       "      <td>0.988319</td>\n",
       "    </tr>\n",
       "    <tr>\n",
       "      <th>height</th>\n",
       "      <td>0.904534</td>\n",
       "      <td>0.934282</td>\n",
       "      <td>1.000000</td>\n",
       "      <td>1.000000</td>\n",
       "      <td>-1.000000</td>\n",
       "      <td>-0.992132</td>\n",
       "      <td>-1.000000</td>\n",
       "      <td>1.000000</td>\n",
       "      <td>-0.998124</td>\n",
       "      <td>-1.000000</td>\n",
       "      <td>-1.000000</td>\n",
       "      <td>-1.000000</td>\n",
       "      <td>-1.000000</td>\n",
       "      <td>-1.000000</td>\n",
       "      <td>-1.000000</td>\n",
       "      <td>-0.988319</td>\n",
       "    </tr>\n",
       "    <tr>\n",
       "      <th>weight</th>\n",
       "      <td>-0.928942</td>\n",
       "      <td>-0.954357</td>\n",
       "      <td>-0.998124</td>\n",
       "      <td>-0.998124</td>\n",
       "      <td>0.998124</td>\n",
       "      <td>0.997935</td>\n",
       "      <td>0.998124</td>\n",
       "      <td>-0.998124</td>\n",
       "      <td>1.000000</td>\n",
       "      <td>0.998124</td>\n",
       "      <td>0.998124</td>\n",
       "      <td>0.998124</td>\n",
       "      <td>0.998124</td>\n",
       "      <td>0.998124</td>\n",
       "      <td>0.998124</td>\n",
       "      <td>0.995795</td>\n",
       "    </tr>\n",
       "    <tr>\n",
       "      <th>engine size</th>\n",
       "      <td>-0.904534</td>\n",
       "      <td>-0.934282</td>\n",
       "      <td>-1.000000</td>\n",
       "      <td>-1.000000</td>\n",
       "      <td>1.000000</td>\n",
       "      <td>0.992132</td>\n",
       "      <td>1.000000</td>\n",
       "      <td>-1.000000</td>\n",
       "      <td>0.998124</td>\n",
       "      <td>1.000000</td>\n",
       "      <td>1.000000</td>\n",
       "      <td>1.000000</td>\n",
       "      <td>1.000000</td>\n",
       "      <td>1.000000</td>\n",
       "      <td>1.000000</td>\n",
       "      <td>0.988319</td>\n",
       "    </tr>\n",
       "    <tr>\n",
       "      <th>bore</th>\n",
       "      <td>-0.904534</td>\n",
       "      <td>-0.934282</td>\n",
       "      <td>-1.000000</td>\n",
       "      <td>-1.000000</td>\n",
       "      <td>1.000000</td>\n",
       "      <td>0.992132</td>\n",
       "      <td>1.000000</td>\n",
       "      <td>-1.000000</td>\n",
       "      <td>0.998124</td>\n",
       "      <td>1.000000</td>\n",
       "      <td>1.000000</td>\n",
       "      <td>1.000000</td>\n",
       "      <td>1.000000</td>\n",
       "      <td>1.000000</td>\n",
       "      <td>1.000000</td>\n",
       "      <td>0.988319</td>\n",
       "    </tr>\n",
       "    <tr>\n",
       "      <th>stroke</th>\n",
       "      <td>-0.904534</td>\n",
       "      <td>-0.934282</td>\n",
       "      <td>-1.000000</td>\n",
       "      <td>-1.000000</td>\n",
       "      <td>1.000000</td>\n",
       "      <td>0.992132</td>\n",
       "      <td>1.000000</td>\n",
       "      <td>-1.000000</td>\n",
       "      <td>0.998124</td>\n",
       "      <td>1.000000</td>\n",
       "      <td>1.000000</td>\n",
       "      <td>1.000000</td>\n",
       "      <td>1.000000</td>\n",
       "      <td>1.000000</td>\n",
       "      <td>1.000000</td>\n",
       "      <td>0.988319</td>\n",
       "    </tr>\n",
       "    <tr>\n",
       "      <th>compression ratio</th>\n",
       "      <td>-0.904534</td>\n",
       "      <td>-0.934282</td>\n",
       "      <td>-1.000000</td>\n",
       "      <td>-1.000000</td>\n",
       "      <td>1.000000</td>\n",
       "      <td>0.992132</td>\n",
       "      <td>1.000000</td>\n",
       "      <td>-1.000000</td>\n",
       "      <td>0.998124</td>\n",
       "      <td>1.000000</td>\n",
       "      <td>1.000000</td>\n",
       "      <td>1.000000</td>\n",
       "      <td>1.000000</td>\n",
       "      <td>1.000000</td>\n",
       "      <td>1.000000</td>\n",
       "      <td>0.988319</td>\n",
       "    </tr>\n",
       "    <tr>\n",
       "      <th>horsepower</th>\n",
       "      <td>-0.904534</td>\n",
       "      <td>-0.934282</td>\n",
       "      <td>-1.000000</td>\n",
       "      <td>-1.000000</td>\n",
       "      <td>1.000000</td>\n",
       "      <td>0.992132</td>\n",
       "      <td>1.000000</td>\n",
       "      <td>-1.000000</td>\n",
       "      <td>0.998124</td>\n",
       "      <td>1.000000</td>\n",
       "      <td>1.000000</td>\n",
       "      <td>1.000000</td>\n",
       "      <td>1.000000</td>\n",
       "      <td>1.000000</td>\n",
       "      <td>1.000000</td>\n",
       "      <td>0.988319</td>\n",
       "    </tr>\n",
       "    <tr>\n",
       "      <th>peak rpm</th>\n",
       "      <td>-0.904534</td>\n",
       "      <td>-0.934282</td>\n",
       "      <td>-1.000000</td>\n",
       "      <td>-1.000000</td>\n",
       "      <td>1.000000</td>\n",
       "      <td>0.992132</td>\n",
       "      <td>1.000000</td>\n",
       "      <td>-1.000000</td>\n",
       "      <td>0.998124</td>\n",
       "      <td>1.000000</td>\n",
       "      <td>1.000000</td>\n",
       "      <td>1.000000</td>\n",
       "      <td>1.000000</td>\n",
       "      <td>1.000000</td>\n",
       "      <td>1.000000</td>\n",
       "      <td>0.988319</td>\n",
       "    </tr>\n",
       "    <tr>\n",
       "      <th>price</th>\n",
       "      <td>-0.958951</td>\n",
       "      <td>-0.977704</td>\n",
       "      <td>-0.988319</td>\n",
       "      <td>-0.988319</td>\n",
       "      <td>0.988319</td>\n",
       "      <td>0.999623</td>\n",
       "      <td>0.988319</td>\n",
       "      <td>-0.988319</td>\n",
       "      <td>0.995795</td>\n",
       "      <td>0.988319</td>\n",
       "      <td>0.988319</td>\n",
       "      <td>0.988319</td>\n",
       "      <td>0.988319</td>\n",
       "      <td>0.988319</td>\n",
       "      <td>0.988319</td>\n",
       "      <td>1.000000</td>\n",
       "    </tr>\n",
       "  </tbody>\n",
       "</table>\n",
       "</div>"
      ],
      "text/plain": [
       "                   riskiness    losses  city mpg  highway mpg  wheel base  \\\n",
       "riskiness           1.000000  0.997117  0.904534     0.904534   -0.904534   \n",
       "losses              0.997117  1.000000  0.934282     0.934282   -0.934282   \n",
       "city mpg            0.904534  0.934282  1.000000     1.000000   -1.000000   \n",
       "highway mpg         0.904534  0.934282  1.000000     1.000000   -1.000000   \n",
       "wheel base         -0.904534 -0.934282 -1.000000    -1.000000    1.000000   \n",
       "length             -0.950802 -0.971569 -0.992132    -0.992132    0.992132   \n",
       "width              -0.904534 -0.934282 -1.000000    -1.000000    1.000000   \n",
       "height              0.904534  0.934282  1.000000     1.000000   -1.000000   \n",
       "weight             -0.928942 -0.954357 -0.998124    -0.998124    0.998124   \n",
       "engine size        -0.904534 -0.934282 -1.000000    -1.000000    1.000000   \n",
       "bore               -0.904534 -0.934282 -1.000000    -1.000000    1.000000   \n",
       "stroke             -0.904534 -0.934282 -1.000000    -1.000000    1.000000   \n",
       "compression ratio  -0.904534 -0.934282 -1.000000    -1.000000    1.000000   \n",
       "horsepower         -0.904534 -0.934282 -1.000000    -1.000000    1.000000   \n",
       "peak rpm           -0.904534 -0.934282 -1.000000    -1.000000    1.000000   \n",
       "price              -0.958951 -0.977704 -0.988319    -0.988319    0.988319   \n",
       "\n",
       "                     length     width    height    weight  engine size  \\\n",
       "riskiness         -0.950802 -0.904534  0.904534 -0.928942    -0.904534   \n",
       "losses            -0.971569 -0.934282  0.934282 -0.954357    -0.934282   \n",
       "city mpg          -0.992132 -1.000000  1.000000 -0.998124    -1.000000   \n",
       "highway mpg       -0.992132 -1.000000  1.000000 -0.998124    -1.000000   \n",
       "wheel base         0.992132  1.000000 -1.000000  0.998124     1.000000   \n",
       "length             1.000000  0.992132 -0.992132  0.997935     0.992132   \n",
       "width              0.992132  1.000000 -1.000000  0.998124     1.000000   \n",
       "height            -0.992132 -1.000000  1.000000 -0.998124    -1.000000   \n",
       "weight             0.997935  0.998124 -0.998124  1.000000     0.998124   \n",
       "engine size        0.992132  1.000000 -1.000000  0.998124     1.000000   \n",
       "bore               0.992132  1.000000 -1.000000  0.998124     1.000000   \n",
       "stroke             0.992132  1.000000 -1.000000  0.998124     1.000000   \n",
       "compression ratio  0.992132  1.000000 -1.000000  0.998124     1.000000   \n",
       "horsepower         0.992132  1.000000 -1.000000  0.998124     1.000000   \n",
       "peak rpm           0.992132  1.000000 -1.000000  0.998124     1.000000   \n",
       "price              0.999623  0.988319 -0.988319  0.995795     0.988319   \n",
       "\n",
       "                       bore    stroke  compression ratio  horsepower  \\\n",
       "riskiness         -0.904534 -0.904534          -0.904534   -0.904534   \n",
       "losses            -0.934282 -0.934282          -0.934282   -0.934282   \n",
       "city mpg          -1.000000 -1.000000          -1.000000   -1.000000   \n",
       "highway mpg       -1.000000 -1.000000          -1.000000   -1.000000   \n",
       "wheel base         1.000000  1.000000           1.000000    1.000000   \n",
       "length             0.992132  0.992132           0.992132    0.992132   \n",
       "width              1.000000  1.000000           1.000000    1.000000   \n",
       "height            -1.000000 -1.000000          -1.000000   -1.000000   \n",
       "weight             0.998124  0.998124           0.998124    0.998124   \n",
       "engine size        1.000000  1.000000           1.000000    1.000000   \n",
       "bore               1.000000  1.000000           1.000000    1.000000   \n",
       "stroke             1.000000  1.000000           1.000000    1.000000   \n",
       "compression ratio  1.000000  1.000000           1.000000    1.000000   \n",
       "horsepower         1.000000  1.000000           1.000000    1.000000   \n",
       "peak rpm           1.000000  1.000000           1.000000    1.000000   \n",
       "price              0.988319  0.988319           0.988319    0.988319   \n",
       "\n",
       "                   peak rpm     price  \n",
       "riskiness         -0.904534 -0.958951  \n",
       "losses            -0.934282 -0.977704  \n",
       "city mpg          -1.000000 -0.988319  \n",
       "highway mpg       -1.000000 -0.988319  \n",
       "wheel base         1.000000  0.988319  \n",
       "length             0.992132  0.999623  \n",
       "width              1.000000  0.988319  \n",
       "height            -1.000000 -0.988319  \n",
       "weight             0.998124  0.995795  \n",
       "engine size        1.000000  0.988319  \n",
       "bore               1.000000  0.988319  \n",
       "stroke             1.000000  0.988319  \n",
       "compression ratio  1.000000  0.988319  \n",
       "horsepower         1.000000  0.988319  \n",
       "peak rpm           1.000000  0.988319  \n",
       "price              0.988319  1.000000  "
      ]
     },
     "execution_count": 195,
     "metadata": {},
     "output_type": "execute_result"
    }
   ],
   "source": [
    "df_chev.corr()"
   ]
  },
  {
   "cell_type": "markdown",
   "metadata": {},
   "source": [
    "----------------------------\n",
    "<h2> Atividade 3</h2>\n",
    "<i> Hora de Praticar </i>"
   ]
  },
  {
   "cell_type": "markdown",
   "metadata": {},
   "source": [
    "----------------------------"
   ]
  },
  {
   "cell_type": "code",
   "execution_count": 11,
   "metadata": {},
   "outputs": [
    {
     "data": {
      "text/html": [
       "<div>\n",
       "<style scoped>\n",
       "    .dataframe tbody tr th:only-of-type {\n",
       "        vertical-align: middle;\n",
       "    }\n",
       "\n",
       "    .dataframe tbody tr th {\n",
       "        vertical-align: top;\n",
       "    }\n",
       "\n",
       "    .dataframe thead th {\n",
       "        text-align: right;\n",
       "    }\n",
       "</style>\n",
       "<table border=\"1\" class=\"dataframe\">\n",
       "  <thead>\n",
       "    <tr style=\"text-align: right;\">\n",
       "      <th></th>\n",
       "      <th>riskiness</th>\n",
       "      <th>losses</th>\n",
       "      <th>city mpg</th>\n",
       "      <th>highway mpg</th>\n",
       "      <th>wheel base</th>\n",
       "      <th>length</th>\n",
       "      <th>width</th>\n",
       "      <th>height</th>\n",
       "      <th>weight</th>\n",
       "      <th>engine size</th>\n",
       "      <th>bore</th>\n",
       "      <th>stroke</th>\n",
       "      <th>compression ratio</th>\n",
       "      <th>horsepower</th>\n",
       "      <th>peak rpm</th>\n",
       "      <th>price</th>\n",
       "    </tr>\n",
       "  </thead>\n",
       "  <tbody>\n",
       "    <tr>\n",
       "      <th>riskiness</th>\n",
       "      <td>1.000000</td>\n",
       "      <td>0.493678</td>\n",
       "      <td>0.117129</td>\n",
       "      <td>0.171760</td>\n",
       "      <td>-0.517116</td>\n",
       "      <td>-0.338496</td>\n",
       "      <td>-0.217361</td>\n",
       "      <td>-0.470357</td>\n",
       "      <td>-0.260329</td>\n",
       "      <td>-0.129423</td>\n",
       "      <td>-0.259510</td>\n",
       "      <td>-0.027314</td>\n",
       "      <td>-0.136971</td>\n",
       "      <td>-0.017813</td>\n",
       "      <td>0.208618</td>\n",
       "      <td>-0.169442</td>\n",
       "    </tr>\n",
       "    <tr>\n",
       "      <th>losses</th>\n",
       "      <td>0.493678</td>\n",
       "      <td>1.000000</td>\n",
       "      <td>-0.248817</td>\n",
       "      <td>-0.218581</td>\n",
       "      <td>-0.025407</td>\n",
       "      <td>0.061025</td>\n",
       "      <td>0.105595</td>\n",
       "      <td>-0.390055</td>\n",
       "      <td>0.141607</td>\n",
       "      <td>0.228061</td>\n",
       "      <td>-0.024005</td>\n",
       "      <td>0.044186</td>\n",
       "      <td>-0.136143</td>\n",
       "      <td>0.307040</td>\n",
       "      <td>0.210706</td>\n",
       "      <td>0.249173</td>\n",
       "    </tr>\n",
       "    <tr>\n",
       "      <th>city mpg</th>\n",
       "      <td>0.117129</td>\n",
       "      <td>-0.248817</td>\n",
       "      <td>1.000000</td>\n",
       "      <td>0.973685</td>\n",
       "      <td>-0.603535</td>\n",
       "      <td>-0.745669</td>\n",
       "      <td>-0.676871</td>\n",
       "      <td>-0.203973</td>\n",
       "      <td>-0.773099</td>\n",
       "      <td>-0.707669</td>\n",
       "      <td>-0.589985</td>\n",
       "      <td>-0.031126</td>\n",
       "      <td>0.245378</td>\n",
       "      <td>-0.835761</td>\n",
       "      <td>-0.033042</td>\n",
       "      <td>-0.699191</td>\n",
       "    </tr>\n",
       "    <tr>\n",
       "      <th>highway mpg</th>\n",
       "      <td>0.171760</td>\n",
       "      <td>-0.218581</td>\n",
       "      <td>0.973685</td>\n",
       "      <td>1.000000</td>\n",
       "      <td>-0.636922</td>\n",
       "      <td>-0.748102</td>\n",
       "      <td>-0.710555</td>\n",
       "      <td>-0.226078</td>\n",
       "      <td>-0.796916</td>\n",
       "      <td>-0.719259</td>\n",
       "      <td>-0.581253</td>\n",
       "      <td>-0.036255</td>\n",
       "      <td>0.216466</td>\n",
       "      <td>-0.835358</td>\n",
       "      <td>-0.031516</td>\n",
       "      <td>-0.725526</td>\n",
       "    </tr>\n",
       "    <tr>\n",
       "      <th>wheel base</th>\n",
       "      <td>-0.517116</td>\n",
       "      <td>-0.025407</td>\n",
       "      <td>-0.603535</td>\n",
       "      <td>-0.636922</td>\n",
       "      <td>1.000000</td>\n",
       "      <td>0.875936</td>\n",
       "      <td>0.808498</td>\n",
       "      <td>0.556052</td>\n",
       "      <td>0.814856</td>\n",
       "      <td>0.651904</td>\n",
       "      <td>0.576128</td>\n",
       "      <td>0.163196</td>\n",
       "      <td>0.277826</td>\n",
       "      <td>0.534180</td>\n",
       "      <td>-0.267931</td>\n",
       "      <td>0.739407</td>\n",
       "    </tr>\n",
       "    <tr>\n",
       "      <th>length</th>\n",
       "      <td>-0.338496</td>\n",
       "      <td>0.061025</td>\n",
       "      <td>-0.745669</td>\n",
       "      <td>-0.748102</td>\n",
       "      <td>0.875936</td>\n",
       "      <td>1.000000</td>\n",
       "      <td>0.840058</td>\n",
       "      <td>0.497333</td>\n",
       "      <td>0.874181</td>\n",
       "      <td>0.723886</td>\n",
       "      <td>0.638550</td>\n",
       "      <td>0.125081</td>\n",
       "      <td>0.172998</td>\n",
       "      <td>0.683071</td>\n",
       "      <td>-0.210838</td>\n",
       "      <td>0.758838</td>\n",
       "    </tr>\n",
       "    <tr>\n",
       "      <th>width</th>\n",
       "      <td>-0.217361</td>\n",
       "      <td>0.105595</td>\n",
       "      <td>-0.676871</td>\n",
       "      <td>-0.710555</td>\n",
       "      <td>0.808498</td>\n",
       "      <td>0.840058</td>\n",
       "      <td>1.000000</td>\n",
       "      <td>0.296375</td>\n",
       "      <td>0.863994</td>\n",
       "      <td>0.753585</td>\n",
       "      <td>0.546435</td>\n",
       "      <td>0.212794</td>\n",
       "      <td>0.242759</td>\n",
       "      <td>0.681870</td>\n",
       "      <td>-0.196204</td>\n",
       "      <td>0.813509</td>\n",
       "    </tr>\n",
       "    <tr>\n",
       "      <th>height</th>\n",
       "      <td>-0.470357</td>\n",
       "      <td>-0.390055</td>\n",
       "      <td>-0.203973</td>\n",
       "      <td>-0.226078</td>\n",
       "      <td>0.556052</td>\n",
       "      <td>0.497333</td>\n",
       "      <td>0.296375</td>\n",
       "      <td>1.000000</td>\n",
       "      <td>0.370517</td>\n",
       "      <td>0.115985</td>\n",
       "      <td>0.252216</td>\n",
       "      <td>-0.088626</td>\n",
       "      <td>0.228426</td>\n",
       "      <td>0.046491</td>\n",
       "      <td>-0.232671</td>\n",
       "      <td>0.253554</td>\n",
       "    </tr>\n",
       "    <tr>\n",
       "      <th>weight</th>\n",
       "      <td>-0.260329</td>\n",
       "      <td>0.141607</td>\n",
       "      <td>-0.773099</td>\n",
       "      <td>-0.796916</td>\n",
       "      <td>0.814856</td>\n",
       "      <td>0.874181</td>\n",
       "      <td>0.863994</td>\n",
       "      <td>0.370517</td>\n",
       "      <td>1.000000</td>\n",
       "      <td>0.885907</td>\n",
       "      <td>0.637803</td>\n",
       "      <td>0.182098</td>\n",
       "      <td>0.216579</td>\n",
       "      <td>0.796367</td>\n",
       "      <td>-0.254092</td>\n",
       "      <td>0.882669</td>\n",
       "    </tr>\n",
       "    <tr>\n",
       "      <th>engine size</th>\n",
       "      <td>-0.129423</td>\n",
       "      <td>0.228061</td>\n",
       "      <td>-0.707669</td>\n",
       "      <td>-0.719259</td>\n",
       "      <td>0.651904</td>\n",
       "      <td>0.723886</td>\n",
       "      <td>0.753585</td>\n",
       "      <td>0.115985</td>\n",
       "      <td>0.885907</td>\n",
       "      <td>1.000000</td>\n",
       "      <td>0.586743</td>\n",
       "      <td>0.300697</td>\n",
       "      <td>0.134303</td>\n",
       "      <td>0.812204</td>\n",
       "      <td>-0.304157</td>\n",
       "      <td>0.831279</td>\n",
       "    </tr>\n",
       "    <tr>\n",
       "      <th>bore</th>\n",
       "      <td>-0.259510</td>\n",
       "      <td>-0.024005</td>\n",
       "      <td>-0.589985</td>\n",
       "      <td>-0.581253</td>\n",
       "      <td>0.576128</td>\n",
       "      <td>0.638550</td>\n",
       "      <td>0.546435</td>\n",
       "      <td>0.252216</td>\n",
       "      <td>0.637803</td>\n",
       "      <td>0.586743</td>\n",
       "      <td>1.000000</td>\n",
       "      <td>-0.109450</td>\n",
       "      <td>0.014923</td>\n",
       "      <td>0.554156</td>\n",
       "      <td>-0.288160</td>\n",
       "      <td>0.518566</td>\n",
       "    </tr>\n",
       "    <tr>\n",
       "      <th>stroke</th>\n",
       "      <td>-0.027314</td>\n",
       "      <td>0.044186</td>\n",
       "      <td>-0.031126</td>\n",
       "      <td>-0.036255</td>\n",
       "      <td>0.163196</td>\n",
       "      <td>0.125081</td>\n",
       "      <td>0.212794</td>\n",
       "      <td>-0.088626</td>\n",
       "      <td>0.182098</td>\n",
       "      <td>0.300697</td>\n",
       "      <td>-0.109450</td>\n",
       "      <td>1.000000</td>\n",
       "      <td>0.245069</td>\n",
       "      <td>0.150949</td>\n",
       "      <td>-0.030526</td>\n",
       "      <td>0.145698</td>\n",
       "    </tr>\n",
       "    <tr>\n",
       "      <th>compression ratio</th>\n",
       "      <td>-0.136971</td>\n",
       "      <td>-0.136143</td>\n",
       "      <td>0.245378</td>\n",
       "      <td>0.216466</td>\n",
       "      <td>0.277826</td>\n",
       "      <td>0.172998</td>\n",
       "      <td>0.242759</td>\n",
       "      <td>0.228426</td>\n",
       "      <td>0.216579</td>\n",
       "      <td>0.134303</td>\n",
       "      <td>0.014923</td>\n",
       "      <td>0.245069</td>\n",
       "      <td>1.000000</td>\n",
       "      <td>-0.165293</td>\n",
       "      <td>-0.402982</td>\n",
       "      <td>0.186907</td>\n",
       "    </tr>\n",
       "    <tr>\n",
       "      <th>horsepower</th>\n",
       "      <td>-0.017813</td>\n",
       "      <td>0.307040</td>\n",
       "      <td>-0.835761</td>\n",
       "      <td>-0.835358</td>\n",
       "      <td>0.534180</td>\n",
       "      <td>0.683071</td>\n",
       "      <td>0.681870</td>\n",
       "      <td>0.046491</td>\n",
       "      <td>0.796367</td>\n",
       "      <td>0.812204</td>\n",
       "      <td>0.554156</td>\n",
       "      <td>0.150949</td>\n",
       "      <td>-0.165293</td>\n",
       "      <td>1.000000</td>\n",
       "      <td>0.062300</td>\n",
       "      <td>0.764240</td>\n",
       "    </tr>\n",
       "    <tr>\n",
       "      <th>peak rpm</th>\n",
       "      <td>0.208618</td>\n",
       "      <td>0.210706</td>\n",
       "      <td>-0.033042</td>\n",
       "      <td>-0.031516</td>\n",
       "      <td>-0.267931</td>\n",
       "      <td>-0.210838</td>\n",
       "      <td>-0.196204</td>\n",
       "      <td>-0.232671</td>\n",
       "      <td>-0.254092</td>\n",
       "      <td>-0.304157</td>\n",
       "      <td>-0.288160</td>\n",
       "      <td>-0.030526</td>\n",
       "      <td>-0.402982</td>\n",
       "      <td>0.062300</td>\n",
       "      <td>1.000000</td>\n",
       "      <td>-0.169360</td>\n",
       "    </tr>\n",
       "    <tr>\n",
       "      <th>price</th>\n",
       "      <td>-0.169442</td>\n",
       "      <td>0.249173</td>\n",
       "      <td>-0.699191</td>\n",
       "      <td>-0.725526</td>\n",
       "      <td>0.739407</td>\n",
       "      <td>0.758838</td>\n",
       "      <td>0.813509</td>\n",
       "      <td>0.253554</td>\n",
       "      <td>0.882669</td>\n",
       "      <td>0.831279</td>\n",
       "      <td>0.518566</td>\n",
       "      <td>0.145698</td>\n",
       "      <td>0.186907</td>\n",
       "      <td>0.764240</td>\n",
       "      <td>-0.169360</td>\n",
       "      <td>1.000000</td>\n",
       "    </tr>\n",
       "  </tbody>\n",
       "</table>\n",
       "</div>"
      ],
      "text/plain": [
       "                   riskiness    losses  city mpg  highway mpg  wheel base  \\\n",
       "riskiness           1.000000  0.493678  0.117129     0.171760   -0.517116   \n",
       "losses              0.493678  1.000000 -0.248817    -0.218581   -0.025407   \n",
       "city mpg            0.117129 -0.248817  1.000000     0.973685   -0.603535   \n",
       "highway mpg         0.171760 -0.218581  0.973685     1.000000   -0.636922   \n",
       "wheel base         -0.517116 -0.025407 -0.603535    -0.636922    1.000000   \n",
       "length             -0.338496  0.061025 -0.745669    -0.748102    0.875936   \n",
       "width              -0.217361  0.105595 -0.676871    -0.710555    0.808498   \n",
       "height             -0.470357 -0.390055 -0.203973    -0.226078    0.556052   \n",
       "weight             -0.260329  0.141607 -0.773099    -0.796916    0.814856   \n",
       "engine size        -0.129423  0.228061 -0.707669    -0.719259    0.651904   \n",
       "bore               -0.259510 -0.024005 -0.589985    -0.581253    0.576128   \n",
       "stroke             -0.027314  0.044186 -0.031126    -0.036255    0.163196   \n",
       "compression ratio  -0.136971 -0.136143  0.245378     0.216466    0.277826   \n",
       "horsepower         -0.017813  0.307040 -0.835761    -0.835358    0.534180   \n",
       "peak rpm            0.208618  0.210706 -0.033042    -0.031516   -0.267931   \n",
       "price              -0.169442  0.249173 -0.699191    -0.725526    0.739407   \n",
       "\n",
       "                     length     width    height    weight  engine size  \\\n",
       "riskiness         -0.338496 -0.217361 -0.470357 -0.260329    -0.129423   \n",
       "losses             0.061025  0.105595 -0.390055  0.141607     0.228061   \n",
       "city mpg          -0.745669 -0.676871 -0.203973 -0.773099    -0.707669   \n",
       "highway mpg       -0.748102 -0.710555 -0.226078 -0.796916    -0.719259   \n",
       "wheel base         0.875936  0.808498  0.556052  0.814856     0.651904   \n",
       "length             1.000000  0.840058  0.497333  0.874181     0.723886   \n",
       "width              0.840058  1.000000  0.296375  0.863994     0.753585   \n",
       "height             0.497333  0.296375  1.000000  0.370517     0.115985   \n",
       "weight             0.874181  0.863994  0.370517  1.000000     0.885907   \n",
       "engine size        0.723886  0.753585  0.115985  0.885907     1.000000   \n",
       "bore               0.638550  0.546435  0.252216  0.637803     0.586743   \n",
       "stroke             0.125081  0.212794 -0.088626  0.182098     0.300697   \n",
       "compression ratio  0.172998  0.242759  0.228426  0.216579     0.134303   \n",
       "horsepower         0.683071  0.681870  0.046491  0.796367     0.812204   \n",
       "peak rpm          -0.210838 -0.196204 -0.232671 -0.254092    -0.304157   \n",
       "price              0.758838  0.813509  0.253554  0.882669     0.831279   \n",
       "\n",
       "                       bore    stroke  compression ratio  horsepower  \\\n",
       "riskiness         -0.259510 -0.027314          -0.136971   -0.017813   \n",
       "losses            -0.024005  0.044186          -0.136143    0.307040   \n",
       "city mpg          -0.589985 -0.031126           0.245378   -0.835761   \n",
       "highway mpg       -0.581253 -0.036255           0.216466   -0.835358   \n",
       "wheel base         0.576128  0.163196           0.277826    0.534180   \n",
       "length             0.638550  0.125081           0.172998    0.683071   \n",
       "width              0.546435  0.212794           0.242759    0.681870   \n",
       "height             0.252216 -0.088626           0.228426    0.046491   \n",
       "weight             0.637803  0.182098           0.216579    0.796367   \n",
       "engine size        0.586743  0.300697           0.134303    0.812204   \n",
       "bore               1.000000 -0.109450           0.014923    0.554156   \n",
       "stroke            -0.109450  1.000000           0.245069    0.150949   \n",
       "compression ratio  0.014923  0.245069           1.000000   -0.165293   \n",
       "horsepower         0.554156  0.150949          -0.165293    1.000000   \n",
       "peak rpm          -0.288160 -0.030526          -0.402982    0.062300   \n",
       "price              0.518566  0.145698           0.186907    0.764240   \n",
       "\n",
       "                   peak rpm     price  \n",
       "riskiness          0.208618 -0.169442  \n",
       "losses             0.210706  0.249173  \n",
       "city mpg          -0.033042 -0.699191  \n",
       "highway mpg       -0.031516 -0.725526  \n",
       "wheel base        -0.267931  0.739407  \n",
       "length            -0.210838  0.758838  \n",
       "width             -0.196204  0.813509  \n",
       "height            -0.232671  0.253554  \n",
       "weight            -0.254092  0.882669  \n",
       "engine size       -0.304157  0.831279  \n",
       "bore              -0.288160  0.518566  \n",
       "stroke            -0.030526  0.145698  \n",
       "compression ratio -0.402982  0.186907  \n",
       "horsepower         0.062300  0.764240  \n",
       "peak rpm           1.000000 -0.169360  \n",
       "price             -0.169360  1.000000  "
      ]
     },
     "execution_count": 11,
     "metadata": {},
     "output_type": "execute_result"
    }
   ],
   "source": [
    "#Descobrindo a correlação entre os dados\n",
    "df.corr(method=\"pearson\")"
   ]
  },
  {
   "cell_type": "code",
   "execution_count": 7,
   "metadata": {
    "collapsed": true,
    "jupyter": {
     "outputs_hidden": true
    }
   },
   "outputs": [
    {
     "data": {
      "text/html": [
       "<div>\n",
       "<style scoped>\n",
       "    .dataframe tbody tr th:only-of-type {\n",
       "        vertical-align: middle;\n",
       "    }\n",
       "\n",
       "    .dataframe tbody tr th {\n",
       "        vertical-align: top;\n",
       "    }\n",
       "\n",
       "    .dataframe thead th {\n",
       "        text-align: right;\n",
       "    }\n",
       "</style>\n",
       "<table border=\"1\" class=\"dataframe\">\n",
       "  <thead>\n",
       "    <tr style=\"text-align: right;\">\n",
       "      <th></th>\n",
       "      <th>city mpg</th>\n",
       "      <th>highway mpg</th>\n",
       "    </tr>\n",
       "  </thead>\n",
       "  <tbody>\n",
       "    <tr>\n",
       "      <th>0</th>\n",
       "      <td>24.0</td>\n",
       "      <td>30.0</td>\n",
       "    </tr>\n",
       "    <tr>\n",
       "      <th>1</th>\n",
       "      <td>18.0</td>\n",
       "      <td>22.0</td>\n",
       "    </tr>\n",
       "    <tr>\n",
       "      <th>2</th>\n",
       "      <td>19.0</td>\n",
       "      <td>25.0</td>\n",
       "    </tr>\n",
       "    <tr>\n",
       "      <th>3</th>\n",
       "      <td>17.0</td>\n",
       "      <td>20.0</td>\n",
       "    </tr>\n",
       "    <tr>\n",
       "      <th>4</th>\n",
       "      <td>23.0</td>\n",
       "      <td>29.0</td>\n",
       "    </tr>\n",
       "    <tr>\n",
       "      <th>5</th>\n",
       "      <td>23.0</td>\n",
       "      <td>29.0</td>\n",
       "    </tr>\n",
       "    <tr>\n",
       "      <th>6</th>\n",
       "      <td>21.0</td>\n",
       "      <td>28.0</td>\n",
       "    </tr>\n",
       "    <tr>\n",
       "      <th>7</th>\n",
       "      <td>21.0</td>\n",
       "      <td>28.0</td>\n",
       "    </tr>\n",
       "    <tr>\n",
       "      <th>8</th>\n",
       "      <td>47.0</td>\n",
       "      <td>53.0</td>\n",
       "    </tr>\n",
       "    <tr>\n",
       "      <th>9</th>\n",
       "      <td>38.0</td>\n",
       "      <td>43.0</td>\n",
       "    </tr>\n",
       "    <tr>\n",
       "      <th>10</th>\n",
       "      <td>38.0</td>\n",
       "      <td>43.0</td>\n",
       "    </tr>\n",
       "    <tr>\n",
       "      <th>11</th>\n",
       "      <td>37.0</td>\n",
       "      <td>41.0</td>\n",
       "    </tr>\n",
       "    <tr>\n",
       "      <th>12</th>\n",
       "      <td>31.0</td>\n",
       "      <td>38.0</td>\n",
       "    </tr>\n",
       "    <tr>\n",
       "      <th>13</th>\n",
       "      <td>24.0</td>\n",
       "      <td>30.0</td>\n",
       "    </tr>\n",
       "    <tr>\n",
       "      <th>14</th>\n",
       "      <td>31.0</td>\n",
       "      <td>38.0</td>\n",
       "    </tr>\n",
       "    <tr>\n",
       "      <th>15</th>\n",
       "      <td>31.0</td>\n",
       "      <td>38.0</td>\n",
       "    </tr>\n",
       "    <tr>\n",
       "      <th>16</th>\n",
       "      <td>31.0</td>\n",
       "      <td>38.0</td>\n",
       "    </tr>\n",
       "    <tr>\n",
       "      <th>17</th>\n",
       "      <td>24.0</td>\n",
       "      <td>30.0</td>\n",
       "    </tr>\n",
       "    <tr>\n",
       "      <th>18</th>\n",
       "      <td>19.0</td>\n",
       "      <td>24.0</td>\n",
       "    </tr>\n",
       "    <tr>\n",
       "      <th>19</th>\n",
       "      <td>49.0</td>\n",
       "      <td>54.0</td>\n",
       "    </tr>\n",
       "    <tr>\n",
       "      <th>20</th>\n",
       "      <td>31.0</td>\n",
       "      <td>38.0</td>\n",
       "    </tr>\n",
       "    <tr>\n",
       "      <th>21</th>\n",
       "      <td>38.0</td>\n",
       "      <td>42.0</td>\n",
       "    </tr>\n",
       "    <tr>\n",
       "      <th>22</th>\n",
       "      <td>30.0</td>\n",
       "      <td>34.0</td>\n",
       "    </tr>\n",
       "    <tr>\n",
       "      <th>23</th>\n",
       "      <td>30.0</td>\n",
       "      <td>34.0</td>\n",
       "    </tr>\n",
       "    <tr>\n",
       "      <th>24</th>\n",
       "      <td>30.0</td>\n",
       "      <td>34.0</td>\n",
       "    </tr>\n",
       "    <tr>\n",
       "      <th>25</th>\n",
       "      <td>30.0</td>\n",
       "      <td>34.0</td>\n",
       "    </tr>\n",
       "    <tr>\n",
       "      <th>26</th>\n",
       "      <td>27.0</td>\n",
       "      <td>33.0</td>\n",
       "    </tr>\n",
       "    <tr>\n",
       "      <th>27</th>\n",
       "      <td>27.0</td>\n",
       "      <td>33.0</td>\n",
       "    </tr>\n",
       "    <tr>\n",
       "      <th>28</th>\n",
       "      <td>27.0</td>\n",
       "      <td>33.0</td>\n",
       "    </tr>\n",
       "    <tr>\n",
       "      <th>29</th>\n",
       "      <td>27.0</td>\n",
       "      <td>33.0</td>\n",
       "    </tr>\n",
       "    <tr>\n",
       "      <th>...</th>\n",
       "      <td>...</td>\n",
       "      <td>...</td>\n",
       "    </tr>\n",
       "    <tr>\n",
       "      <th>135</th>\n",
       "      <td>27.0</td>\n",
       "      <td>32.0</td>\n",
       "    </tr>\n",
       "    <tr>\n",
       "      <th>136</th>\n",
       "      <td>27.0</td>\n",
       "      <td>32.0</td>\n",
       "    </tr>\n",
       "    <tr>\n",
       "      <th>137</th>\n",
       "      <td>20.0</td>\n",
       "      <td>24.0</td>\n",
       "    </tr>\n",
       "    <tr>\n",
       "      <th>138</th>\n",
       "      <td>19.0</td>\n",
       "      <td>24.0</td>\n",
       "    </tr>\n",
       "    <tr>\n",
       "      <th>139</th>\n",
       "      <td>20.0</td>\n",
       "      <td>24.0</td>\n",
       "    </tr>\n",
       "    <tr>\n",
       "      <th>140</th>\n",
       "      <td>37.0</td>\n",
       "      <td>46.0</td>\n",
       "    </tr>\n",
       "    <tr>\n",
       "      <th>141</th>\n",
       "      <td>27.0</td>\n",
       "      <td>34.0</td>\n",
       "    </tr>\n",
       "    <tr>\n",
       "      <th>142</th>\n",
       "      <td>37.0</td>\n",
       "      <td>46.0</td>\n",
       "    </tr>\n",
       "    <tr>\n",
       "      <th>143</th>\n",
       "      <td>27.0</td>\n",
       "      <td>34.0</td>\n",
       "    </tr>\n",
       "    <tr>\n",
       "      <th>144</th>\n",
       "      <td>27.0</td>\n",
       "      <td>34.0</td>\n",
       "    </tr>\n",
       "    <tr>\n",
       "      <th>145</th>\n",
       "      <td>37.0</td>\n",
       "      <td>42.0</td>\n",
       "    </tr>\n",
       "    <tr>\n",
       "      <th>146</th>\n",
       "      <td>26.0</td>\n",
       "      <td>32.0</td>\n",
       "    </tr>\n",
       "    <tr>\n",
       "      <th>147</th>\n",
       "      <td>24.0</td>\n",
       "      <td>29.0</td>\n",
       "    </tr>\n",
       "    <tr>\n",
       "      <th>148</th>\n",
       "      <td>23.0</td>\n",
       "      <td>28.0</td>\n",
       "    </tr>\n",
       "    <tr>\n",
       "      <th>149</th>\n",
       "      <td>23.0</td>\n",
       "      <td>28.0</td>\n",
       "    </tr>\n",
       "    <tr>\n",
       "      <th>150</th>\n",
       "      <td>24.0</td>\n",
       "      <td>28.0</td>\n",
       "    </tr>\n",
       "    <tr>\n",
       "      <th>151</th>\n",
       "      <td>24.0</td>\n",
       "      <td>28.0</td>\n",
       "    </tr>\n",
       "    <tr>\n",
       "      <th>152</th>\n",
       "      <td>17.0</td>\n",
       "      <td>22.0</td>\n",
       "    </tr>\n",
       "    <tr>\n",
       "      <th>153</th>\n",
       "      <td>17.0</td>\n",
       "      <td>22.0</td>\n",
       "    </tr>\n",
       "    <tr>\n",
       "      <th>154</th>\n",
       "      <td>23.0</td>\n",
       "      <td>28.0</td>\n",
       "    </tr>\n",
       "    <tr>\n",
       "      <th>155</th>\n",
       "      <td>19.0</td>\n",
       "      <td>25.0</td>\n",
       "    </tr>\n",
       "    <tr>\n",
       "      <th>156</th>\n",
       "      <td>18.0</td>\n",
       "      <td>23.0</td>\n",
       "    </tr>\n",
       "    <tr>\n",
       "      <th>157</th>\n",
       "      <td>26.0</td>\n",
       "      <td>27.0</td>\n",
       "    </tr>\n",
       "    <tr>\n",
       "      <th>158</th>\n",
       "      <td>19.0</td>\n",
       "      <td>25.0</td>\n",
       "    </tr>\n",
       "    <tr>\n",
       "      <th>159</th>\n",
       "      <td>17.0</td>\n",
       "      <td>20.0</td>\n",
       "    </tr>\n",
       "    <tr>\n",
       "      <th>160</th>\n",
       "      <td>23.0</td>\n",
       "      <td>29.0</td>\n",
       "    </tr>\n",
       "    <tr>\n",
       "      <th>161</th>\n",
       "      <td>23.0</td>\n",
       "      <td>29.0</td>\n",
       "    </tr>\n",
       "    <tr>\n",
       "      <th>162</th>\n",
       "      <td>21.0</td>\n",
       "      <td>28.0</td>\n",
       "    </tr>\n",
       "    <tr>\n",
       "      <th>163</th>\n",
       "      <td>21.0</td>\n",
       "      <td>28.0</td>\n",
       "    </tr>\n",
       "    <tr>\n",
       "      <th>164</th>\n",
       "      <td>47.0</td>\n",
       "      <td>53.0</td>\n",
       "    </tr>\n",
       "  </tbody>\n",
       "</table>\n",
       "<p>165 rows × 2 columns</p>\n",
       "</div>"
      ],
      "text/plain": [
       "     city mpg  highway mpg\n",
       "0        24.0         30.0\n",
       "1        18.0         22.0\n",
       "2        19.0         25.0\n",
       "3        17.0         20.0\n",
       "4        23.0         29.0\n",
       "5        23.0         29.0\n",
       "6        21.0         28.0\n",
       "7        21.0         28.0\n",
       "8        47.0         53.0\n",
       "9        38.0         43.0\n",
       "10       38.0         43.0\n",
       "11       37.0         41.0\n",
       "12       31.0         38.0\n",
       "13       24.0         30.0\n",
       "14       31.0         38.0\n",
       "15       31.0         38.0\n",
       "16       31.0         38.0\n",
       "17       24.0         30.0\n",
       "18       19.0         24.0\n",
       "19       49.0         54.0\n",
       "20       31.0         38.0\n",
       "21       38.0         42.0\n",
       "22       30.0         34.0\n",
       "23       30.0         34.0\n",
       "24       30.0         34.0\n",
       "25       30.0         34.0\n",
       "26       27.0         33.0\n",
       "27       27.0         33.0\n",
       "28       27.0         33.0\n",
       "29       27.0         33.0\n",
       "..        ...          ...\n",
       "135      27.0         32.0\n",
       "136      27.0         32.0\n",
       "137      20.0         24.0\n",
       "138      19.0         24.0\n",
       "139      20.0         24.0\n",
       "140      37.0         46.0\n",
       "141      27.0         34.0\n",
       "142      37.0         46.0\n",
       "143      27.0         34.0\n",
       "144      27.0         34.0\n",
       "145      37.0         42.0\n",
       "146      26.0         32.0\n",
       "147      24.0         29.0\n",
       "148      23.0         28.0\n",
       "149      23.0         28.0\n",
       "150      24.0         28.0\n",
       "151      24.0         28.0\n",
       "152      17.0         22.0\n",
       "153      17.0         22.0\n",
       "154      23.0         28.0\n",
       "155      19.0         25.0\n",
       "156      18.0         23.0\n",
       "157      26.0         27.0\n",
       "158      19.0         25.0\n",
       "159      17.0         20.0\n",
       "160      23.0         29.0\n",
       "161      23.0         29.0\n",
       "162      21.0         28.0\n",
       "163      21.0         28.0\n",
       "164      47.0         53.0\n",
       "\n",
       "[165 rows x 2 columns]"
      ]
     },
     "execution_count": 7,
     "metadata": {},
     "output_type": "execute_result"
    }
   ],
   "source": [
    "df[['city mpg','highway mpg']]"
   ]
  },
  {
   "cell_type": "code",
   "execution_count": 78,
   "metadata": {},
   "outputs": [
    {
     "data": {
      "text/plain": [
       "<matplotlib.axes._subplots.AxesSubplot at 0x2021b2f8a90>"
      ]
     },
     "execution_count": 78,
     "metadata": {},
     "output_type": "execute_result"
    },
    {
     "data": {
      "image/png": "[encoded data removed]",
      "text/plain": [
       "<Figure size 720x648 with 2 Axes>"
      ]
     },
     "metadata": {
      "needs_background": "light"
     },
     "output_type": "display_data"
    }
   ],
   "source": [
    "#Matriz de correlação dos dados\n",
    "plt.figure(figsize=(10,9))\n",
    "sns.heatmap(df.corr(method='spearman'), annot=True, annot_kws={\"size\":8})"
   ]
  },
  {
   "cell_type": "markdown",
   "metadata": {},
   "source": [
    "----------------------------\n",
    "<h2> Atividade 4</h2>\n",
    "<i> Hora de Praticar </i>\n"
   ]
  },
  {
   "cell_type": "markdown",
   "metadata": {},
   "source": [
    "----------------"
   ]
  },
  {
   "cell_type": "code",
   "execution_count": 68,
   "metadata": {},
   "outputs": [
    {
     "data": {
      "text/plain": [
       "<matplotlib.axes._subplots.AxesSubplot at 0x2021a048940>"
      ]
     },
     "execution_count": 68,
     "metadata": {},
     "output_type": "execute_result"
    },
    {
     "data": {
      "image/png": "[encoded data removed]",
      "text/plain": [
       "<Figure size 432x288 with 1 Axes>"
      ]
     },
     "metadata": {
      "needs_background": "light"
     },
     "output_type": "display_data"
    }
   ],
   "source": [
    "#Estratificando os dados\n",
    "sns.countplot(df[\"riskiness\"])"
   ]
  },
  {
   "cell_type": "code",
   "execution_count": 70,
   "metadata": {},
   "outputs": [
    {
     "data": {
      "text/plain": [
       "<matplotlib.axes._subplots.AxesSubplot at 0x2021a019a20>"
      ]
     },
     "execution_count": 70,
     "metadata": {},
     "output_type": "execute_result"
    },
    {
     "data": {
      "image/png": "[encoded data removed]",
      "text/plain": [
       "<Figure size 432x288 with 1 Axes>"
      ]
     },
     "metadata": {
      "needs_background": "light"
     },
     "output_type": "display_data"
    }
   ],
   "source": [
    "sns.countplot(df[\"fuel type\"])"
   ]
  },
  {
   "cell_type": "code",
   "execution_count": 69,
   "metadata": {},
   "outputs": [
    {
     "data": {
      "text/plain": [
       "<matplotlib.axes._subplots.AxesSubplot at 0x20219e5f1d0>"
      ]
     },
     "execution_count": 69,
     "metadata": {},
     "output_type": "execute_result"
    },
    {
     "data": {
      "image/png": "[encoded data removed]",
      "text/plain": [
       "<Figure size 432x288 with 1 Axes>"
      ]
     },
     "metadata": {
      "needs_background": "light"
     },
     "output_type": "display_data"
    }
   ],
   "source": [
    "sns.countplot(df[\"fuel type\"], hue=df['riskiness'])"
   ]
  },
  {
   "cell_type": "code",
   "execution_count": 71,
   "metadata": {},
   "outputs": [
    {
     "data": {
      "text/plain": [
       "<matplotlib.axes._subplots.AxesSubplot at 0x20219f22208>"
      ]
     },
     "execution_count": 71,
     "metadata": {},
     "output_type": "execute_result"
    },
    {
     "data": {
      "image/png": "[encoded data removed]",
      "text/plain": [
       "<Figure size 432x288 with 1 Axes>"
      ]
     },
     "metadata": {
      "needs_background": "light"
     },
     "output_type": "display_data"
    }
   ],
   "source": [
    "sns.countplot(df[\"aspiration\"])"
   ]
  },
  {
   "cell_type": "code",
   "execution_count": 72,
   "metadata": {},
   "outputs": [
    {
     "data": {
      "text/plain": [
       "<matplotlib.axes._subplots.AxesSubplot at 0x20219f69710>"
      ]
     },
     "execution_count": 72,
     "metadata": {},
     "output_type": "execute_result"
    },
    {
     "data": {
      "image/png": "[encoded data removed]",
      "text/plain": [
       "<Figure size 432x288 with 1 Axes>"
      ]
     },
     "metadata": {
      "needs_background": "light"
     },
     "output_type": "display_data"
    }
   ],
   "source": [
    "sns.countplot(df[\"aspiration\"], hue=df[\"riskiness\"])"
   ]
  },
  {
   "cell_type": "code",
   "execution_count": 75,
   "metadata": {},
   "outputs": [
    {
     "data": {
      "text/plain": [
       "<matplotlib.axes._subplots.AxesSubplot at 0x2021b225208>"
      ]
     },
     "execution_count": 75,
     "metadata": {},
     "output_type": "execute_result"
    },
    {
     "data": {
      "image/png": "[encoded data removed]",
      "text/plain": [
       "<Figure size 432x288 with 1 Axes>"
      ]
     },
     "metadata": {
      "needs_background": "light"
     },
     "output_type": "display_data"
    }
   ],
   "source": [
    "sns.distplot(df[df.riskiness == -1].length,label=\"-1\")\n",
    "sns.distplot(df[df.riskiness == 0].length,label=\"0\")\n",
    "sns.distplot(df[df.riskiness == 1].length,label=\"1\")\n",
    "sns.distplot(df[df.riskiness == 2].length,label=\"2\")\n",
    "sns.distplot(df[df.riskiness == 3].length,label=\"3\")"
   ]
  },
  {
   "cell_type": "markdown",
   "metadata": {},
   "source": [
    "----------------------------\n",
    "<h2> Atividade 5</h2>\n",
    "<i> Hora de Praticar </i>\n"
   ]
  }
 ],
 "metadata": {
  "kernelspec": {
   "display_name": "Python 3",
   "language": "python",
   "name": "python3"
  },
  "language_info": {
   "codemirror_mode": {
    "name": "ipython",
    "version": 3
   },
   "file_extension": ".py",
   "mimetype": "text/x-python",
   "name": "python",
   "nbconvert_exporter": "python",
   "pygments_lexer": "ipython3",
   "version": "3.7.3"
  }
 },
 "nbformat": 4,
 "nbformat_minor": 4
}
