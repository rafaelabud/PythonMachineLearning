{
 "cells": [
  {
   "cell_type": "code",
   "execution_count": 1,
   "id": "54c80f19-b73d-4a18-921a-10a2ea4a706e",
   "metadata": {},
   "outputs": [],
   "source": [
    "import mlrose_hiive as mlrose\n",
    "import numpy as np\n",
    "import pandas as pd\n",
    "import time\n",
    "import itertools\n",
    "\n",
    "lista_fitness_hc_bt = []\n",
    "lista_tempos_hc_bt = []\n",
    "\n",
    "lista_convergências_hc_bt = []\n",
    "lista_melhores_parametros_hc_bt = []\n",
    "\n",
    "rng = np.random.default_rng()\n",
    "\n",
    "for d in range(0,10):\n",
    "\n",
    "    target_bitstring =   rng.integers(0, 2, size=20) #np.array([1, 0, 1, 1, 0, 1, 0, 1, 0, 0, 1, 1, 1, 1, 0, 1])  # Exemplo de bitstring alvo\n",
    "    def fitness_function(state):\n",
    "        return np.sum(state == target_bitstring)  # Conta quantos bits estão corretos\n",
    "\n",
    "    fitness = mlrose.CustomFitness(fitness_function)\n",
    "    problem = mlrose.DiscreteOpt(length=len(target_bitstring), fitness_fn=fitness, maximize=True, max_val=2)\n",
    "    \n",
    "    max_iters_values = [500, 1000, 2000]   # Número máximo de iterações\n",
    "    restarts_values = [0, 5, 10, 20]       # Número de reinicializações\n",
    "    max_attempts_values = [10, 50, 100]    # Número de tentativas sem melhoria antes de parar\n",
    "    \n",
    "    # Criar combinações de parâmetros\n",
    "    param_grid = list(itertools.product(max_iters_values, restarts_values, max_attempts_values))\n",
    "    \n",
    "    # Variáveis para armazenar a melhor configuração\n",
    "    best_fitness = -np.inf\n",
    "    best_params = None\n",
    "    results = []\n",
    "    \n",
    "    # Rodar Grid Search\n",
    "    for max_iters, restarts, max_attempts in param_grid:\n",
    "        best_state, best_fitness_hc, _ = mlrose.random_hill_climb(problem, \n",
    "                                                                  max_iters=max_iters, \n",
    "                                                                  restarts=restarts, \n",
    "                                                                  max_attempts=max_attempts, \n",
    "                                                                  random_state=42)\n",
    "        \n",
    "        results.append((max_iters, restarts, max_attempts, best_fitness_hc))\n",
    "    \n",
    "        # Atualizar melhor configuração\n",
    "        if best_fitness_hc > best_fitness:\n",
    "            best_fitness = best_fitness_hc\n",
    "            best_params = (max_iters, restarts, max_attempts)    \n",
    "        \n",
    "    lista_melhores_parametros_hc_bt.append(best_params)\n",
    "\n",
    "    \n",
    "    start = time.process_time()\n",
    "    problem_size = len(target_bitstring)\n",
    "    \n",
    "    # Definir a função de fitness para contar bits corretos\n",
    "    \n",
    "    # Criar o problema de otimização (bitstring de 16 bits)\n",
    "    \n",
    "    # Definir os parâmetros do Hill Climbing\n",
    "    np.random.seed(42)\n",
    "    initial_state = np.random.randint(2, size=problem_size)\n",
    "    \n",
    "    # Rodar o algoritmo Hill Climbing\n",
    "    best_state, best_fitness, fitness_curve  = mlrose.random_hill_climb(problem, \n",
    "                                                           max_attempts=best_params[2], \n",
    "                                                           max_iters=best_params[0], \n",
    "                                                           restarts=best_params[1],  # Adiciona reinicializações para evitar mínimos locais\n",
    "                                                            curve=True,\n",
    "                                                           random_state=42)\n",
    "    \n",
    "    end = time.process_time()\n",
    "    tempo = end - start  # will print the time spent on this process in seconds\n",
    "    lista_tempos_hc_bt.append(tempo)\n",
    "    fitness_curve_list = []\n",
    "    fitness_curve_list_2 = []\n",
    "    z = 1\n",
    "    for i in fitness_curve:\n",
    "        fitness_curve_list.append(i[0])\n",
    "        fitness_curve_list_2.append(z)\n",
    "        z = z + 1\n",
    "        \n",
    "    a = 1\n",
    "    for i in fitness_curve_list:\n",
    "        if i == 20:\n",
    "            break\n",
    "        else:\n",
    "            a = a + 1\n",
    "    lista_convergências_hc_bt.append(a)\n",
    "    lista_fitness_hc_bt.append(best_fitness)"
   ]
  },
  {
   "cell_type": "code",
   "execution_count": 2,
   "id": "bcf445b2-8eb8-432a-8d74-a3e0c5a84cb1",
   "metadata": {},
   "outputs": [],
   "source": [
    "import mlrose_hiive as mlrose\n",
    "import numpy as np\n",
    "\n",
    "rng = np.random.default_rng()\n",
    "\n",
    "lista_fitness_sa_bt = []\n",
    "lista_tempos_sa_bt = []\n",
    "\n",
    "lista_convergências_sa_bt = []\n",
    "lista_melhores_parametros_sa_bt = []\n",
    "\n",
    "for d in range(0,10):\n",
    "\n",
    "    target_bitstring =   rng.integers(0, 2, size=20) #np.array([1, 0, 1, 1, 0, 1, 0, 1, 0, 0, 1, 1, 1, 1, 0, 1])  # Exemplo de bitstring alvo    \n",
    "    \n",
    "    problem_size = len(target_bitstring)\n",
    "    \n",
    "    # Definir a função de fitness para contar bits corretos\n",
    "    def fitness_function(state):\n",
    "        return np.sum(state == target_bitstring)  # Conta quantos bits estão corretos\n",
    "    \n",
    "    # Criar o problema de otimização (bitstring de 16 bits)\n",
    "    fitness = mlrose.CustomFitness(fitness_function)\n",
    "    problem = mlrose.DiscreteOpt(length=len(target_bitstring), fitness_fn=fitness, maximize=True, max_val=2)\n",
    "    \n",
    "    # Definir os parâmetros do Hill Climbing\n",
    "    initial_state = np.random.randint(2, size=problem_size)\n",
    "\n",
    "    # Definir hiperparâmetros para Grid Search\n",
    "    init_temp_values = [1, 10, 50, 100]  # Temperatura inicial\n",
    "    decay_values = [0.90, 0.95, 0.99]    # Taxa de resfriamento\n",
    "    min_temp_values = [0.01, 0.001]      # Temperatura mínima\n",
    "    max_iters_values = [500, 1000, 2000] # Iterações máximas\n",
    "    max_attempts_values = [10, 50, 100]  # Tentativas sem melhoria antes de parar\n",
    "    \n",
    "    # Criar combinações de parâmetros\n",
    "    param_grid = list(itertools.product(init_temp_values, decay_values, min_temp_values, max_iters_values, max_attempts_values))\n",
    "    \n",
    "    # Variáveis para armazenar a melhor configuração\n",
    "    best_fitness = -np.inf\n",
    "    best_params = None\n",
    "    results = []\n",
    "    \n",
    "    # Rodar Grid Search\n",
    "    for init_temp, decay, min_temp, max_iters, max_attempts in param_grid:\n",
    "        schedule = mlrose.GeomDecay(init_temp=init_temp, decay=decay, min_temp=min_temp)\n",
    "        \n",
    "        best_state, best_fitness_sa, _ = mlrose.simulated_annealing(problem, \n",
    "                                                                    schedule=schedule, \n",
    "                                                                    max_iters=max_iters, \n",
    "                                                                    max_attempts=max_attempts, \n",
    "                                                                    random_state=42)\n",
    "        \n",
    "        results.append((init_temp, decay, min_temp, max_iters, max_attempts, best_fitness_sa))\n",
    "    \n",
    "        # Atualizar melhor configuração\n",
    "        if best_fitness_sa > best_fitness:\n",
    "            best_fitness = best_fitness_sa\n",
    "            best_params = (init_temp, decay, min_temp, max_iters, max_attempts)\n",
    "\n",
    "    lista_melhores_parametros_sa_bt.append(best_params)\n",
    "    start = time.process_time()\n",
    "\n",
    "    \n",
    "    # Configurar o resfriamento (Cooling Schedule)\n",
    "    schedule = mlrose.GeomDecay(init_temp=best_params[0], decay=best_params[1], min_temp=best_params[2])\n",
    "    \n",
    "    # Rodar o Simulated Annealing\n",
    "    best_state, best_fitness, fitness_curve = mlrose.simulated_annealing(problem, \n",
    "                                                                         schedule=schedule, \n",
    "                                                                         max_attempts=best_params[4], \n",
    "                                                                         max_iters=best_params[3], \n",
    "                                                                         init_state=initial_state, \n",
    "                                                                         curve=True, \n",
    "                                                                         random_state=42)\n",
    "    end = time.process_time()\n",
    "    tempo = end - start  # will print the time spent on this process in seconds\n",
    "    lista_tempos_sa_bt.append(tempo)\n",
    "    fitness_curve_list = []\n",
    "    fitness_curve_list_2 = []\n",
    "    z = 1\n",
    "    for i in fitness_curve:\n",
    "        fitness_curve_list.append(i[0])\n",
    "        fitness_curve_list_2.append(z)\n",
    "        z = z + 1\n",
    "    a = 1\n",
    "    for i in fitness_curve_list:\n",
    "        if i == 20:\n",
    "            break\n",
    "        else:\n",
    "            a = a + 1\n",
    "    lista_convergências_sa_bt.append(a)\n",
    "    lista_fitness_sa_bt.append(best_fitness)"
   ]
  },
  {
   "cell_type": "code",
   "execution_count": 3,
   "id": "ceb5362b-ae82-4054-b165-9e46d1af4f9a",
   "metadata": {},
   "outputs": [],
   "source": [
    "import mlrose_hiive as mlrose\n",
    "import numpy as np\n",
    "from joblib import Parallel, delayed\n",
    "\n",
    "\n",
    "rng = np.random.default_rng()\n",
    "\n",
    "lista_fitness_ga_bt = []\n",
    "lista_tempos_ga_bt = []\n",
    "\n",
    "lista_convergências_ga_bt = []\n",
    "lista_melhores_parametros_ga_bt = []\n",
    "\n",
    "for d in range(0,10):\n",
    "\n",
    "    target_bitstring =   rng.integers(0, 2, size=20) #np.array([1, 0, 1, 1, 0, 1, 0, 1, 0, 0, 1, 1, 1, 1, 0, 1])  # Exemplo de bitstring alvo  \n",
    "    problem_size = len(target_bitstring)\n",
    "\n",
    "    # Definir a função de fitness para contar bits corretos\n",
    "    def fitness_function(state):\n",
    "        return np.sum(state == target_bitstring)  # Conta quantos bits estão corretos\n",
    "    \n",
    "    # Criar o problema de otimização (bitstring de 16 bits)\n",
    "    fitness = mlrose.CustomFitness(fitness_function)\n",
    "    problem = mlrose.DiscreteOpt(length=len(target_bitstring), fitness_fn=fitness, maximize=True, max_val=2)\n",
    "    \n",
    "    # Definir os parâmetros do Hill Climbing\n",
    "    initial_state = np.random.randint(2, size=problem_size)\n",
    "    \n",
    "    pop_size_values = [100, 200, 500]        # Tamanho da população\n",
    "    mutation_prob_values = [0.05, 0.1, 0.2]  # Probabilidade de mutação\n",
    "    max_iters_values = [500, 1000, 2000]     # Número máximo de iterações\n",
    "    max_attempts_values = [10, 50, 100]      # Número de gerações sem melhora antes de parar\n",
    "    \n",
    "    # Criar combinações de parâmetros\n",
    "    param_grid = list(itertools.product(pop_size_values, mutation_prob_values, max_iters_values, max_attempts_values))\n",
    "    \n",
    "    # Variáveis para armazenar a melhor configuração\n",
    "    best_fitness = -np.inf\n",
    "    best_params = None\n",
    "    results = []\n",
    "    \n",
    "    # Função para rodar uma única configuração\n",
    "    def evaluate_params(params):\n",
    "        pop_size, mutation_prob, max_iters, max_attempts = params\n",
    "        best_state, best_fitness_ga, _ = mlrose.genetic_alg(problem, \n",
    "                                                            pop_size=pop_size, \n",
    "                                                            mutation_prob=mutation_prob, \n",
    "                                                            max_iters=max_iters, \n",
    "                                                            max_attempts=max_attempts, \n",
    "                                                            random_state=42)\n",
    "        return (pop_size, mutation_prob, max_iters, max_attempts, best_fitness_ga)\n",
    "    \n",
    "    # Rodar Grid Search em paralelo\n",
    "    results_parallel = Parallel(n_jobs=-1)(delayed(evaluate_params)(params) for params in param_grid)\n",
    "    \n",
    "    # Encontrar melhor resultado\n",
    "    best_result = max(results_parallel, key=lambda x: x[4])  # Índice 4 é o fitness\n",
    "    best_params = best_result[:4]\n",
    "    best_fitness = best_result[4]\n",
    "    lista_melhores_parametros_ga_bt.append(best_params)\n",
    "    start = time.process_time()\n",
    "    \n",
    "    # Configurar os parâmetros do Algoritmo Genético\n",
    "    population_size = best_params[0]  # Número de indivíduos na população\n",
    "    mutation_prob = best_params[1]    # Probabilidade de mutação\n",
    "    max_attempts = best_params[3]      # Tentativas sem melhoria antes de parar\n",
    "    max_iters = best_params[2]       # Número máximo de iterações\n",
    "    \n",
    "    # Rodar o Algoritmo Genético\n",
    "    best_state, best_fitness, fitness_curve = mlrose.genetic_alg(problem, \n",
    "                                                                 pop_size=population_size, \n",
    "                                                                 mutation_prob=mutation_prob, \n",
    "                                                                 max_attempts=max_attempts, \n",
    "                                                                 max_iters=max_iters, \n",
    "                                                                 curve=True, \n",
    "                                                                 random_state=42)\n",
    "    \n",
    "    end = time.process_time()\n",
    "    tempo = end - start  # will print the time spent on this process in seconds\n",
    "    lista_tempos_ga_bt.append(tempo)\n",
    "    fitness_curve_list = []\n",
    "    fitness_curve_list_2 = []\n",
    "    z = 1\n",
    "    for i in fitness_curve:\n",
    "        fitness_curve_list.append(i[0])\n",
    "        fitness_curve_list_2.append(z)\n",
    "        z = z + 1\n",
    "    a = 1\n",
    "    for i in fitness_curve_list:\n",
    "        if i == 20:\n",
    "            break\n",
    "        else:\n",
    "            a = a + 1\n",
    "    lista_convergências_ga_bt.append(a)\n",
    "    lista_fitness_ga_bt.append(best_fitness)"
   ]
  },
  {
   "cell_type": "code",
   "execution_count": 4,
   "id": "059e587c-6d06-450c-9d8b-09c9265b609d",
   "metadata": {},
   "outputs": [],
   "source": [
    "import pandas as pd\n",
    "import math\n",
    "def teste_T(l1,l2):\n",
    "    m1 = sum(l1)/len(l1)\n",
    "    m2 = sum(l2)/len(l2)\n",
    "    tam_1 = len(l1)\n",
    "    tam_2 = len(l2)\n",
    "    df = pd.DataFrame([l1,l2]).T\n",
    "    df.columns = ['l1','l2']\n",
    "    df['dif'] = df['l1']-df['l2']\n",
    "    m_dif = df['dif'].mean()\n",
    "    dp_dif = df['dif'].std()\n",
    "    s = dp_dif/math.sqrt(tam_1)\n",
    "    t = m_dif/s\n",
    "    g_liberdade = tam_1-1\n",
    "    return t,g_liberdade"
   ]
  },
  {
   "cell_type": "code",
   "execution_count": 5,
   "id": "02e90d6e-cdb9-45e5-9086-03655bed5ca8",
   "metadata": {},
   "outputs": [
    {
     "data": {
      "text/plain": [
       "(1.0000000000000002, 9)"
      ]
     },
     "execution_count": 5,
     "metadata": {},
     "output_type": "execute_result"
    }
   ],
   "source": [
    "teste_T(lista_tempos_sa_bt,lista_tempos_hc_bt)"
   ]
  },
  {
   "cell_type": "code",
   "execution_count": 6,
   "id": "17efa4cb-6d48-4369-b3cb-ab92cf5902b0",
   "metadata": {},
   "outputs": [
    {
     "data": {
      "text/plain": [
       "TtestResult(statistic=1.0, pvalue=0.34343639613791355, df=9)"
      ]
     },
     "execution_count": 6,
     "metadata": {},
     "output_type": "execute_result"
    }
   ],
   "source": [
    "from scipy import stats\n",
    "stats.ttest_rel(lista_tempos_sa_bt,lista_tempos_hc_bt)"
   ]
  },
  {
   "cell_type": "code",
   "execution_count": 7,
   "id": "7f5f79d9-a25d-480c-8b99-676e83bc33df",
   "metadata": {},
   "outputs": [
    {
     "data": {
      "text/plain": [
       "[0.0, 0.0, 0.0, 0.0, 0.0, 0.0, 0.0, 0.0, 0.0, 0.0]"
      ]
     },
     "execution_count": 7,
     "metadata": {},
     "output_type": "execute_result"
    }
   ],
   "source": [
    "lista_tempos_hc_bt"
   ]
  },
  {
   "cell_type": "code",
   "execution_count": 9,
   "id": "c8c7a3bd-2d34-4325-823f-7ad35417fbfe",
   "metadata": {},
   "outputs": [
    {
     "data": {
      "text/plain": [
       "10"
      ]
     },
     "metadata": {},
     "output_type": "display_data"
    },
    {
     "data": {
      "text/plain": [
       "8"
      ]
     },
     "metadata": {},
     "output_type": "display_data"
    },
    {
     "data": {
      "text/plain": [
       "9"
      ]
     },
     "metadata": {},
     "output_type": "display_data"
    },
    {
     "data": {
      "text/plain": [
       "6"
      ]
     },
     "metadata": {},
     "output_type": "display_data"
    },
    {
     "data": {
      "text/plain": [
       "7"
      ]
     },
     "metadata": {},
     "output_type": "display_data"
    },
    {
     "data": {
      "text/plain": [
       "9"
      ]
     },
     "metadata": {},
     "output_type": "display_data"
    },
    {
     "data": {
      "text/plain": [
       "12"
      ]
     },
     "metadata": {},
     "output_type": "display_data"
    },
    {
     "data": {
      "text/plain": [
       "10"
      ]
     },
     "metadata": {},
     "output_type": "display_data"
    },
    {
     "data": {
      "text/plain": [
       "7"
      ]
     },
     "metadata": {},
     "output_type": "display_data"
    },
    {
     "data": {
      "text/plain": [
       "10"
      ]
     },
     "metadata": {},
     "output_type": "display_data"
    }
   ],
   "source": [
    "for i in lista_convergências_ga_bt:\n",
    "    display(i)"
   ]
  },
  {
   "cell_type": "code",
   "execution_count": null,
   "id": "cdd3654a-341d-4573-8d42-37ceca23c322",
   "metadata": {},
   "outputs": [],
   "source": []
  }
 ],
 "metadata": {
  "kernelspec": {
   "display_name": "Python 3 (ipykernel)",
   "language": "python",
   "name": "python3"
  },
  "language_info": {
   "codemirror_mode": {
    "name": "ipython",
    "version": 3
   },
   "file_extension": ".py",
   "mimetype": "text/x-python",
   "name": "python",
   "nbconvert_exporter": "python",
   "pygments_lexer": "ipython3",
   "version": "3.12.1"
  }
 },
 "nbformat": 4,
 "nbformat_minor": 5
}
