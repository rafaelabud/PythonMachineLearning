{
 "cells": [
  {
   "cell_type": "code",
   "execution_count": 1,
   "id": "7c16b2ff-49e2-4274-927c-c93354bcdc1e",
   "metadata": {},
   "outputs": [],
   "source": [
    "import mlrose_hiive as mlrose\n",
    "import numpy as np\n",
    "import time\n",
    "import itertools\n",
    "lista_fitness_hc = []\n",
    "lista_tempos_hc = []\n",
    "lista_convergências_hc = []\n",
    "lista_melhor_parametros_hc = []\n",
    "\n",
    "for d in range(10,110,10):\n",
    "    problem_size = d\n",
    "\n",
    "    # Definir a função de fitness personalizada (OneMax)\n",
    "    def onemax(state):\n",
    "        return sum(state)    \n",
    "    # Definir o problema de otimização (Bit String de tamanho 20)\n",
    "    \n",
    "    fitness = mlrose.CustomFitness(onemax)\n",
    "    problem = mlrose.DiscreteOpt(length=problem_size, fitness_fn=fitness, maximize=True, max_val=2)\n",
    "\n",
    "    max_iters_values = [500, 1000, 2000]   # Número máximo de iterações\n",
    "    restarts_values = [0, 5, 10, 20]       # Número de reinicializações\n",
    "    max_attempts_values = [10, 50, 100]    # Número de tentativas sem melhoria antes de parar\n",
    "    \n",
    "    # Criar combinações de parâmetros\n",
    "    param_grid = list(itertools.product(max_iters_values, restarts_values, max_attempts_values))\n",
    "    \n",
    "    # Variáveis para armazenar a melhor configuração\n",
    "    best_fitness = -np.inf\n",
    "    best_params = None\n",
    "    results = []\n",
    "    \n",
    "    # Rodar Grid Search\n",
    "    for max_iters, restarts, max_attempts in param_grid:\n",
    "        best_state, best_fitness_hc, _ = mlrose.random_hill_climb(problem, \n",
    "                                                                  max_iters=max_iters, \n",
    "                                                                  restarts=restarts, \n",
    "                                                                  max_attempts=max_attempts, \n",
    "                                                                  random_state=42)\n",
    "        \n",
    "        results.append((max_iters, restarts, max_attempts, best_fitness_hc))\n",
    "    \n",
    "        # Atualizar melhor configuração\n",
    "        if best_fitness_hc > best_fitness:\n",
    "            best_fitness = best_fitness_hc\n",
    "            best_params = (max_iters, restarts, max_attempts)    \n",
    "        \n",
    "    lista_melhor_parametros_hc.append(best_params)\n",
    "    start = time.process_time()\n",
    "    \n",
    "\n",
    "    \n",
    "    \n",
    "    # Definir os parâmetros do Hill Climbing\n",
    "    np.random.seed(42)\n",
    "    initial_state = np.random.randint(2, size=problem_size)  # Gera uma solução inicial aleatória\n",
    "    \n",
    "    # Rodar o algoritmo Hill Climbing\n",
    "    best_state, best_fitness, fitness_curve  = mlrose.random_hill_climb(problem, \n",
    "                                                           max_attempts=best_params[2], \n",
    "                                                           max_iters=best_params[0], \n",
    "                                                           restarts=best_params[1],  # Adiciona reinicializações para evitar mínimos locais\n",
    "                                                           init_state=initial_state, curve=True,\n",
    "                                                           random_state=42)\n",
    "    end = time.process_time()\n",
    "    tempo = end - start  # will print the time spent on this process in seconds\n",
    "    lista_tempos_hc.append(tempo)\n",
    "    \n",
    "    fitness_curve_list = []\n",
    "    fitness_curve_list_2 = []\n",
    "    z = 1\n",
    "    for i in fitness_curve:\n",
    "        fitness_curve_list.append(i[0])\n",
    "        fitness_curve_list_2.append(z)\n",
    "        z = z + 1    \n",
    "    \n",
    "        \n",
    "    a = 1\n",
    "    for i in fitness_curve_list:\n",
    "        if i == d:\n",
    "            break\n",
    "        else:\n",
    "            a = a + 1\n",
    "    lista_convergências_hc.append(a)\n",
    "    lista_fitness_hc.append(best_fitness)"
   ]
  },
  {
   "cell_type": "code",
   "execution_count": 2,
   "id": "a31e2ca2-ac5d-411c-ac48-d62618e6ea0c",
   "metadata": {},
   "outputs": [],
   "source": [
    "import mlrose_hiive as mlrose\n",
    "import numpy as np\n",
    "import pandas as pd\n",
    "import time\n",
    "from joblib import Parallel, delayed\n",
    "\n",
    "\n",
    "lista_convergências_ag = []\n",
    "lista_melhores_parametros_ag = []\n",
    "lista_fitness_ag = []\n",
    "lista_tempos_ag = []\n",
    "for d in range(10,110,10):\n",
    "\n",
    "    problem_size = d  # Tamanho da string binária\n",
    "    \n",
    "    # Definir hiperparâmetros para Grid Search\n",
    "    pop_size_values = [10, 50, 70]        # Tamanho da população\n",
    "    mutation_prob_values = [0.05, 0.1, 0.2]  # Probabilidade de mutação\n",
    "    max_iters_values = [500, 1000, 2000]     # Número máximo de iterações\n",
    "    max_attempts_values = [10, 50, 100]      # Número de gerações sem melhora antes de parar\n",
    "    \n",
    "    # Criar combinações de parâmetros\n",
    "    param_grid = list(itertools.product(pop_size_values, mutation_prob_values, max_iters_values, max_attempts_values))\n",
    "    \n",
    "    # Variáveis para armazenar a melhor configuração\n",
    "    best_fitness = -np.inf\n",
    "    best_params = None\n",
    "    results = []\n",
    "    \n",
    "    # Função para rodar uma única configuração\n",
    "    def evaluate_params(params):\n",
    "        pop_size, mutation_prob, max_iters, max_attempts = params\n",
    "        best_state, best_fitness_ga, _ = mlrose.genetic_alg(problem, \n",
    "                                                            pop_size=pop_size, \n",
    "                                                            mutation_prob=mutation_prob, \n",
    "                                                            max_iters=max_iters, \n",
    "                                                            max_attempts=max_attempts, \n",
    "                                                            random_state=42)\n",
    "        return (pop_size, mutation_prob, max_iters, max_attempts, best_fitness_ga)\n",
    "    \n",
    "    # Rodar Grid Search em paralelo\n",
    "    results_parallel = Parallel(n_jobs=-1)(delayed(evaluate_params)(params) for params in param_grid)\n",
    "    \n",
    "    # Encontrar melhor resultado\n",
    "    best_result = max(results_parallel, key=lambda x: x[4])  # Índice 4 é o fitness\n",
    "    best_params = best_result[:4]\n",
    "    lista_melhores_parametros_ag.append(best_params)\n",
    "    best_fitness = best_result[4]\n",
    "   \n",
    "    start = time.process_time()\n",
    "    # Definir a função de fitness (OneMax)\n",
    "    def onemax(state):\n",
    "        return sum(state)\n",
    "    \n",
    "    # Criar o problema de otimização\n",
    "    fitness = mlrose.CustomFitness(onemax)\n",
    "    problem = mlrose.DiscreteOpt(length=problem_size, fitness_fn=fitness, maximize=True, max_val=2)\n",
    "    \n",
    "    # Rodar o Algoritmo Genético\n",
    "    best_state, best_fitness, fitness_curve = mlrose.genetic_alg(problem, \n",
    "                                                                 pop_size=best_params[0], \n",
    "                                                                 mutation_prob=best_params[1], \n",
    "                                                                 max_attempts=best_params[3], \n",
    "                                                                 max_iters=best_params[2], \n",
    "                                                                 curve=True, \n",
    "                                                                 random_state=42)\n",
    "    \n",
    "    \n",
    "    end = time.process_time()\n",
    "    tempo = end - start  # will print the time spent on this process in seconds\n",
    "    lista_tempos_ag.append(tempo)\n",
    "    fitness_curve_list = []\n",
    "    fitness_curve_list_2 = []\n",
    "    z = 1\n",
    "    for i in fitness_curve:\n",
    "        fitness_curve_list.append(i[0])\n",
    "        fitness_curve_list_2.append(z)\n",
    "        z = z + 1\n",
    "    \n",
    "    a = 1\n",
    "    for i in fitness_curve_list:\n",
    "        if i == d:\n",
    "            break\n",
    "        else:\n",
    "            a = a + 1\n",
    "    lista_convergências_ag.append(a)\n",
    "    lista_fitness_ag.append(best_fitness)"
   ]
  },
  {
   "cell_type": "code",
   "execution_count": 3,
   "id": "b5a311f6-fb7a-403d-86b6-d7ce72c592bd",
   "metadata": {},
   "outputs": [],
   "source": [
    "import mlrose_hiive as mlrose\n",
    "import numpy as np\n",
    "lista_convergências_sa = []\n",
    "lista_melhores_parametros_sa = []\n",
    "lista_fitness_sa = []\n",
    "lista_tempos_sa = []\n",
    "for d in range(10,110,10):\n",
    "\n",
    "    # Definir hiperparâmetros para Grid Search\n",
    "    init_temp_values = [1, 10, 50, 100]  # Temperatura inicial\n",
    "    decay_values = [0.90, 0.95, 0.99]    # Taxa de resfriamento\n",
    "    min_temp_values = [0.01, 0.001]      # Temperatura mínima\n",
    "    max_iters_values = [500, 1000, 2000] # Iterações máximas\n",
    "    max_attempts_values = [10, 50, 100]  # Tentativas sem melhoria antes de parar\n",
    "    \n",
    "    # Criar combinações de parâmetros\n",
    "    param_grid = list(itertools.product(init_temp_values, decay_values, min_temp_values, max_iters_values, max_attempts_values))\n",
    "    \n",
    "    # Variáveis para armazenar a melhor configuração\n",
    "    best_fitness = -np.inf\n",
    "    best_params = None\n",
    "    results = []\n",
    "    \n",
    "    # Rodar Grid Search\n",
    "    for init_temp, decay, min_temp, max_iters, max_attempts in param_grid:\n",
    "        schedule = mlrose.GeomDecay(init_temp=init_temp, decay=decay, min_temp=min_temp)\n",
    "        \n",
    "        best_state, best_fitness_sa, _ = mlrose.simulated_annealing(problem, \n",
    "                                                                    schedule=schedule, \n",
    "                                                                    max_iters=max_iters, \n",
    "                                                                    max_attempts=max_attempts, \n",
    "                                                                    random_state=42)\n",
    "        \n",
    "        results.append((init_temp, decay, min_temp, max_iters, max_attempts, best_fitness_sa))\n",
    "    \n",
    "        # Atualizar melhor configuração\n",
    "        if best_fitness_sa > best_fitness:\n",
    "            best_fitness = best_fitness_sa\n",
    "            best_params = (init_temp, decay, min_temp, max_iters, max_attempts)\n",
    "\n",
    "    lista_melhores_parametros_sa.append(best_params)\n",
    "    start = time.process_time()\n",
    "    # Definir a função de fitness (OneMax)\n",
    "    def onemax(state):\n",
    "        return sum(state)\n",
    "    \n",
    "    # Criar o problema de otimização\n",
    "    problem_size = d  # Tamanho da string binária\n",
    "    fitness = mlrose.CustomFitness(onemax)\n",
    "    problem = mlrose.DiscreteOpt(length=problem_size, fitness_fn=fitness, maximize=True, max_val=2)\n",
    "\n",
    "    # Definir os parâmetros do Hill Climbing\n",
    "    np.random.seed(42)\n",
    "    initial_state = np.random.randint(2, size=problem_size)\n",
    "    \n",
    "    # Configurar o resfriamento (Cooling Schedule)\n",
    "    schedule = mlrose.GeomDecay(init_temp=best_params[0], decay=best_params[1], min_temp=best_params[2])\n",
    "    \n",
    "    # Rodar o Simulated Annealing\n",
    "    best_state, best_fitness, fitness_curve = mlrose.simulated_annealing(problem, \n",
    "                                                                         schedule=schedule, \n",
    "                                                                         max_attempts=best_params[4], \n",
    "                                                                         max_iters=best_params[3], \n",
    "                                                                         init_state=initial_state, \n",
    "                                                                         curve=True, \n",
    "                                                                         random_state=42)\n",
    "    end = time.process_time()\n",
    "    tempo = end - start  # will print the time spent on this process in seconds\n",
    "    lista_tempos_sa.append(tempo)\n",
    "    fitness_curve_list = []\n",
    "    fitness_curve_list_2 = []\n",
    "    z = 1\n",
    "    for i in fitness_curve:\n",
    "        fitness_curve_list.append(i[0])\n",
    "        fitness_curve_list_2.append(z)\n",
    "        z = z + 1\n",
    "    a = 1\n",
    "    for i in fitness_curve_list:\n",
    "        if i == d:\n",
    "            break\n",
    "        else:\n",
    "            a = a + 1\n",
    "    lista_convergências_sa.append(a)    \n",
    "    lista_fitness_sa.append(best_fitness)"
   ]
  },
  {
   "cell_type": "code",
   "execution_count": 4,
   "id": "4c5220c2-dec4-48ec-9b14-7afbf4d63dbb",
   "metadata": {},
   "outputs": [],
   "source": [
    "import pandas as pd\n",
    "import math\n",
    "def teste_T(l1,l2):\n",
    "    m1 = sum(l1)/len(l1)\n",
    "    m2 = sum(l2)/len(l2)\n",
    "    tam_1 = len(l1)\n",
    "    tam_2 = len(l2)\n",
    "    df = pd.DataFrame([l1,l2]).T\n",
    "    df.columns = ['l1','l2']\n",
    "    df['dif'] = df['l1']-df['l2']\n",
    "    m_dif = df['dif'].mean()\n",
    "    dp_dif = df['dif'].std()\n",
    "    s = dp_dif/math.sqrt(tam_1)\n",
    "    t = m_dif/s\n",
    "    g_liberdade = tam_1-1\n",
    "    return t,g_liberdade"
   ]
  },
  {
   "cell_type": "code",
   "execution_count": 5,
   "id": "eafb3475-cfa3-4fe6-85e9-f363d5c8be59",
   "metadata": {},
   "outputs": [
    {
     "data": {
      "text/plain": [
       "(0.6882472016116854, 9)"
      ]
     },
     "execution_count": 5,
     "metadata": {},
     "output_type": "execute_result"
    }
   ],
   "source": [
    "teste_T(lista_tempos_hc, lista_tempos_sa)"
   ]
  },
  {
   "cell_type": "code",
   "execution_count": 6,
   "id": "43d33002-7b6c-4aac-86aa-c0694bccf74c",
   "metadata": {},
   "outputs": [
    {
     "data": {
      "text/plain": [
       "[0.03125,\n",
       " 0.015625,\n",
       " 0.078125,\n",
       " 0.0625,\n",
       " 0.15625,\n",
       " 0.09375,\n",
       " 0.390625,\n",
       " 0.1875,\n",
       " 0.09375,\n",
       " 0.3125]"
      ]
     },
     "execution_count": 6,
     "metadata": {},
     "output_type": "execute_result"
    }
   ],
   "source": [
    "lista_convergências_ag\n",
    "lista_melhores_parametros_ag\n",
    "lista_fitness_ag\n",
    "lista_tempos_ag"
   ]
  },
  {
   "cell_type": "code",
   "execution_count": 7,
   "id": "edac30a6-31da-4219-9d9c-c05180053671",
   "metadata": {},
   "outputs": [
    {
     "data": {
      "text/plain": [
       "[10.0, 17.0, 29.0, 40.0, 50.0, 59.0, 70.0, 78.0, 88.0, 97.0]"
      ]
     },
     "execution_count": 7,
     "metadata": {},
     "output_type": "execute_result"
    }
   ],
   "source": [
    "lista_fitness_ag"
   ]
  },
  {
   "cell_type": "code",
   "execution_count": 19,
   "id": "dd38a874-5ed0-46c9-8cc3-c208fdcd56b7",
   "metadata": {},
   "outputs": [
    {
     "data": {
      "text/plain": [
       "25"
      ]
     },
     "metadata": {},
     "output_type": "display_data"
    },
    {
     "data": {
      "text/plain": [
       "69"
      ]
     },
     "metadata": {},
     "output_type": "display_data"
    },
    {
     "data": {
      "text/plain": [
       "116"
      ]
     },
     "metadata": {},
     "output_type": "display_data"
    },
    {
     "data": {
      "text/plain": [
       "125"
      ]
     },
     "metadata": {},
     "output_type": "display_data"
    },
    {
     "data": {
      "text/plain": [
       "152"
      ]
     },
     "metadata": {},
     "output_type": "display_data"
    },
    {
     "data": {
      "text/plain": [
       "184"
      ]
     },
     "metadata": {},
     "output_type": "display_data"
    },
    {
     "data": {
      "text/plain": [
       "196"
      ]
     },
     "metadata": {},
     "output_type": "display_data"
    },
    {
     "data": {
      "text/plain": [
       "186"
      ]
     },
     "metadata": {},
     "output_type": "display_data"
    },
    {
     "data": {
      "text/plain": [
       "337"
      ]
     },
     "metadata": {},
     "output_type": "display_data"
    },
    {
     "data": {
      "text/plain": [
       "282"
      ]
     },
     "metadata": {},
     "output_type": "display_data"
    }
   ],
   "source": [
    "for i in lista_convergências_hc:\n",
    "    display(i)"
   ]
  },
  {
   "cell_type": "code",
   "execution_count": 11,
   "id": "e7b7bbb6-4f55-4e55-8170-ea77ff926d42",
   "metadata": {},
   "outputs": [
    {
     "data": {
      "text/plain": [
       "472"
      ]
     },
     "execution_count": 11,
     "metadata": {},
     "output_type": "execute_result"
    }
   ],
   "source": [
    "len(fitness_curve_list)"
   ]
  },
  {
   "cell_type": "code",
   "execution_count": 13,
   "id": "0efbd5a6-84fe-44b9-8e3c-a182923d2bdd",
   "metadata": {},
   "outputs": [
    {
     "data": {
      "text/plain": [
       "472"
      ]
     },
     "execution_count": 13,
     "metadata": {},
     "output_type": "execute_result"
    }
   ],
   "source": [
    "len(fitness_curve)"
   ]
  },
  {
   "cell_type": "code",
   "execution_count": 14,
   "id": "4028cdde-591e-4240-b78d-c1b064d439f0",
   "metadata": {},
   "outputs": [
    {
     "data": {
      "text/plain": [
       "(1, 0.95, 0.01, 500, 100)"
      ]
     },
     "execution_count": 14,
     "metadata": {},
     "output_type": "execute_result"
    }
   ],
   "source": [
    "best_params"
   ]
  },
  {
   "cell_type": "code",
   "execution_count": null,
   "id": "9905a681-c498-4e99-a2d4-690df84a069f",
   "metadata": {},
   "outputs": [],
   "source": []
  }
 ],
 "metadata": {
  "kernelspec": {
   "display_name": "Python 3 (ipykernel)",
   "language": "python",
   "name": "python3"
  },
  "language_info": {
   "codemirror_mode": {
    "name": "ipython",
    "version": 3
   },
   "file_extension": ".py",
   "mimetype": "text/x-python",
   "name": "python",
   "nbconvert_exporter": "python",
   "pygments_lexer": "ipython3",
   "version": "3.12.1"
  }
 },
 "nbformat": 4,
 "nbformat_minor": 5
}
