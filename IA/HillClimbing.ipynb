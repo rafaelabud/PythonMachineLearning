{
 "cells": [
  {
   "cell_type": "code",
   "execution_count": 7,
   "metadata": {},
   "outputs": [],
   "source": [
    "#COmo usar o Hill climbing para resolver o problema OneMax.\n",
    "\n",
    "import mlrose_hiive as mlrose\n",
    "import numpy as np\n",
    "import time\n",
    "import itertools\n",
    "\n",
    "lista_fitness_hc = []\n",
    "lista_tempos_hc = []\n",
    "lista_convergências_hc = []\n",
    "lista_melhor_parametros_hc = []\n",
    "\n",
    "problem_size = 20\n",
    "\n",
    "# Definir a função de fitness personalizada (OneMax)\n",
    "def onemax(state):\n",
    "    return sum(state)    \n",
    "\n",
    "fitness = mlrose.CustomFitness(onemax)\n",
    "problem = mlrose.DiscreteOpt(length=problem_size, fitness_fn=fitness, maximize=True, max_val=2)\n",
    "\n",
    "max_iters_values = [500, 1000, 2000]   # Número máximo de iterações\n",
    "restarts_values = [0, 5, 10, 20]       # Número de reinicializações\n",
    "max_attempts_values = [10, 50, 100]    # Número de tentativas sem melhoria antes de parar\n",
    "\n",
    "# Criar combinações de parâmetros\n",
    "param_grid = list(itertools.product(max_iters_values, restarts_values, max_attempts_values))\n",
    "\n",
    "np.random.seed(42)\n",
    "initial_state = np.random.randint(2, size=problem_size)  # Gera uma solução inicial aleatória\n",
    "\n",
    "# Rodar o algoritmo Hill Climbing\n",
    "best_state, best_fitness, fitness_curve  = mlrose.random_hill_climb(problem, \n",
    "                                                       max_attempts=50, \n",
    "                                                       max_iters=100, \n",
    "                                                       restarts=5,  # Adiciona reinicializações para evitar mínimos locais\n",
    "                                                       init_state=initial_state, curve=True,\n",
    "                                                       random_state=42)\n",
    "\n",
    "\n",
    "#Verifica a iteração em que o algoritmo atingiu o fitness máximo. \n",
    "fitness_curve_list = []\n",
    "z = 1\n",
    "for i in fitness_curve:\n",
    "    fitness_curve_list.append(i[0])\n",
    "    \n",
    "a = 1\n",
    "for i in fitness_curve_list:\n",
    "    if i == problem_size:\n",
    "        break\n",
    "    else:\n",
    "        a = a + 1"
   ]
  }
 ],
 "metadata": {
  "kernelspec": {
   "display_name": "Python 3 (ipykernel)",
   "language": "python",
   "name": "python3"
  },
  "language_info": {
   "codemirror_mode": {
    "name": "ipython",
    "version": 3
   },
   "file_extension": ".py",
   "mimetype": "text/x-python",
   "name": "python",
   "nbconvert_exporter": "python",
   "pygments_lexer": "ipython3",
   "version": "3.12.1"
  }
 },
 "nbformat": 4,
 "nbformat_minor": 4
}
