{
 "cells": [
  {
   "cell_type": "code",
   "execution_count": null,
   "id": "27fd49da-a9a5-49b9-a4a9-7418581298a4",
   "metadata": {},
   "outputs": [],
   "source": [
    "import mlrose_hiive as mlrose\n",
    "import numpy as np\n",
    "lista_convergências_sa = []\n",
    "lista_melhores_parametros_sa = []\n",
    "lista_fitness_sa = []\n",
    "lista_tempos_sa = []\n",
    "    # Definir a função de fitness (OneMax)\n",
    "def onemax(state):\n",
    "    return sum(state)\n",
    "\n",
    "# Criar o problema de otimização\n",
    "problem_size = 20  # Tamanho da string binária\n",
    "fitness = mlrose.CustomFitness(onemax)\n",
    "problem = mlrose.DiscreteOpt(length=problem_size, fitness_fn=fitness, maximize=True, max_val=2)\n",
    "\n",
    "np.random.seed(42)\n",
    "initial_state = np.random.randint(2, size=problem_size)\n",
    "\n",
    "# Configurar o resfriamento (Cooling Schedule)\n",
    "schedule = mlrose.GeomDecay(init_temp=10, decay=0.95, min_temp=0.01)\n",
    "\n",
    "# Rodar o Simulated Annealing\n",
    "best_state, best_fitness, fitness_curve = mlrose.simulated_annealing(problem, \n",
    "                                                                     schedule=schedule, \n",
    "                                                                     max_attempts=50, \n",
    "                                                                     max_iters=500, \n",
    "                                                                     init_state=initial_state, \n",
    "                                                                     curve=True, \n",
    "                                                                     random_state=42)\n",
    "\n",
    "#Verifica a iteração em que o algoritmo atingiu o fitness máximo. \n",
    "fitness_curve_list = []\n",
    "z = 1\n",
    "for i in fitness_curve:\n",
    "    fitness_curve_list.append(i[0])\n",
    "    fitness_curve_list_2.append(z)\n",
    "    z = z + 1\n",
    "a = 1\n",
    "for i in fitness_curve_list:\n",
    "    if i == d:\n",
    "        break\n",
    "    else:\n",
    "        a = a + 1"
   ]
  }
 ],
 "metadata": {
  "kernelspec": {
   "display_name": "Python 3 (ipykernel)",
   "language": "python",
   "name": "python3"
  },
  "language_info": {
   "codemirror_mode": {
    "name": "ipython",
    "version": 3
   },
   "file_extension": ".py",
   "mimetype": "text/x-python",
   "name": "python",
   "nbconvert_exporter": "python",
   "pygments_lexer": "ipython3",
   "version": "3.12.1"
  }
 },
 "nbformat": 4,
 "nbformat_minor": 5
}
