{
 "cells": [
  {
   "cell_type": "markdown",
   "metadata": {},
   "source": [
    "<h4> Análise de Dados com Python <br> <b> Aula 4 <b> </h4> "
   ]
  },
  {
   "cell_type": "markdown",
   "metadata": {},
   "source": [
    "<b><h5> Introdução ao Pandas II </h5></b>"
   ]
  },
  {
   "cell_type": "code",
   "execution_count": 1,
   "metadata": {},
   "outputs": [],
   "source": [
    "import numpy as np\n",
    "import pandas as pd"
   ]
  },
  {
   "cell_type": "code",
   "execution_count": 2,
   "metadata": {},
   "outputs": [],
   "source": [
    "#Aula passada.\n",
    "df = pd.read_excel(\"bank-full_dup.xlsx\", sheet_name = \"Dados\")"
   ]
  },
  {
   "cell_type": "code",
   "execution_count": 3,
   "metadata": {},
   "outputs": [],
   "source": [
    "#Modificando todos os nomes das colunas. (Aula passada)\n",
    "df.columns = [\"idade\", \"emprego\", \"estado civil\", \"educacao\", \"default\",\"balance\",\"housing\", \"emprestimo\", \n",
    "              \"contato\", \"dia\", \"mes\", \"duracao\", \"campanha\", \"pdays\", \"previous\", \"poutcame\"]"
   ]
  },
  {
   "cell_type": "code",
   "execution_count": 7,
   "metadata": {},
   "outputs": [
    {
     "data": {
      "text/html": [
       "<div>\n",
       "<style scoped>\n",
       "    .dataframe tbody tr th:only-of-type {\n",
       "        vertical-align: middle;\n",
       "    }\n",
       "\n",
       "    .dataframe tbody tr th {\n",
       "        vertical-align: top;\n",
       "    }\n",
       "\n",
       "    .dataframe thead th {\n",
       "        text-align: right;\n",
       "    }\n",
       "</style>\n",
       "<table border=\"1\" class=\"dataframe\">\n",
       "  <thead>\n",
       "    <tr style=\"text-align: right;\">\n",
       "      <th></th>\n",
       "      <th>idade</th>\n",
       "      <th>emprego</th>\n",
       "      <th>estado civil</th>\n",
       "      <th>educacao</th>\n",
       "      <th>default</th>\n",
       "      <th>balance</th>\n",
       "      <th>housing</th>\n",
       "      <th>emprestimo</th>\n",
       "      <th>contato</th>\n",
       "      <th>dia</th>\n",
       "      <th>mes</th>\n",
       "      <th>duracao</th>\n",
       "      <th>campanha</th>\n",
       "      <th>pdays</th>\n",
       "      <th>previous</th>\n",
       "      <th>poutcame</th>\n",
       "    </tr>\n",
       "  </thead>\n",
       "  <tbody>\n",
       "    <tr>\n",
       "      <th>45220</th>\n",
       "      <td>47</td>\n",
       "      <td>management</td>\n",
       "      <td>single</td>\n",
       "      <td>tertiary</td>\n",
       "      <td>no</td>\n",
       "      <td>311</td>\n",
       "      <td>yes</td>\n",
       "      <td>yes</td>\n",
       "      <td>cellular</td>\n",
       "      <td>9</td>\n",
       "      <td>nov</td>\n",
       "      <td>255.0</td>\n",
       "      <td>3</td>\n",
       "      <td>378</td>\n",
       "      <td>2</td>\n",
       "      <td>failure</td>\n",
       "    </tr>\n",
       "  </tbody>\n",
       "</table>\n",
       "</div>"
      ],
      "text/plain": [
       "       idade     emprego estado civil  educacao default  balance housing  \\\n",
       "45220     47  management       single  tertiary      no      311     yes   \n",
       "\n",
       "      emprestimo   contato  dia  mes  duracao  campanha  pdays  previous  \\\n",
       "45220        yes  cellular    9  nov    255.0         3    378         2   \n",
       "\n",
       "      poutcame  \n",
       "45220  failure  "
      ]
     },
     "execution_count": 7,
     "metadata": {},
     "output_type": "execute_result"
    }
   ],
   "source": [
    "df.tail(1)"
   ]
  },
  {
   "cell_type": "code",
   "execution_count": 24,
   "metadata": {},
   "outputs": [
    {
     "data": {
      "text/plain": [
       "secondary    0.513169\n",
       "tertiary     0.294222\n",
       "primary      0.151500\n",
       "unknown      0.041109\n",
       "Name: educacao, dtype: float64"
      ]
     },
     "execution_count": 24,
     "metadata": {},
     "output_type": "execute_result"
    }
   ],
   "source": [
    "#Verificando frequência dos dados\n",
    "((df.educacao.value_counts()/df.educacao.value_counts().sum()))"
   ]
  },
  {
   "cell_type": "code",
   "execution_count": 26,
   "metadata": {},
   "outputs": [
    {
     "data": {
      "text/plain": [
       "married     0.601977\n",
       "single      0.282877\n",
       "divorced    0.115146\n",
       "Name: estado civil, dtype: float64"
      ]
     },
     "execution_count": 26,
     "metadata": {},
     "output_type": "execute_result"
    }
   ],
   "source": [
    "#ou\n",
    "df[\"estado civil\"].value_counts()/df[\"estado civil\"].value_counts().sum()"
   ]
  },
  {
   "cell_type": "code",
   "execution_count": 29,
   "metadata": {},
   "outputs": [
    {
     "data": {
      "text/plain": [
       "1362.2178854956767"
      ]
     },
     "execution_count": 29,
     "metadata": {},
     "output_type": "execute_result"
    }
   ],
   "source": [
    "#Obtendo a média dos dados\n",
    "df.balance.mean()"
   ]
  },
  {
   "cell_type": "code",
   "execution_count": 32,
   "metadata": {},
   "outputs": [
    {
     "data": {
      "text/plain": [
       "258.1900685689007"
      ]
     },
     "execution_count": 32,
     "metadata": {},
     "output_type": "execute_result"
    }
   ],
   "source": [
    "df.duracao.mean()"
   ]
  },
  {
   "cell_type": "code",
   "execution_count": 40,
   "metadata": {},
   "outputs": [
    {
     "data": {
      "text/plain": [
       "balance    1362.217885\n",
       "duracao     258.190069\n",
       "dtype: float64"
      ]
     },
     "execution_count": 40,
     "metadata": {},
     "output_type": "execute_result"
    }
   ],
   "source": [
    "#Obtendo a média dos dados com uma lista de variáveis\n",
    "df[[\"balance\", \"duracao\"]].mean()"
   ]
  },
  {
   "cell_type": "code",
   "execution_count": 43,
   "metadata": {},
   "outputs": [
    {
     "data": {
      "text/plain": [
       "1362.2178854956767"
      ]
     },
     "execution_count": 43,
     "metadata": {},
     "output_type": "execute_result"
    }
   ],
   "source": [
    "#Obtendo a soma dos valores dos dados\n",
    "df.balance.sum()"
   ]
  },
  {
   "cell_type": "code",
   "execution_count": 57,
   "metadata": {},
   "outputs": [
    {
     "data": {
      "text/plain": [
       "258.190069"
      ]
     },
     "execution_count": 57,
     "metadata": {},
     "output_type": "execute_result"
    }
   ],
   "source": [
    "round((df.duracao.sum()/(df.shape[0]-df.duracao.isnull().sum())),6)"
   ]
  },
  {
   "cell_type": "code",
   "execution_count": 117,
   "metadata": {},
   "outputs": [
    {
     "data": {
      "text/plain": [
       "40.214391543751795"
      ]
     },
     "metadata": {},
     "output_type": "display_data"
    },
    {
     "data": {
      "text/plain": [
       "258.1900685689007"
      ]
     },
     "metadata": {},
     "output_type": "display_data"
    },
    {
     "data": {
      "text/plain": [
       "1362.2178854956767"
      ]
     },
     "metadata": {},
     "output_type": "display_data"
    },
    {
     "data": {
      "text/plain": [
       "Index(['pdays', 'duracao', 'balance'], dtype='object')"
      ]
     },
     "execution_count": 117,
     "metadata": {},
     "output_type": "execute_result"
    }
   ],
   "source": [
    "#Obtendo a soma dos dados com uma lista de variáveis\n",
    "series_medias = df[[\"pdays\",\"duracao\",\"balance\"]].sum()\n",
    "for i in series_medias.index:\n",
    "    display(series_medias[i]/(df.shape[0]-df[i].isnull().sum()))\n",
    "#df_medias['pdays']/(df.shape[0]-df.pdays.isnull().sum())\n",
    "#Exercício extra\n",
    "#display(df['pdays'].mean())\n",
    "#display(df['duracao'].mean())\n",
    "#display(df['balance'].mean())"
   ]
  },
  {
   "cell_type": "code",
   "execution_count": 63,
   "metadata": {},
   "outputs": [
    {
     "data": {
      "text/plain": [
       "3"
      ]
     },
     "metadata": {},
     "output_type": "display_data"
    },
    {
     "data": {
      "text/plain": [
       "3"
      ]
     },
     "metadata": {},
     "output_type": "display_data"
    }
   ],
   "source": [
    "#Verificação dos valores únicos do dataframe\n",
    "#df.emprego.unique()\n",
    "display(len(df['estado civil'].unique()))\n",
    "display(df['estado civil'].nunique())"
   ]
  },
  {
   "cell_type": "code",
   "execution_count": 24,
   "metadata": {},
   "outputs": [
    {
     "data": {
      "text/plain": [
       "12"
      ]
     },
     "execution_count": 24,
     "metadata": {},
     "output_type": "execute_result"
    }
   ],
   "source": [
    "#Verificação dos valores únicos do dataframe (quantidade)\n",
    "df.emprego.nunique()"
   ]
  },
  {
   "cell_type": "code",
   "execution_count": 81,
   "metadata": {},
   "outputs": [
    {
     "data": {
      "text/plain": [
       "10"
      ]
     },
     "execution_count": 81,
     "metadata": {},
     "output_type": "execute_result"
    }
   ],
   "source": [
    "#Verificação da quantidade de dados duplicados\n",
    "df.duplicated().sum()"
   ]
  },
  {
   "cell_type": "code",
   "execution_count": 80,
   "metadata": {},
   "outputs": [
    {
     "data": {
      "text/html": [
       "<div>\n",
       "<style scoped>\n",
       "    .dataframe tbody tr th:only-of-type {\n",
       "        vertical-align: middle;\n",
       "    }\n",
       "\n",
       "    .dataframe tbody tr th {\n",
       "        vertical-align: top;\n",
       "    }\n",
       "\n",
       "    .dataframe thead th {\n",
       "        text-align: right;\n",
       "    }\n",
       "</style>\n",
       "<table border=\"1\" class=\"dataframe\">\n",
       "  <thead>\n",
       "    <tr style=\"text-align: right;\">\n",
       "      <th></th>\n",
       "      <th>idade</th>\n",
       "      <th>emprego</th>\n",
       "      <th>estado civil</th>\n",
       "      <th>educacao</th>\n",
       "      <th>default</th>\n",
       "      <th>balance</th>\n",
       "      <th>housing</th>\n",
       "      <th>emprestimo</th>\n",
       "      <th>contato</th>\n",
       "      <th>dia</th>\n",
       "      <th>mes</th>\n",
       "      <th>duracao</th>\n",
       "      <th>campanha</th>\n",
       "      <th>pdays</th>\n",
       "      <th>previous</th>\n",
       "      <th>poutcame</th>\n",
       "    </tr>\n",
       "  </thead>\n",
       "  <tbody>\n",
       "    <tr>\n",
       "      <th>1</th>\n",
       "      <td>44</td>\n",
       "      <td>technician</td>\n",
       "      <td>single</td>\n",
       "      <td>secondary</td>\n",
       "      <td>no</td>\n",
       "      <td>29</td>\n",
       "      <td>yes</td>\n",
       "      <td>no</td>\n",
       "      <td>NaN</td>\n",
       "      <td>5</td>\n",
       "      <td>may</td>\n",
       "      <td>151.0</td>\n",
       "      <td>1</td>\n",
       "      <td>-1</td>\n",
       "      <td>0</td>\n",
       "      <td>unknown</td>\n",
       "    </tr>\n",
       "    <tr>\n",
       "      <th>45211</th>\n",
       "      <td>44</td>\n",
       "      <td>technician</td>\n",
       "      <td>single</td>\n",
       "      <td>secondary</td>\n",
       "      <td>no</td>\n",
       "      <td>29</td>\n",
       "      <td>yes</td>\n",
       "      <td>no</td>\n",
       "      <td>NaN</td>\n",
       "      <td>5</td>\n",
       "      <td>may</td>\n",
       "      <td>151.0</td>\n",
       "      <td>1</td>\n",
       "      <td>-1</td>\n",
       "      <td>0</td>\n",
       "      <td>unknown</td>\n",
       "    </tr>\n",
       "  </tbody>\n",
       "</table>\n",
       "</div>"
      ],
      "text/plain": [
       "       idade     emprego estado civil   educacao default  balance housing  \\\n",
       "1         44  technician       single  secondary      no       29     yes   \n",
       "45211     44  technician       single  secondary      no       29     yes   \n",
       "\n",
       "      emprestimo contato  dia  mes  duracao  campanha  pdays  previous  \\\n",
       "1             no     NaN    5  may    151.0         1     -1         0   \n",
       "45211         no     NaN    5  may    151.0         1     -1         0   \n",
       "\n",
       "      poutcame  \n",
       "1      unknown  \n",
       "45211  unknown  "
      ]
     },
     "execution_count": 80,
     "metadata": {},
     "output_type": "execute_result"
    }
   ],
   "source": [
    "#Verificando quais são os dados duplicados com o loc\n",
    "#display(df.loc[df.duplicated()])\n",
    "#display(df.loc[~df.duplicated()].shape[0])"
   ]
  },
  {
   "cell_type": "code",
   "execution_count": 82,
   "metadata": {},
   "outputs": [],
   "source": [
    "#Deletando as linhas duplicadas e armazenando os dados em um novo dataframe sem duplicidades\n",
    "df2 = df.drop_duplicates()#subset para apagar duplicados em apenas algum(ns) campo(s)"
   ]
  },
  {
   "cell_type": "code",
   "execution_count": 83,
   "metadata": {},
   "outputs": [
    {
     "data": {
      "text/plain": [
       "0"
      ]
     },
     "execution_count": 83,
     "metadata": {},
     "output_type": "execute_result"
    }
   ],
   "source": [
    "#Verificando que não há duplicidades\n",
    "df2.duplicated().sum()"
   ]
  },
  {
   "cell_type": "code",
   "execution_count": 29,
   "metadata": {},
   "outputs": [
    {
     "data": {
      "text/plain": [
       "idade            0\n",
       "emprego          0\n",
       "estado civil     0\n",
       "educacao         0\n",
       "default          0\n",
       "balance          0\n",
       "housing          0\n",
       "emprestimo       0\n",
       "contato         76\n",
       "dia              0\n",
       "mes              0\n",
       "duracao         11\n",
       "campanha         0\n",
       "pdays            0\n",
       "previous         0\n",
       "poutcame         0\n",
       "dtype: int64"
      ]
     },
     "execution_count": 29,
     "metadata": {},
     "output_type": "execute_result"
    }
   ],
   "source": [
    "#Verificando dados faltantes\n",
    "df.isna().sum()"
   ]
  },
  {
   "cell_type": "code",
   "execution_count": 30,
   "metadata": {},
   "outputs": [
    {
     "data": {
      "text/plain": [
       "idade            0\n",
       "emprego          0\n",
       "estado civil     0\n",
       "educacao         0\n",
       "default          0\n",
       "balance          0\n",
       "housing          0\n",
       "emprestimo       0\n",
       "contato         76\n",
       "dia              0\n",
       "mes              0\n",
       "duracao         11\n",
       "campanha         0\n",
       "pdays            0\n",
       "previous         0\n",
       "poutcame         0\n",
       "dtype: int64"
      ]
     },
     "execution_count": 30,
     "metadata": {},
     "output_type": "execute_result"
    }
   ],
   "source": [
    "#ou\n",
    "df.isnull().sum()"
   ]
  },
  {
   "cell_type": "code",
   "execution_count": 88,
   "metadata": {},
   "outputs": [],
   "source": [
    "#Criando um novo dataframe sem dados faltantes ou nulos com o dropna\n",
    "df3 = df.dropna()"
   ]
  },
  {
   "cell_type": "code",
   "execution_count": 89,
   "metadata": {},
   "outputs": [
    {
     "data": {
      "text/plain": [
       "idade           0\n",
       "emprego         0\n",
       "estado civil    0\n",
       "educacao        0\n",
       "default         0\n",
       "balance         0\n",
       "housing         0\n",
       "emprestimo      0\n",
       "contato         0\n",
       "dia             0\n",
       "mes             0\n",
       "duracao         0\n",
       "campanha        0\n",
       "pdays           0\n",
       "previous        0\n",
       "poutcame        0\n",
       "dtype: int64"
      ]
     },
     "execution_count": 89,
     "metadata": {},
     "output_type": "execute_result"
    }
   ],
   "source": [
    "#Verificando que não há dados faltantes/nulos\n",
    "df3.isna().sum()"
   ]
  },
  {
   "cell_type": "code",
   "execution_count": 100,
   "metadata": {},
   "outputs": [
    {
     "data": {
      "text/html": [
       "<div>\n",
       "<style scoped>\n",
       "    .dataframe tbody tr th:only-of-type {\n",
       "        vertical-align: middle;\n",
       "    }\n",
       "\n",
       "    .dataframe tbody tr th {\n",
       "        vertical-align: top;\n",
       "    }\n",
       "\n",
       "    .dataframe thead th {\n",
       "        text-align: right;\n",
       "    }\n",
       "</style>\n",
       "<table border=\"1\" class=\"dataframe\">\n",
       "  <thead>\n",
       "    <tr style=\"text-align: right;\">\n",
       "      <th></th>\n",
       "      <th>idade</th>\n",
       "      <th>emprego</th>\n",
       "      <th>estado civil</th>\n",
       "      <th>educacao</th>\n",
       "      <th>default</th>\n",
       "      <th>balance</th>\n",
       "      <th>housing</th>\n",
       "      <th>emprestimo</th>\n",
       "      <th>contato</th>\n",
       "      <th>dia</th>\n",
       "      <th>mes</th>\n",
       "      <th>duracao</th>\n",
       "      <th>campanha</th>\n",
       "      <th>pdays</th>\n",
       "      <th>previous</th>\n",
       "      <th>poutcame</th>\n",
       "    </tr>\n",
       "  </thead>\n",
       "  <tbody>\n",
       "    <tr>\n",
       "      <th>0</th>\n",
       "      <td>58</td>\n",
       "      <td>management</td>\n",
       "      <td>married</td>\n",
       "      <td>tertiary</td>\n",
       "      <td>no</td>\n",
       "      <td>2143</td>\n",
       "      <td>yes</td>\n",
       "      <td>no</td>\n",
       "      <td>desconhecido</td>\n",
       "      <td>5</td>\n",
       "      <td>may</td>\n",
       "      <td>261</td>\n",
       "      <td>1</td>\n",
       "      <td>-1</td>\n",
       "      <td>0</td>\n",
       "      <td>unknown</td>\n",
       "    </tr>\n",
       "    <tr>\n",
       "      <th>1</th>\n",
       "      <td>44</td>\n",
       "      <td>technician</td>\n",
       "      <td>single</td>\n",
       "      <td>secondary</td>\n",
       "      <td>no</td>\n",
       "      <td>29</td>\n",
       "      <td>yes</td>\n",
       "      <td>no</td>\n",
       "      <td>desconhecido</td>\n",
       "      <td>5</td>\n",
       "      <td>may</td>\n",
       "      <td>151</td>\n",
       "      <td>1</td>\n",
       "      <td>-1</td>\n",
       "      <td>0</td>\n",
       "      <td>unknown</td>\n",
       "    </tr>\n",
       "    <tr>\n",
       "      <th>2</th>\n",
       "      <td>33</td>\n",
       "      <td>entrepreneur</td>\n",
       "      <td>married</td>\n",
       "      <td>secondary</td>\n",
       "      <td>no</td>\n",
       "      <td>2</td>\n",
       "      <td>yes</td>\n",
       "      <td>yes</td>\n",
       "      <td>desconhecido</td>\n",
       "      <td>5</td>\n",
       "      <td>may</td>\n",
       "      <td>76</td>\n",
       "      <td>1</td>\n",
       "      <td>-1</td>\n",
       "      <td>0</td>\n",
       "      <td>unknown</td>\n",
       "    </tr>\n",
       "    <tr>\n",
       "      <th>3</th>\n",
       "      <td>47</td>\n",
       "      <td>blue-collar</td>\n",
       "      <td>married</td>\n",
       "      <td>unknown</td>\n",
       "      <td>no</td>\n",
       "      <td>1506</td>\n",
       "      <td>yes</td>\n",
       "      <td>no</td>\n",
       "      <td>desconhecido</td>\n",
       "      <td>5</td>\n",
       "      <td>may</td>\n",
       "      <td>92</td>\n",
       "      <td>1</td>\n",
       "      <td>-1</td>\n",
       "      <td>0</td>\n",
       "      <td>unknown</td>\n",
       "    </tr>\n",
       "    <tr>\n",
       "      <th>4</th>\n",
       "      <td>33</td>\n",
       "      <td>unknown</td>\n",
       "      <td>single</td>\n",
       "      <td>unknown</td>\n",
       "      <td>no</td>\n",
       "      <td>1</td>\n",
       "      <td>no</td>\n",
       "      <td>no</td>\n",
       "      <td>desconhecido</td>\n",
       "      <td>5</td>\n",
       "      <td>may</td>\n",
       "      <td>198</td>\n",
       "      <td>1</td>\n",
       "      <td>-1</td>\n",
       "      <td>0</td>\n",
       "      <td>unknown</td>\n",
       "    </tr>\n",
       "  </tbody>\n",
       "</table>\n",
       "</div>"
      ],
      "text/plain": [
       "   idade       emprego estado civil   educacao default  balance housing  \\\n",
       "0     58    management      married   tertiary      no     2143     yes   \n",
       "1     44    technician       single  secondary      no       29     yes   \n",
       "2     33  entrepreneur      married  secondary      no        2     yes   \n",
       "3     47   blue-collar      married    unknown      no     1506     yes   \n",
       "4     33       unknown       single    unknown      no        1      no   \n",
       "\n",
       "  emprestimo       contato  dia  mes duracao  campanha  pdays  previous  \\\n",
       "0         no  desconhecido    5  may     261         1     -1         0   \n",
       "1         no  desconhecido    5  may     151         1     -1         0   \n",
       "2        yes  desconhecido    5  may      76         1     -1         0   \n",
       "3         no  desconhecido    5  may      92         1     -1         0   \n",
       "4         no  desconhecido    5  may     198         1     -1         0   \n",
       "\n",
       "  poutcame  \n",
       "0  unknown  \n",
       "1  unknown  \n",
       "2  unknown  \n",
       "3  unknown  \n",
       "4  unknown  "
      ]
     },
     "execution_count": 100,
     "metadata": {},
     "output_type": "execute_result"
    }
   ],
   "source": [
    "#Substituindo os dados faltantes por um novo valor\n",
    "df4 = df.fillna(\"desconhecido\")\n",
    "df4.head()"
   ]
  },
  {
   "cell_type": "code",
   "execution_count": 95,
   "metadata": {},
   "outputs": [
    {
     "data": {
      "text/html": [
       "<div>\n",
       "<style scoped>\n",
       "    .dataframe tbody tr th:only-of-type {\n",
       "        vertical-align: middle;\n",
       "    }\n",
       "\n",
       "    .dataframe tbody tr th {\n",
       "        vertical-align: top;\n",
       "    }\n",
       "\n",
       "    .dataframe thead th {\n",
       "        text-align: right;\n",
       "    }\n",
       "</style>\n",
       "<table border=\"1\" class=\"dataframe\">\n",
       "  <thead>\n",
       "    <tr style=\"text-align: right;\">\n",
       "      <th></th>\n",
       "      <th>idade</th>\n",
       "      <th>emprego</th>\n",
       "      <th>estado civil</th>\n",
       "      <th>educacao</th>\n",
       "      <th>default</th>\n",
       "      <th>balance</th>\n",
       "      <th>housing</th>\n",
       "      <th>emprestimo</th>\n",
       "      <th>contato</th>\n",
       "      <th>dia</th>\n",
       "      <th>mes</th>\n",
       "      <th>duracao</th>\n",
       "      <th>campanha</th>\n",
       "      <th>pdays</th>\n",
       "      <th>previous</th>\n",
       "      <th>poutcame</th>\n",
       "    </tr>\n",
       "  </thead>\n",
       "  <tbody>\n",
       "    <tr>\n",
       "      <th>0</th>\n",
       "      <td>58</td>\n",
       "      <td>management</td>\n",
       "      <td>married</td>\n",
       "      <td>tertiary</td>\n",
       "      <td>no</td>\n",
       "      <td>2143</td>\n",
       "      <td>yes</td>\n",
       "      <td>no</td>\n",
       "      <td>abc</td>\n",
       "      <td>5</td>\n",
       "      <td>may</td>\n",
       "      <td>261</td>\n",
       "      <td>1</td>\n",
       "      <td>-1</td>\n",
       "      <td>0</td>\n",
       "      <td>unknown</td>\n",
       "    </tr>\n",
       "    <tr>\n",
       "      <th>1</th>\n",
       "      <td>44</td>\n",
       "      <td>technician</td>\n",
       "      <td>single</td>\n",
       "      <td>secondary</td>\n",
       "      <td>no</td>\n",
       "      <td>29</td>\n",
       "      <td>yes</td>\n",
       "      <td>no</td>\n",
       "      <td>abc</td>\n",
       "      <td>5</td>\n",
       "      <td>may</td>\n",
       "      <td>151</td>\n",
       "      <td>1</td>\n",
       "      <td>-1</td>\n",
       "      <td>0</td>\n",
       "      <td>unknown</td>\n",
       "    </tr>\n",
       "    <tr>\n",
       "      <th>2</th>\n",
       "      <td>33</td>\n",
       "      <td>entrepreneur</td>\n",
       "      <td>married</td>\n",
       "      <td>secondary</td>\n",
       "      <td>no</td>\n",
       "      <td>2</td>\n",
       "      <td>yes</td>\n",
       "      <td>yes</td>\n",
       "      <td>abc</td>\n",
       "      <td>5</td>\n",
       "      <td>may</td>\n",
       "      <td>76</td>\n",
       "      <td>1</td>\n",
       "      <td>-1</td>\n",
       "      <td>0</td>\n",
       "      <td>unknown</td>\n",
       "    </tr>\n",
       "    <tr>\n",
       "      <th>3</th>\n",
       "      <td>47</td>\n",
       "      <td>blue-collar</td>\n",
       "      <td>married</td>\n",
       "      <td>unknown</td>\n",
       "      <td>no</td>\n",
       "      <td>1506</td>\n",
       "      <td>yes</td>\n",
       "      <td>no</td>\n",
       "      <td>abc</td>\n",
       "      <td>5</td>\n",
       "      <td>may</td>\n",
       "      <td>92</td>\n",
       "      <td>1</td>\n",
       "      <td>-1</td>\n",
       "      <td>0</td>\n",
       "      <td>unknown</td>\n",
       "    </tr>\n",
       "    <tr>\n",
       "      <th>4</th>\n",
       "      <td>33</td>\n",
       "      <td>unknown</td>\n",
       "      <td>single</td>\n",
       "      <td>unknown</td>\n",
       "      <td>no</td>\n",
       "      <td>1</td>\n",
       "      <td>no</td>\n",
       "      <td>no</td>\n",
       "      <td>abc</td>\n",
       "      <td>5</td>\n",
       "      <td>may</td>\n",
       "      <td>198</td>\n",
       "      <td>1</td>\n",
       "      <td>-1</td>\n",
       "      <td>0</td>\n",
       "      <td>unknown</td>\n",
       "    </tr>\n",
       "  </tbody>\n",
       "</table>\n",
       "</div>"
      ],
      "text/plain": [
       "   idade       emprego estado civil   educacao default  balance housing  \\\n",
       "0     58    management      married   tertiary      no     2143     yes   \n",
       "1     44    technician       single  secondary      no       29     yes   \n",
       "2     33  entrepreneur      married  secondary      no        2     yes   \n",
       "3     47   blue-collar      married    unknown      no     1506     yes   \n",
       "4     33       unknown       single    unknown      no        1      no   \n",
       "\n",
       "  emprestimo contato  dia  mes duracao  campanha  pdays  previous poutcame  \n",
       "0         no     abc    5  may     261         1     -1         0  unknown  \n",
       "1         no     abc    5  may     151         1     -1         0  unknown  \n",
       "2        yes     abc    5  may      76         1     -1         0  unknown  \n",
       "3         no     abc    5  may      92         1     -1         0  unknown  \n",
       "4         no     abc    5  may     198         1     -1         0  unknown  "
      ]
     },
     "execution_count": 95,
     "metadata": {},
     "output_type": "execute_result"
    }
   ],
   "source": [
    "df4.head()"
   ]
  },
  {
   "cell_type": "markdown",
   "metadata": {},
   "source": [
    "----------------------------\n",
    "<h2> Atividade 1</h2>\n",
    "<i> Hora de Praticar </i>"
   ]
  },
  {
   "cell_type": "markdown",
   "metadata": {},
   "source": [
    "--------------------"
   ]
  },
  {
   "cell_type": "code",
   "execution_count": 190,
   "metadata": {},
   "outputs": [
    {
     "data": {
      "text/plain": [
       "'df1'"
      ]
     },
     "metadata": {},
     "output_type": "display_data"
    },
    {
     "data": {
      "text/html": [
       "<div>\n",
       "<style scoped>\n",
       "    .dataframe tbody tr th:only-of-type {\n",
       "        vertical-align: middle;\n",
       "    }\n",
       "\n",
       "    .dataframe tbody tr th {\n",
       "        vertical-align: top;\n",
       "    }\n",
       "\n",
       "    .dataframe thead th {\n",
       "        text-align: right;\n",
       "    }\n",
       "</style>\n",
       "<table border=\"1\" class=\"dataframe\">\n",
       "  <thead>\n",
       "    <tr style=\"text-align: right;\">\n",
       "      <th></th>\n",
       "      <th>ID</th>\n",
       "      <th>nome</th>\n",
       "      <th>sobrenome</th>\n",
       "    </tr>\n",
       "  </thead>\n",
       "  <tbody>\n",
       "    <tr>\n",
       "      <th>0</th>\n",
       "      <td>1</td>\n",
       "      <td>Paula</td>\n",
       "      <td>Pereira</td>\n",
       "    </tr>\n",
       "    <tr>\n",
       "      <th>1</th>\n",
       "      <td>2</td>\n",
       "      <td>Claudia</td>\n",
       "      <td>Silva</td>\n",
       "    </tr>\n",
       "    <tr>\n",
       "      <th>2</th>\n",
       "      <td>3</td>\n",
       "      <td>Joao</td>\n",
       "      <td>Silveira</td>\n",
       "    </tr>\n",
       "    <tr>\n",
       "      <th>3</th>\n",
       "      <td>4</td>\n",
       "      <td>Carlos</td>\n",
       "      <td>Bezerra</td>\n",
       "    </tr>\n",
       "    <tr>\n",
       "      <th>4</th>\n",
       "      <td>5</td>\n",
       "      <td>Ana</td>\n",
       "      <td>Souza</td>\n",
       "    </tr>\n",
       "  </tbody>\n",
       "</table>\n",
       "</div>"
      ],
      "text/plain": [
       "  ID     nome sobrenome\n",
       "0  1    Paula   Pereira\n",
       "1  2  Claudia     Silva\n",
       "2  3     Joao  Silveira\n",
       "3  4   Carlos   Bezerra\n",
       "4  5      Ana     Souza"
      ]
     },
     "metadata": {},
     "output_type": "display_data"
    },
    {
     "data": {
      "text/plain": [
       "'df2'"
      ]
     },
     "metadata": {},
     "output_type": "display_data"
    },
    {
     "data": {
      "text/html": [
       "<div>\n",
       "<style scoped>\n",
       "    .dataframe tbody tr th:only-of-type {\n",
       "        vertical-align: middle;\n",
       "    }\n",
       "\n",
       "    .dataframe tbody tr th {\n",
       "        vertical-align: top;\n",
       "    }\n",
       "\n",
       "    .dataframe thead th {\n",
       "        text-align: right;\n",
       "    }\n",
       "</style>\n",
       "<table border=\"1\" class=\"dataframe\">\n",
       "  <thead>\n",
       "    <tr style=\"text-align: right;\">\n",
       "      <th></th>\n",
       "      <th>ID</th>\n",
       "      <th>nome</th>\n",
       "      <th>sobrenome</th>\n",
       "    </tr>\n",
       "  </thead>\n",
       "  <tbody>\n",
       "    <tr>\n",
       "      <th>0</th>\n",
       "      <td>4</td>\n",
       "      <td>Eder</td>\n",
       "      <td>Silva</td>\n",
       "    </tr>\n",
       "    <tr>\n",
       "      <th>1</th>\n",
       "      <td>5</td>\n",
       "      <td>Joana</td>\n",
       "      <td>Bezerra</td>\n",
       "    </tr>\n",
       "    <tr>\n",
       "      <th>2</th>\n",
       "      <td>6</td>\n",
       "      <td>Paulo</td>\n",
       "      <td>Fernandes</td>\n",
       "    </tr>\n",
       "    <tr>\n",
       "      <th>3</th>\n",
       "      <td>7</td>\n",
       "      <td>Pedro</td>\n",
       "      <td>Brito</td>\n",
       "    </tr>\n",
       "    <tr>\n",
       "      <th>4</th>\n",
       "      <td>8</td>\n",
       "      <td>Bete</td>\n",
       "      <td>Oliveira</td>\n",
       "    </tr>\n",
       "  </tbody>\n",
       "</table>\n",
       "</div>"
      ],
      "text/plain": [
       "  ID   nome  sobrenome\n",
       "0  4   Eder      Silva\n",
       "1  5  Joana    Bezerra\n",
       "2  6  Paulo  Fernandes\n",
       "3  7  Pedro      Brito\n",
       "4  8   Bete   Oliveira"
      ]
     },
     "metadata": {},
     "output_type": "display_data"
    },
    {
     "data": {
      "text/plain": [
       "'df_notas'"
      ]
     },
     "metadata": {},
     "output_type": "display_data"
    },
    {
     "data": {
      "text/html": [
       "<div>\n",
       "<style scoped>\n",
       "    .dataframe tbody tr th:only-of-type {\n",
       "        vertical-align: middle;\n",
       "    }\n",
       "\n",
       "    .dataframe tbody tr th {\n",
       "        vertical-align: top;\n",
       "    }\n",
       "\n",
       "    .dataframe thead th {\n",
       "        text-align: right;\n",
       "    }\n",
       "</style>\n",
       "<table border=\"1\" class=\"dataframe\">\n",
       "  <thead>\n",
       "    <tr style=\"text-align: right;\">\n",
       "      <th></th>\n",
       "      <th>ID</th>\n",
       "      <th>notas_id</th>\n",
       "    </tr>\n",
       "  </thead>\n",
       "  <tbody>\n",
       "    <tr>\n",
       "      <th>0</th>\n",
       "      <td>1</td>\n",
       "      <td>51</td>\n",
       "    </tr>\n",
       "    <tr>\n",
       "      <th>1</th>\n",
       "      <td>2</td>\n",
       "      <td>15</td>\n",
       "    </tr>\n",
       "    <tr>\n",
       "      <th>2</th>\n",
       "      <td>3</td>\n",
       "      <td>15</td>\n",
       "    </tr>\n",
       "    <tr>\n",
       "      <th>3</th>\n",
       "      <td>4</td>\n",
       "      <td>61</td>\n",
       "    </tr>\n",
       "    <tr>\n",
       "      <th>4</th>\n",
       "      <td>5</td>\n",
       "      <td>16</td>\n",
       "    </tr>\n",
       "    <tr>\n",
       "      <th>5</th>\n",
       "      <td>7</td>\n",
       "      <td>14</td>\n",
       "    </tr>\n",
       "    <tr>\n",
       "      <th>6</th>\n",
       "      <td>8</td>\n",
       "      <td>15</td>\n",
       "    </tr>\n",
       "    <tr>\n",
       "      <th>7</th>\n",
       "      <td>9</td>\n",
       "      <td>1</td>\n",
       "    </tr>\n",
       "    <tr>\n",
       "      <th>8</th>\n",
       "      <td>10</td>\n",
       "      <td>61</td>\n",
       "    </tr>\n",
       "    <tr>\n",
       "      <th>9</th>\n",
       "      <td>11</td>\n",
       "      <td>16</td>\n",
       "    </tr>\n",
       "  </tbody>\n",
       "</table>\n",
       "</div>"
      ],
      "text/plain": [
       "   ID  notas_id\n",
       "0   1        51\n",
       "1   2        15\n",
       "2   3        15\n",
       "3   4        61\n",
       "4   5        16\n",
       "5   7        14\n",
       "6   8        15\n",
       "7   9         1\n",
       "8  10        61\n",
       "9  11        16"
      ]
     },
     "metadata": {},
     "output_type": "display_data"
    }
   ],
   "source": [
    "#Criando dataframe o qual iremos utilizar\n",
    "dados1 = {\n",
    "        'ID': ['1', '2', '3', '4', '5'],\n",
    "        'nome': ['Paula', 'Claudia', 'Joao', 'Carlos', 'Ana'], \n",
    "        'sobrenome': ['Pereira', 'Silva', 'Silveira', 'Bezerra', 'Souza']}\n",
    "df1 = pd.DataFrame(dados1, columns = ['ID', 'nome', 'sobrenome'])\n",
    "display('df1')\n",
    "display(df1)\n",
    "\n",
    "dados2 = {\n",
    "        'ID': ['4', '5', '6', '7', '8'],\n",
    "        'nome': ['Eder', 'Joana', 'Paulo', 'Pedro', 'Bete'], \n",
    "        'sobrenome': ['Silva', 'Bezerra', 'Fernandes', 'Brito', 'Oliveira']}\n",
    "df2 = pd.DataFrame(dados2, columns = ['ID', 'nome', 'sobrenome'])\n",
    "display('df2')\n",
    "display(df2)\n",
    "\n",
    "notas = {\n",
    "        'ID': ['1', '2', '3', '4', '5', '7', '8', '9', '10', '11'],\n",
    "        'notas_id': [51, 15, 15, 61, 16, 14, 15, 1, 61, 16]}\n",
    "df_notas = pd.DataFrame(notas, columns = ['ID','notas_id'])\n",
    "display('df_notas')\n",
    "display(df_notas)"
   ]
  },
  {
   "cell_type": "code",
   "execution_count": 121,
   "metadata": {},
   "outputs": [
    {
     "data": {
      "text/html": [
       "<div>\n",
       "<style scoped>\n",
       "    .dataframe tbody tr th:only-of-type {\n",
       "        vertical-align: middle;\n",
       "    }\n",
       "\n",
       "    .dataframe tbody tr th {\n",
       "        vertical-align: top;\n",
       "    }\n",
       "\n",
       "    .dataframe thead th {\n",
       "        text-align: right;\n",
       "    }\n",
       "</style>\n",
       "<table border=\"1\" class=\"dataframe\">\n",
       "  <thead>\n",
       "    <tr style=\"text-align: right;\">\n",
       "      <th></th>\n",
       "      <th>ID</th>\n",
       "      <th>nome</th>\n",
       "      <th>sobrenome</th>\n",
       "    </tr>\n",
       "  </thead>\n",
       "  <tbody>\n",
       "    <tr>\n",
       "      <th>0</th>\n",
       "      <td>1</td>\n",
       "      <td>Paula</td>\n",
       "      <td>Pereira</td>\n",
       "    </tr>\n",
       "    <tr>\n",
       "      <th>1</th>\n",
       "      <td>2</td>\n",
       "      <td>Claudia</td>\n",
       "      <td>Silva</td>\n",
       "    </tr>\n",
       "    <tr>\n",
       "      <th>2</th>\n",
       "      <td>3</td>\n",
       "      <td>Joao</td>\n",
       "      <td>Silveira</td>\n",
       "    </tr>\n",
       "    <tr>\n",
       "      <th>3</th>\n",
       "      <td>4</td>\n",
       "      <td>Carlos</td>\n",
       "      <td>Bezerra</td>\n",
       "    </tr>\n",
       "    <tr>\n",
       "      <th>4</th>\n",
       "      <td>5</td>\n",
       "      <td>Ana</td>\n",
       "      <td>Souza</td>\n",
       "    </tr>\n",
       "    <tr>\n",
       "      <th>0</th>\n",
       "      <td>4</td>\n",
       "      <td>Eder</td>\n",
       "      <td>Silva</td>\n",
       "    </tr>\n",
       "    <tr>\n",
       "      <th>1</th>\n",
       "      <td>5</td>\n",
       "      <td>Joana</td>\n",
       "      <td>Bezerra</td>\n",
       "    </tr>\n",
       "    <tr>\n",
       "      <th>2</th>\n",
       "      <td>6</td>\n",
       "      <td>Paulo</td>\n",
       "      <td>Fernandes</td>\n",
       "    </tr>\n",
       "    <tr>\n",
       "      <th>3</th>\n",
       "      <td>7</td>\n",
       "      <td>Pedro</td>\n",
       "      <td>Brito</td>\n",
       "    </tr>\n",
       "    <tr>\n",
       "      <th>4</th>\n",
       "      <td>8</td>\n",
       "      <td>Bete</td>\n",
       "      <td>Oliveira</td>\n",
       "    </tr>\n",
       "  </tbody>\n",
       "</table>\n",
       "</div>"
      ],
      "text/plain": [
       "  ID     nome  sobrenome\n",
       "0  1    Paula    Pereira\n",
       "1  2  Claudia      Silva\n",
       "2  3     Joao   Silveira\n",
       "3  4   Carlos    Bezerra\n",
       "4  5      Ana      Souza\n",
       "0  4     Eder      Silva\n",
       "1  5    Joana    Bezerra\n",
       "2  6    Paulo  Fernandes\n",
       "3  7    Pedro      Brito\n",
       "4  8     Bete   Oliveira"
      ]
     },
     "execution_count": 121,
     "metadata": {},
     "output_type": "execute_result"
    }
   ],
   "source": [
    "#Concatenando dataframes\n",
    "df_1_2 = pd.concat([df1,df2], axis = 0)\n",
    "df_1_2"
   ]
  },
  {
   "cell_type": "code",
   "execution_count": 184,
   "metadata": {},
   "outputs": [],
   "source": [
    "#Concatenando pelas colunas (axis=1)\n",
    "#pd.concat([df1,df2], axis=1)\n",
    "#df2.reset_index(drop=True)\n",
    "df1.sort_values(by=['ID'], ascending=False,inplace=True)\n",
    "df2.sort_values(by=['ID'], ascending=False,inplace=True)\n",
    "if (not pd.isnull(df2.index.name)) and  (not 'ID' in df2.index.name):\n",
    "    df2.set_index(['ID'],inplace=True)\n",
    "#df1.set_index(['ID'],inplace=True)\n",
    "#pd.concat([df1,df2], axis=1)"
   ]
  },
  {
   "cell_type": "code",
   "execution_count": 189,
   "metadata": {},
   "outputs": [
    {
     "data": {
      "text/plain": [
       "True"
      ]
     },
     "execution_count": 189,
     "metadata": {},
     "output_type": "execute_result"
    }
   ],
   "source": [
    "pd.isnull(df2.index.name)"
   ]
  },
  {
   "cell_type": "code",
   "execution_count": 176,
   "metadata": {},
   "outputs": [
    {
     "data": {
      "text/plain": [
       "'ID'"
      ]
     },
     "execution_count": 176,
     "metadata": {},
     "output_type": "execute_result"
    }
   ],
   "source": [
    "df1.index.name"
   ]
  },
  {
   "cell_type": "code",
   "execution_count": 178,
   "metadata": {},
   "outputs": [],
   "source": [
    "df2.reset_index(inplace=True)"
   ]
  },
  {
   "cell_type": "code",
   "execution_count": 38,
   "metadata": {},
   "outputs": [
    {
     "data": {
      "text/html": [
       "<div>\n",
       "<style scoped>\n",
       "    .dataframe tbody tr th:only-of-type {\n",
       "        vertical-align: middle;\n",
       "    }\n",
       "\n",
       "    .dataframe tbody tr th {\n",
       "        vertical-align: top;\n",
       "    }\n",
       "\n",
       "    .dataframe thead th {\n",
       "        text-align: right;\n",
       "    }\n",
       "</style>\n",
       "<table border=\"1\" class=\"dataframe\">\n",
       "  <thead>\n",
       "    <tr style=\"text-align: right;\">\n",
       "      <th></th>\n",
       "      <th>ID</th>\n",
       "      <th>nome</th>\n",
       "      <th>sobrenome</th>\n",
       "    </tr>\n",
       "  </thead>\n",
       "  <tbody>\n",
       "    <tr>\n",
       "      <td>0</td>\n",
       "      <td>1</td>\n",
       "      <td>Paula</td>\n",
       "      <td>Pereira</td>\n",
       "    </tr>\n",
       "    <tr>\n",
       "      <td>1</td>\n",
       "      <td>2</td>\n",
       "      <td>Claudia</td>\n",
       "      <td>Silva</td>\n",
       "    </tr>\n",
       "    <tr>\n",
       "      <td>2</td>\n",
       "      <td>3</td>\n",
       "      <td>Joao</td>\n",
       "      <td>Silveira</td>\n",
       "    </tr>\n",
       "    <tr>\n",
       "      <td>3</td>\n",
       "      <td>4</td>\n",
       "      <td>Carlos</td>\n",
       "      <td>Bezerra</td>\n",
       "    </tr>\n",
       "    <tr>\n",
       "      <td>4</td>\n",
       "      <td>5</td>\n",
       "      <td>Ana</td>\n",
       "      <td>Souza</td>\n",
       "    </tr>\n",
       "    <tr>\n",
       "      <td>0</td>\n",
       "      <td>4</td>\n",
       "      <td>Eder</td>\n",
       "      <td>Silva</td>\n",
       "    </tr>\n",
       "    <tr>\n",
       "      <td>1</td>\n",
       "      <td>5</td>\n",
       "      <td>Joana</td>\n",
       "      <td>Bezerra</td>\n",
       "    </tr>\n",
       "    <tr>\n",
       "      <td>2</td>\n",
       "      <td>6</td>\n",
       "      <td>Paulo</td>\n",
       "      <td>Fernandes</td>\n",
       "    </tr>\n",
       "    <tr>\n",
       "      <td>3</td>\n",
       "      <td>7</td>\n",
       "      <td>Pedro</td>\n",
       "      <td>Brito</td>\n",
       "    </tr>\n",
       "    <tr>\n",
       "      <td>4</td>\n",
       "      <td>8</td>\n",
       "      <td>Bete</td>\n",
       "      <td>Oliveira</td>\n",
       "    </tr>\n",
       "  </tbody>\n",
       "</table>\n",
       "</div>"
      ],
      "text/plain": [
       "  ID     nome  sobrenome\n",
       "0  1    Paula    Pereira\n",
       "1  2  Claudia      Silva\n",
       "2  3     Joao   Silveira\n",
       "3  4   Carlos    Bezerra\n",
       "4  5      Ana      Souza\n",
       "0  4     Eder      Silva\n",
       "1  5    Joana    Bezerra\n",
       "2  6    Paulo  Fernandes\n",
       "3  7    Pedro      Brito\n",
       "4  8     Bete   Oliveira"
      ]
     },
     "execution_count": 38,
     "metadata": {},
     "output_type": "execute_result"
    }
   ],
   "source": [
    "#Concatenando pelas linhas (axis=0)\n",
    "pd.concat([df1,df2], axis=0)"
   ]
  },
  {
   "cell_type": "code",
   "execution_count": 212,
   "metadata": {},
   "outputs": [
    {
     "data": {
      "text/html": [
       "<div>\n",
       "<style scoped>\n",
       "    .dataframe tbody tr th:only-of-type {\n",
       "        vertical-align: middle;\n",
       "    }\n",
       "\n",
       "    .dataframe tbody tr th {\n",
       "        vertical-align: top;\n",
       "    }\n",
       "\n",
       "    .dataframe thead th {\n",
       "        text-align: right;\n",
       "    }\n",
       "</style>\n",
       "<table border=\"1\" class=\"dataframe\">\n",
       "  <thead>\n",
       "    <tr style=\"text-align: right;\">\n",
       "      <th></th>\n",
       "      <th>ID</th>\n",
       "      <th>nome</th>\n",
       "      <th>sobrenome</th>\n",
       "      <th>notas_id</th>\n",
       "    </tr>\n",
       "  </thead>\n",
       "  <tbody>\n",
       "    <tr>\n",
       "      <th>0</th>\n",
       "      <td>1</td>\n",
       "      <td>Paula</td>\n",
       "      <td>Pereira</td>\n",
       "      <td>51.0</td>\n",
       "    </tr>\n",
       "    <tr>\n",
       "      <th>1</th>\n",
       "      <td>2</td>\n",
       "      <td>Claudia</td>\n",
       "      <td>Silva</td>\n",
       "      <td>15.0</td>\n",
       "    </tr>\n",
       "    <tr>\n",
       "      <th>2</th>\n",
       "      <td>3</td>\n",
       "      <td>Joao</td>\n",
       "      <td>Silveira</td>\n",
       "      <td>15.0</td>\n",
       "    </tr>\n",
       "    <tr>\n",
       "      <th>3</th>\n",
       "      <td>4</td>\n",
       "      <td>Carlos</td>\n",
       "      <td>Bezerra</td>\n",
       "      <td>61.0</td>\n",
       "    </tr>\n",
       "    <tr>\n",
       "      <th>4</th>\n",
       "      <td>4</td>\n",
       "      <td>Eder</td>\n",
       "      <td>Silva</td>\n",
       "      <td>61.0</td>\n",
       "    </tr>\n",
       "    <tr>\n",
       "      <th>5</th>\n",
       "      <td>5</td>\n",
       "      <td>Ana</td>\n",
       "      <td>Souza</td>\n",
       "      <td>16.0</td>\n",
       "    </tr>\n",
       "    <tr>\n",
       "      <th>6</th>\n",
       "      <td>5</td>\n",
       "      <td>Joana</td>\n",
       "      <td>Bezerra</td>\n",
       "      <td>16.0</td>\n",
       "    </tr>\n",
       "    <tr>\n",
       "      <th>7</th>\n",
       "      <td>6</td>\n",
       "      <td>Paulo</td>\n",
       "      <td>Fernandes</td>\n",
       "      <td>NaN</td>\n",
       "    </tr>\n",
       "    <tr>\n",
       "      <th>8</th>\n",
       "      <td>7</td>\n",
       "      <td>Pedro</td>\n",
       "      <td>Brito</td>\n",
       "      <td>14.0</td>\n",
       "    </tr>\n",
       "    <tr>\n",
       "      <th>9</th>\n",
       "      <td>8</td>\n",
       "      <td>Bete</td>\n",
       "      <td>Oliveira</td>\n",
       "      <td>15.0</td>\n",
       "    </tr>\n",
       "    <tr>\n",
       "      <th>10</th>\n",
       "      <td>9</td>\n",
       "      <td>NaN</td>\n",
       "      <td>NaN</td>\n",
       "      <td>1.0</td>\n",
       "    </tr>\n",
       "    <tr>\n",
       "      <th>11</th>\n",
       "      <td>10</td>\n",
       "      <td>NaN</td>\n",
       "      <td>NaN</td>\n",
       "      <td>61.0</td>\n",
       "    </tr>\n",
       "    <tr>\n",
       "      <th>12</th>\n",
       "      <td>11</td>\n",
       "      <td>NaN</td>\n",
       "      <td>NaN</td>\n",
       "      <td>16.0</td>\n",
       "    </tr>\n",
       "  </tbody>\n",
       "</table>\n",
       "</div>"
      ],
      "text/plain": [
       "    ID     nome  sobrenome  notas_id\n",
       "0    1    Paula    Pereira      51.0\n",
       "1    2  Claudia      Silva      15.0\n",
       "2    3     Joao   Silveira      15.0\n",
       "3    4   Carlos    Bezerra      61.0\n",
       "4    4     Eder      Silva      61.0\n",
       "5    5      Ana      Souza      16.0\n",
       "6    5    Joana    Bezerra      16.0\n",
       "7    6    Paulo  Fernandes       NaN\n",
       "8    7    Pedro      Brito      14.0\n",
       "9    8     Bete   Oliveira      15.0\n",
       "10   9      NaN        NaN       1.0\n",
       "11  10      NaN        NaN      61.0\n",
       "12  11      NaN        NaN      16.0"
      ]
     },
     "execution_count": 212,
     "metadata": {},
     "output_type": "execute_result"
    }
   ],
   "source": [
    "# Unindo os dataframes através do merge, utilizando a coluna de interesse (chave)\n",
    "pd.merge(df_1_2, df_notas, on=\"ID\", how='outer')\n",
    "#pd.merge(df_1_2, df_notas, right_on=\"ID\", left_on=\"ID\")"
   ]
  },
  {
   "cell_type": "code",
   "execution_count": 211,
   "metadata": {},
   "outputs": [
    {
     "data": {
      "text/html": [
       "<div>\n",
       "<style scoped>\n",
       "    .dataframe tbody tr th:only-of-type {\n",
       "        vertical-align: middle;\n",
       "    }\n",
       "\n",
       "    .dataframe tbody tr th {\n",
       "        vertical-align: top;\n",
       "    }\n",
       "\n",
       "    .dataframe thead th {\n",
       "        text-align: right;\n",
       "    }\n",
       "</style>\n",
       "<table border=\"1\" class=\"dataframe\">\n",
       "  <thead>\n",
       "    <tr style=\"text-align: right;\">\n",
       "      <th></th>\n",
       "      <th>ID</th>\n",
       "      <th>notas_id</th>\n",
       "    </tr>\n",
       "  </thead>\n",
       "  <tbody>\n",
       "    <tr>\n",
       "      <th>0</th>\n",
       "      <td>1</td>\n",
       "      <td>51</td>\n",
       "    </tr>\n",
       "    <tr>\n",
       "      <th>1</th>\n",
       "      <td>2</td>\n",
       "      <td>15</td>\n",
       "    </tr>\n",
       "    <tr>\n",
       "      <th>2</th>\n",
       "      <td>3</td>\n",
       "      <td>15</td>\n",
       "    </tr>\n",
       "    <tr>\n",
       "      <th>3</th>\n",
       "      <td>4</td>\n",
       "      <td>61</td>\n",
       "    </tr>\n",
       "    <tr>\n",
       "      <th>4</th>\n",
       "      <td>5</td>\n",
       "      <td>16</td>\n",
       "    </tr>\n",
       "    <tr>\n",
       "      <th>5</th>\n",
       "      <td>7</td>\n",
       "      <td>14</td>\n",
       "    </tr>\n",
       "    <tr>\n",
       "      <th>6</th>\n",
       "      <td>8</td>\n",
       "      <td>15</td>\n",
       "    </tr>\n",
       "    <tr>\n",
       "      <th>7</th>\n",
       "      <td>9</td>\n",
       "      <td>1</td>\n",
       "    </tr>\n",
       "    <tr>\n",
       "      <th>8</th>\n",
       "      <td>10</td>\n",
       "      <td>61</td>\n",
       "    </tr>\n",
       "    <tr>\n",
       "      <th>9</th>\n",
       "      <td>11</td>\n",
       "      <td>16</td>\n",
       "    </tr>\n",
       "  </tbody>\n",
       "</table>\n",
       "</div>"
      ],
      "text/plain": [
       "   ID  notas_id\n",
       "0   1        51\n",
       "1   2        15\n",
       "2   3        15\n",
       "3   4        61\n",
       "4   5        16\n",
       "5   7        14\n",
       "6   8        15\n",
       "7   9         1\n",
       "8  10        61\n",
       "9  11        16"
      ]
     },
     "execution_count": 211,
     "metadata": {},
     "output_type": "execute_result"
    }
   ],
   "source": [
    "df_notas"
   ]
  },
  {
   "cell_type": "markdown",
   "metadata": {},
   "source": [
    "----------------------------\n",
    "<h2> Atividade 2</h2>\n",
    "<i> Hora de Praticar </i>"
   ]
  },
  {
   "cell_type": "markdown",
   "metadata": {},
   "source": [
    "----------------"
   ]
  },
  {
   "cell_type": "code",
   "execution_count": 213,
   "metadata": {},
   "outputs": [
    {
     "data": {
      "text/plain": [
       "<pandas.core.groupby.generic.DataFrameGroupBy object at 0x000001A61BD42710>"
      ]
     },
     "execution_count": 213,
     "metadata": {},
     "output_type": "execute_result"
    }
   ],
   "source": [
    "#Agrupando os dados pela variável escolhida\n",
    "df.groupby(\"emprestimo\")"
   ]
  },
  {
   "cell_type": "code",
   "execution_count": 221,
   "metadata": {},
   "outputs": [
    {
     "data": {
      "text/plain": [
       "Int64Index([    0,     1,     3,     4,     5,     7,     8,     9,    10,\n",
       "               11,\n",
       "            ...\n",
       "            45209, 45210, 45211, 45213, 45214, 45215, 45216, 45217, 45218,\n",
       "            45219],\n",
       "           dtype='int64', length=37975)"
      ]
     },
     "execution_count": 221,
     "metadata": {},
     "output_type": "execute_result"
    }
   ],
   "source": [
    "#Visualizando os grupos\n",
    "df.groupby(\"emprestimo\").groups['no']"
   ]
  },
  {
   "cell_type": "code",
   "execution_count": 53,
   "metadata": {},
   "outputs": [
    {
     "data": {
      "text/plain": [
       "<pandas.core.groupby.generic.DataFrameGroupBy object at 0x00000219430F5208>"
      ]
     },
     "execution_count": 53,
     "metadata": {},
     "output_type": "execute_result"
    }
   ],
   "source": [
    "#Agrupando pelas variáveis empréstimo e emprego\n",
    "df.groupby([\"emprestimo\",\"emprego\"])"
   ]
  },
  {
   "cell_type": "code",
   "execution_count": 54,
   "metadata": {
    "collapsed": true,
    "jupyter": {
     "outputs_hidden": true
    }
   },
   "outputs": [
    {
     "data": {
      "text/plain": [
       "{('no',\n",
       "  'admin.'): Int64Index([   10,    11,    16,    25,    38,    39,    45,    53,    60,\n",
       "                80,\n",
       "             ...\n",
       "             45142, 45144, 45147, 45162, 45167, 45171, 45173, 45176, 45177,\n",
       "             45202],\n",
       "            dtype='int64', length=4180),\n",
       " ('no',\n",
       "  'blue-collar'): Int64Index([    3,    17,    33,    36,    42,    50,    57,    58,    62,\n",
       "                64,\n",
       "             ...\n",
       "             45100, 45124, 45127, 45135, 45174, 45178, 45181, 45190, 45199,\n",
       "             45209],\n",
       "            dtype='int64', length=8048),\n",
       " ('no',\n",
       "  'entrepreneur'): Int64Index([    7,    94,   172,   222,   232,   241,   256,   264,   273,\n",
       "               357,\n",
       "             ...\n",
       "             44652, 44691, 44792, 44845, 44969, 45083, 45140, 45155, 45175,\n",
       "             45210],\n",
       "            dtype='int64', length=1131),\n",
       " ('no',\n",
       "  'housemaid'): Int64Index([  140,   212,   218,   400,   471,   531,   755,   757,  1076,\n",
       "              1096,\n",
       "             ...\n",
       "             44551, 44613, 44688, 44766, 44814, 44858, 44938, 44943, 45029,\n",
       "             45152],\n",
       "            dtype='int64', length=1088),\n",
       " ('no',\n",
       "  'management'): Int64Index([    0,     5,    21,    26,    28,    31,    34,    41,    49,\n",
       "                51,\n",
       "             ...\n",
       "             45156, 45161, 45169, 45188, 45192, 45197, 45198, 45201, 45214,\n",
       "             45219],\n",
       "            dtype='int64', length=8207),\n",
       " ('no',\n",
       "  'retired'): Int64Index([    8,    15,    18,    43,    44,    66,    89,    97,   108,\n",
       "               114,\n",
       "             ...\n",
       "             45168, 45180, 45183, 45184, 45191, 45195, 45204, 45207, 45208,\n",
       "             45215],\n",
       "            dtype='int64', length=1956),\n",
       " ('no',\n",
       "  'self-employed'): Int64Index([   46,   141,   201,   279,   289,   402,   443,   447,   469,\n",
       "               548,\n",
       "             ...\n",
       "             44934, 44997, 45003, 45004, 45013, 45030, 45061, 45097, 45136,\n",
       "             45193],\n",
       "            dtype='int64', length=1350),\n",
       " ('no',\n",
       "  'services'): Int64Index([   14,    19,    23,    40,    59,    63,    77,    79,    81,\n",
       "               110,\n",
       "             ...\n",
       "             44951, 44966, 45027, 45145, 45159, 45164, 45185, 45187, 45189,\n",
       "             45216],\n",
       "            dtype='int64', length=3319),\n",
       " ('no',\n",
       "  'student'): Int64Index([  151,   203,   265,   292,   297,   369,   552,   647,   650,\n",
       "               690,\n",
       "             ...\n",
       "             45107, 45112, 45116, 45133, 45143, 45148, 45158, 45170, 45196,\n",
       "             45203],\n",
       "            dtype='int64', length=926),\n",
       " ('no',\n",
       "  'technician'): Int64Index([    1,     9,    12,    13,    35,    37,    47,    48,    61,\n",
       "                68,\n",
       "             ...\n",
       "             45160, 45165, 45172, 45179, 45182, 45200, 45206, 45211, 45213,\n",
       "             45218],\n",
       "            dtype='int64', length=6291),\n",
       " ('no',\n",
       "  'unemployed'): Int64Index([  134,   142,   147,   176,   217,   220,   387,   417,   463,\n",
       "               493,\n",
       "             ...\n",
       "             44937, 44956, 44988, 45031, 45038, 45071, 45089, 45128, 45146,\n",
       "             45166],\n",
       "            dtype='int64', length=1194),\n",
       " ('no',\n",
       "  'unknown'): Int64Index([    4,   216,   354,   876,  1072,  1292,  2046,  2723,  2841,\n",
       "              2848,\n",
       "             ...\n",
       "             44544, 44651, 44656, 44681, 44714, 44742, 44970, 45141, 45186,\n",
       "             45217],\n",
       "            dtype='int64', length=285),\n",
       " ('yes',\n",
       "  'admin.'): Int64Index([   32,   107,   126,   133,   281,   363,   371,   456,   500,\n",
       "               516,\n",
       "             ...\n",
       "             44866, 44918, 44947, 44971, 44982, 45007, 45043, 45064, 45074,\n",
       "             45103],\n",
       "            dtype='int64', length=991),\n",
       " ('yes',\n",
       "  'blue-collar'): Int64Index([   20,    22,    69,    70,    76,   188,   239,   251,   268,\n",
       "               308,\n",
       "             ...\n",
       "             43660, 43730, 43951, 43983, 44069, 44182, 44478, 44600, 44822,\n",
       "             44924],\n",
       "            dtype='int64', length=1684),\n",
       " ('yes',\n",
       "  'entrepreneur'): Int64Index([    2,    27,    55,   515,   634,   894,   987,  1355,  1430,\n",
       "              1890,\n",
       "             ...\n",
       "             38898, 39126, 39233, 40396, 41471, 41769, 43810, 44705, 45122,\n",
       "             45212],\n",
       "            dtype='int64', length=357),\n",
       " ('yes',\n",
       "  'housemaid'): Int64Index([  882,  1772,  3446,  3520,  3725,  3925,  6389,  8040,  9110,\n",
       "              9134,\n",
       "             ...\n",
       "             36256, 37255, 37486, 37808, 39712, 40692, 40765, 41657, 42991,\n",
       "             44682],\n",
       "            dtype='int64', length=152),\n",
       " ('yes',\n",
       "  'management'): Int64Index([    6,    72,    88,    95,   206,   219,   270,   388,   453,\n",
       "               487,\n",
       "             ...\n",
       "             44641, 44795, 44816, 44887, 44974, 45039, 45059, 45151, 45194,\n",
       "             45220],\n",
       "            dtype='int64', length=1254),\n",
       " ('yes',\n",
       "  'retired'): Int64Index([   24,   223,   465,   575,   593,   930,   976,  1115,  1226,\n",
       "              1541,\n",
       "             ...\n",
       "             41227, 41459, 41523, 42508, 43067, 43263, 43284, 44281, 44745,\n",
       "             45153],\n",
       "            dtype='int64', length=309),\n",
       " ('yes',\n",
       "  'self-employed'): Int64Index([   84,   112,  1367,  1502,  1620,  1896,  2311,  2564,  2946,\n",
       "              3147,\n",
       "             ...\n",
       "             39690, 41356, 41801, 41942, 42563, 43422, 43476, 43856, 44222,\n",
       "             44505],\n",
       "            dtype='int64', length=229),\n",
       " ('yes',\n",
       "  'services'): Int64Index([   71,    78,   123,   127,   171,   258,   312,   313,   381,\n",
       "               385,\n",
       "             ...\n",
       "             40420, 40430, 40990, 40998, 41835, 43070, 44061, 44177, 44201,\n",
       "             44596],\n",
       "            dtype='int64', length=836),\n",
       " ('yes',\n",
       "  'student'): Int64Index([ 6203, 13134, 15223, 28123, 30370, 30632, 31143, 34376, 37763,\n",
       "             40309, 40316, 44076],\n",
       "            dtype='int64'),\n",
       " ('yes',\n",
       "  'technician'): Int64Index([   29,    30,    54,    91,   124,   197,   240,   337,   395,\n",
       "               401,\n",
       "             ...\n",
       "             44084, 44091, 44161, 44294, 44369, 44498, 44873, 45069, 45108,\n",
       "             45205],\n",
       "            dtype='int64', length=1309),\n",
       " ('yes',\n",
       "  'unemployed'): Int64Index([ 1521,  1798,  2198,  2862,  3277,  3715,  3862,  4219,  4791,\n",
       "              4934,\n",
       "             ...\n",
       "             35153, 35525, 35634, 39109, 42084, 42466, 43344, 43850, 44754,\n",
       "             44855],\n",
       "            dtype='int64', length=109),\n",
       " ('yes', 'unknown'): Int64Index([3324, 6558, 25762, 33195], dtype='int64')}"
      ]
     },
     "execution_count": 54,
     "metadata": {},
     "output_type": "execute_result"
    }
   ],
   "source": [
    "#Visualizando os grupos\n",
    "df.groupby([\"emprestimo\",\"emprego\"]).groups"
   ]
  },
  {
   "cell_type": "code",
   "execution_count": 55,
   "metadata": {},
   "outputs": [
    {
     "data": {
      "text/html": [
       "<div>\n",
       "<style scoped>\n",
       "    .dataframe tbody tr th:only-of-type {\n",
       "        vertical-align: middle;\n",
       "    }\n",
       "\n",
       "    .dataframe tbody tr th {\n",
       "        vertical-align: top;\n",
       "    }\n",
       "\n",
       "    .dataframe thead th {\n",
       "        text-align: right;\n",
       "    }\n",
       "</style>\n",
       "<table border=\"1\" class=\"dataframe\">\n",
       "  <thead>\n",
       "    <tr style=\"text-align: right;\">\n",
       "      <th></th>\n",
       "      <th>idade</th>\n",
       "      <th>balance</th>\n",
       "      <th>dia</th>\n",
       "      <th>duracao</th>\n",
       "      <th>campanha</th>\n",
       "      <th>pdays</th>\n",
       "      <th>previous</th>\n",
       "    </tr>\n",
       "    <tr>\n",
       "      <th>emprestimo</th>\n",
       "      <th></th>\n",
       "      <th></th>\n",
       "      <th></th>\n",
       "      <th></th>\n",
       "      <th></th>\n",
       "      <th></th>\n",
       "      <th></th>\n",
       "    </tr>\n",
       "  </thead>\n",
       "  <tbody>\n",
       "    <tr>\n",
       "      <td>no</td>\n",
       "      <td>41.011244</td>\n",
       "      <td>1474.428993</td>\n",
       "      <td>15.764450</td>\n",
       "      <td>259.587868</td>\n",
       "      <td>2.750125</td>\n",
       "      <td>41.204687</td>\n",
       "      <td>0.592153</td>\n",
       "    </tr>\n",
       "    <tr>\n",
       "      <td>yes</td>\n",
       "      <td>40.555479</td>\n",
       "      <td>774.139387</td>\n",
       "      <td>16.020563</td>\n",
       "      <td>250.864163</td>\n",
       "      <td>2.834391</td>\n",
       "      <td>35.024427</td>\n",
       "      <td>0.522219</td>\n",
       "    </tr>\n",
       "  </tbody>\n",
       "</table>\n",
       "</div>"
      ],
      "text/plain": [
       "                idade      balance        dia     duracao  campanha  \\\n",
       "emprestimo                                                            \n",
       "no          41.011244  1474.428993  15.764450  259.587868  2.750125   \n",
       "yes         40.555479   774.139387  16.020563  250.864163  2.834391   \n",
       "\n",
       "                pdays  previous  \n",
       "emprestimo                       \n",
       "no          41.204687  0.592153  \n",
       "yes         35.024427  0.522219  "
      ]
     },
     "execution_count": 55,
     "metadata": {},
     "output_type": "execute_result"
    }
   ],
   "source": [
    "#Aplicando funções sobre os agrupamentos\n",
    "df.groupby(\"emprestimo\").mean()"
   ]
  },
  {
   "cell_type": "code",
   "execution_count": 224,
   "metadata": {},
   "outputs": [
    {
     "data": {
      "text/html": [
       "<div>\n",
       "<style scoped>\n",
       "    .dataframe tbody tr th:only-of-type {\n",
       "        vertical-align: middle;\n",
       "    }\n",
       "\n",
       "    .dataframe tbody tr th {\n",
       "        vertical-align: top;\n",
       "    }\n",
       "\n",
       "    .dataframe thead th {\n",
       "        text-align: right;\n",
       "    }\n",
       "</style>\n",
       "<table border=\"1\" class=\"dataframe\">\n",
       "  <thead>\n",
       "    <tr style=\"text-align: right;\">\n",
       "      <th></th>\n",
       "      <th>idade</th>\n",
       "      <th>emprego</th>\n",
       "      <th>estado civil</th>\n",
       "      <th>educacao</th>\n",
       "      <th>default</th>\n",
       "      <th>balance</th>\n",
       "      <th>housing</th>\n",
       "      <th>contato</th>\n",
       "      <th>dia</th>\n",
       "      <th>mes</th>\n",
       "      <th>duracao</th>\n",
       "      <th>campanha</th>\n",
       "      <th>pdays</th>\n",
       "      <th>previous</th>\n",
       "      <th>poutcame</th>\n",
       "    </tr>\n",
       "    <tr>\n",
       "      <th>emprestimo</th>\n",
       "      <th></th>\n",
       "      <th></th>\n",
       "      <th></th>\n",
       "      <th></th>\n",
       "      <th></th>\n",
       "      <th></th>\n",
       "      <th></th>\n",
       "      <th></th>\n",
       "      <th></th>\n",
       "      <th></th>\n",
       "      <th></th>\n",
       "      <th></th>\n",
       "      <th></th>\n",
       "      <th></th>\n",
       "      <th></th>\n",
       "    </tr>\n",
       "  </thead>\n",
       "  <tbody>\n",
       "    <tr>\n",
       "      <th>no</th>\n",
       "      <td>37975</td>\n",
       "      <td>37975</td>\n",
       "      <td>37975</td>\n",
       "      <td>37975</td>\n",
       "      <td>37975</td>\n",
       "      <td>37975</td>\n",
       "      <td>37975</td>\n",
       "      <td>37910</td>\n",
       "      <td>37975</td>\n",
       "      <td>37975</td>\n",
       "      <td>37966</td>\n",
       "      <td>37975</td>\n",
       "      <td>37975</td>\n",
       "      <td>37975</td>\n",
       "      <td>37975</td>\n",
       "    </tr>\n",
       "    <tr>\n",
       "      <th>yes</th>\n",
       "      <td>7246</td>\n",
       "      <td>7246</td>\n",
       "      <td>7246</td>\n",
       "      <td>7246</td>\n",
       "      <td>7246</td>\n",
       "      <td>7246</td>\n",
       "      <td>7246</td>\n",
       "      <td>7235</td>\n",
       "      <td>7246</td>\n",
       "      <td>7246</td>\n",
       "      <td>7244</td>\n",
       "      <td>7246</td>\n",
       "      <td>7246</td>\n",
       "      <td>7246</td>\n",
       "      <td>7246</td>\n",
       "    </tr>\n",
       "  </tbody>\n",
       "</table>\n",
       "</div>"
      ],
      "text/plain": [
       "            idade  emprego  estado civil  educacao  default  balance  housing  \\\n",
       "emprestimo                                                                      \n",
       "no          37975    37975         37975     37975    37975    37975    37975   \n",
       "yes          7246     7246          7246      7246     7246     7246     7246   \n",
       "\n",
       "            contato    dia    mes  duracao  campanha  pdays  previous  \\\n",
       "emprestimo                                                              \n",
       "no            37910  37975  37975    37966     37975  37975     37975   \n",
       "yes            7235   7246   7246     7244      7246   7246      7246   \n",
       "\n",
       "            poutcame  \n",
       "emprestimo            \n",
       "no             37975  \n",
       "yes             7246  "
      ]
     },
     "execution_count": 224,
     "metadata": {},
     "output_type": "execute_result"
    }
   ],
   "source": [
    "df.groupby(\"emprestimo\").count()\n",
    "#df.emprestimo.value_counts()"
   ]
  },
  {
   "cell_type": "code",
   "execution_count": 57,
   "metadata": {},
   "outputs": [
    {
     "data": {
      "text/html": [
       "<div>\n",
       "<style scoped>\n",
       "    .dataframe tbody tr th:only-of-type {\n",
       "        vertical-align: middle;\n",
       "    }\n",
       "\n",
       "    .dataframe tbody tr th {\n",
       "        vertical-align: top;\n",
       "    }\n",
       "\n",
       "    .dataframe thead th {\n",
       "        text-align: right;\n",
       "    }\n",
       "</style>\n",
       "<table border=\"1\" class=\"dataframe\">\n",
       "  <thead>\n",
       "    <tr style=\"text-align: right;\">\n",
       "      <th></th>\n",
       "      <th></th>\n",
       "      <th>idade</th>\n",
       "      <th>balance</th>\n",
       "      <th>dia</th>\n",
       "      <th>duracao</th>\n",
       "      <th>campanha</th>\n",
       "      <th>pdays</th>\n",
       "      <th>previous</th>\n",
       "    </tr>\n",
       "    <tr>\n",
       "      <th>emprestimo</th>\n",
       "      <th>estado civil</th>\n",
       "      <th></th>\n",
       "      <th></th>\n",
       "      <th></th>\n",
       "      <th></th>\n",
       "      <th></th>\n",
       "      <th></th>\n",
       "      <th></th>\n",
       "    </tr>\n",
       "  </thead>\n",
       "  <tbody>\n",
       "    <tr>\n",
       "      <td rowspan=\"3\" valign=\"top\">no</td>\n",
       "      <td>divorced</td>\n",
       "      <td>46.012133</td>\n",
       "      <td>1278.097993</td>\n",
       "      <td>15.688521</td>\n",
       "      <td>262.818585</td>\n",
       "      <td>2.602193</td>\n",
       "      <td>43.178721</td>\n",
       "      <td>0.575362</td>\n",
       "    </tr>\n",
       "    <tr>\n",
       "      <td>married</td>\n",
       "      <td>43.663446</td>\n",
       "      <td>1548.183990</td>\n",
       "      <td>15.810647</td>\n",
       "      <td>255.551408</td>\n",
       "      <td>2.838305</td>\n",
       "      <td>38.417136</td>\n",
       "      <td>0.564603</td>\n",
       "    </tr>\n",
       "    <tr>\n",
       "      <td>single</td>\n",
       "      <td>33.708034</td>\n",
       "      <td>1400.515277</td>\n",
       "      <td>15.700036</td>\n",
       "      <td>266.525791</td>\n",
       "      <td>2.628325</td>\n",
       "      <td>46.095884</td>\n",
       "      <td>0.654475</td>\n",
       "    </tr>\n",
       "    <tr>\n",
       "      <td rowspan=\"3\" valign=\"top\">yes</td>\n",
       "      <td>divorced</td>\n",
       "      <td>44.716612</td>\n",
       "      <td>717.111835</td>\n",
       "      <td>16.298588</td>\n",
       "      <td>261.144408</td>\n",
       "      <td>2.764387</td>\n",
       "      <td>30.870793</td>\n",
       "      <td>0.439739</td>\n",
       "    </tr>\n",
       "    <tr>\n",
       "      <td>married</td>\n",
       "      <td>42.185368</td>\n",
       "      <td>834.025531</td>\n",
       "      <td>16.061360</td>\n",
       "      <td>243.327039</td>\n",
       "      <td>2.863120</td>\n",
       "      <td>35.792534</td>\n",
       "      <td>0.523493</td>\n",
       "    </tr>\n",
       "    <tr>\n",
       "      <td>single</td>\n",
       "      <td>33.686899</td>\n",
       "      <td>637.957332</td>\n",
       "      <td>15.752404</td>\n",
       "      <td>266.291040</td>\n",
       "      <td>2.792668</td>\n",
       "      <td>35.171875</td>\n",
       "      <td>0.564303</td>\n",
       "    </tr>\n",
       "  </tbody>\n",
       "</table>\n",
       "</div>"
      ],
      "text/plain": [
       "                             idade      balance        dia     duracao  \\\n",
       "emprestimo estado civil                                                  \n",
       "no         divorced      46.012133  1278.097993  15.688521  262.818585   \n",
       "           married       43.663446  1548.183990  15.810647  255.551408   \n",
       "           single        33.708034  1400.515277  15.700036  266.525791   \n",
       "yes        divorced      44.716612   717.111835  16.298588  261.144408   \n",
       "           married       42.185368   834.025531  16.061360  243.327039   \n",
       "           single        33.686899   637.957332  15.752404  266.291040   \n",
       "\n",
       "                         campanha      pdays  previous  \n",
       "emprestimo estado civil                                 \n",
       "no         divorced      2.602193  43.178721  0.575362  \n",
       "           married       2.838305  38.417136  0.564603  \n",
       "           single        2.628325  46.095884  0.654475  \n",
       "yes        divorced      2.764387  30.870793  0.439739  \n",
       "           married       2.863120  35.792534  0.523493  \n",
       "           single        2.792668  35.171875  0.564303  "
      ]
     },
     "execution_count": 57,
     "metadata": {},
     "output_type": "execute_result"
    }
   ],
   "source": [
    "df.groupby([\"emprestimo\",\"estado civil\"]).mean()"
   ]
  },
  {
   "cell_type": "code",
   "execution_count": 226,
   "metadata": {},
   "outputs": [
    {
     "data": {
      "text/html": [
       "<div>\n",
       "<style scoped>\n",
       "    .dataframe tbody tr th:only-of-type {\n",
       "        vertical-align: middle;\n",
       "    }\n",
       "\n",
       "    .dataframe tbody tr th {\n",
       "        vertical-align: top;\n",
       "    }\n",
       "\n",
       "    .dataframe thead tr th {\n",
       "        text-align: left;\n",
       "    }\n",
       "\n",
       "    .dataframe thead tr:last-of-type th {\n",
       "        text-align: right;\n",
       "    }\n",
       "</style>\n",
       "<table border=\"1\" class=\"dataframe\">\n",
       "  <thead>\n",
       "    <tr>\n",
       "      <th></th>\n",
       "      <th></th>\n",
       "      <th colspan=\"2\" halign=\"left\">idade</th>\n",
       "      <th colspan=\"2\" halign=\"left\">balance</th>\n",
       "      <th colspan=\"2\" halign=\"left\">dia</th>\n",
       "      <th colspan=\"2\" halign=\"left\">duracao</th>\n",
       "      <th colspan=\"2\" halign=\"left\">campanha</th>\n",
       "      <th colspan=\"2\" halign=\"left\">pdays</th>\n",
       "      <th colspan=\"2\" halign=\"left\">previous</th>\n",
       "    </tr>\n",
       "    <tr>\n",
       "      <th></th>\n",
       "      <th></th>\n",
       "      <th>count</th>\n",
       "      <th>median</th>\n",
       "      <th>count</th>\n",
       "      <th>median</th>\n",
       "      <th>count</th>\n",
       "      <th>median</th>\n",
       "      <th>count</th>\n",
       "      <th>median</th>\n",
       "      <th>count</th>\n",
       "      <th>median</th>\n",
       "      <th>count</th>\n",
       "      <th>median</th>\n",
       "      <th>count</th>\n",
       "      <th>median</th>\n",
       "    </tr>\n",
       "    <tr>\n",
       "      <th>emprestimo</th>\n",
       "      <th>estado civil</th>\n",
       "      <th></th>\n",
       "      <th></th>\n",
       "      <th></th>\n",
       "      <th></th>\n",
       "      <th></th>\n",
       "      <th></th>\n",
       "      <th></th>\n",
       "      <th></th>\n",
       "      <th></th>\n",
       "      <th></th>\n",
       "      <th></th>\n",
       "      <th></th>\n",
       "      <th></th>\n",
       "      <th></th>\n",
       "    </tr>\n",
       "  </thead>\n",
       "  <tbody>\n",
       "    <tr>\n",
       "      <th rowspan=\"3\" valign=\"top\">no</th>\n",
       "      <th>divorced</th>\n",
       "      <td>4286</td>\n",
       "      <td>45</td>\n",
       "      <td>4286</td>\n",
       "      <td>385</td>\n",
       "      <td>4286</td>\n",
       "      <td>16</td>\n",
       "      <td>4283</td>\n",
       "      <td>180.0</td>\n",
       "      <td>4286</td>\n",
       "      <td>2</td>\n",
       "      <td>4286</td>\n",
       "      <td>-1</td>\n",
       "      <td>4286</td>\n",
       "      <td>0</td>\n",
       "    </tr>\n",
       "    <tr>\n",
       "      <th>married</th>\n",
       "      <td>22561</td>\n",
       "      <td>42</td>\n",
       "      <td>22561</td>\n",
       "      <td>524</td>\n",
       "      <td>22561</td>\n",
       "      <td>16</td>\n",
       "      <td>22555</td>\n",
       "      <td>179.0</td>\n",
       "      <td>22561</td>\n",
       "      <td>2</td>\n",
       "      <td>22561</td>\n",
       "      <td>-1</td>\n",
       "      <td>22561</td>\n",
       "      <td>0</td>\n",
       "    </tr>\n",
       "    <tr>\n",
       "      <th>single</th>\n",
       "      <td>11128</td>\n",
       "      <td>32</td>\n",
       "      <td>11128</td>\n",
       "      <td>482</td>\n",
       "      <td>11128</td>\n",
       "      <td>16</td>\n",
       "      <td>11128</td>\n",
       "      <td>188.0</td>\n",
       "      <td>11128</td>\n",
       "      <td>2</td>\n",
       "      <td>11128</td>\n",
       "      <td>-1</td>\n",
       "      <td>11128</td>\n",
       "      <td>0</td>\n",
       "    </tr>\n",
       "    <tr>\n",
       "      <th rowspan=\"3\" valign=\"top\">yes</th>\n",
       "      <th>divorced</th>\n",
       "      <td>921</td>\n",
       "      <td>45</td>\n",
       "      <td>921</td>\n",
       "      <td>199</td>\n",
       "      <td>921</td>\n",
       "      <td>17</td>\n",
       "      <td>921</td>\n",
       "      <td>170.0</td>\n",
       "      <td>921</td>\n",
       "      <td>2</td>\n",
       "      <td>921</td>\n",
       "      <td>-1</td>\n",
       "      <td>921</td>\n",
       "      <td>0</td>\n",
       "    </tr>\n",
       "    <tr>\n",
       "      <th>married</th>\n",
       "      <td>4661</td>\n",
       "      <td>41</td>\n",
       "      <td>4661</td>\n",
       "      <td>278</td>\n",
       "      <td>4661</td>\n",
       "      <td>17</td>\n",
       "      <td>4660</td>\n",
       "      <td>171.0</td>\n",
       "      <td>4661</td>\n",
       "      <td>2</td>\n",
       "      <td>4661</td>\n",
       "      <td>-1</td>\n",
       "      <td>4661</td>\n",
       "      <td>0</td>\n",
       "    </tr>\n",
       "    <tr>\n",
       "      <th>single</th>\n",
       "      <td>1664</td>\n",
       "      <td>32</td>\n",
       "      <td>1664</td>\n",
       "      <td>229</td>\n",
       "      <td>1664</td>\n",
       "      <td>16</td>\n",
       "      <td>1663</td>\n",
       "      <td>186.0</td>\n",
       "      <td>1664</td>\n",
       "      <td>2</td>\n",
       "      <td>1664</td>\n",
       "      <td>-1</td>\n",
       "      <td>1664</td>\n",
       "      <td>0</td>\n",
       "    </tr>\n",
       "  </tbody>\n",
       "</table>\n",
       "</div>"
      ],
      "text/plain": [
       "                         idade        balance           dia        duracao  \\\n",
       "                         count median   count median  count median   count   \n",
       "emprestimo estado civil                                                      \n",
       "no         divorced       4286     45    4286    385   4286     16    4283   \n",
       "           married       22561     42   22561    524  22561     16   22555   \n",
       "           single        11128     32   11128    482  11128     16   11128   \n",
       "yes        divorced        921     45     921    199    921     17     921   \n",
       "           married        4661     41    4661    278   4661     17    4660   \n",
       "           single         1664     32    1664    229   1664     16    1663   \n",
       "\n",
       "                               campanha         pdays        previous         \n",
       "                        median    count median  count median    count median  \n",
       "emprestimo estado civil                                                       \n",
       "no         divorced      180.0     4286      2   4286     -1     4286      0  \n",
       "           married       179.0    22561      2  22561     -1    22561      0  \n",
       "           single        188.0    11128      2  11128     -1    11128      0  \n",
       "yes        divorced      170.0      921      2    921     -1      921      0  \n",
       "           married       171.0     4661      2   4661     -1     4661      0  \n",
       "           single        186.0     1664      2   1664     -1     1664      0  "
      ]
     },
     "execution_count": 226,
     "metadata": {},
     "output_type": "execute_result"
    }
   ],
   "source": [
    "df.groupby([\"emprestimo\",\"estado civil\"]).agg([\"count\",\"median\"])"
   ]
  },
  {
   "cell_type": "code",
   "execution_count": 304,
   "metadata": {},
   "outputs": [
    {
     "data": {
      "text/plain": [
       "{'unknown': 261,\n",
       " 'technician': 2990,\n",
       " 'retired': 1566,\n",
       " 'services': 1091,\n",
       " 'admin.': 1602,\n",
       " 'management': 4235,\n",
       " 'entrepreneur': 471,\n",
       " 'blue-collar': 2133,\n",
       " 'unemployed': 714,\n",
       " 'housemaid': 750,\n",
       " 'self-employed': 715,\n",
       " 'student': 681}"
      ]
     },
     "execution_count": 304,
     "metadata": {},
     "output_type": "execute_result"
    }
   ],
   "source": [
    "def média(valor):\n",
    "    return valor.sum()/len(valor)\n",
    "\n",
    "def agrupa(lista):\n",
    "    lista_def = []\n",
    "    for l in lista:\n",
    "        lista_def.append(l)\n",
    "    return lista_def\n",
    "    #return ','.join(lista)\n",
    "    \n",
    "def agrupa_conta(lista):\n",
    "    dict_conta = {}\n",
    "    for l in lista:\n",
    "        if l in dict_conta.keys():\n",
    "            dict_conta[l] = dict_conta[l] + 1\n",
    "        else:\n",
    "            dict_conta[l] = 1\n",
    "    return dict_conta    \n",
    "\n",
    "df_agrupa = df.groupby([\"emprestimo\",\"housing\"]).agg({'emprego':agrupa_conta, 'educacao':agrupa_conta})\n",
    "#df.groupby([\"emprestimo\",\"housing\"]).agg([\"count\",\"mean\",média])\n",
    "df_agrupa.reset_index(inplace=True)\n",
    "df_agrupa[(df_agrupa.emprestimo=='no') & (df_agrupa.housing=='no')]['emprego'][0]"
   ]
  },
  {
   "cell_type": "code",
   "execution_count": 298,
   "metadata": {},
   "outputs": [
    {
     "data": {
      "text/plain": [
       "management       4235\n",
       "technician       2990\n",
       "blue-collar      2133\n",
       "admin.           1602\n",
       "retired          1566\n",
       "services         1091\n",
       "housemaid         750\n",
       "self-employed     715\n",
       "unemployed        714\n",
       "student           681\n",
       "entrepreneur      471\n",
       "unknown           261\n",
       "Name: emprego, dtype: int64"
      ]
     },
     "execution_count": 298,
     "metadata": {},
     "output_type": "execute_result"
    }
   ],
   "source": [
    "df[(df.emprestimo=='no') & (df.housing=='no')]['emprego'].value_counts()"
   ]
  },
  {
   "cell_type": "code",
   "execution_count": 315,
   "metadata": {},
   "outputs": [],
   "source": [
    "def divide_idade(valor):\n",
    "    return valor/2\n",
    "df['idade_2'] = df['idade'].apply(divide_idade)"
   ]
  },
  {
   "cell_type": "code",
   "execution_count": 337,
   "metadata": {
    "collapsed": true,
    "jupyter": {
     "outputs_hidden": true
    }
   },
   "outputs": [
    {
     "data": {
      "text/plain": [
       "may    13768\n",
       "jul     6895\n",
       "aug     6247\n",
       "jun     5341\n",
       "nov     3978\n",
       "apr     2932\n",
       "feb     2649\n",
       "jan     1403\n",
       "oct      738\n",
       "sep      579\n",
       "mar      477\n",
       "dec      214\n",
       "Name: mes, dtype: int64"
      ]
     },
     "execution_count": 337,
     "metadata": {},
     "output_type": "execute_result"
    }
   ],
   "source": [
    "def traduz(mes):\n",
    "    if mes=='jan':\n",
    "        return 'janeiro'\n",
    "    else:\n",
    "        if mes=='feb':\n",
    "            return 'fevereiro'\n",
    "        else:\n",
    "            if mes=='mar':\n",
    "                return 'março'\n",
    "            else:\n",
    "                if mes=='apr':\n",
    "                    return 'abril'\n",
    "                else:\n",
    "                    if mes=='may':\n",
    "                        return 'maio'\n",
    "                    else:\n",
    "                        if mes=='jun':\n",
    "                            return 'junho'\n",
    "                        else:\n",
    "                            if mes=='jul':\n",
    "                                return 'julho'\n",
    "                            else:\n",
    "                                if mes=='aug':\n",
    "                                    return 'agosto'\n",
    "                                else:\n",
    "                                    if mes=='sep':\n",
    "                                        return 'setembro'\n",
    "                                    else:\n",
    "                                        if mes=='oct':\n",
    "                                            return 'outubro'\n",
    "                                        else:\n",
    "                                            if mes=='nov':\n",
    "                                                return 'novembro'\n",
    "                                            else:\n",
    "                                                if mes=='dec':\n",
    "                                                    return 'dezembro'\n",
    "\n",
    "df['mes_novo'] = df['mes'].apply(traduz)\n",
    "df['mes'].value_counts()"
   ]
  },
  {
   "cell_type": "code",
   "execution_count": 339,
   "metadata": {},
   "outputs": [],
   "source": [
    "def tradutor(valor):\n",
    "    if valor<=15:\n",
    "        return 'criança'\n",
    "    else:\n",
    "        if valor<=25:\n",
    "            return 'adolescente'\n",
    "        else:\n",
    "            if valor<=60:\n",
    "                return 'adulto'"
   ]
  },
  {
   "cell_type": "code",
   "execution_count": 339,
   "metadata": {},
   "outputs": [
    {
     "data": {
      "text/plain": [
       "adulto         42695\n",
       "adolescente     1336\n",
       "idoso           1190\n",
       "Name: faixa, dtype: int64"
      ]
     },
     "execution_count": 339,
     "metadata": {},
     "output_type": "execute_result"
    }
   ],
   "source": [
    "            else:\n",
    "                return 'idoso'\n",
    "#faixa de idade - até <15 crianca, >=15<=25 adolescente,>=26<=60 adulto,>60idoso\n",
    "df['faixa'] = df['idade'].apply(tradutor)\n",
    "df['faixa'].value_counts()"
   ]
  },
  {
   "cell_type": "code",
   "execution_count": 62,
   "metadata": {},
   "outputs": [
    {
     "data": {
      "text/html": [
       "<div>\n",
       "<style scoped>\n",
       "    .dataframe tbody tr th:only-of-type {\n",
       "        vertical-align: middle;\n",
       "    }\n",
       "\n",
       "    .dataframe tbody tr th {\n",
       "        vertical-align: top;\n",
       "    }\n",
       "\n",
       "    .dataframe thead tr th {\n",
       "        text-align: left;\n",
       "    }\n",
       "</style>\n",
       "<table border=\"1\" class=\"dataframe\">\n",
       "  <thead>\n",
       "    <tr>\n",
       "      <th></th>\n",
       "      <th>emprestimo</th>\n",
       "      <th colspan=\"2\" halign=\"left\">no</th>\n",
       "      <th colspan=\"2\" halign=\"left\">yes</th>\n",
       "    </tr>\n",
       "    <tr>\n",
       "      <th></th>\n",
       "      <th>housing</th>\n",
       "      <th>no</th>\n",
       "      <th>yes</th>\n",
       "      <th>no</th>\n",
       "      <th>yes</th>\n",
       "    </tr>\n",
       "  </thead>\n",
       "  <tbody>\n",
       "    <tr>\n",
       "      <td rowspan=\"2\" valign=\"top\">idade</td>\n",
       "      <td>count</td>\n",
       "      <td>17209.0</td>\n",
       "      <td>20766.0</td>\n",
       "      <td>2877.0</td>\n",
       "      <td>4369.0</td>\n",
       "    </tr>\n",
       "    <tr>\n",
       "      <td>median</td>\n",
       "      <td>42.0</td>\n",
       "      <td>37.0</td>\n",
       "      <td>43.0</td>\n",
       "      <td>38.0</td>\n",
       "    </tr>\n",
       "    <tr>\n",
       "      <td rowspan=\"2\" valign=\"top\">balance</td>\n",
       "      <td>count</td>\n",
       "      <td>17209.0</td>\n",
       "      <td>20766.0</td>\n",
       "      <td>2877.0</td>\n",
       "      <td>4369.0</td>\n",
       "    </tr>\n",
       "    <tr>\n",
       "      <td>median</td>\n",
       "      <td>580.0</td>\n",
       "      <td>444.0</td>\n",
       "      <td>230.0</td>\n",
       "      <td>273.0</td>\n",
       "    </tr>\n",
       "    <tr>\n",
       "      <td rowspan=\"2\" valign=\"top\">dia</td>\n",
       "      <td>count</td>\n",
       "      <td>17209.0</td>\n",
       "      <td>20766.0</td>\n",
       "      <td>2877.0</td>\n",
       "      <td>4369.0</td>\n",
       "    </tr>\n",
       "    <tr>\n",
       "      <td>median</td>\n",
       "      <td>17.0</td>\n",
       "      <td>15.0</td>\n",
       "      <td>17.0</td>\n",
       "      <td>16.0</td>\n",
       "    </tr>\n",
       "    <tr>\n",
       "      <td rowspan=\"2\" valign=\"top\">duracao</td>\n",
       "      <td>count</td>\n",
       "      <td>17207.0</td>\n",
       "      <td>20759.0</td>\n",
       "      <td>2875.0</td>\n",
       "      <td>4369.0</td>\n",
       "    </tr>\n",
       "    <tr>\n",
       "      <td>median</td>\n",
       "      <td>179.0</td>\n",
       "      <td>183.0</td>\n",
       "      <td>171.0</td>\n",
       "      <td>176.0</td>\n",
       "    </tr>\n",
       "    <tr>\n",
       "      <td rowspan=\"2\" valign=\"top\">campanha</td>\n",
       "      <td>count</td>\n",
       "      <td>17209.0</td>\n",
       "      <td>20766.0</td>\n",
       "      <td>2877.0</td>\n",
       "      <td>4369.0</td>\n",
       "    </tr>\n",
       "    <tr>\n",
       "      <td>median</td>\n",
       "      <td>2.0</td>\n",
       "      <td>2.0</td>\n",
       "      <td>2.0</td>\n",
       "      <td>2.0</td>\n",
       "    </tr>\n",
       "    <tr>\n",
       "      <td rowspan=\"2\" valign=\"top\">pdays</td>\n",
       "      <td>count</td>\n",
       "      <td>17209.0</td>\n",
       "      <td>20766.0</td>\n",
       "      <td>2877.0</td>\n",
       "      <td>4369.0</td>\n",
       "    </tr>\n",
       "    <tr>\n",
       "      <td>median</td>\n",
       "      <td>-1.0</td>\n",
       "      <td>-1.0</td>\n",
       "      <td>-1.0</td>\n",
       "      <td>-1.0</td>\n",
       "    </tr>\n",
       "    <tr>\n",
       "      <td rowspan=\"2\" valign=\"top\">previous</td>\n",
       "      <td>count</td>\n",
       "      <td>17209.0</td>\n",
       "      <td>20766.0</td>\n",
       "      <td>2877.0</td>\n",
       "      <td>4369.0</td>\n",
       "    </tr>\n",
       "    <tr>\n",
       "      <td>median</td>\n",
       "      <td>0.0</td>\n",
       "      <td>0.0</td>\n",
       "      <td>0.0</td>\n",
       "      <td>0.0</td>\n",
       "    </tr>\n",
       "  </tbody>\n",
       "</table>\n",
       "</div>"
      ],
      "text/plain": [
       "emprestimo            no              yes        \n",
       "housing               no      yes      no     yes\n",
       "idade    count   17209.0  20766.0  2877.0  4369.0\n",
       "         median     42.0     37.0    43.0    38.0\n",
       "balance  count   17209.0  20766.0  2877.0  4369.0\n",
       "         median    580.0    444.0   230.0   273.0\n",
       "dia      count   17209.0  20766.0  2877.0  4369.0\n",
       "         median     17.0     15.0    17.0    16.0\n",
       "duracao  count   17207.0  20759.0  2875.0  4369.0\n",
       "         median    179.0    183.0   171.0   176.0\n",
       "campanha count   17209.0  20766.0  2877.0  4369.0\n",
       "         median      2.0      2.0     2.0     2.0\n",
       "pdays    count   17209.0  20766.0  2877.0  4369.0\n",
       "         median     -1.0     -1.0    -1.0    -1.0\n",
       "previous count   17209.0  20766.0  2877.0  4369.0\n",
       "         median      0.0      0.0     0.0     0.0"
      ]
     },
     "execution_count": 62,
     "metadata": {},
     "output_type": "execute_result"
    }
   ],
   "source": [
    "#Utilizando a função transposta\n",
    "df.groupby([\"emprestimo\",\"housing\"]).agg([\"count\",\"median\"]).T"
   ]
  },
  {
   "cell_type": "markdown",
   "metadata": {},
   "source": [
    "----------------------------\n",
    "<h2> Atividade 3</h2>\n",
    "<i> Hora de Praticar </i>"
   ]
  }
 ],
 "metadata": {
  "kernelspec": {
   "display_name": "Python 3",
   "language": "python",
   "name": "python3"
  },
  "language_info": {
   "codemirror_mode": {
    "name": "ipython",
    "version": 3
   },
   "file_extension": ".py",
   "mimetype": "text/x-python",
   "name": "python",
   "nbconvert_exporter": "python",
   "pygments_lexer": "ipython3",
   "version": "3.7.3"
  }
 },
 "nbformat": 4,
 "nbformat_minor": 4
}
