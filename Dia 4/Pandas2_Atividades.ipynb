{
 "cells": [
  {
   "cell_type": "markdown",
   "metadata": {},
   "source": [
    "<h3> Resolução Atividade 1 </h3>"
   ]
  },
  {
   "cell_type": "markdown",
   "metadata": {},
   "source": [
    "------------"
   ]
  },
  {
   "cell_type": "code",
   "execution_count": 2,
   "metadata": {},
   "outputs": [],
   "source": [
    "#Importação das bibliotecas necessárias\n",
    "import pandas as pd"
   ]
  },
  {
   "cell_type": "code",
   "execution_count": 44,
   "metadata": {},
   "outputs": [],
   "source": [
    "#Abrindo o arquivo\n",
    "df = pd.read_csv(\"world_happiness_report_2015.csv\")"
   ]
  },
  {
   "cell_type": "code",
   "execution_count": 45,
   "metadata": {},
   "outputs": [],
   "source": [
    "#Aula passada - Para manter os mesmos nomes de colunas\n",
    "df.rename(columns={\"happiness rank\":\"rank_felicidade\",\"happiness score\":\"score_felicidade\",\"standard error\":\"stand_error\",\n",
    "                      \"economy (GDP per Capita)\":\"PIB\",\"health (Life Expectancy)\":\"expect_vida\",\n",
    "                      \"trust (Government Corruption)\":\"corrupcao\"}, inplace=True)"
   ]
  },
  {
   "cell_type": "code",
   "execution_count": 8,
   "metadata": {},
   "outputs": [
    {
     "data": {
      "text/plain": [
       "5.424487179487181"
      ]
     },
     "execution_count": 8,
     "metadata": {},
     "output_type": "execute_result"
    }
   ],
   "source": [
    "#Média do score_felicidade\n",
    "df.score_felicidade.mean()"
   ]
  },
  {
   "cell_type": "code",
   "execution_count": 9,
   "metadata": {},
   "outputs": [
    {
     "data": {
      "text/plain": [
       "141.37172"
      ]
     },
     "execution_count": 9,
     "metadata": {},
     "output_type": "execute_result"
    }
   ],
   "source": [
    "#Soma do PIB\n",
    "df.PIB.sum()"
   ]
  },
  {
   "cell_type": "code",
   "execution_count": 11,
   "metadata": {},
   "outputs": [
    {
     "data": {
      "text/plain": [
       "71.3332"
      ]
     },
     "execution_count": 11,
     "metadata": {},
     "output_type": "execute_result"
    }
   ],
   "source": [
    "#Soma do freedom\n",
    "df.freedom.sum()"
   ]
  },
  {
   "cell_type": "code",
   "execution_count": 12,
   "metadata": {},
   "outputs": [
    {
     "data": {
      "text/plain": [
       "24.596449999999997"
      ]
     },
     "execution_count": 12,
     "metadata": {},
     "output_type": "execute_result"
    }
   ],
   "source": [
    "#Soma corrupcao\n",
    "df.corrupcao.sum()"
   ]
  },
  {
   "cell_type": "code",
   "execution_count": 15,
   "metadata": {},
   "outputs": [
    {
     "data": {
      "text/plain": [
       "country               0\n",
       "region                0\n",
       "rank_felicidade       0\n",
       "score_felicidade      8\n",
       "stand_error           1\n",
       "PIB                   0\n",
       "family                0\n",
       "expect_vida           0\n",
       "freedom               0\n",
       "corrupcao             0\n",
       "generosity            0\n",
       "dystopia residual    14\n",
       "dtype: int64"
      ]
     },
     "execution_count": 15,
     "metadata": {},
     "output_type": "execute_result"
    }
   ],
   "source": [
    "#Verificando dados faltantes e quais são.\n",
    "df.isna().sum()"
   ]
  },
  {
   "cell_type": "code",
   "execution_count": 14,
   "metadata": {},
   "outputs": [
    {
     "data": {
      "text/plain": [
       "6"
      ]
     },
     "execution_count": 14,
     "metadata": {},
     "output_type": "execute_result"
    }
   ],
   "source": [
    "#Verificando quantidade de dados faltantes\n",
    "df.duplicated().sum()"
   ]
  },
  {
   "cell_type": "code",
   "execution_count": 46,
   "metadata": {},
   "outputs": [],
   "source": [
    "#Novo dataframe com dados faltantes substituidos pot -9999\n",
    "df2 = df.fillna({\"score_felicidade\":-9999})"
   ]
  },
  {
   "cell_type": "code",
   "execution_count": 18,
   "metadata": {},
   "outputs": [
    {
     "data": {
      "text/html": [
       "<div>\n",
       "<style scoped>\n",
       "    .dataframe tbody tr th:only-of-type {\n",
       "        vertical-align: middle;\n",
       "    }\n",
       "\n",
       "    .dataframe tbody tr th {\n",
       "        vertical-align: top;\n",
       "    }\n",
       "\n",
       "    .dataframe thead th {\n",
       "        text-align: right;\n",
       "    }\n",
       "</style>\n",
       "<table border=\"1\" class=\"dataframe\">\n",
       "  <thead>\n",
       "    <tr style=\"text-align: right;\">\n",
       "      <th></th>\n",
       "      <th>country</th>\n",
       "      <th>region</th>\n",
       "      <th>rank_felicidade</th>\n",
       "      <th>score_felicidade</th>\n",
       "      <th>stand_error</th>\n",
       "      <th>PIB</th>\n",
       "      <th>family</th>\n",
       "      <th>expect_vida</th>\n",
       "      <th>freedom</th>\n",
       "      <th>corrupcao</th>\n",
       "      <th>generosity</th>\n",
       "      <th>dystopia residual</th>\n",
       "    </tr>\n",
       "  </thead>\n",
       "  <tbody>\n",
       "    <tr>\n",
       "      <td>0</td>\n",
       "      <td>Switzerland</td>\n",
       "      <td>Western Europe</td>\n",
       "      <td>1</td>\n",
       "      <td>7.587</td>\n",
       "      <td>0.03411</td>\n",
       "      <td>1.39651</td>\n",
       "      <td>1.34951</td>\n",
       "      <td>0.94143</td>\n",
       "      <td>0.66557</td>\n",
       "      <td>0.41978</td>\n",
       "      <td>0.29678</td>\n",
       "      <td>2.51738</td>\n",
       "    </tr>\n",
       "    <tr>\n",
       "      <td>1</td>\n",
       "      <td>Iceland</td>\n",
       "      <td>Western Europe</td>\n",
       "      <td>2</td>\n",
       "      <td>7.561</td>\n",
       "      <td>0.04884</td>\n",
       "      <td>1.30232</td>\n",
       "      <td>1.40223</td>\n",
       "      <td>0.94784</td>\n",
       "      <td>0.62877</td>\n",
       "      <td>0.14145</td>\n",
       "      <td>0.43630</td>\n",
       "      <td>2.70201</td>\n",
       "    </tr>\n",
       "    <tr>\n",
       "      <td>2</td>\n",
       "      <td>Denmark</td>\n",
       "      <td>Western Europe</td>\n",
       "      <td>3</td>\n",
       "      <td>7.527</td>\n",
       "      <td>0.03328</td>\n",
       "      <td>1.32548</td>\n",
       "      <td>1.36058</td>\n",
       "      <td>0.87464</td>\n",
       "      <td>0.64938</td>\n",
       "      <td>0.48357</td>\n",
       "      <td>0.34139</td>\n",
       "      <td>2.49204</td>\n",
       "    </tr>\n",
       "    <tr>\n",
       "      <td>3</td>\n",
       "      <td>Norway</td>\n",
       "      <td>Western Europe</td>\n",
       "      <td>4</td>\n",
       "      <td>7.522</td>\n",
       "      <td>0.03880</td>\n",
       "      <td>1.45900</td>\n",
       "      <td>1.33095</td>\n",
       "      <td>0.88521</td>\n",
       "      <td>0.66973</td>\n",
       "      <td>0.36503</td>\n",
       "      <td>0.34699</td>\n",
       "      <td>2.46531</td>\n",
       "    </tr>\n",
       "    <tr>\n",
       "      <td>4</td>\n",
       "      <td>Canada</td>\n",
       "      <td>North America</td>\n",
       "      <td>5</td>\n",
       "      <td>7.427</td>\n",
       "      <td>0.03553</td>\n",
       "      <td>1.32629</td>\n",
       "      <td>1.32261</td>\n",
       "      <td>0.90563</td>\n",
       "      <td>0.63297</td>\n",
       "      <td>0.32957</td>\n",
       "      <td>0.45811</td>\n",
       "      <td>2.45176</td>\n",
       "    </tr>\n",
       "  </tbody>\n",
       "</table>\n",
       "</div>"
      ],
      "text/plain": [
       "       country          region  rank_felicidade  score_felicidade  \\\n",
       "0  Switzerland  Western Europe                1             7.587   \n",
       "1      Iceland  Western Europe                2             7.561   \n",
       "2      Denmark  Western Europe                3             7.527   \n",
       "3       Norway  Western Europe                4             7.522   \n",
       "4       Canada   North America                5             7.427   \n",
       "\n",
       "   stand_error      PIB   family  expect_vida  freedom  corrupcao  generosity  \\\n",
       "0      0.03411  1.39651  1.34951      0.94143  0.66557    0.41978     0.29678   \n",
       "1      0.04884  1.30232  1.40223      0.94784  0.62877    0.14145     0.43630   \n",
       "2      0.03328  1.32548  1.36058      0.87464  0.64938    0.48357     0.34139   \n",
       "3      0.03880  1.45900  1.33095      0.88521  0.66973    0.36503     0.34699   \n",
       "4      0.03553  1.32629  1.32261      0.90563  0.63297    0.32957     0.45811   \n",
       "\n",
       "   dystopia residual  \n",
       "0            2.51738  \n",
       "1            2.70201  \n",
       "2            2.49204  \n",
       "3            2.46531  \n",
       "4            2.45176  "
      ]
     },
     "execution_count": 18,
     "metadata": {},
     "output_type": "execute_result"
    }
   ],
   "source": [
    "df2.head()"
   ]
  },
  {
   "cell_type": "code",
   "execution_count": 19,
   "metadata": {},
   "outputs": [
    {
     "data": {
      "text/plain": [
       "10"
      ]
     },
     "execution_count": 19,
     "metadata": {},
     "output_type": "execute_result"
    }
   ],
   "source": [
    "#Verificando quantas regiões temos na base\n",
    "df.region.nunique()"
   ]
  },
  {
   "cell_type": "code",
   "execution_count": 20,
   "metadata": {},
   "outputs": [
    {
     "data": {
      "text/plain": [
       "array(['Western Europe', 'North America', 'Australia and New Zealand',\n",
       "       'Middle East and Northern Africa', 'Latin America and Caribbean',\n",
       "       'Southeastern Asia', 'Central and Eastern Europe', 'Eastern Asia',\n",
       "       'Sub-Saharan Africa', 'Southern Asia'], dtype=object)"
      ]
     },
     "execution_count": 20,
     "metadata": {},
     "output_type": "execute_result"
    }
   ],
   "source": [
    "#Verificando quais regiões temos na base\n",
    "df.region.unique()"
   ]
  },
  {
   "cell_type": "code",
   "execution_count": 21,
   "metadata": {},
   "outputs": [
    {
     "data": {
      "text/plain": [
       "Sub-Saharan Africa                 40\n",
       "Central and Eastern Europe         29\n",
       "Western Europe                     24\n",
       "Latin America and Caribbean        23\n",
       "Middle East and Northern Africa    21\n",
       "Southeastern Asia                   9\n",
       "Southern Asia                       7\n",
       "Eastern Asia                        6\n",
       "North America                       3\n",
       "Australia and New Zealand           2\n",
       "Name: region, dtype: int64"
      ]
     },
     "execution_count": 21,
     "metadata": {},
     "output_type": "execute_result"
    }
   ],
   "source": [
    "#Verificando a frequência dos dados\n",
    "df.region.value_counts()"
   ]
  },
  {
   "cell_type": "markdown",
   "metadata": {},
   "source": [
    "---------------------"
   ]
  },
  {
   "cell_type": "markdown",
   "metadata": {},
   "source": [
    "<h3> Resolução Atividade 2 </h3>"
   ]
  },
  {
   "cell_type": "markdown",
   "metadata": {},
   "source": [
    "-------------------------"
   ]
  },
  {
   "cell_type": "code",
   "execution_count": 43,
   "metadata": {},
   "outputs": [],
   "source": [
    "#Importando as bases\n",
    "df_a = pd.read_csv(\"nba_2015_a.csv\")\n",
    "df_b = pd.read_csv(\"nba_2015_b.csv\")\n",
    "df_c = pd.read_csv(\"nba_2015_c.csv\")\n",
    "df_d = pd.read_csv(\"nba_2015_d.csv\")\n",
    "bust = pd.read_csv(\"bust_nba_2015.csv\")"
   ]
  },
  {
   "cell_type": "code",
   "execution_count": 25,
   "metadata": {},
   "outputs": [
    {
     "data": {
      "text/html": [
       "<div>\n",
       "<style scoped>\n",
       "    .dataframe tbody tr th:only-of-type {\n",
       "        vertical-align: middle;\n",
       "    }\n",
       "\n",
       "    .dataframe tbody tr th {\n",
       "        vertical-align: top;\n",
       "    }\n",
       "\n",
       "    .dataframe thead th {\n",
       "        text-align: right;\n",
       "    }\n",
       "</style>\n",
       "<table border=\"1\" class=\"dataframe\">\n",
       "  <thead>\n",
       "    <tr style=\"text-align: right;\">\n",
       "      <th></th>\n",
       "      <th>Player</th>\n",
       "      <th>Position</th>\n",
       "      <th>ID</th>\n",
       "      <th>Draft Year</th>\n",
       "      <th>Projected SPM</th>\n",
       "      <th>Superstar</th>\n",
       "      <th>Starter</th>\n",
       "      <th>Role Player</th>\n",
       "    </tr>\n",
       "  </thead>\n",
       "  <tbody>\n",
       "    <tr>\n",
       "      <td>0</td>\n",
       "      <td>Karl-Anthony Towns</td>\n",
       "      <td>C</td>\n",
       "      <td>karl-anthony-towns</td>\n",
       "      <td>2015</td>\n",
       "      <td>1.030606</td>\n",
       "      <td>0.134767</td>\n",
       "      <td>0.427183</td>\n",
       "      <td>0.163083</td>\n",
       "    </tr>\n",
       "    <tr>\n",
       "      <td>1</td>\n",
       "      <td>Justise Winslow</td>\n",
       "      <td>SF</td>\n",
       "      <td>justise-winslow</td>\n",
       "      <td>2015</td>\n",
       "      <td>0.875329</td>\n",
       "      <td>0.083529</td>\n",
       "      <td>0.510905</td>\n",
       "      <td>0.176767</td>\n",
       "    </tr>\n",
       "    <tr>\n",
       "      <td>2</td>\n",
       "      <td>Stanley Johnson</td>\n",
       "      <td>SF</td>\n",
       "      <td>stanley-johnson</td>\n",
       "      <td>2015</td>\n",
       "      <td>0.679493</td>\n",
       "      <td>0.067800</td>\n",
       "      <td>0.423733</td>\n",
       "      <td>0.278500</td>\n",
       "    </tr>\n",
       "    <tr>\n",
       "      <td>3</td>\n",
       "      <td>Jahlil Okafor</td>\n",
       "      <td>C</td>\n",
       "      <td>jahlil-okafor</td>\n",
       "      <td>2015</td>\n",
       "      <td>0.521661</td>\n",
       "      <td>0.058717</td>\n",
       "      <td>0.409900</td>\n",
       "      <td>0.235533</td>\n",
       "    </tr>\n",
       "    <tr>\n",
       "      <td>4</td>\n",
       "      <td>D`Angelo Russell</td>\n",
       "      <td>PG</td>\n",
       "      <td>d-angelo-russell</td>\n",
       "      <td>2015</td>\n",
       "      <td>0.511967</td>\n",
       "      <td>0.152033</td>\n",
       "      <td>0.342283</td>\n",
       "      <td>0.096583</td>\n",
       "    </tr>\n",
       "  </tbody>\n",
       "</table>\n",
       "</div>"
      ],
      "text/plain": [
       "               Player Position                  ID  Draft Year  Projected SPM  \\\n",
       "0  Karl-Anthony Towns        C  karl-anthony-towns        2015       1.030606   \n",
       "1     Justise Winslow       SF     justise-winslow        2015       0.875329   \n",
       "2     Stanley Johnson       SF     stanley-johnson        2015       0.679493   \n",
       "3       Jahlil Okafor        C       jahlil-okafor        2015       0.521661   \n",
       "4    D`Angelo Russell       PG    d-angelo-russell        2015       0.511967   \n",
       "\n",
       "   Superstar   Starter  Role Player  \n",
       "0   0.134767  0.427183     0.163083  \n",
       "1   0.083529  0.510905     0.176767  \n",
       "2   0.067800  0.423733     0.278500  \n",
       "3   0.058717  0.409900     0.235533  \n",
       "4   0.152033  0.342283     0.096583  "
      ]
     },
     "execution_count": 25,
     "metadata": {},
     "output_type": "execute_result"
    }
   ],
   "source": [
    "#Cabeçalho do df_a\n",
    "df_a.head()"
   ]
  },
  {
   "cell_type": "code",
   "execution_count": 26,
   "metadata": {},
   "outputs": [
    {
     "data": {
      "text/html": [
       "<div>\n",
       "<style scoped>\n",
       "    .dataframe tbody tr th:only-of-type {\n",
       "        vertical-align: middle;\n",
       "    }\n",
       "\n",
       "    .dataframe tbody tr th {\n",
       "        vertical-align: top;\n",
       "    }\n",
       "\n",
       "    .dataframe thead th {\n",
       "        text-align: right;\n",
       "    }\n",
       "</style>\n",
       "<table border=\"1\" class=\"dataframe\">\n",
       "  <thead>\n",
       "    <tr style=\"text-align: right;\">\n",
       "      <th></th>\n",
       "      <th>Player</th>\n",
       "      <th>Position</th>\n",
       "      <th>ID</th>\n",
       "      <th>Draft Year</th>\n",
       "      <th>Projected SPM</th>\n",
       "      <th>Superstar</th>\n",
       "      <th>Starter</th>\n",
       "      <th>Role Player</th>\n",
       "    </tr>\n",
       "  </thead>\n",
       "  <tbody>\n",
       "    <tr>\n",
       "      <td>0</td>\n",
       "      <td>Austin Rivers</td>\n",
       "      <td>SG</td>\n",
       "      <td>austin-rivers</td>\n",
       "      <td>2012</td>\n",
       "      <td>-0.145824</td>\n",
       "      <td>0.036233</td>\n",
       "      <td>0.268867</td>\n",
       "      <td>0.334098</td>\n",
       "    </tr>\n",
       "    <tr>\n",
       "      <td>1</td>\n",
       "      <td>Royce White</td>\n",
       "      <td>SF</td>\n",
       "      <td>royce-white</td>\n",
       "      <td>2012</td>\n",
       "      <td>-0.193490</td>\n",
       "      <td>0.018400</td>\n",
       "      <td>0.243750</td>\n",
       "      <td>0.357367</td>\n",
       "    </tr>\n",
       "    <tr>\n",
       "      <td>2</td>\n",
       "      <td>Damian Lillard</td>\n",
       "      <td>PG</td>\n",
       "      <td>damian-lillard</td>\n",
       "      <td>2012</td>\n",
       "      <td>-0.200562</td>\n",
       "      <td>0.036314</td>\n",
       "      <td>0.259300</td>\n",
       "      <td>0.273522</td>\n",
       "    </tr>\n",
       "    <tr>\n",
       "      <td>3</td>\n",
       "      <td>Tony Wroten</td>\n",
       "      <td>PG</td>\n",
       "      <td>tony-wroten</td>\n",
       "      <td>2012</td>\n",
       "      <td>-0.245215</td>\n",
       "      <td>0.021567</td>\n",
       "      <td>0.280567</td>\n",
       "      <td>0.286900</td>\n",
       "    </tr>\n",
       "    <tr>\n",
       "      <td>4</td>\n",
       "      <td>Doron Lamb</td>\n",
       "      <td>SG</td>\n",
       "      <td>doron-lamb</td>\n",
       "      <td>2012</td>\n",
       "      <td>-0.281442</td>\n",
       "      <td>0.004280</td>\n",
       "      <td>0.208319</td>\n",
       "      <td>0.439637</td>\n",
       "    </tr>\n",
       "  </tbody>\n",
       "</table>\n",
       "</div>"
      ],
      "text/plain": [
       "           Player Position              ID  Draft Year  Projected SPM  \\\n",
       "0   Austin Rivers       SG   austin-rivers        2012      -0.145824   \n",
       "1     Royce White       SF     royce-white        2012      -0.193490   \n",
       "2  Damian Lillard       PG  damian-lillard        2012      -0.200562   \n",
       "3     Tony Wroten       PG     tony-wroten        2012      -0.245215   \n",
       "4      Doron Lamb       SG      doron-lamb        2012      -0.281442   \n",
       "\n",
       "   Superstar   Starter  Role Player  \n",
       "0   0.036233  0.268867     0.334098  \n",
       "1   0.018400  0.243750     0.357367  \n",
       "2   0.036314  0.259300     0.273522  \n",
       "3   0.021567  0.280567     0.286900  \n",
       "4   0.004280  0.208319     0.439637  "
      ]
     },
     "execution_count": 26,
     "metadata": {},
     "output_type": "execute_result"
    }
   ],
   "source": [
    "#Cabeçalho do df_b\n",
    "df_b.head()"
   ]
  },
  {
   "cell_type": "code",
   "execution_count": 27,
   "metadata": {},
   "outputs": [
    {
     "data": {
      "text/html": [
       "<div>\n",
       "<style scoped>\n",
       "    .dataframe tbody tr th:only-of-type {\n",
       "        vertical-align: middle;\n",
       "    }\n",
       "\n",
       "    .dataframe tbody tr th {\n",
       "        vertical-align: top;\n",
       "    }\n",
       "\n",
       "    .dataframe thead th {\n",
       "        text-align: right;\n",
       "    }\n",
       "</style>\n",
       "<table border=\"1\" class=\"dataframe\">\n",
       "  <thead>\n",
       "    <tr style=\"text-align: right;\">\n",
       "      <th></th>\n",
       "      <th>Player</th>\n",
       "      <th>Position</th>\n",
       "      <th>ID</th>\n",
       "      <th>Draft Year</th>\n",
       "      <th>Projected SPM</th>\n",
       "      <th>Superstar</th>\n",
       "      <th>Starter</th>\n",
       "      <th>Role Player</th>\n",
       "    </tr>\n",
       "  </thead>\n",
       "  <tbody>\n",
       "    <tr>\n",
       "      <td>0</td>\n",
       "      <td>Mustafa Shakur</td>\n",
       "      <td>PG</td>\n",
       "      <td>mustafa-shakur</td>\n",
       "      <td>2007</td>\n",
       "      <td>-1.304224</td>\n",
       "      <td>0.000728</td>\n",
       "      <td>0.027577</td>\n",
       "      <td>0.328555</td>\n",
       "    </tr>\n",
       "    <tr>\n",
       "      <td>1</td>\n",
       "      <td>Jermareo Davidson</td>\n",
       "      <td>PF</td>\n",
       "      <td>jermareo-davidson</td>\n",
       "      <td>2007</td>\n",
       "      <td>-1.305091</td>\n",
       "      <td>0.000098</td>\n",
       "      <td>0.028128</td>\n",
       "      <td>0.348323</td>\n",
       "    </tr>\n",
       "    <tr>\n",
       "      <td>2</td>\n",
       "      <td>Ekene Ibekwe</td>\n",
       "      <td>PF</td>\n",
       "      <td>ekene-ibekwe</td>\n",
       "      <td>2007</td>\n",
       "      <td>-1.313002</td>\n",
       "      <td>0.000349</td>\n",
       "      <td>0.018529</td>\n",
       "      <td>0.334192</td>\n",
       "    </tr>\n",
       "    <tr>\n",
       "      <td>3</td>\n",
       "      <td>Cartier Martin</td>\n",
       "      <td>SF</td>\n",
       "      <td>cartier-martin</td>\n",
       "      <td>2007</td>\n",
       "      <td>-1.315787</td>\n",
       "      <td>0.000206</td>\n",
       "      <td>0.017471</td>\n",
       "      <td>0.363321</td>\n",
       "    </tr>\n",
       "    <tr>\n",
       "      <td>4</td>\n",
       "      <td>Ivan Radenovic</td>\n",
       "      <td>PF</td>\n",
       "      <td>ivan-radenovic</td>\n",
       "      <td>2007</td>\n",
       "      <td>-1.327384</td>\n",
       "      <td>0.000090</td>\n",
       "      <td>0.026357</td>\n",
       "      <td>0.341746</td>\n",
       "    </tr>\n",
       "  </tbody>\n",
       "</table>\n",
       "</div>"
      ],
      "text/plain": [
       "              Player Position                 ID  Draft Year  Projected SPM  \\\n",
       "0     Mustafa Shakur       PG     mustafa-shakur        2007      -1.304224   \n",
       "1  Jermareo Davidson       PF  jermareo-davidson        2007      -1.305091   \n",
       "2       Ekene Ibekwe       PF       ekene-ibekwe        2007      -1.313002   \n",
       "3     Cartier Martin       SF     cartier-martin        2007      -1.315787   \n",
       "4     Ivan Radenovic       PF     ivan-radenovic        2007      -1.327384   \n",
       "\n",
       "   Superstar   Starter  Role Player  \n",
       "0   0.000728  0.027577     0.328555  \n",
       "1   0.000098  0.028128     0.348323  \n",
       "2   0.000349  0.018529     0.334192  \n",
       "3   0.000206  0.017471     0.363321  \n",
       "4   0.000090  0.026357     0.341746  "
      ]
     },
     "execution_count": 27,
     "metadata": {},
     "output_type": "execute_result"
    }
   ],
   "source": [
    "#Cabeçalho do df_c\n",
    "df_c.head()"
   ]
  },
  {
   "cell_type": "code",
   "execution_count": 28,
   "metadata": {},
   "outputs": [
    {
     "data": {
      "text/html": [
       "<div>\n",
       "<style scoped>\n",
       "    .dataframe tbody tr th:only-of-type {\n",
       "        vertical-align: middle;\n",
       "    }\n",
       "\n",
       "    .dataframe tbody tr th {\n",
       "        vertical-align: top;\n",
       "    }\n",
       "\n",
       "    .dataframe thead th {\n",
       "        text-align: right;\n",
       "    }\n",
       "</style>\n",
       "<table border=\"1\" class=\"dataframe\">\n",
       "  <thead>\n",
       "    <tr style=\"text-align: right;\">\n",
       "      <th></th>\n",
       "      <th>Player</th>\n",
       "      <th>Position</th>\n",
       "      <th>ID</th>\n",
       "      <th>Draft Year</th>\n",
       "      <th>Projected SPM</th>\n",
       "      <th>Superstar</th>\n",
       "      <th>Starter</th>\n",
       "      <th>Role Player</th>\n",
       "    </tr>\n",
       "  </thead>\n",
       "  <tbody>\n",
       "    <tr>\n",
       "      <td>0</td>\n",
       "      <td>Samardo Samuels</td>\n",
       "      <td>PF</td>\n",
       "      <td>samardo-samuels</td>\n",
       "      <td>2010.0</td>\n",
       "      <td>-1.097613</td>\n",
       "      <td>0.001910</td>\n",
       "      <td>0.067415</td>\n",
       "      <td>0.355177</td>\n",
       "    </tr>\n",
       "    <tr>\n",
       "      <td>1</td>\n",
       "      <td>Larry Sanders</td>\n",
       "      <td>PF</td>\n",
       "      <td>larry-sanders</td>\n",
       "      <td>2010.0</td>\n",
       "      <td>-1.099703</td>\n",
       "      <td>0.001010</td>\n",
       "      <td>0.067939</td>\n",
       "      <td>0.356190</td>\n",
       "    </tr>\n",
       "    <tr>\n",
       "      <td>2</td>\n",
       "      <td>Jeremy Evans</td>\n",
       "      <td>SF</td>\n",
       "      <td>jeremy-evans</td>\n",
       "      <td>2010.0</td>\n",
       "      <td>-1.111429</td>\n",
       "      <td>0.000000</td>\n",
       "      <td>0.050159</td>\n",
       "      <td>0.397297</td>\n",
       "    </tr>\n",
       "    <tr>\n",
       "      <td>3</td>\n",
       "      <td>Stanley Robinson</td>\n",
       "      <td>SF</td>\n",
       "      <td>stanley-robinson</td>\n",
       "      <td>2010.0</td>\n",
       "      <td>-1.116975</td>\n",
       "      <td>0.000145</td>\n",
       "      <td>0.061203</td>\n",
       "      <td>0.385924</td>\n",
       "    </tr>\n",
       "    <tr>\n",
       "      <td>4</td>\n",
       "      <td>Jerome Randle</td>\n",
       "      <td>PG</td>\n",
       "      <td>jerome-randle</td>\n",
       "      <td>2010.0</td>\n",
       "      <td>-1.146297</td>\n",
       "      <td>0.000000</td>\n",
       "      <td>0.044072</td>\n",
       "      <td>0.384182</td>\n",
       "    </tr>\n",
       "  </tbody>\n",
       "</table>\n",
       "</div>"
      ],
      "text/plain": [
       "             Player Position                ID  Draft Year  Projected SPM  \\\n",
       "0   Samardo Samuels       PF   samardo-samuels      2010.0      -1.097613   \n",
       "1     Larry Sanders       PF     larry-sanders      2010.0      -1.099703   \n",
       "2      Jeremy Evans       SF      jeremy-evans      2010.0      -1.111429   \n",
       "3  Stanley Robinson       SF  stanley-robinson      2010.0      -1.116975   \n",
       "4     Jerome Randle       PG     jerome-randle      2010.0      -1.146297   \n",
       "\n",
       "   Superstar   Starter  Role Player  \n",
       "0   0.001910  0.067415     0.355177  \n",
       "1   0.001010  0.067939     0.356190  \n",
       "2   0.000000  0.050159     0.397297  \n",
       "3   0.000145  0.061203     0.385924  \n",
       "4   0.000000  0.044072     0.384182  "
      ]
     },
     "execution_count": 28,
     "metadata": {},
     "output_type": "execute_result"
    }
   ],
   "source": [
    "#Cabeçalho do df_d\n",
    "df_d.head()"
   ]
  },
  {
   "cell_type": "code",
   "execution_count": 30,
   "metadata": {},
   "outputs": [
    {
     "data": {
      "text/html": [
       "<div>\n",
       "<style scoped>\n",
       "    .dataframe tbody tr th:only-of-type {\n",
       "        vertical-align: middle;\n",
       "    }\n",
       "\n",
       "    .dataframe tbody tr th {\n",
       "        vertical-align: top;\n",
       "    }\n",
       "\n",
       "    .dataframe thead th {\n",
       "        text-align: right;\n",
       "    }\n",
       "</style>\n",
       "<table border=\"1\" class=\"dataframe\">\n",
       "  <thead>\n",
       "    <tr style=\"text-align: right;\">\n",
       "      <th></th>\n",
       "      <th>ID</th>\n",
       "      <th>Bust</th>\n",
       "    </tr>\n",
       "  </thead>\n",
       "  <tbody>\n",
       "    <tr>\n",
       "      <td>0</td>\n",
       "      <td>karl-anthony-towns</td>\n",
       "      <td>0.274967</td>\n",
       "    </tr>\n",
       "    <tr>\n",
       "      <td>1</td>\n",
       "      <td>justise-winslow</td>\n",
       "      <td>0.228800</td>\n",
       "    </tr>\n",
       "    <tr>\n",
       "      <td>2</td>\n",
       "      <td>stanley-johnson</td>\n",
       "      <td>0.229967</td>\n",
       "    </tr>\n",
       "    <tr>\n",
       "      <td>3</td>\n",
       "      <td>jahlil-okafor</td>\n",
       "      <td>0.295850</td>\n",
       "    </tr>\n",
       "    <tr>\n",
       "      <td>4</td>\n",
       "      <td>d-angelo-russell</td>\n",
       "      <td>0.409100</td>\n",
       "    </tr>\n",
       "  </tbody>\n",
       "</table>\n",
       "</div>"
      ],
      "text/plain": [
       "                   ID      Bust\n",
       "0  karl-anthony-towns  0.274967\n",
       "1     justise-winslow  0.228800\n",
       "2     stanley-johnson  0.229967\n",
       "3       jahlil-okafor  0.295850\n",
       "4    d-angelo-russell  0.409100"
      ]
     },
     "execution_count": 30,
     "metadata": {},
     "output_type": "execute_result"
    }
   ],
   "source": [
    "#Cabeçalho do bust\n",
    "bust.head()"
   ]
  },
  {
   "cell_type": "code",
   "execution_count": 31,
   "metadata": {},
   "outputs": [],
   "source": [
    "#Concatenando os dataframes a, b e c\n",
    "df_total = pd.concat([df_a, df_b,df_c, df_d])"
   ]
  },
  {
   "cell_type": "code",
   "execution_count": 32,
   "metadata": {},
   "outputs": [
    {
     "data": {
      "text/html": [
       "<div>\n",
       "<style scoped>\n",
       "    .dataframe tbody tr th:only-of-type {\n",
       "        vertical-align: middle;\n",
       "    }\n",
       "\n",
       "    .dataframe tbody tr th {\n",
       "        vertical-align: top;\n",
       "    }\n",
       "\n",
       "    .dataframe thead th {\n",
       "        text-align: right;\n",
       "    }\n",
       "</style>\n",
       "<table border=\"1\" class=\"dataframe\">\n",
       "  <thead>\n",
       "    <tr style=\"text-align: right;\">\n",
       "      <th></th>\n",
       "      <th>Player</th>\n",
       "      <th>Position</th>\n",
       "      <th>ID</th>\n",
       "      <th>Draft Year</th>\n",
       "      <th>Projected SPM</th>\n",
       "      <th>Superstar</th>\n",
       "      <th>Starter</th>\n",
       "      <th>Role Player</th>\n",
       "    </tr>\n",
       "  </thead>\n",
       "  <tbody>\n",
       "    <tr>\n",
       "      <td>0</td>\n",
       "      <td>Karl-Anthony Towns</td>\n",
       "      <td>C</td>\n",
       "      <td>karl-anthony-towns</td>\n",
       "      <td>2015.0</td>\n",
       "      <td>1.030606</td>\n",
       "      <td>0.134767</td>\n",
       "      <td>0.427183</td>\n",
       "      <td>0.163083</td>\n",
       "    </tr>\n",
       "    <tr>\n",
       "      <td>1</td>\n",
       "      <td>Justise Winslow</td>\n",
       "      <td>SF</td>\n",
       "      <td>justise-winslow</td>\n",
       "      <td>2015.0</td>\n",
       "      <td>0.875329</td>\n",
       "      <td>0.083529</td>\n",
       "      <td>0.510905</td>\n",
       "      <td>0.176767</td>\n",
       "    </tr>\n",
       "    <tr>\n",
       "      <td>2</td>\n",
       "      <td>Stanley Johnson</td>\n",
       "      <td>SF</td>\n",
       "      <td>stanley-johnson</td>\n",
       "      <td>2015.0</td>\n",
       "      <td>0.679493</td>\n",
       "      <td>0.067800</td>\n",
       "      <td>0.423733</td>\n",
       "      <td>0.278500</td>\n",
       "    </tr>\n",
       "    <tr>\n",
       "      <td>3</td>\n",
       "      <td>Jahlil Okafor</td>\n",
       "      <td>C</td>\n",
       "      <td>jahlil-okafor</td>\n",
       "      <td>2015.0</td>\n",
       "      <td>0.521661</td>\n",
       "      <td>0.058717</td>\n",
       "      <td>0.409900</td>\n",
       "      <td>0.235533</td>\n",
       "    </tr>\n",
       "    <tr>\n",
       "      <td>4</td>\n",
       "      <td>D`Angelo Russell</td>\n",
       "      <td>PG</td>\n",
       "      <td>d-angelo-russell</td>\n",
       "      <td>2015.0</td>\n",
       "      <td>0.511967</td>\n",
       "      <td>0.152033</td>\n",
       "      <td>0.342283</td>\n",
       "      <td>0.096583</td>\n",
       "    </tr>\n",
       "  </tbody>\n",
       "</table>\n",
       "</div>"
      ],
      "text/plain": [
       "               Player Position                  ID  Draft Year  Projected SPM  \\\n",
       "0  Karl-Anthony Towns        C  karl-anthony-towns      2015.0       1.030606   \n",
       "1     Justise Winslow       SF     justise-winslow      2015.0       0.875329   \n",
       "2     Stanley Johnson       SF     stanley-johnson      2015.0       0.679493   \n",
       "3       Jahlil Okafor        C       jahlil-okafor      2015.0       0.521661   \n",
       "4    D`Angelo Russell       PG    d-angelo-russell      2015.0       0.511967   \n",
       "\n",
       "   Superstar   Starter  Role Player  \n",
       "0   0.134767  0.427183     0.163083  \n",
       "1   0.083529  0.510905     0.176767  \n",
       "2   0.067800  0.423733     0.278500  \n",
       "3   0.058717  0.409900     0.235533  \n",
       "4   0.152033  0.342283     0.096583  "
      ]
     },
     "execution_count": 32,
     "metadata": {},
     "output_type": "execute_result"
    }
   ],
   "source": [
    "df_total.head()"
   ]
  },
  {
   "cell_type": "code",
   "execution_count": 42,
   "metadata": {},
   "outputs": [],
   "source": [
    "#Merge entre o df_total e o bust\n",
    "df_bust_total = pd.merge(df_total,bust, on=\"ID\")"
   ]
  },
  {
   "cell_type": "code",
   "execution_count": 36,
   "metadata": {},
   "outputs": [
    {
     "data": {
      "text/html": [
       "<div>\n",
       "<style scoped>\n",
       "    .dataframe tbody tr th:only-of-type {\n",
       "        vertical-align: middle;\n",
       "    }\n",
       "\n",
       "    .dataframe tbody tr th {\n",
       "        vertical-align: top;\n",
       "    }\n",
       "\n",
       "    .dataframe thead th {\n",
       "        text-align: right;\n",
       "    }\n",
       "</style>\n",
       "<table border=\"1\" class=\"dataframe\">\n",
       "  <thead>\n",
       "    <tr style=\"text-align: right;\">\n",
       "      <th></th>\n",
       "      <th>Player</th>\n",
       "      <th>Position</th>\n",
       "      <th>ID</th>\n",
       "      <th>Draft Year</th>\n",
       "      <th>Projected SPM</th>\n",
       "      <th>Superstar</th>\n",
       "      <th>Starter</th>\n",
       "      <th>Role Player</th>\n",
       "      <th>Bust</th>\n",
       "    </tr>\n",
       "  </thead>\n",
       "  <tbody>\n",
       "    <tr>\n",
       "      <td>0</td>\n",
       "      <td>Karl-Anthony Towns</td>\n",
       "      <td>C</td>\n",
       "      <td>karl-anthony-towns</td>\n",
       "      <td>2015.0</td>\n",
       "      <td>1.030606</td>\n",
       "      <td>0.134767</td>\n",
       "      <td>0.427183</td>\n",
       "      <td>0.163083</td>\n",
       "      <td>0.274967</td>\n",
       "    </tr>\n",
       "    <tr>\n",
       "      <td>1</td>\n",
       "      <td>Justise Winslow</td>\n",
       "      <td>SF</td>\n",
       "      <td>justise-winslow</td>\n",
       "      <td>2015.0</td>\n",
       "      <td>0.875329</td>\n",
       "      <td>0.083529</td>\n",
       "      <td>0.510905</td>\n",
       "      <td>0.176767</td>\n",
       "      <td>0.228800</td>\n",
       "    </tr>\n",
       "    <tr>\n",
       "      <td>2</td>\n",
       "      <td>Stanley Johnson</td>\n",
       "      <td>SF</td>\n",
       "      <td>stanley-johnson</td>\n",
       "      <td>2015.0</td>\n",
       "      <td>0.679493</td>\n",
       "      <td>0.067800</td>\n",
       "      <td>0.423733</td>\n",
       "      <td>0.278500</td>\n",
       "      <td>0.229967</td>\n",
       "    </tr>\n",
       "    <tr>\n",
       "      <td>3</td>\n",
       "      <td>Jahlil Okafor</td>\n",
       "      <td>C</td>\n",
       "      <td>jahlil-okafor</td>\n",
       "      <td>2015.0</td>\n",
       "      <td>0.521661</td>\n",
       "      <td>0.058717</td>\n",
       "      <td>0.409900</td>\n",
       "      <td>0.235533</td>\n",
       "      <td>0.295850</td>\n",
       "    </tr>\n",
       "    <tr>\n",
       "      <td>4</td>\n",
       "      <td>D`Angelo Russell</td>\n",
       "      <td>PG</td>\n",
       "      <td>d-angelo-russell</td>\n",
       "      <td>2015.0</td>\n",
       "      <td>0.511967</td>\n",
       "      <td>0.152033</td>\n",
       "      <td>0.342283</td>\n",
       "      <td>0.096583</td>\n",
       "      <td>0.409100</td>\n",
       "    </tr>\n",
       "  </tbody>\n",
       "</table>\n",
       "</div>"
      ],
      "text/plain": [
       "               Player Position                  ID  Draft Year  Projected SPM  \\\n",
       "0  Karl-Anthony Towns        C  karl-anthony-towns      2015.0       1.030606   \n",
       "1     Justise Winslow       SF     justise-winslow      2015.0       0.875329   \n",
       "2     Stanley Johnson       SF     stanley-johnson      2015.0       0.679493   \n",
       "3       Jahlil Okafor        C       jahlil-okafor      2015.0       0.521661   \n",
       "4    D`Angelo Russell       PG    d-angelo-russell      2015.0       0.511967   \n",
       "\n",
       "   Superstar   Starter  Role Player      Bust  \n",
       "0   0.134767  0.427183     0.163083  0.274967  \n",
       "1   0.083529  0.510905     0.176767  0.228800  \n",
       "2   0.067800  0.423733     0.278500  0.229967  \n",
       "3   0.058717  0.409900     0.235533  0.295850  \n",
       "4   0.152033  0.342283     0.096583  0.409100  "
      ]
     },
     "execution_count": 36,
     "metadata": {},
     "output_type": "execute_result"
    }
   ],
   "source": [
    "df_bust_total.head()"
   ]
  },
  {
   "cell_type": "code",
   "execution_count": 41,
   "metadata": {},
   "outputs": [],
   "source": [
    "#Exemplo de um parâmetro novo (escolha do join)\n",
    "df_teste2 = pd.merge(df_total,bust, on=\"ID\", how=\"right\")"
   ]
  },
  {
   "cell_type": "markdown",
   "metadata": {},
   "source": [
    "--------------------------\n",
    "<h3> Resolução Atividade 3 </h3>"
   ]
  },
  {
   "cell_type": "markdown",
   "metadata": {},
   "source": [
    "---------------"
   ]
  },
  {
   "cell_type": "code",
   "execution_count": 40,
   "metadata": {},
   "outputs": [],
   "source": [
    "#Abrindo o arquivo\n",
    "pref = pd.read_csv(\"preferencias.csv\")"
   ]
  },
  {
   "cell_type": "code",
   "execution_count": 47,
   "metadata": {},
   "outputs": [
    {
     "data": {
      "text/html": [
       "<div>\n",
       "<style scoped>\n",
       "    .dataframe tbody tr th:only-of-type {\n",
       "        vertical-align: middle;\n",
       "    }\n",
       "\n",
       "    .dataframe tbody tr th {\n",
       "        vertical-align: top;\n",
       "    }\n",
       "\n",
       "    .dataframe thead th {\n",
       "        text-align: right;\n",
       "    }\n",
       "</style>\n",
       "<table border=\"1\" class=\"dataframe\">\n",
       "  <thead>\n",
       "    <tr style=\"text-align: right;\">\n",
       "      <th></th>\n",
       "      <th>Favorite Color</th>\n",
       "      <th>Favorite Music Genre</th>\n",
       "      <th>Favorite Beverage</th>\n",
       "      <th>Favorite Soft Drink</th>\n",
       "      <th>Gender</th>\n",
       "    </tr>\n",
       "  </thead>\n",
       "  <tbody>\n",
       "    <tr>\n",
       "      <td>0</td>\n",
       "      <td>Cool</td>\n",
       "      <td>Rock</td>\n",
       "      <td>Vodka</td>\n",
       "      <td>7UP/Sprite</td>\n",
       "      <td>F</td>\n",
       "    </tr>\n",
       "    <tr>\n",
       "      <td>1</td>\n",
       "      <td>Neutral</td>\n",
       "      <td>Hip hop</td>\n",
       "      <td>Vodka</td>\n",
       "      <td>Coca Cola/Pepsi</td>\n",
       "      <td>F</td>\n",
       "    </tr>\n",
       "    <tr>\n",
       "      <td>2</td>\n",
       "      <td>Warm</td>\n",
       "      <td>Rock</td>\n",
       "      <td>Wine</td>\n",
       "      <td>Coca Cola/Pepsi</td>\n",
       "      <td>F</td>\n",
       "    </tr>\n",
       "    <tr>\n",
       "      <td>3</td>\n",
       "      <td>Warm</td>\n",
       "      <td>Folk/Traditional</td>\n",
       "      <td>Whiskey</td>\n",
       "      <td>Fanta</td>\n",
       "      <td>F</td>\n",
       "    </tr>\n",
       "    <tr>\n",
       "      <td>4</td>\n",
       "      <td>Cool</td>\n",
       "      <td>Rock</td>\n",
       "      <td>Vodka</td>\n",
       "      <td>Coca Cola/Pepsi</td>\n",
       "      <td>F</td>\n",
       "    </tr>\n",
       "  </tbody>\n",
       "</table>\n",
       "</div>"
      ],
      "text/plain": [
       "  Favorite Color Favorite Music Genre Favorite Beverage Favorite Soft Drink  \\\n",
       "0           Cool                 Rock             Vodka          7UP/Sprite   \n",
       "1        Neutral              Hip hop             Vodka     Coca Cola/Pepsi   \n",
       "2           Warm                 Rock              Wine     Coca Cola/Pepsi   \n",
       "3           Warm     Folk/Traditional           Whiskey               Fanta   \n",
       "4           Cool                 Rock             Vodka     Coca Cola/Pepsi   \n",
       "\n",
       "  Gender  \n",
       "0      F  \n",
       "1      F  \n",
       "2      F  \n",
       "3      F  \n",
       "4      F  "
      ]
     },
     "execution_count": 47,
     "metadata": {},
     "output_type": "execute_result"
    }
   ],
   "source": [
    "#Visualizando o arquivo\n",
    "pref.head()"
   ]
  },
  {
   "cell_type": "code",
   "execution_count": 49,
   "metadata": {},
   "outputs": [
    {
     "data": {
      "text/plain": [
       "<pandas.core.groupby.generic.DataFrameGroupBy object at 0x0000029558D60278>"
      ]
     },
     "execution_count": 49,
     "metadata": {},
     "output_type": "execute_result"
    }
   ],
   "source": [
    "#Agrupando pela variável Gender\n",
    "pref.groupby(\"Gender\")"
   ]
  },
  {
   "cell_type": "code",
   "execution_count": 50,
   "metadata": {
    "collapsed": true,
    "jupyter": {
     "outputs_hidden": true
    }
   },
   "outputs": [
    {
     "data": {
      "text/plain": [
       "{'F': Int64Index([ 0,  1,  2,  3,  4,  5,  6,  7,  8,  9, 10, 11, 12, 13, 14, 15, 16,\n",
       "             17, 18, 19, 20, 21, 22, 23, 24, 25, 26, 27, 28, 29, 30, 31, 32],\n",
       "            dtype='int64'),\n",
       " 'M': Int64Index([33, 34, 35, 36, 37, 38, 39, 40, 41, 42, 43, 44, 45, 46, 47, 48, 49,\n",
       "             50, 51, 52, 53, 54, 55, 56, 57, 58, 59, 60, 61, 62, 63, 64, 65],\n",
       "            dtype='int64')}"
      ]
     },
     "execution_count": 50,
     "metadata": {},
     "output_type": "execute_result"
    }
   ],
   "source": [
    "pref.groupby(\"Gender\").groups"
   ]
  },
  {
   "cell_type": "code",
   "execution_count": 52,
   "metadata": {},
   "outputs": [
    {
     "data": {
      "text/html": [
       "<div>\n",
       "<style scoped>\n",
       "    .dataframe tbody tr th:only-of-type {\n",
       "        vertical-align: middle;\n",
       "    }\n",
       "\n",
       "    .dataframe tbody tr th {\n",
       "        vertical-align: top;\n",
       "    }\n",
       "\n",
       "    .dataframe thead th {\n",
       "        text-align: right;\n",
       "    }\n",
       "</style>\n",
       "<table border=\"1\" class=\"dataframe\">\n",
       "  <thead>\n",
       "    <tr style=\"text-align: right;\">\n",
       "      <th></th>\n",
       "      <th>Favorite Color</th>\n",
       "      <th>Favorite Music Genre</th>\n",
       "      <th>Favorite Beverage</th>\n",
       "      <th>Favorite Soft Drink</th>\n",
       "    </tr>\n",
       "    <tr>\n",
       "      <th>Gender</th>\n",
       "      <th></th>\n",
       "      <th></th>\n",
       "      <th></th>\n",
       "      <th></th>\n",
       "    </tr>\n",
       "  </thead>\n",
       "  <tbody>\n",
       "    <tr>\n",
       "      <td>F</td>\n",
       "      <td>33</td>\n",
       "      <td>33</td>\n",
       "      <td>33</td>\n",
       "      <td>33</td>\n",
       "    </tr>\n",
       "    <tr>\n",
       "      <td>M</td>\n",
       "      <td>33</td>\n",
       "      <td>33</td>\n",
       "      <td>33</td>\n",
       "      <td>33</td>\n",
       "    </tr>\n",
       "  </tbody>\n",
       "</table>\n",
       "</div>"
      ],
      "text/plain": [
       "        Favorite Color  Favorite Music Genre  Favorite Beverage  \\\n",
       "Gender                                                            \n",
       "F                   33                    33                 33   \n",
       "M                   33                    33                 33   \n",
       "\n",
       "        Favorite Soft Drink  \n",
       "Gender                       \n",
       "F                        33  \n",
       "M                        33  "
      ]
     },
     "execution_count": 52,
     "metadata": {},
     "output_type": "execute_result"
    }
   ],
   "source": [
    "#Contando os itens da variável\n",
    "pref.groupby(\"Gender\").count()"
   ]
  },
  {
   "cell_type": "code",
   "execution_count": 53,
   "metadata": {},
   "outputs": [
    {
     "data": {
      "text/plain": [
       "{('F',\n",
       "  'Cool'): Int64Index([0, 4, 6, 10, 14, 16, 17, 18, 19, 20, 22, 24, 26, 27, 28, 29, 32], dtype='int64'),\n",
       " ('F', 'Neutral'): Int64Index([1, 9, 31], dtype='int64'),\n",
       " ('F',\n",
       "  'Warm'): Int64Index([2, 3, 5, 7, 8, 11, 12, 13, 15, 21, 23, 25, 30], dtype='int64'),\n",
       " ('M',\n",
       "  'Cool'): Int64Index([37, 38, 40, 43, 44, 45, 46, 47, 48, 50, 51, 52, 54, 55, 59, 60, 61,\n",
       "             62, 64, 65],\n",
       "            dtype='int64'),\n",
       " ('M', 'Neutral'): Int64Index([34, 36, 41, 63], dtype='int64'),\n",
       " ('M',\n",
       "  'Warm'): Int64Index([33, 35, 39, 42, 49, 53, 56, 57, 58], dtype='int64')}"
      ]
     },
     "execution_count": 53,
     "metadata": {},
     "output_type": "execute_result"
    }
   ],
   "source": [
    "#Agrupando os dados pelas variáveis Gender e Favorite Color\n",
    "pref.groupby([\"Gender\",\"Favorite Color\"]).groups"
   ]
  },
  {
   "cell_type": "code",
   "execution_count": 55,
   "metadata": {},
   "outputs": [
    {
     "data": {
      "text/html": [
       "<div>\n",
       "<style scoped>\n",
       "    .dataframe tbody tr th:only-of-type {\n",
       "        vertical-align: middle;\n",
       "    }\n",
       "\n",
       "    .dataframe tbody tr th {\n",
       "        vertical-align: top;\n",
       "    }\n",
       "\n",
       "    .dataframe thead th {\n",
       "        text-align: right;\n",
       "    }\n",
       "</style>\n",
       "<table border=\"1\" class=\"dataframe\">\n",
       "  <thead>\n",
       "    <tr style=\"text-align: right;\">\n",
       "      <th></th>\n",
       "      <th></th>\n",
       "      <th>Favorite Music Genre</th>\n",
       "      <th>Favorite Beverage</th>\n",
       "      <th>Favorite Soft Drink</th>\n",
       "    </tr>\n",
       "    <tr>\n",
       "      <th>Gender</th>\n",
       "      <th>Favorite Color</th>\n",
       "      <th></th>\n",
       "      <th></th>\n",
       "      <th></th>\n",
       "    </tr>\n",
       "  </thead>\n",
       "  <tbody>\n",
       "    <tr>\n",
       "      <td rowspan=\"3\" valign=\"top\">F</td>\n",
       "      <td>Cool</td>\n",
       "      <td>17</td>\n",
       "      <td>17</td>\n",
       "      <td>17</td>\n",
       "    </tr>\n",
       "    <tr>\n",
       "      <td>Neutral</td>\n",
       "      <td>3</td>\n",
       "      <td>3</td>\n",
       "      <td>3</td>\n",
       "    </tr>\n",
       "    <tr>\n",
       "      <td>Warm</td>\n",
       "      <td>13</td>\n",
       "      <td>13</td>\n",
       "      <td>13</td>\n",
       "    </tr>\n",
       "    <tr>\n",
       "      <td rowspan=\"3\" valign=\"top\">M</td>\n",
       "      <td>Cool</td>\n",
       "      <td>20</td>\n",
       "      <td>20</td>\n",
       "      <td>20</td>\n",
       "    </tr>\n",
       "    <tr>\n",
       "      <td>Neutral</td>\n",
       "      <td>4</td>\n",
       "      <td>4</td>\n",
       "      <td>4</td>\n",
       "    </tr>\n",
       "    <tr>\n",
       "      <td>Warm</td>\n",
       "      <td>9</td>\n",
       "      <td>9</td>\n",
       "      <td>9</td>\n",
       "    </tr>\n",
       "  </tbody>\n",
       "</table>\n",
       "</div>"
      ],
      "text/plain": [
       "                       Favorite Music Genre  Favorite Beverage  \\\n",
       "Gender Favorite Color                                            \n",
       "F      Cool                              17                 17   \n",
       "       Neutral                            3                  3   \n",
       "       Warm                              13                 13   \n",
       "M      Cool                              20                 20   \n",
       "       Neutral                            4                  4   \n",
       "       Warm                               9                  9   \n",
       "\n",
       "                       Favorite Soft Drink  \n",
       "Gender Favorite Color                       \n",
       "F      Cool                             17  \n",
       "       Neutral                           3  \n",
       "       Warm                             13  \n",
       "M      Cool                             20  \n",
       "       Neutral                           4  \n",
       "       Warm                              9  "
      ]
     },
     "execution_count": 55,
     "metadata": {},
     "output_type": "execute_result"
    }
   ],
   "source": [
    "#17 mulheres possuem a cor favorita cool\n",
    "pref.groupby([\"Gender\",\"Favorite Color\"]).count()"
   ]
  },
  {
   "cell_type": "code",
   "execution_count": 56,
   "metadata": {
    "collapsed": true,
    "jupyter": {
     "outputs_hidden": true
    }
   },
   "outputs": [
    {
     "data": {
      "text/plain": [
       "{('F', 'Cool', 'Beer'): Int64Index([6, 14, 20, 26, 32], dtype='int64'),\n",
       " ('F', 'Cool', \"Doesn't drink\"): Int64Index([19, 27, 28, 29], dtype='int64'),\n",
       " ('F', 'Cool', 'Other'): Int64Index([10, 17, 18], dtype='int64'),\n",
       " ('F', 'Cool', 'Vodka'): Int64Index([0, 4, 22], dtype='int64'),\n",
       " ('F', 'Cool', 'Whiskey'): Int64Index([24], dtype='int64'),\n",
       " ('F', 'Cool', 'Wine'): Int64Index([16], dtype='int64'),\n",
       " ('F', 'Neutral', 'Beer'): Int64Index([31], dtype='int64'),\n",
       " ('F', 'Neutral', 'Vodka'): Int64Index([1], dtype='int64'),\n",
       " ('F', 'Neutral', 'Wine'): Int64Index([9], dtype='int64'),\n",
       " ('F', 'Warm', \"Doesn't drink\"): Int64Index([5], dtype='int64'),\n",
       " ('F', 'Warm', 'Other'): Int64Index([8, 11, 23, 30], dtype='int64'),\n",
       " ('F', 'Warm', 'Whiskey'): Int64Index([3, 7, 21, 25], dtype='int64'),\n",
       " ('F', 'Warm', 'Wine'): Int64Index([2, 12, 13, 15], dtype='int64'),\n",
       " ('M', 'Cool', 'Beer'): Int64Index([44, 45, 62, 65], dtype='int64'),\n",
       " ('M',\n",
       "  'Cool',\n",
       "  \"Doesn't drink\"): Int64Index([48, 50, 51, 52, 54], dtype='int64'),\n",
       " ('M', 'Cool', 'Other'): Int64Index([37, 55], dtype='int64'),\n",
       " ('M', 'Cool', 'Vodka'): Int64Index([40, 61], dtype='int64'),\n",
       " ('M', 'Cool', 'Whiskey'): Int64Index([38, 47, 59, 60], dtype='int64'),\n",
       " ('M', 'Cool', 'Wine'): Int64Index([43, 46, 64], dtype='int64'),\n",
       " ('M', 'Neutral', 'Beer'): Int64Index([34], dtype='int64'),\n",
       " ('M', 'Neutral', \"Doesn't drink\"): Int64Index([36, 41, 63], dtype='int64'),\n",
       " ('M', 'Warm', 'Beer'): Int64Index([49, 53], dtype='int64'),\n",
       " ('M', 'Warm', \"Doesn't drink\"): Int64Index([42], dtype='int64'),\n",
       " ('M', 'Warm', 'Other'): Int64Index([35, 56], dtype='int64'),\n",
       " ('M', 'Warm', 'Vodka'): Int64Index([39, 57, 58], dtype='int64'),\n",
       " ('M', 'Warm', 'Wine'): Int64Index([33], dtype='int64')}"
      ]
     },
     "execution_count": 56,
     "metadata": {},
     "output_type": "execute_result"
    }
   ],
   "source": [
    "#Agrupando pelas variáveis solicitadas\n",
    "pref.groupby([\"Gender\",\"Favorite Color\",\"Favorite Beverage\"]).groups"
   ]
  }
 ],
 "metadata": {
  "kernelspec": {
   "display_name": "Python 3",
   "language": "python",
   "name": "python3"
  },
  "language_info": {
   "codemirror_mode": {
    "name": "ipython",
    "version": 3
   },
   "file_extension": ".py",
   "mimetype": "text/x-python",
   "name": "python",
   "nbconvert_exporter": "python",
   "pygments_lexer": "ipython3",
   "version": "3.7.3"
  }
 },
 "nbformat": 4,
 "nbformat_minor": 4
}
