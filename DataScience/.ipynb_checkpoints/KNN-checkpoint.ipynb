{
 "cells": [
  {
   "cell_type": "code",
   "execution_count": 7,
   "metadata": {},
   "outputs": [],
   "source": [
    "# Importing libraries\n",
    "import pandas as pd\n",
    "import matplotlib.pyplot as plt"
   ]
  },
  {
   "cell_type": "code",
   "execution_count": 5,
   "metadata": {},
   "outputs": [],
   "source": [
    "from sklearn import datasets\n",
    "iris = datasets.load_iris()\n",
    "X = iris.data[:,[2,3]]\n",
    "Y = iris.target"
   ]
  },
  {
   "cell_type": "code",
   "execution_count": 8,
   "metadata": {},
   "outputs": [],
   "source": [
    "testSet = [[7.2, 3.6, 5.1, 2.5]]\n",
    "test = pd.DataFrame(testSet)\n",
    "test = pd.DataFrame(test.iloc[0,[2,3]]).T\n",
    "test.columns = [0,1]"
   ]
  },
  {
   "cell_type": "code",
   "execution_count": 9,
   "metadata": {},
   "outputs": [
    {
     "name": "stdout",
     "output_type": "stream",
     "text": [
      "[2]\n",
      "[[114 141 145]]\n"
     ]
    }
   ],
   "source": [
    "from sklearn.neighbors import KNeighborsClassifier\n",
    "neigh = KNeighborsClassifier(n_neighbors=3)\n",
    "neigh.fit(X, Y)\n",
    "print(neigh.predict(test))\n",
    "print(neigh.kneighbors(test)[1])"
   ]
  },
  {
   "cell_type": "code",
   "execution_count": 10,
   "metadata": {},
   "outputs": [
    {
     "data": {
      "text/html": [
       "<div>\n",
       "<style scoped>\n",
       "    .dataframe tbody tr th:only-of-type {\n",
       "        vertical-align: middle;\n",
       "    }\n",
       "\n",
       "    .dataframe tbody tr th {\n",
       "        vertical-align: top;\n",
       "    }\n",
       "\n",
       "    .dataframe thead th {\n",
       "        text-align: right;\n",
       "    }\n",
       "</style>\n",
       "<table border=\"1\" class=\"dataframe\">\n",
       "  <thead>\n",
       "    <tr style=\"text-align: right;\">\n",
       "      <th></th>\n",
       "      <th>0</th>\n",
       "      <th>1</th>\n",
       "    </tr>\n",
       "  </thead>\n",
       "  <tbody>\n",
       "    <tr>\n",
       "      <th>0</th>\n",
       "      <td>5.1</td>\n",
       "      <td>2.3</td>\n",
       "    </tr>\n",
       "    <tr>\n",
       "      <th>0</th>\n",
       "      <td>5.4</td>\n",
       "      <td>2.1</td>\n",
       "    </tr>\n",
       "    <tr>\n",
       "      <th>0</th>\n",
       "      <td>5.7</td>\n",
       "      <td>2.3</td>\n",
       "    </tr>\n",
       "    <tr>\n",
       "      <th>0</th>\n",
       "      <td>5.1</td>\n",
       "      <td>2.5</td>\n",
       "    </tr>\n",
       "  </tbody>\n",
       "</table>\n",
       "</div>"
      ],
      "text/plain": [
       "     0    1\n",
       "0  5.1  2.3\n",
       "0  5.4  2.1\n",
       "0  5.7  2.3\n",
       "0  5.1  2.5"
      ]
     },
     "execution_count": 10,
     "metadata": {},
     "output_type": "execute_result"
    }
   ],
   "source": [
    "p1 = pd.DataFrame(X[141]).T\n",
    "p2 = pd.DataFrame(X[139]).T\n",
    "p3 = pd.DataFrame(X[120]).T\n",
    "df = pd.concat([p1,p2,p3,test])\n",
    "df"
   ]
  },
  {
   "cell_type": "code",
   "execution_count": 11,
   "metadata": {},
   "outputs": [
    {
     "data": {
      "text/plain": [
       "<matplotlib.collections.PathCollection at 0x1e435da7518>"
      ]
     },
     "execution_count": 11,
     "metadata": {},
     "output_type": "execute_result"
    },
    {
     "data": {
      "image/png": "[encoded data removed]",
      "text/plain": [
       "<Figure size 432x288 with 1 Axes>"
      ]
     },
     "metadata": {},
     "output_type": "display_data"
    }
   ],
   "source": [
    "X_df = pd.DataFrame(X)\n",
    "plt.scatter(X_df[0],X_df[1])\n",
    "plt.scatter(p1[0],p1[1],color = 'black')\n",
    "plt.scatter(p2[0],p2[1],color = 'black')\n",
    "plt.scatter(p3[0],p3[1],color = 'black')\n",
    "plt.scatter(test[0],test[1], color = 'green')\n",
    "#plt.axis([0, X_df[0].max()*5, 0, X_df[1].max()*5])"
   ]
  },
  {
   "cell_type": "code",
   "execution_count": 17,
   "metadata": {},
   "outputs": [
    {
     "name": "stdout",
     "output_type": "stream",
     "text": [
      "[2]\n",
      "[[114 141 145]]\n"
     ]
    },
    {
     "data": {
      "text/plain": [
       "0.97"
      ]
     },
     "execution_count": 17,
     "metadata": {},
     "output_type": "execute_result"
    }
   ],
   "source": [
    "#Questão 2\n",
    "from sklearn import datasets\n",
    "iris = datasets.load_iris()\n",
    "X = iris.data[:,[2,3]]\n",
    "Y = iris.target\n",
    "from sklearn.neighbors import KNeighborsClassifier\n",
    "neigh = KNeighborsClassifier(n_neighbors=3, metric = 'manhattan')\n",
    "neigh.fit(X, Y)\n",
    "print(neigh.predict(test))\n",
    "print(neigh.kneighbors(test)[1])\n",
    "p = neigh.predict(X[50:])\n",
    "Acuracia = (p==Y[50:]).sum()/Y[50:].shape[0]\n",
    "Acuracia"
   ]
  },
  {
   "cell_type": "code",
   "execution_count": 108,
   "metadata": {},
   "outputs": [
    {
     "data": {
      "text/html": [
       "<div>\n",
       "<style scoped>\n",
       "    .dataframe tbody tr th:only-of-type {\n",
       "        vertical-align: middle;\n",
       "    }\n",
       "\n",
       "    .dataframe tbody tr th {\n",
       "        vertical-align: top;\n",
       "    }\n",
       "\n",
       "    .dataframe thead th {\n",
       "        text-align: right;\n",
       "    }\n",
       "</style>\n",
       "<table border=\"1\" class=\"dataframe\">\n",
       "  <thead>\n",
       "    <tr style=\"text-align: right;\">\n",
       "      <th></th>\n",
       "      <th>0</th>\n",
       "      <th>1</th>\n",
       "    </tr>\n",
       "  </thead>\n",
       "  <tbody>\n",
       "    <tr>\n",
       "      <th>0</th>\n",
       "      <td>5.1</td>\n",
       "      <td>2.4</td>\n",
       "    </tr>\n",
       "    <tr>\n",
       "      <th>0</th>\n",
       "      <td>5.1</td>\n",
       "      <td>2.3</td>\n",
       "    </tr>\n",
       "    <tr>\n",
       "      <th>0</th>\n",
       "      <td>5.2</td>\n",
       "      <td>2.3</td>\n",
       "    </tr>\n",
       "    <tr>\n",
       "      <th>0</th>\n",
       "      <td>5.1</td>\n",
       "      <td>2.5</td>\n",
       "    </tr>\n",
       "  </tbody>\n",
       "</table>\n",
       "</div>"
      ],
      "text/plain": [
       "     0    1\n",
       "0  5.1  2.4\n",
       "0  5.1  2.3\n",
       "0  5.2  2.3\n",
       "0  5.1  2.5"
      ]
     },
     "execution_count": 108,
     "metadata": {},
     "output_type": "execute_result"
    }
   ],
   "source": [
    "p1_2 = pd.DataFrame(X[114]).T\n",
    "p2_2 = pd.DataFrame(X[141]).T\n",
    "p3_2 = pd.DataFrame(X[145]).T\n",
    "df2 = pd.concat([p1_2,p2_2,p3_2,test])\n",
    "df2"
   ]
  },
  {
   "cell_type": "code",
   "execution_count": 109,
   "metadata": {},
   "outputs": [],
   "source": [
    "plt.scatter(X_df[0],X_df[1])\n",
    "plt.scatter(p1_2[0],p1_2[1],color = 'black')\n",
    "plt.scatter(p2_2[0],p2_2[1],color = 'black')\n",
    "plt.scatter(p3_2[0],p3_2[1],color = 'black')\n",
    "plt.scatter(test[0],test[1], color = 'green')"
   ]
  },
  {
   "cell_type": "code",
   "execution_count": 18,
   "metadata": {},
   "outputs": [],
   "source": [
    "#Questão 3\n",
    "import pandas as pd\n",
    "dataset = pd.read_csv('callcenter_marketing.csv')\n",
    "Numéricos = dataset[['qtd_contatos_total','idade','duracao','qtd_contatos_campanha','indice_precos_consumidor','indice_confianca_consumidor','euribor3m','dias_ultimo_contato']]\n",
    "Categóricos = dataset[['campanha_anterior','profissao','estado_civil', 'educacao', 'inadimplente', 'emprestimo_moradia', 'emprestimo_pessoal', 'meio_contato', 'mes', 'dia_da_semana']]\n",
    "Categóricos = pd.get_dummies(Categóricos)\n",
    "X = pd.concat([Numéricos, Categóricos], axis = 1)\n",
    "y = dataset.resultado"
   ]
  },
  {
   "cell_type": "code",
   "execution_count": 19,
   "metadata": {},
   "outputs": [
    {
     "data": {
      "text/plain": [
       "0        nao\n",
       "1        nao\n",
       "2        nao\n",
       "3        nao\n",
       "4        nao\n",
       "5        nao\n",
       "6        nao\n",
       "7        nao\n",
       "8        nao\n",
       "9        nao\n",
       "10       nao\n",
       "11       nao\n",
       "12       nao\n",
       "13       nao\n",
       "14       nao\n",
       "15       nao\n",
       "16       nao\n",
       "17       nao\n",
       "18       nao\n",
       "19       nao\n",
       "20       nao\n",
       "21       nao\n",
       "22       nao\n",
       "23       nao\n",
       "24       nao\n",
       "25       nao\n",
       "26       nao\n",
       "27       nao\n",
       "28       nao\n",
       "29       nao\n",
       "        ... \n",
       "41158    sim\n",
       "41159    sim\n",
       "41160    sim\n",
       "41161    nao\n",
       "41162    nao\n",
       "41163    sim\n",
       "41164    sim\n",
       "41165    sim\n",
       "41166    sim\n",
       "41167    nao\n",
       "41168    nao\n",
       "41169    nao\n",
       "41170    nao\n",
       "41171    sim\n",
       "41172    sim\n",
       "41173    sim\n",
       "41174    sim\n",
       "41175    nao\n",
       "41176    nao\n",
       "41177    nao\n",
       "41178    sim\n",
       "41179    nao\n",
       "41180    nao\n",
       "41181    sim\n",
       "41182    nao\n",
       "41183    sim\n",
       "41184    nao\n",
       "41185    nao\n",
       "41186    sim\n",
       "41187    nao\n",
       "Name: resultado, Length: 41188, dtype: object"
      ]
     },
     "execution_count": 19,
     "metadata": {},
     "output_type": "execute_result"
    }
   ],
   "source": [
    "y"
   ]
  },
  {
   "cell_type": "code",
   "execution_count": 20,
   "metadata": {},
   "outputs": [],
   "source": [
    "from sklearn.neighbors import KNeighborsClassifier\n",
    "neigh = KNeighborsClassifier(n_neighbors=3, metric = 'manhattan')\n",
    "neigh.fit(X[:40000], y[:40000])\n",
    "predito = neigh.predict(X.iloc[40000:])"
   ]
  },
  {
   "cell_type": "code",
   "execution_count": 36,
   "metadata": {},
   "outputs": [],
   "source": [
    "Acuracia = (predito==y.iloc[40000:]).sum()/y.iloc[40000:].shape[0]"
   ]
  },
  {
   "cell_type": "code",
   "execution_count": 37,
   "metadata": {},
   "outputs": [
    {
     "data": {
      "text/plain": [
       "0.680976430976431"
      ]
     },
     "execution_count": 37,
     "metadata": {},
     "output_type": "execute_result"
    }
   ],
   "source": [
    "Acuracia"
   ]
  },
  {
   "cell_type": "code",
   "execution_count": 61,
   "metadata": {},
   "outputs": [],
   "source": [
    "import pandas as pd\n",
    "import numpy as np\n",
    "dataset = pd.read_csv('callcenter_marketing.csv')"
   ]
  },
  {
   "cell_type": "code",
   "execution_count": 62,
   "metadata": {},
   "outputs": [],
   "source": [
    "def muda_dias_ultimo_contato(valor):\n",
    "    if valor==999:\n",
    "        return -1\n",
    "    else:\n",
    "        return valor\n",
    "\n",
    "def define_pessoal(valor):\n",
    "    numero = np.random.randint(1,100)    \n",
    "    if pd.isnull(valor):\n",
    "        if numero<=85:\n",
    "            return 'nao'\n",
    "        else:\n",
    "            return 'sim'\n",
    "    else:\n",
    "        return valor\n",
    "\n",
    "def define_moradia(valor):\n",
    "    numero = np.random.randint(1,100)    \n",
    "    if pd.isnull(valor):\n",
    "        if numero<=53:\n",
    "            return 'sim'\n",
    "        else:\n",
    "            return 'nao'\n",
    "    else:\n",
    "        return valor\n",
    "    \n",
    "\n",
    "def define_inadimplente(valor):\n",
    "    numero = np.random.randint(1,100)    \n",
    "    if pd.isnull(valor):\n",
    "        if numero<=99:\n",
    "            return 'nao'\n",
    "        else:\n",
    "            return 'sim'\n",
    "    else:\n",
    "        return valor\n",
    "dataset['dias_ultimo_contato'] = dataset['dias_ultimo_contato'].apply(muda_dias_ultimo_contato)\n",
    "dataset['emprestimo_pessoal'] = dataset['emprestimo_pessoal'].apply(define_pessoal)\n",
    "dataset['emprestimo_moradia'] = dataset['emprestimo_moradia'].apply(define_moradia)\n",
    "dataset['inadimplente'] = dataset['inadimplente'].apply(define_inadimplente)\n",
    "dataset['estado_civil'].fillna('não definido', inplace=True)\n",
    "dataset['educacao'].fillna('não definida', inplace=True)\n",
    "dataset['profissao'].fillna('não definida', inplace=True)"
   ]
  },
  {
   "cell_type": "code",
   "execution_count": 68,
   "metadata": {},
   "outputs": [],
   "source": [
    "from sklearn import preprocessing\n",
    "le = preprocessing.LabelEncoder()\n",
    "dataset['campanha_anterior']=le.fit_transform(dataset['campanha_anterior'])\n",
    "dataset['profissao']=le.fit_transform(dataset['profissao'])\n",
    "dataset['estado_civil']=le.fit_transform(dataset['estado_civil'])\n",
    "dataset['educacao']=le.fit_transform(dataset['educacao'])\n",
    "dataset['inadimplente']=le.fit_transform(dataset['inadimplente'])\n",
    "dataset['emprestimo_moradia']=le.fit_transform(dataset['emprestimo_moradia'])\n",
    "dataset['emprestimo_pessoal']=le.fit_transform(dataset['emprestimo_pessoal'])\n",
    "dataset['meio_contato']=le.fit_transform(dataset['meio_contato'])\n",
    "dataset['mes']=le.fit_transform(dataset['mes'])\n",
    "dataset['dia_da_semana']=le.fit_transform(dataset['dia_da_semana'])\n",
    "X = dataset.drop(['resultado'], axis = 1)\n",
    "y = dataset.resultado"
   ]
  },
  {
   "cell_type": "code",
   "execution_count": 69,
   "metadata": {},
   "outputs": [],
   "source": [
    "from sklearn.neighbors import KNeighborsClassifier\n",
    "neigh = KNeighborsClassifier(n_neighbors=3, metric = 'manhattan')\n",
    "neigh.fit(X[:40000], y[:40000])\n",
    "predito = neigh.predict(X.iloc[40000:])"
   ]
  },
  {
   "cell_type": "code",
   "execution_count": 70,
   "metadata": {},
   "outputs": [],
   "source": [
    "Acuracia = (predito==y.iloc[40000:]).sum()/y.iloc[40000:].shape[0]\n",
    "Acuracia"
   ]
  },
  {
   "cell_type": "code",
   "execution_count": 1,
   "metadata": {},
   "outputs": [
    {
     "ename": "NameError",
     "evalue": "name 'metric' is not defined",
     "output_type": "error",
     "traceback": [
      "\u001b[1;31m---------------------------------------------------------------------------\u001b[0m",
      "\u001b[1;31mNameError\u001b[0m                                 Traceback (most recent call last)",
      "\u001b[1;32m<ipython-input-1-e40278ecbf01>\u001b[0m in \u001b[0;36m<module>\u001b[1;34m()\u001b[0m\n\u001b[1;32m----> 1\u001b[1;33m \u001b[0mmetric\u001b[0m\u001b[1;33m\u001b[0m\u001b[0m\n\u001b[0m",
      "\u001b[1;31mNameError\u001b[0m: name 'metric' is not defined"
     ]
    }
   ],
   "source": [
    "metric "
   ]
  }
 ],
 "metadata": {
  "kernelspec": {
   "display_name": "Python 3 (ipykernel)",
   "language": "python",
   "name": "python3"
  },
  "language_info": {
   "codemirror_mode": {
    "name": "ipython",
    "version": 3
   },
   "file_extension": ".py",
   "mimetype": "text/x-python",
   "name": "python",
   "nbconvert_exporter": "python",
   "pygments_lexer": "ipython3",
   "version": "3.12.1"
  }
 },
 "nbformat": 4,
 "nbformat_minor": 4
}
