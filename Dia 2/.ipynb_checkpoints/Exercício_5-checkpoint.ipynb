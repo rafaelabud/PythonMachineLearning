{
 "cells": [
  {
   "cell_type": "code",
   "execution_count": 4,
   "metadata": {},
   "outputs": [],
   "source": [
    "import numpy as np\n",
    "#Crie 2 arrays com as seguintes listas\n",
    "#a. [[1,2,3],[4,5,6]]\n",
    "#b. [[2,4,6,8],10,12,14,16]\n",
    "#c. [[11,13,17],[[23,29,31]]\n",
    "#d. [[13,14,5],[19,21,23]]\n",
    "a = np.array([[1,2,3],[4,5,6]])\n",
    "b = np.array([[2,4,6,8],10,12,14,16])\n",
    "c = np.array([[11,13,17],[23,29,31]])\n",
    "d = np.array([[13,14,5],[19,21,23]])"
   ]
  },
  {
   "cell_type": "code",
   "execution_count": 6,
   "metadata": {},
   "outputs": [],
   "source": [
    "#Concatene a e b. O que aconteceu?\n",
    "np.concatenate((a,b))"
   ]
  },
  {
   "cell_type": "code",
   "execution_count": 7,
   "metadata": {},
   "outputs": [],
   "source": [
    "#Concatene b e c, tanto usando o eixo 0 (linha) quanto o eixo 1 (coluna)\n",
    "np.concatenate((b,c))"
   ]
  },
  {
   "cell_type": "code",
   "execution_count": 10,
   "metadata": {},
   "outputs": [],
   "source": [
    "#Concatene a e d, tanto usando o eixo 0 (linha) quanto o eixo 1 (coluna)\n",
    "np.concatenate((a,d), axis = 0)"
   ]
  },
  {
   "cell_type": "code",
   "execution_count": 10,
   "metadata": {},
   "outputs": [
    {
     "data": {
      "text/plain": [
       "array([[ 1,  2,  3, 13, 14,  5],\n",
       "       [ 4,  5,  6, 19, 21, 23]])"
      ]
     },
     "execution_count": 10,
     "metadata": {},
     "output_type": "execute_result"
    }
   ],
   "source": [
    "np.concatenate((a,d), axis = 1)"
   ]
  }
 ],
 "metadata": {
  "kernelspec": {
   "display_name": "Python 3",
   "language": "python",
   "name": "python3"
  },
  "language_info": {
   "codemirror_mode": {
    "name": "ipython",
    "version": 3
   },
   "file_extension": ".py",
   "mimetype": "text/x-python",
   "name": "python",
   "nbconvert_exporter": "python",
   "pygments_lexer": "ipython3",
   "version": "3.7.3"
  }
 },
 "nbformat": 4,
 "nbformat_minor": 4
}
