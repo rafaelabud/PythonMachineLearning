{
 "cells": [
  {
   "cell_type": "code",
   "execution_count": 3,
   "metadata": {},
   "outputs": [
    {
     "data": {
      "text/plain": [
       "['feijoada', 'comida baiana']"
      ]
     },
     "execution_count": 3,
     "metadata": {},
     "output_type": "execute_result"
    }
   ],
   "source": [
    "#2 - Crie um dicionário chamado cardápio em que as chaves são os dias da semana e os respectivos valores sejam os pratos do dia\n",
    "cardapio = {'segunda':'salada','terça':'feijoada','quarta':'macarronada','quinta':'massa','sexta':['feijoada','comida baiana']}"
   ]
  },
  {
   "cell_type": "code",
   "execution_count": 5,
   "metadata": {},
   "outputs": [],
   "source": [
    "#3Crie um dicionário chamado hemograma que contenha as seguintes chave:valor\n",
    "hemograma = {'hemacias':4.71, 'hemoglobina':14.1, 'hematocrito':41.2,'linfocitos':38,'monocitos':7,'resultado':'saudável'}"
   ]
  },
  {
   "cell_type": "code",
   "execution_count": 7,
   "metadata": {},
   "outputs": [],
   "source": [
    "#Corrija o dicionário acima com monócitos:12\n",
    "hemograma.update({'monocitos':12})"
   ]
  },
  {
   "cell_type": "code",
   "execution_count": 8,
   "metadata": {},
   "outputs": [
    {
     "data": {
      "text/plain": [
       "{'hemacias': 4.71,\n",
       " 'hemoglobina': 14.1,\n",
       " 'hematocrito': 41.2,\n",
       " 'linfocitos': 38,\n",
       " 'monocitos': 12,\n",
       " 'resultado': 'saudável'}"
      ]
     },
     "execution_count": 8,
     "metadata": {},
     "output_type": "execute_result"
    }
   ],
   "source": [
    "hemograma"
   ]
  }
 ],
 "metadata": {
  "kernelspec": {
   "display_name": "Python 3",
   "language": "python",
   "name": "python3"
  },
  "language_info": {
   "codemirror_mode": {
    "name": "ipython",
    "version": 3
   },
   "file_extension": ".py",
   "mimetype": "text/x-python",
   "name": "python",
   "nbconvert_exporter": "python",
   "pygments_lexer": "ipython3",
   "version": "3.7.3"
  }
 },
 "nbformat": 4,
 "nbformat_minor": 4
}
