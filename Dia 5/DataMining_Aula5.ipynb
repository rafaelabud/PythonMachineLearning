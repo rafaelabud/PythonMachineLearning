{
 "cells": [
  {
   "cell_type": "markdown",
   "metadata": {},
   "source": [
    "<h4> Análise de Dados com Python <br> <b> Aula 4 <b> </h4> "
   ]
  },
  {
   "cell_type": "markdown",
   "metadata": {},
   "source": [
    "<b><h5> Data Mining </h5></b>"
   ]
  },
  {
   "cell_type": "code",
   "execution_count": 25,
   "metadata": {},
   "outputs": [],
   "source": [
    "#Importando as bibliotecas necessárias\n",
    "import numpy as np\n",
    "import pandas as pd\n",
    "import matplotlib.pyplot as plt\n",
    "import seaborn as sns"
   ]
  },
  {
   "cell_type": "code",
   "execution_count": 26,
   "metadata": {},
   "outputs": [],
   "source": [
    "# Abrindo o arquivo\n",
    "df = pd.read_csv('carros.csv')"
   ]
  },
  {
   "cell_type": "code",
   "execution_count": 27,
   "metadata": {},
   "outputs": [
    {
     "data": {
      "text/html": [
       "<div>\n",
       "<style scoped>\n",
       "    .dataframe tbody tr th:only-of-type {\n",
       "        vertical-align: middle;\n",
       "    }\n",
       "\n",
       "    .dataframe tbody tr th {\n",
       "        vertical-align: top;\n",
       "    }\n",
       "\n",
       "    .dataframe thead th {\n",
       "        text-align: right;\n",
       "    }\n",
       "</style>\n",
       "<table border=\"1\" class=\"dataframe\">\n",
       "  <thead>\n",
       "    <tr style=\"text-align: right;\">\n",
       "      <th></th>\n",
       "      <th>riskiness</th>\n",
       "      <th>losses</th>\n",
       "      <th>make</th>\n",
       "      <th>fuel type</th>\n",
       "      <th>city mpg</th>\n",
       "      <th>highway mpg</th>\n",
       "      <th>aspiration</th>\n",
       "      <th>doors</th>\n",
       "      <th>body</th>\n",
       "      <th>drive</th>\n",
       "      <th>...</th>\n",
       "      <th>engine type</th>\n",
       "      <th>cylinders</th>\n",
       "      <th>engine size</th>\n",
       "      <th>fuel system</th>\n",
       "      <th>bore</th>\n",
       "      <th>stroke</th>\n",
       "      <th>compression ratio</th>\n",
       "      <th>horsepower</th>\n",
       "      <th>peak rpm</th>\n",
       "      <th>price</th>\n",
       "    </tr>\n",
       "  </thead>\n",
       "  <tbody>\n",
       "    <tr>\n",
       "      <td>0</td>\n",
       "      <td>2</td>\n",
       "      <td>164.0</td>\n",
       "      <td>audi</td>\n",
       "      <td>gas</td>\n",
       "      <td>24.0</td>\n",
       "      <td>30.0</td>\n",
       "      <td>std</td>\n",
       "      <td>four</td>\n",
       "      <td>sedan</td>\n",
       "      <td>fwd</td>\n",
       "      <td>...</td>\n",
       "      <td>ohc</td>\n",
       "      <td>four</td>\n",
       "      <td>109</td>\n",
       "      <td>mpfi</td>\n",
       "      <td>3.19</td>\n",
       "      <td>3.4</td>\n",
       "      <td>10.0</td>\n",
       "      <td>102</td>\n",
       "      <td>5500</td>\n",
       "      <td>13950</td>\n",
       "    </tr>\n",
       "    <tr>\n",
       "      <td>1</td>\n",
       "      <td>2</td>\n",
       "      <td>164.0</td>\n",
       "      <td>audi</td>\n",
       "      <td>gas</td>\n",
       "      <td>18.0</td>\n",
       "      <td>22.0</td>\n",
       "      <td>std</td>\n",
       "      <td>four</td>\n",
       "      <td>sedan</td>\n",
       "      <td>4wd</td>\n",
       "      <td>...</td>\n",
       "      <td>ohc</td>\n",
       "      <td>five</td>\n",
       "      <td>136</td>\n",
       "      <td>mpfi</td>\n",
       "      <td>3.19</td>\n",
       "      <td>3.4</td>\n",
       "      <td>8.0</td>\n",
       "      <td>115</td>\n",
       "      <td>5500</td>\n",
       "      <td>17450</td>\n",
       "    </tr>\n",
       "    <tr>\n",
       "      <td>2</td>\n",
       "      <td>1</td>\n",
       "      <td>158.0</td>\n",
       "      <td>audi</td>\n",
       "      <td>gas</td>\n",
       "      <td>19.0</td>\n",
       "      <td>25.0</td>\n",
       "      <td>std</td>\n",
       "      <td>four</td>\n",
       "      <td>sedan</td>\n",
       "      <td>fwd</td>\n",
       "      <td>...</td>\n",
       "      <td>ohc</td>\n",
       "      <td>five</td>\n",
       "      <td>136</td>\n",
       "      <td>mpfi</td>\n",
       "      <td>3.19</td>\n",
       "      <td>3.4</td>\n",
       "      <td>8.5</td>\n",
       "      <td>110</td>\n",
       "      <td>5500</td>\n",
       "      <td>17710</td>\n",
       "    </tr>\n",
       "    <tr>\n",
       "      <td>3</td>\n",
       "      <td>1</td>\n",
       "      <td>158.0</td>\n",
       "      <td>audi</td>\n",
       "      <td>gas</td>\n",
       "      <td>17.0</td>\n",
       "      <td>20.0</td>\n",
       "      <td>turbo</td>\n",
       "      <td>four</td>\n",
       "      <td>sedan</td>\n",
       "      <td>fwd</td>\n",
       "      <td>...</td>\n",
       "      <td>ohc</td>\n",
       "      <td>five</td>\n",
       "      <td>131</td>\n",
       "      <td>mpfi</td>\n",
       "      <td>3.13</td>\n",
       "      <td>3.4</td>\n",
       "      <td>8.3</td>\n",
       "      <td>140</td>\n",
       "      <td>5500</td>\n",
       "      <td>23875</td>\n",
       "    </tr>\n",
       "    <tr>\n",
       "      <td>4</td>\n",
       "      <td>2</td>\n",
       "      <td>192.0</td>\n",
       "      <td>bmw</td>\n",
       "      <td>gas</td>\n",
       "      <td>23.0</td>\n",
       "      <td>29.0</td>\n",
       "      <td>std</td>\n",
       "      <td>two</td>\n",
       "      <td>sedan</td>\n",
       "      <td>rwd</td>\n",
       "      <td>...</td>\n",
       "      <td>ohc</td>\n",
       "      <td>four</td>\n",
       "      <td>108</td>\n",
       "      <td>mpfi</td>\n",
       "      <td>3.50</td>\n",
       "      <td>2.8</td>\n",
       "      <td>8.8</td>\n",
       "      <td>101</td>\n",
       "      <td>5800</td>\n",
       "      <td>16430</td>\n",
       "    </tr>\n",
       "  </tbody>\n",
       "</table>\n",
       "<p>5 rows × 26 columns</p>\n",
       "</div>"
      ],
      "text/plain": [
       "   riskiness  losses  make fuel type  city mpg  highway mpg aspiration doors  \\\n",
       "0          2   164.0  audi       gas      24.0         30.0        std  four   \n",
       "1          2   164.0  audi       gas      18.0         22.0        std  four   \n",
       "2          1   158.0  audi       gas      19.0         25.0        std  four   \n",
       "3          1   158.0  audi       gas      17.0         20.0      turbo  four   \n",
       "4          2   192.0   bmw       gas      23.0         29.0        std   two   \n",
       "\n",
       "    body drive  ... engine type  cylinders  engine size  fuel system  bore  \\\n",
       "0  sedan   fwd  ...         ohc       four          109         mpfi  3.19   \n",
       "1  sedan   4wd  ...         ohc       five          136         mpfi  3.19   \n",
       "2  sedan   fwd  ...         ohc       five          136         mpfi  3.19   \n",
       "3  sedan   fwd  ...         ohc       five          131         mpfi  3.13   \n",
       "4  sedan   rwd  ...         ohc       four          108         mpfi  3.50   \n",
       "\n",
       "   stroke compression ratio horsepower  peak rpm  price  \n",
       "0     3.4              10.0        102      5500  13950  \n",
       "1     3.4               8.0        115      5500  17450  \n",
       "2     3.4               8.5        110      5500  17710  \n",
       "3     3.4               8.3        140      5500  23875  \n",
       "4     2.8               8.8        101      5800  16430  \n",
       "\n",
       "[5 rows x 26 columns]"
      ]
     },
     "execution_count": 27,
     "metadata": {},
     "output_type": "execute_result"
    }
   ],
   "source": [
    "#Visualizando o dataframe\n",
    "df.head()"
   ]
  },
  {
   "cell_type": "markdown",
   "metadata": {},
   "source": [
    "# Conhecendo os Dados\n",
    "\n",
    "Abaixo, descrevemos as informações contidas no dataset **Carros**.\n",
    "\n",
    "### Informações contidas no dataset\n",
    "As variáveis contidas e seus significados estão abaixo:\n",
    "\n",
    "- riskiness: Classificação do risco associado à subscrição de uma nova apólice e o prêmio que deve ser cobrado pela cobertura\n",
    "- losses: Taxa de desvalorização\n",
    "- make: Fabricante\n",
    "- fuel type: tipo de combustível\n",
    "- aspiration: motores aspirados ou turbinados\n",
    "- doors: quantidade de portas\n",
    "- body: tipo de carro (sedan, hatch...)\n",
    "- drive: Tração\n",
    "- engine location: localização do motor\n",
    "- wheel base: distância entre os eixos das rodas dianteiras e traseiras\n",
    "- length: comprimento\n",
    "- width: largura\n",
    "- height: altura\n",
    "- weight: peso\n",
    "- engine type: tipo de motor\n",
    "- cylinders: quantidade de cilindros\n",
    "- engine size: tamanho do motor\n",
    "- fuel system: Injeção de combustível\n",
    "- bore: diâmetro do cilindro\n",
    "- stroke: tempo do motor (ciclo)\n",
    "- compression ratio: Taxa de compressão (É um valor numérico adimensional representando a proporção entre o volume aspirado somado ao volume da câmara de combustão em relação ao volume da câmara de combustão)\n",
    "- horsepower: cavalos de potência\n",
    "- peak rpm: pico velocidade de rotação do motor\n",
    "- city mpg: eficiência do combustível na cidade (milhas por galão)\n",
    "- highway mpg: eficiência do combustível na estrada (milhas por galão)\n",
    "- price: preço"
   ]
  },
  {
   "cell_type": "code",
   "execution_count": 28,
   "metadata": {},
   "outputs": [
    {
     "data": {
      "text/html": [
       "<div>\n",
       "<style scoped>\n",
       "    .dataframe tbody tr th:only-of-type {\n",
       "        vertical-align: middle;\n",
       "    }\n",
       "\n",
       "    .dataframe tbody tr th {\n",
       "        vertical-align: top;\n",
       "    }\n",
       "\n",
       "    .dataframe thead th {\n",
       "        text-align: right;\n",
       "    }\n",
       "</style>\n",
       "<table border=\"1\" class=\"dataframe\">\n",
       "  <thead>\n",
       "    <tr style=\"text-align: right;\">\n",
       "      <th></th>\n",
       "      <th>count</th>\n",
       "      <th>mean</th>\n",
       "      <th>std</th>\n",
       "      <th>min</th>\n",
       "      <th>25%</th>\n",
       "      <th>50%</th>\n",
       "      <th>75%</th>\n",
       "      <th>max</th>\n",
       "    </tr>\n",
       "  </thead>\n",
       "  <tbody>\n",
       "    <tr>\n",
       "      <td>riskiness</td>\n",
       "      <td>165.0</td>\n",
       "      <td>0.739394</td>\n",
       "      <td>1.183716</td>\n",
       "      <td>-2.00</td>\n",
       "      <td>0.00</td>\n",
       "      <td>1.00</td>\n",
       "      <td>2.00</td>\n",
       "      <td>3.00</td>\n",
       "    </tr>\n",
       "    <tr>\n",
       "      <td>losses</td>\n",
       "      <td>159.0</td>\n",
       "      <td>122.566038</td>\n",
       "      <td>36.905889</td>\n",
       "      <td>65.00</td>\n",
       "      <td>94.00</td>\n",
       "      <td>115.00</td>\n",
       "      <td>151.50</td>\n",
       "      <td>256.00</td>\n",
       "    </tr>\n",
       "    <tr>\n",
       "      <td>city mpg</td>\n",
       "      <td>164.0</td>\n",
       "      <td>26.408537</td>\n",
       "      <td>6.234491</td>\n",
       "      <td>15.00</td>\n",
       "      <td>22.75</td>\n",
       "      <td>26.00</td>\n",
       "      <td>31.00</td>\n",
       "      <td>49.00</td>\n",
       "    </tr>\n",
       "    <tr>\n",
       "      <td>highway mpg</td>\n",
       "      <td>159.0</td>\n",
       "      <td>32.088050</td>\n",
       "      <td>6.723644</td>\n",
       "      <td>18.00</td>\n",
       "      <td>28.00</td>\n",
       "      <td>32.00</td>\n",
       "      <td>37.00</td>\n",
       "      <td>54.00</td>\n",
       "    </tr>\n",
       "    <tr>\n",
       "      <td>wheel base</td>\n",
       "      <td>165.0</td>\n",
       "      <td>98.321212</td>\n",
       "      <td>5.183802</td>\n",
       "      <td>86.60</td>\n",
       "      <td>94.50</td>\n",
       "      <td>97.00</td>\n",
       "      <td>101.20</td>\n",
       "      <td>115.60</td>\n",
       "    </tr>\n",
       "    <tr>\n",
       "      <td>length</td>\n",
       "      <td>165.0</td>\n",
       "      <td>172.453333</td>\n",
       "      <td>11.699643</td>\n",
       "      <td>141.10</td>\n",
       "      <td>165.70</td>\n",
       "      <td>172.40</td>\n",
       "      <td>177.80</td>\n",
       "      <td>202.60</td>\n",
       "    </tr>\n",
       "    <tr>\n",
       "      <td>width</td>\n",
       "      <td>165.0</td>\n",
       "      <td>65.590909</td>\n",
       "      <td>2.011819</td>\n",
       "      <td>60.30</td>\n",
       "      <td>64.00</td>\n",
       "      <td>65.40</td>\n",
       "      <td>66.50</td>\n",
       "      <td>71.70</td>\n",
       "    </tr>\n",
       "    <tr>\n",
       "      <td>height</td>\n",
       "      <td>165.0</td>\n",
       "      <td>53.916970</td>\n",
       "      <td>2.233821</td>\n",
       "      <td>49.40</td>\n",
       "      <td>52.50</td>\n",
       "      <td>54.10</td>\n",
       "      <td>55.50</td>\n",
       "      <td>59.80</td>\n",
       "    </tr>\n",
       "    <tr>\n",
       "      <td>weight</td>\n",
       "      <td>165.0</td>\n",
       "      <td>2461.575758</td>\n",
       "      <td>482.616638</td>\n",
       "      <td>1488.00</td>\n",
       "      <td>2081.00</td>\n",
       "      <td>2370.00</td>\n",
       "      <td>2808.00</td>\n",
       "      <td>4066.00</td>\n",
       "    </tr>\n",
       "    <tr>\n",
       "      <td>engine size</td>\n",
       "      <td>165.0</td>\n",
       "      <td>119.351515</td>\n",
       "      <td>30.682244</td>\n",
       "      <td>61.00</td>\n",
       "      <td>97.00</td>\n",
       "      <td>110.00</td>\n",
       "      <td>136.00</td>\n",
       "      <td>258.00</td>\n",
       "    </tr>\n",
       "    <tr>\n",
       "      <td>bore</td>\n",
       "      <td>165.0</td>\n",
       "      <td>3.299273</td>\n",
       "      <td>0.265416</td>\n",
       "      <td>2.54</td>\n",
       "      <td>3.05</td>\n",
       "      <td>3.27</td>\n",
       "      <td>3.54</td>\n",
       "      <td>3.94</td>\n",
       "    </tr>\n",
       "    <tr>\n",
       "      <td>stroke</td>\n",
       "      <td>165.0</td>\n",
       "      <td>3.230242</td>\n",
       "      <td>0.294127</td>\n",
       "      <td>2.07</td>\n",
       "      <td>3.08</td>\n",
       "      <td>3.27</td>\n",
       "      <td>3.41</td>\n",
       "      <td>4.17</td>\n",
       "    </tr>\n",
       "    <tr>\n",
       "      <td>compression ratio</td>\n",
       "      <td>165.0</td>\n",
       "      <td>10.115273</td>\n",
       "      <td>3.825605</td>\n",
       "      <td>7.00</td>\n",
       "      <td>8.70</td>\n",
       "      <td>9.00</td>\n",
       "      <td>9.40</td>\n",
       "      <td>23.00</td>\n",
       "    </tr>\n",
       "    <tr>\n",
       "      <td>horsepower</td>\n",
       "      <td>165.0</td>\n",
       "      <td>96.181818</td>\n",
       "      <td>30.706374</td>\n",
       "      <td>48.00</td>\n",
       "      <td>69.00</td>\n",
       "      <td>90.00</td>\n",
       "      <td>114.00</td>\n",
       "      <td>200.00</td>\n",
       "    </tr>\n",
       "    <tr>\n",
       "      <td>peak rpm</td>\n",
       "      <td>165.0</td>\n",
       "      <td>5113.939394</td>\n",
       "      <td>474.071232</td>\n",
       "      <td>4150.00</td>\n",
       "      <td>4800.00</td>\n",
       "      <td>5200.00</td>\n",
       "      <td>5500.00</td>\n",
       "      <td>6600.00</td>\n",
       "    </tr>\n",
       "    <tr>\n",
       "      <td>price</td>\n",
       "      <td>165.0</td>\n",
       "      <td>11662.587879</td>\n",
       "      <td>5989.829793</td>\n",
       "      <td>5118.00</td>\n",
       "      <td>7395.00</td>\n",
       "      <td>9279.00</td>\n",
       "      <td>15690.00</td>\n",
       "      <td>35056.00</td>\n",
       "    </tr>\n",
       "  </tbody>\n",
       "</table>\n",
       "</div>"
      ],
      "text/plain": [
       "                   count          mean          std      min      25%  \\\n",
       "riskiness          165.0      0.739394     1.183716    -2.00     0.00   \n",
       "losses             159.0    122.566038    36.905889    65.00    94.00   \n",
       "city mpg           164.0     26.408537     6.234491    15.00    22.75   \n",
       "highway mpg        159.0     32.088050     6.723644    18.00    28.00   \n",
       "wheel base         165.0     98.321212     5.183802    86.60    94.50   \n",
       "length             165.0    172.453333    11.699643   141.10   165.70   \n",
       "width              165.0     65.590909     2.011819    60.30    64.00   \n",
       "height             165.0     53.916970     2.233821    49.40    52.50   \n",
       "weight             165.0   2461.575758   482.616638  1488.00  2081.00   \n",
       "engine size        165.0    119.351515    30.682244    61.00    97.00   \n",
       "bore               165.0      3.299273     0.265416     2.54     3.05   \n",
       "stroke             165.0      3.230242     0.294127     2.07     3.08   \n",
       "compression ratio  165.0     10.115273     3.825605     7.00     8.70   \n",
       "horsepower         165.0     96.181818    30.706374    48.00    69.00   \n",
       "peak rpm           165.0   5113.939394   474.071232  4150.00  4800.00   \n",
       "price              165.0  11662.587879  5989.829793  5118.00  7395.00   \n",
       "\n",
       "                       50%       75%       max  \n",
       "riskiness             1.00      2.00      3.00  \n",
       "losses              115.00    151.50    256.00  \n",
       "city mpg             26.00     31.00     49.00  \n",
       "highway mpg          32.00     37.00     54.00  \n",
       "wheel base           97.00    101.20    115.60  \n",
       "length              172.40    177.80    202.60  \n",
       "width                65.40     66.50     71.70  \n",
       "height               54.10     55.50     59.80  \n",
       "weight             2370.00   2808.00   4066.00  \n",
       "engine size         110.00    136.00    258.00  \n",
       "bore                  3.27      3.54      3.94  \n",
       "stroke                3.27      3.41      4.17  \n",
       "compression ratio     9.00      9.40     23.00  \n",
       "horsepower           90.00    114.00    200.00  \n",
       "peak rpm           5200.00   5500.00   6600.00  \n",
       "price              9279.00  15690.00  35056.00  "
      ]
     },
     "execution_count": 28,
     "metadata": {},
     "output_type": "execute_result"
    }
   ],
   "source": [
    "#Describe das variáveis numéricas.\n",
    "df.describe().T "
   ]
  },
  {
   "cell_type": "code",
   "execution_count": 29,
   "metadata": {},
   "outputs": [
    {
     "data": {
      "text/html": [
       "<div>\n",
       "<style scoped>\n",
       "    .dataframe tbody tr th:only-of-type {\n",
       "        vertical-align: middle;\n",
       "    }\n",
       "\n",
       "    .dataframe tbody tr th {\n",
       "        vertical-align: top;\n",
       "    }\n",
       "\n",
       "    .dataframe thead th {\n",
       "        text-align: right;\n",
       "    }\n",
       "</style>\n",
       "<table border=\"1\" class=\"dataframe\">\n",
       "  <thead>\n",
       "    <tr style=\"text-align: right;\">\n",
       "      <th></th>\n",
       "      <th>count</th>\n",
       "      <th>unique</th>\n",
       "      <th>top</th>\n",
       "      <th>freq</th>\n",
       "    </tr>\n",
       "  </thead>\n",
       "  <tbody>\n",
       "    <tr>\n",
       "      <td>make</td>\n",
       "      <td>165</td>\n",
       "      <td>18</td>\n",
       "      <td>toyota</td>\n",
       "      <td>31</td>\n",
       "    </tr>\n",
       "    <tr>\n",
       "      <td>fuel type</td>\n",
       "      <td>165</td>\n",
       "      <td>2</td>\n",
       "      <td>gas</td>\n",
       "      <td>150</td>\n",
       "    </tr>\n",
       "    <tr>\n",
       "      <td>aspiration</td>\n",
       "      <td>165</td>\n",
       "      <td>2</td>\n",
       "      <td>std</td>\n",
       "      <td>137</td>\n",
       "    </tr>\n",
       "    <tr>\n",
       "      <td>doors</td>\n",
       "      <td>165</td>\n",
       "      <td>2</td>\n",
       "      <td>four</td>\n",
       "      <td>98</td>\n",
       "    </tr>\n",
       "    <tr>\n",
       "      <td>body</td>\n",
       "      <td>165</td>\n",
       "      <td>5</td>\n",
       "      <td>sedan</td>\n",
       "      <td>84</td>\n",
       "    </tr>\n",
       "    <tr>\n",
       "      <td>drive</td>\n",
       "      <td>165</td>\n",
       "      <td>3</td>\n",
       "      <td>fwd</td>\n",
       "      <td>107</td>\n",
       "    </tr>\n",
       "    <tr>\n",
       "      <td>engine location</td>\n",
       "      <td>165</td>\n",
       "      <td>1</td>\n",
       "      <td>front</td>\n",
       "      <td>165</td>\n",
       "    </tr>\n",
       "    <tr>\n",
       "      <td>engine type</td>\n",
       "      <td>165</td>\n",
       "      <td>5</td>\n",
       "      <td>ohc</td>\n",
       "      <td>128</td>\n",
       "    </tr>\n",
       "    <tr>\n",
       "      <td>cylinders</td>\n",
       "      <td>165</td>\n",
       "      <td>5</td>\n",
       "      <td>four</td>\n",
       "      <td>138</td>\n",
       "    </tr>\n",
       "    <tr>\n",
       "      <td>fuel system</td>\n",
       "      <td>165</td>\n",
       "      <td>6</td>\n",
       "      <td>mpfi</td>\n",
       "      <td>69</td>\n",
       "    </tr>\n",
       "  </tbody>\n",
       "</table>\n",
       "</div>"
      ],
      "text/plain": [
       "                count unique     top freq\n",
       "make              165     18  toyota   31\n",
       "fuel type         165      2     gas  150\n",
       "aspiration        165      2     std  137\n",
       "doors             165      2    four   98\n",
       "body              165      5   sedan   84\n",
       "drive             165      3     fwd  107\n",
       "engine location   165      1   front  165\n",
       "engine type       165      5     ohc  128\n",
       "cylinders         165      5    four  138\n",
       "fuel system       165      6    mpfi   69"
      ]
     },
     "execution_count": 29,
     "metadata": {},
     "output_type": "execute_result"
    }
   ],
   "source": [
    "#Describe das variáveis categóricas.\n",
    "df.describe(include='O').T"
   ]
  },
  {
   "cell_type": "code",
   "execution_count": 30,
   "metadata": {},
   "outputs": [
    {
     "name": "stdout",
     "output_type": "stream",
     "text": [
      "<class 'pandas.core.frame.DataFrame'>\n",
      "RangeIndex: 165 entries, 0 to 164\n",
      "Data columns (total 26 columns):\n",
      "riskiness            165 non-null int64\n",
      "losses               159 non-null float64\n",
      "make                 165 non-null object\n",
      "fuel type            165 non-null object\n",
      "city mpg             164 non-null float64\n",
      "highway mpg          159 non-null float64\n",
      "aspiration           165 non-null object\n",
      "doors                165 non-null object\n",
      "body                 165 non-null object\n",
      "drive                165 non-null object\n",
      "engine location      165 non-null object\n",
      "wheel base           165 non-null float64\n",
      "length               165 non-null float64\n",
      "width                165 non-null float64\n",
      "height               165 non-null float64\n",
      "weight               165 non-null int64\n",
      "engine type          165 non-null object\n",
      "cylinders            165 non-null object\n",
      "engine size          165 non-null int64\n",
      "fuel system          165 non-null object\n",
      "bore                 165 non-null float64\n",
      "stroke               165 non-null float64\n",
      "compression ratio    165 non-null float64\n",
      "horsepower           165 non-null int64\n",
      "peak rpm             165 non-null int64\n",
      "price                165 non-null int64\n",
      "dtypes: float64(10), int64(6), object(10)\n",
      "memory usage: 33.6+ KB\n"
     ]
    }
   ],
   "source": [
    "#Verificando os tipos das variáveis e se possuem valores nulos.\n",
    "df.info()"
   ]
  },
  {
   "cell_type": "code",
   "execution_count": 31,
   "metadata": {},
   "outputs": [
    {
     "data": {
      "text/plain": [
       "riskiness            0\n",
       "losses               6\n",
       "make                 0\n",
       "fuel type            0\n",
       "city mpg             1\n",
       "highway mpg          6\n",
       "aspiration           0\n",
       "doors                0\n",
       "body                 0\n",
       "drive                0\n",
       "engine location      0\n",
       "wheel base           0\n",
       "length               0\n",
       "width                0\n",
       "height               0\n",
       "weight               0\n",
       "engine type          0\n",
       "cylinders            0\n",
       "engine size          0\n",
       "fuel system          0\n",
       "bore                 0\n",
       "stroke               0\n",
       "compression ratio    0\n",
       "horsepower           0\n",
       "peak rpm             0\n",
       "price                0\n",
       "dtype: int64"
      ]
     },
     "execution_count": 31,
     "metadata": {},
     "output_type": "execute_result"
    }
   ],
   "source": [
    "#Visualizando se o dataframe possui dados faltantes.\n",
    "df.isnull().sum()"
   ]
  },
  {
   "cell_type": "code",
   "execution_count": 32,
   "metadata": {},
   "outputs": [
    {
     "data": {
      "text/plain": [
       "riskiness            0\n",
       "losses               6\n",
       "make                 0\n",
       "fuel type            0\n",
       "city mpg             1\n",
       "highway mpg          6\n",
       "aspiration           0\n",
       "doors                0\n",
       "body                 0\n",
       "drive                0\n",
       "engine location      0\n",
       "wheel base           0\n",
       "length               0\n",
       "width                0\n",
       "height               0\n",
       "weight               0\n",
       "engine type          0\n",
       "cylinders            0\n",
       "engine size          0\n",
       "fuel system          0\n",
       "bore                 0\n",
       "stroke               0\n",
       "compression ratio    0\n",
       "horsepower           0\n",
       "peak rpm             0\n",
       "price                0\n",
       "dtype: int64"
      ]
     },
     "execution_count": 32,
     "metadata": {},
     "output_type": "execute_result"
    }
   ],
   "source": [
    "#Ou desta forma (relembrando)\n",
    "df.isna().sum()"
   ]
  },
  {
   "cell_type": "code",
   "execution_count": 33,
   "metadata": {},
   "outputs": [
    {
     "data": {
      "text/plain": [
       "riskiness            0\n",
       "losses               0\n",
       "make                 0\n",
       "fuel type            0\n",
       "city mpg             0\n",
       "highway mpg          0\n",
       "aspiration           0\n",
       "doors                0\n",
       "body                 0\n",
       "drive                0\n",
       "engine location      0\n",
       "wheel base           0\n",
       "length               0\n",
       "width                0\n",
       "height               0\n",
       "weight               0\n",
       "engine type          0\n",
       "cylinders            0\n",
       "engine size          0\n",
       "fuel system          0\n",
       "bore                 0\n",
       "stroke               0\n",
       "compression ratio    0\n",
       "horsepower           0\n",
       "peak rpm             0\n",
       "price                0\n",
       "dtype: int64"
      ]
     },
     "execution_count": 33,
     "metadata": {},
     "output_type": "execute_result"
    }
   ],
   "source": [
    "#Exclusão das linhas com dados faltantes (após análise do impacto no estudo)\n",
    "df.dropna(subset=['losses','highway mpg', 'city mpg'], inplace=True)\n",
    "df.isna().sum()"
   ]
  },
  {
   "cell_type": "code",
   "execution_count": 34,
   "metadata": {},
   "outputs": [
    {
     "data": {
      "text/plain": [
       "riskiness            0\n",
       "losses               0\n",
       "make                 0\n",
       "fuel type            0\n",
       "city mpg             0\n",
       "highway mpg          0\n",
       "aspiration           0\n",
       "doors                0\n",
       "body                 0\n",
       "drive                0\n",
       "engine location      0\n",
       "wheel base           0\n",
       "length               0\n",
       "width                0\n",
       "height               0\n",
       "weight               0\n",
       "engine type          0\n",
       "cylinders            0\n",
       "engine size          0\n",
       "fuel system          0\n",
       "bore                 0\n",
       "stroke               0\n",
       "compression ratio    0\n",
       "horsepower           0\n",
       "peak rpm             0\n",
       "price                0\n",
       "dtype: int64"
      ]
     },
     "execution_count": 34,
     "metadata": {},
     "output_type": "execute_result"
    }
   ],
   "source": [
    "#Caso seja necessário podemos substituí-los por outros dados.\n",
    "df.losses.fillna(0,inplace=True) #Substituidos por 0\n",
    "df['city mpg'].fillna(-999, inplace=True) #Substituidos por 0\n",
    "df['highway mpg'].fillna(df['highway mpg'].median(), inplace=True) #Substituidos pela mediana.\n",
    "\n",
    "df.isna().sum()"
   ]
  },
  {
   "cell_type": "code",
   "execution_count": 35,
   "metadata": {},
   "outputs": [
    {
     "data": {
      "text/plain": [
       "152"
      ]
     },
     "execution_count": 35,
     "metadata": {},
     "output_type": "execute_result"
    }
   ],
   "source": [
    "len(df)"
   ]
  },
  {
   "cell_type": "code",
   "execution_count": 36,
   "metadata": {},
   "outputs": [
    {
     "data": {
      "text/html": [
       "<div>\n",
       "<style scoped>\n",
       "    .dataframe tbody tr th:only-of-type {\n",
       "        vertical-align: middle;\n",
       "    }\n",
       "\n",
       "    .dataframe tbody tr th {\n",
       "        vertical-align: top;\n",
       "    }\n",
       "\n",
       "    .dataframe thead th {\n",
       "        text-align: right;\n",
       "    }\n",
       "</style>\n",
       "<table border=\"1\" class=\"dataframe\">\n",
       "  <thead>\n",
       "    <tr style=\"text-align: right;\">\n",
       "      <th></th>\n",
       "      <th>riskiness</th>\n",
       "      <th>losses</th>\n",
       "      <th>make</th>\n",
       "      <th>fuel type</th>\n",
       "      <th>city mpg</th>\n",
       "      <th>highway mpg</th>\n",
       "      <th>aspiration</th>\n",
       "      <th>doors</th>\n",
       "      <th>body</th>\n",
       "      <th>drive</th>\n",
       "      <th>...</th>\n",
       "      <th>engine type</th>\n",
       "      <th>cylinders</th>\n",
       "      <th>engine size</th>\n",
       "      <th>fuel system</th>\n",
       "      <th>bore</th>\n",
       "      <th>stroke</th>\n",
       "      <th>compression ratio</th>\n",
       "      <th>horsepower</th>\n",
       "      <th>peak rpm</th>\n",
       "      <th>price</th>\n",
       "    </tr>\n",
       "  </thead>\n",
       "  <tbody>\n",
       "    <tr>\n",
       "      <td>159</td>\n",
       "      <td>1</td>\n",
       "      <td>158.0</td>\n",
       "      <td>audi</td>\n",
       "      <td>gas</td>\n",
       "      <td>17.0</td>\n",
       "      <td>20.0</td>\n",
       "      <td>turbo</td>\n",
       "      <td>four</td>\n",
       "      <td>sedan</td>\n",
       "      <td>fwd</td>\n",
       "      <td>...</td>\n",
       "      <td>ohc</td>\n",
       "      <td>five</td>\n",
       "      <td>131</td>\n",
       "      <td>mpfi</td>\n",
       "      <td>3.13</td>\n",
       "      <td>3.40</td>\n",
       "      <td>8.3</td>\n",
       "      <td>140</td>\n",
       "      <td>5500</td>\n",
       "      <td>23875</td>\n",
       "    </tr>\n",
       "    <tr>\n",
       "      <td>160</td>\n",
       "      <td>2</td>\n",
       "      <td>192.0</td>\n",
       "      <td>bmw</td>\n",
       "      <td>gas</td>\n",
       "      <td>23.0</td>\n",
       "      <td>29.0</td>\n",
       "      <td>std</td>\n",
       "      <td>two</td>\n",
       "      <td>sedan</td>\n",
       "      <td>rwd</td>\n",
       "      <td>...</td>\n",
       "      <td>ohc</td>\n",
       "      <td>four</td>\n",
       "      <td>108</td>\n",
       "      <td>mpfi</td>\n",
       "      <td>3.50</td>\n",
       "      <td>2.80</td>\n",
       "      <td>8.8</td>\n",
       "      <td>101</td>\n",
       "      <td>5800</td>\n",
       "      <td>16430</td>\n",
       "    </tr>\n",
       "    <tr>\n",
       "      <td>162</td>\n",
       "      <td>0</td>\n",
       "      <td>188.0</td>\n",
       "      <td>bmw</td>\n",
       "      <td>gas</td>\n",
       "      <td>21.0</td>\n",
       "      <td>28.0</td>\n",
       "      <td>std</td>\n",
       "      <td>two</td>\n",
       "      <td>sedan</td>\n",
       "      <td>rwd</td>\n",
       "      <td>...</td>\n",
       "      <td>ohc</td>\n",
       "      <td>six</td>\n",
       "      <td>164</td>\n",
       "      <td>mpfi</td>\n",
       "      <td>3.31</td>\n",
       "      <td>3.19</td>\n",
       "      <td>9.0</td>\n",
       "      <td>121</td>\n",
       "      <td>4250</td>\n",
       "      <td>20970</td>\n",
       "    </tr>\n",
       "    <tr>\n",
       "      <td>163</td>\n",
       "      <td>0</td>\n",
       "      <td>188.0</td>\n",
       "      <td>bmw</td>\n",
       "      <td>gas</td>\n",
       "      <td>21.0</td>\n",
       "      <td>28.0</td>\n",
       "      <td>std</td>\n",
       "      <td>four</td>\n",
       "      <td>sedan</td>\n",
       "      <td>rwd</td>\n",
       "      <td>...</td>\n",
       "      <td>ohc</td>\n",
       "      <td>six</td>\n",
       "      <td>164</td>\n",
       "      <td>mpfi</td>\n",
       "      <td>3.31</td>\n",
       "      <td>3.19</td>\n",
       "      <td>9.0</td>\n",
       "      <td>121</td>\n",
       "      <td>4250</td>\n",
       "      <td>21105</td>\n",
       "    </tr>\n",
       "    <tr>\n",
       "      <td>164</td>\n",
       "      <td>2</td>\n",
       "      <td>121.0</td>\n",
       "      <td>chevrolet</td>\n",
       "      <td>gas</td>\n",
       "      <td>47.0</td>\n",
       "      <td>53.0</td>\n",
       "      <td>std</td>\n",
       "      <td>two</td>\n",
       "      <td>hatchback</td>\n",
       "      <td>fwd</td>\n",
       "      <td>...</td>\n",
       "      <td>l</td>\n",
       "      <td>three</td>\n",
       "      <td>61</td>\n",
       "      <td>2bbl</td>\n",
       "      <td>2.91</td>\n",
       "      <td>3.03</td>\n",
       "      <td>9.5</td>\n",
       "      <td>48</td>\n",
       "      <td>5100</td>\n",
       "      <td>5151</td>\n",
       "    </tr>\n",
       "  </tbody>\n",
       "</table>\n",
       "<p>5 rows × 26 columns</p>\n",
       "</div>"
      ],
      "text/plain": [
       "     riskiness  losses       make fuel type  city mpg  highway mpg aspiration  \\\n",
       "159          1   158.0       audi       gas      17.0         20.0      turbo   \n",
       "160          2   192.0        bmw       gas      23.0         29.0        std   \n",
       "162          0   188.0        bmw       gas      21.0         28.0        std   \n",
       "163          0   188.0        bmw       gas      21.0         28.0        std   \n",
       "164          2   121.0  chevrolet       gas      47.0         53.0        std   \n",
       "\n",
       "    doors       body drive  ... engine type  cylinders  engine size  \\\n",
       "159  four      sedan   fwd  ...         ohc       five          131   \n",
       "160   two      sedan   rwd  ...         ohc       four          108   \n",
       "162   two      sedan   rwd  ...         ohc        six          164   \n",
       "163  four      sedan   rwd  ...         ohc        six          164   \n",
       "164   two  hatchback   fwd  ...           l      three           61   \n",
       "\n",
       "     fuel system  bore  stroke compression ratio horsepower  peak rpm  price  \n",
       "159         mpfi  3.13    3.40               8.3        140      5500  23875  \n",
       "160         mpfi  3.50    2.80               8.8        101      5800  16430  \n",
       "162         mpfi  3.31    3.19               9.0        121      4250  20970  \n",
       "163         mpfi  3.31    3.19               9.0        121      4250  21105  \n",
       "164         2bbl  2.91    3.03               9.5         48      5100   5151  \n",
       "\n",
       "[5 rows x 26 columns]"
      ]
     },
     "execution_count": 36,
     "metadata": {},
     "output_type": "execute_result"
    }
   ],
   "source": [
    "#Verificando duplicidade de dados\n",
    "df[df.duplicated()]"
   ]
  },
  {
   "cell_type": "code",
   "execution_count": 37,
   "metadata": {},
   "outputs": [],
   "source": [
    "#Excluindo os dados duplicados.\n",
    "df.drop_duplicates(inplace=True)"
   ]
  },
  {
   "cell_type": "code",
   "execution_count": 38,
   "metadata": {},
   "outputs": [
    {
     "data": {
      "text/plain": [
       "147"
      ]
     },
     "execution_count": 38,
     "metadata": {},
     "output_type": "execute_result"
    }
   ],
   "source": [
    "len(df)"
   ]
  },
  {
   "cell_type": "markdown",
   "metadata": {},
   "source": [
    "----------------------------\n",
    "<h2> Atividade 1</h2>\n",
    "<i> Hora de Praticar </i>"
   ]
  },
  {
   "cell_type": "markdown",
   "metadata": {},
   "source": [
    "--------------"
   ]
  },
  {
   "cell_type": "code",
   "execution_count": 39,
   "metadata": {},
   "outputs": [
    {
     "data": {
      "text/plain": [
       "<matplotlib.axes._subplots.AxesSubplot at 0x202172475c0>"
      ]
     },
     "execution_count": 39,
     "metadata": {},
     "output_type": "execute_result"
    },
    {
     "data": {
      "image/png": "[encoded data removed]",
      "text/plain": [
       "<Figure size 432x288 with 1 Axes>"
      ]
     },
     "metadata": {
      "needs_background": "light"
     },
     "output_type": "display_data"
    }
   ],
   "source": [
    "#Verificando a distribuição dos dados numéricos.\n",
    "sns.distplot(df[\"highway mpg\"], kde=False)"
   ]
  },
  {
   "cell_type": "markdown",
   "metadata": {},
   "source": [
    "<h5> Distribuição da Variável Highway mpg </h5>\n",
    "\n",
    "A distribuição da variável highway mpg se estende desde ~17 até ~54 com o pico em torno de 32. (Condizente coma  média de 32 obtida anteriormente.)"
   ]
  },
  {
   "cell_type": "code",
   "execution_count": 40,
   "metadata": {},
   "outputs": [
    {
     "data": {
      "text/plain": [
       "<matplotlib.axes._subplots.AxesSubplot at 0x2021719cf28>"
      ]
     },
     "execution_count": 40,
     "metadata": {},
     "output_type": "execute_result"
    },
    {
     "data": {
      "image/png": "[encoded data removed]",
      "text/plain": [
       "<Figure size 432x288 with 1 Axes>"
      ]
     },
     "metadata": {
      "needs_background": "light"
     },
     "output_type": "display_data"
    }
   ],
   "source": [
    "#Verificando a distribuição dos dados categóricos.\n",
    "sns.countplot(df.body)"
   ]
  },
  {
   "cell_type": "markdown",
   "metadata": {},
   "source": [
    "<h5> Distribuição da Variável Body </h5>\n",
    "\n",
    "Nota-se que a maior parte dos veículos são do tipo sedan e hatchback, com uma proporção pequena de veículos conversíveis. "
   ]
  },
  {
   "cell_type": "markdown",
   "metadata": {},
   "source": [
    "----------------------------\n",
    "<h2> Atividade 2</h2>\n",
    "<i> Hora de Praticar </i>"
   ]
  },
  {
   "cell_type": "markdown",
   "metadata": {},
   "source": [
    "-------------"
   ]
  },
  {
   "cell_type": "code",
   "execution_count": 44,
   "metadata": {},
   "outputs": [
    {
     "data": {
      "text/plain": [
       "31.918367346938776"
      ]
     },
     "execution_count": 44,
     "metadata": {},
     "output_type": "execute_result"
    }
   ],
   "source": [
    "#Calculando a média do conjunto\n",
    "df[\"highway mpg\"].mean()"
   ]
  },
  {
   "cell_type": "code",
   "execution_count": 46,
   "metadata": {},
   "outputs": [
    {
     "data": {
      "text/plain": [
       "96.72108843537416"
      ]
     },
     "execution_count": 46,
     "metadata": {},
     "output_type": "execute_result"
    }
   ],
   "source": [
    "df[\"horsepower\"].mean()"
   ]
  },
  {
   "cell_type": "code",
   "execution_count": 47,
   "metadata": {},
   "outputs": [
    {
     "data": {
      "text/plain": [
       "32.0"
      ]
     },
     "execution_count": 47,
     "metadata": {},
     "output_type": "execute_result"
    }
   ],
   "source": [
    "#Calculando a mediana\n",
    "df[\"highway mpg\"].median()"
   ]
  },
  {
   "cell_type": "code",
   "execution_count": 48,
   "metadata": {},
   "outputs": [
    {
     "data": {
      "text/plain": [
       "92.0"
      ]
     },
     "execution_count": 48,
     "metadata": {},
     "output_type": "execute_result"
    }
   ],
   "source": [
    "df[\"horsepower\"].median()"
   ]
  },
  {
   "cell_type": "code",
   "execution_count": 50,
   "metadata": {},
   "outputs": [
    {
     "data": {
      "text/plain": [
       "30.905463965402337"
      ]
     },
     "execution_count": 50,
     "metadata": {},
     "output_type": "execute_result"
    }
   ],
   "source": [
    "#Calculando desvio padrão\n",
    "df[\"horsepower\"].std()"
   ]
  },
  {
   "cell_type": "code",
   "execution_count": 52,
   "metadata": {},
   "outputs": [
    {
     "data": {
      "text/plain": [
       "5.233602888888646"
      ]
     },
     "execution_count": 52,
     "metadata": {},
     "output_type": "execute_result"
    }
   ],
   "source": [
    "df[\"wheel base\"].std()"
   ]
  },
  {
   "cell_type": "code",
   "execution_count": 53,
   "metadata": {},
   "outputs": [
    {
     "data": {
      "text/plain": [
       "0    four\n",
       "dtype: object"
      ]
     },
     "execution_count": 53,
     "metadata": {},
     "output_type": "execute_result"
    }
   ],
   "source": [
    "#Calculando a moda\n",
    "df[\"doors\"].mode()"
   ]
  },
  {
   "cell_type": "code",
   "execution_count": 55,
   "metadata": {},
   "outputs": [
    {
     "data": {
      "text/plain": [
       "0    sedan\n",
       "dtype: object"
      ]
     },
     "execution_count": 55,
     "metadata": {},
     "output_type": "execute_result"
    }
   ],
   "source": [
    "df[\"body\"].mode()"
   ]
  },
  {
   "cell_type": "code",
   "execution_count": 54,
   "metadata": {},
   "outputs": [
    {
     "data": {
      "text/plain": [
       "0    3.15\n",
       "dtype: float64"
      ]
     },
     "execution_count": 54,
     "metadata": {},
     "output_type": "execute_result"
    }
   ],
   "source": [
    "df[\"stroke\"].mode()"
   ]
  },
  {
   "cell_type": "code",
   "execution_count": 56,
   "metadata": {},
   "outputs": [
    {
     "data": {
      "text/plain": [
       "count    147.000000\n",
       "mean      31.918367\n",
       "std        6.498166\n",
       "min       18.000000\n",
       "25%       28.000000\n",
       "50%       32.000000\n",
       "75%       37.000000\n",
       "max       54.000000\n",
       "Name: highway mpg, dtype: float64"
      ]
     },
     "execution_count": 56,
     "metadata": {},
     "output_type": "execute_result"
    }
   ],
   "source": [
    "df[\"highway mpg\"].describe()"
   ]
  },
  {
   "cell_type": "code",
   "execution_count": 58,
   "metadata": {},
   "outputs": [
    {
     "data": {
      "text/plain": [
       "<matplotlib.axes._subplots.AxesSubplot at 0x2021863c9b0>"
      ]
     },
     "execution_count": 58,
     "metadata": {},
     "output_type": "execute_result"
    },
    {
     "data": {
      "image/png": "[encoded data removed]",
      "text/plain": [
       "<Figure size 432x288 with 1 Axes>"
      ]
     },
     "metadata": {
      "needs_background": "light"
     },
     "output_type": "display_data"
    }
   ],
   "source": [
    "#Criando um boxplot para análise dos dados.\n",
    "sns.boxplot(df[\"highway mpg\"])"
   ]
  },
  {
   "cell_type": "code",
   "execution_count": 59,
   "metadata": {},
   "outputs": [
    {
     "data": {
      "text/plain": [
       "<matplotlib.axes._subplots.AxesSubplot at 0x2021900ba90>"
      ]
     },
     "execution_count": 59,
     "metadata": {},
     "output_type": "execute_result"
    },
    {
     "data": {
      "image/png": "[encoded data removed]",
      "text/plain": [
       "<Figure size 432x288 with 1 Axes>"
      ]
     },
     "metadata": {
      "needs_background": "light"
     },
     "output_type": "display_data"
    }
   ],
   "source": [
    "sns.boxplot(df[\"price\"])"
   ]
  },
  {
   "cell_type": "markdown",
   "metadata": {},
   "source": [
    "----------------------------\n",
    "<h2> Atividade 3</h2>\n",
    "<i> Hora de Praticar </i>"
   ]
  },
  {
   "cell_type": "markdown",
   "metadata": {},
   "source": [
    "----------------------------"
   ]
  },
  {
   "cell_type": "code",
   "execution_count": 63,
   "metadata": {},
   "outputs": [
    {
     "data": {
      "text/html": [
       "<div>\n",
       "<style scoped>\n",
       "    .dataframe tbody tr th:only-of-type {\n",
       "        vertical-align: middle;\n",
       "    }\n",
       "\n",
       "    .dataframe tbody tr th {\n",
       "        vertical-align: top;\n",
       "    }\n",
       "\n",
       "    .dataframe thead th {\n",
       "        text-align: right;\n",
       "    }\n",
       "</style>\n",
       "<table border=\"1\" class=\"dataframe\">\n",
       "  <thead>\n",
       "    <tr style=\"text-align: right;\">\n",
       "      <th></th>\n",
       "      <th>riskiness</th>\n",
       "      <th>losses</th>\n",
       "      <th>city mpg</th>\n",
       "      <th>highway mpg</th>\n",
       "      <th>wheel base</th>\n",
       "      <th>length</th>\n",
       "      <th>width</th>\n",
       "      <th>height</th>\n",
       "      <th>weight</th>\n",
       "      <th>engine size</th>\n",
       "      <th>bore</th>\n",
       "      <th>stroke</th>\n",
       "      <th>compression ratio</th>\n",
       "      <th>horsepower</th>\n",
       "      <th>peak rpm</th>\n",
       "      <th>price</th>\n",
       "    </tr>\n",
       "  </thead>\n",
       "  <tbody>\n",
       "    <tr>\n",
       "      <td>riskiness</td>\n",
       "      <td>1.000000</td>\n",
       "      <td>0.524932</td>\n",
       "      <td>0.121229</td>\n",
       "      <td>0.191338</td>\n",
       "      <td>-0.489971</td>\n",
       "      <td>-0.386461</td>\n",
       "      <td>-0.231888</td>\n",
       "      <td>-0.461261</td>\n",
       "      <td>-0.302027</td>\n",
       "      <td>-0.219253</td>\n",
       "      <td>-0.290272</td>\n",
       "      <td>-0.007211</td>\n",
       "      <td>0.059540</td>\n",
       "      <td>-0.123427</td>\n",
       "      <td>0.215553</td>\n",
       "      <td>-0.244226</td>\n",
       "    </tr>\n",
       "    <tr>\n",
       "      <td>losses</td>\n",
       "      <td>0.524932</td>\n",
       "      <td>1.000000</td>\n",
       "      <td>-0.241875</td>\n",
       "      <td>-0.180170</td>\n",
       "      <td>-0.096709</td>\n",
       "      <td>0.028638</td>\n",
       "      <td>0.102410</td>\n",
       "      <td>-0.373212</td>\n",
       "      <td>0.086482</td>\n",
       "      <td>0.134841</td>\n",
       "      <td>-0.027988</td>\n",
       "      <td>0.058978</td>\n",
       "      <td>-0.065144</td>\n",
       "      <td>0.232168</td>\n",
       "      <td>0.262619</td>\n",
       "      <td>0.168187</td>\n",
       "    </tr>\n",
       "    <tr>\n",
       "      <td>city mpg</td>\n",
       "      <td>0.121229</td>\n",
       "      <td>-0.241875</td>\n",
       "      <td>1.000000</td>\n",
       "      <td>0.970943</td>\n",
       "      <td>-0.632812</td>\n",
       "      <td>-0.757087</td>\n",
       "      <td>-0.729644</td>\n",
       "      <td>-0.211137</td>\n",
       "      <td>-0.840552</td>\n",
       "      <td>-0.807058</td>\n",
       "      <td>-0.630850</td>\n",
       "      <td>-0.068927</td>\n",
       "      <td>0.474024</td>\n",
       "      <td>-0.916950</td>\n",
       "      <td>-0.072196</td>\n",
       "      <td>-0.855705</td>\n",
       "    </tr>\n",
       "    <tr>\n",
       "      <td>highway mpg</td>\n",
       "      <td>0.191338</td>\n",
       "      <td>-0.180170</td>\n",
       "      <td>0.970943</td>\n",
       "      <td>1.000000</td>\n",
       "      <td>-0.648790</td>\n",
       "      <td>-0.766527</td>\n",
       "      <td>-0.732745</td>\n",
       "      <td>-0.249607</td>\n",
       "      <td>-0.854137</td>\n",
       "      <td>-0.802901</td>\n",
       "      <td>-0.647893</td>\n",
       "      <td>-0.048675</td>\n",
       "      <td>0.401225</td>\n",
       "      <td>-0.900039</td>\n",
       "      <td>-0.018642</td>\n",
       "      <td>-0.857664</td>\n",
       "    </tr>\n",
       "    <tr>\n",
       "      <td>wheel base</td>\n",
       "      <td>-0.489971</td>\n",
       "      <td>-0.096709</td>\n",
       "      <td>-0.632812</td>\n",
       "      <td>-0.648790</td>\n",
       "      <td>1.000000</td>\n",
       "      <td>0.916591</td>\n",
       "      <td>0.803806</td>\n",
       "      <td>0.612676</td>\n",
       "      <td>0.815060</td>\n",
       "      <td>0.758025</td>\n",
       "      <td>0.647148</td>\n",
       "      <td>0.209759</td>\n",
       "      <td>-0.061915</td>\n",
       "      <td>0.632401</td>\n",
       "      <td>-0.262054</td>\n",
       "      <td>0.788929</td>\n",
       "    </tr>\n",
       "    <tr>\n",
       "      <td>length</td>\n",
       "      <td>-0.386461</td>\n",
       "      <td>0.028638</td>\n",
       "      <td>-0.757087</td>\n",
       "      <td>-0.766527</td>\n",
       "      <td>0.916591</td>\n",
       "      <td>1.000000</td>\n",
       "      <td>0.868337</td>\n",
       "      <td>0.517699</td>\n",
       "      <td>0.902408</td>\n",
       "      <td>0.844607</td>\n",
       "      <td>0.709217</td>\n",
       "      <td>0.167458</td>\n",
       "      <td>-0.125168</td>\n",
       "      <td>0.746185</td>\n",
       "      <td>-0.223602</td>\n",
       "      <td>0.876386</td>\n",
       "    </tr>\n",
       "    <tr>\n",
       "      <td>width</td>\n",
       "      <td>-0.231888</td>\n",
       "      <td>0.102410</td>\n",
       "      <td>-0.729644</td>\n",
       "      <td>-0.732745</td>\n",
       "      <td>0.803806</td>\n",
       "      <td>0.868337</td>\n",
       "      <td>1.000000</td>\n",
       "      <td>0.344495</td>\n",
       "      <td>0.851752</td>\n",
       "      <td>0.844244</td>\n",
       "      <td>0.660122</td>\n",
       "      <td>0.231142</td>\n",
       "      <td>-0.086129</td>\n",
       "      <td>0.746669</td>\n",
       "      <td>-0.210473</td>\n",
       "      <td>0.840324</td>\n",
       "    </tr>\n",
       "    <tr>\n",
       "      <td>height</td>\n",
       "      <td>-0.461261</td>\n",
       "      <td>-0.373212</td>\n",
       "      <td>-0.211137</td>\n",
       "      <td>-0.249607</td>\n",
       "      <td>0.612676</td>\n",
       "      <td>0.517699</td>\n",
       "      <td>0.344495</td>\n",
       "      <td>1.000000</td>\n",
       "      <td>0.404665</td>\n",
       "      <td>0.240830</td>\n",
       "      <td>0.285909</td>\n",
       "      <td>-0.048586</td>\n",
       "      <td>0.041941</td>\n",
       "      <td>0.098640</td>\n",
       "      <td>-0.244504</td>\n",
       "      <td>0.340132</td>\n",
       "    </tr>\n",
       "    <tr>\n",
       "      <td>weight</td>\n",
       "      <td>-0.302027</td>\n",
       "      <td>0.086482</td>\n",
       "      <td>-0.840552</td>\n",
       "      <td>-0.854137</td>\n",
       "      <td>0.815060</td>\n",
       "      <td>0.902408</td>\n",
       "      <td>0.851752</td>\n",
       "      <td>0.404665</td>\n",
       "      <td>1.000000</td>\n",
       "      <td>0.907858</td>\n",
       "      <td>0.720314</td>\n",
       "      <td>0.187234</td>\n",
       "      <td>-0.193901</td>\n",
       "      <td>0.820205</td>\n",
       "      <td>-0.248796</td>\n",
       "      <td>0.924468</td>\n",
       "    </tr>\n",
       "    <tr>\n",
       "      <td>engine size</td>\n",
       "      <td>-0.219253</td>\n",
       "      <td>0.134841</td>\n",
       "      <td>-0.807058</td>\n",
       "      <td>-0.802901</td>\n",
       "      <td>0.758025</td>\n",
       "      <td>0.844607</td>\n",
       "      <td>0.844244</td>\n",
       "      <td>0.240830</td>\n",
       "      <td>0.907858</td>\n",
       "      <td>1.000000</td>\n",
       "      <td>0.746350</td>\n",
       "      <td>0.350873</td>\n",
       "      <td>-0.184861</td>\n",
       "      <td>0.863859</td>\n",
       "      <td>-0.281254</td>\n",
       "      <td>0.870362</td>\n",
       "    </tr>\n",
       "    <tr>\n",
       "      <td>bore</td>\n",
       "      <td>-0.290272</td>\n",
       "      <td>-0.027988</td>\n",
       "      <td>-0.630850</td>\n",
       "      <td>-0.647893</td>\n",
       "      <td>0.647148</td>\n",
       "      <td>0.709217</td>\n",
       "      <td>0.660122</td>\n",
       "      <td>0.285909</td>\n",
       "      <td>0.720314</td>\n",
       "      <td>0.746350</td>\n",
       "      <td>1.000000</td>\n",
       "      <td>-0.045076</td>\n",
       "      <td>-0.156251</td>\n",
       "      <td>0.665487</td>\n",
       "      <td>-0.331799</td>\n",
       "      <td>0.670155</td>\n",
       "    </tr>\n",
       "    <tr>\n",
       "      <td>stroke</td>\n",
       "      <td>-0.007211</td>\n",
       "      <td>0.058978</td>\n",
       "      <td>-0.068927</td>\n",
       "      <td>-0.048675</td>\n",
       "      <td>0.209759</td>\n",
       "      <td>0.167458</td>\n",
       "      <td>0.231142</td>\n",
       "      <td>-0.048586</td>\n",
       "      <td>0.187234</td>\n",
       "      <td>0.350873</td>\n",
       "      <td>-0.045076</td>\n",
       "      <td>1.000000</td>\n",
       "      <td>0.017792</td>\n",
       "      <td>0.201432</td>\n",
       "      <td>-0.074401</td>\n",
       "      <td>0.170916</td>\n",
       "    </tr>\n",
       "    <tr>\n",
       "      <td>compression ratio</td>\n",
       "      <td>0.059540</td>\n",
       "      <td>-0.065144</td>\n",
       "      <td>0.474024</td>\n",
       "      <td>0.401225</td>\n",
       "      <td>-0.061915</td>\n",
       "      <td>-0.125168</td>\n",
       "      <td>-0.086129</td>\n",
       "      <td>0.041941</td>\n",
       "      <td>-0.193901</td>\n",
       "      <td>-0.184861</td>\n",
       "      <td>-0.156251</td>\n",
       "      <td>0.017792</td>\n",
       "      <td>1.000000</td>\n",
       "      <td>-0.317669</td>\n",
       "      <td>-0.054873</td>\n",
       "      <td>-0.177988</td>\n",
       "    </tr>\n",
       "    <tr>\n",
       "      <td>horsepower</td>\n",
       "      <td>-0.123427</td>\n",
       "      <td>0.232168</td>\n",
       "      <td>-0.916950</td>\n",
       "      <td>-0.900039</td>\n",
       "      <td>0.632401</td>\n",
       "      <td>0.746185</td>\n",
       "      <td>0.746669</td>\n",
       "      <td>0.098640</td>\n",
       "      <td>0.820205</td>\n",
       "      <td>0.863859</td>\n",
       "      <td>0.665487</td>\n",
       "      <td>0.201432</td>\n",
       "      <td>-0.317669</td>\n",
       "      <td>1.000000</td>\n",
       "      <td>0.058446</td>\n",
       "      <td>0.858188</td>\n",
       "    </tr>\n",
       "    <tr>\n",
       "      <td>peak rpm</td>\n",
       "      <td>0.215553</td>\n",
       "      <td>0.262619</td>\n",
       "      <td>-0.072196</td>\n",
       "      <td>-0.018642</td>\n",
       "      <td>-0.262054</td>\n",
       "      <td>-0.223602</td>\n",
       "      <td>-0.210473</td>\n",
       "      <td>-0.244504</td>\n",
       "      <td>-0.248796</td>\n",
       "      <td>-0.281254</td>\n",
       "      <td>-0.331799</td>\n",
       "      <td>-0.074401</td>\n",
       "      <td>-0.054873</td>\n",
       "      <td>0.058446</td>\n",
       "      <td>1.000000</td>\n",
       "      <td>-0.123028</td>\n",
       "    </tr>\n",
       "    <tr>\n",
       "      <td>price</td>\n",
       "      <td>-0.244226</td>\n",
       "      <td>0.168187</td>\n",
       "      <td>-0.855705</td>\n",
       "      <td>-0.857664</td>\n",
       "      <td>0.788929</td>\n",
       "      <td>0.876386</td>\n",
       "      <td>0.840324</td>\n",
       "      <td>0.340132</td>\n",
       "      <td>0.924468</td>\n",
       "      <td>0.870362</td>\n",
       "      <td>0.670155</td>\n",
       "      <td>0.170916</td>\n",
       "      <td>-0.177988</td>\n",
       "      <td>0.858188</td>\n",
       "      <td>-0.123028</td>\n",
       "      <td>1.000000</td>\n",
       "    </tr>\n",
       "  </tbody>\n",
       "</table>\n",
       "</div>"
      ],
      "text/plain": [
       "                   riskiness    losses  city mpg  highway mpg  wheel base  \\\n",
       "riskiness           1.000000  0.524932  0.121229     0.191338   -0.489971   \n",
       "losses              0.524932  1.000000 -0.241875    -0.180170   -0.096709   \n",
       "city mpg            0.121229 -0.241875  1.000000     0.970943   -0.632812   \n",
       "highway mpg         0.191338 -0.180170  0.970943     1.000000   -0.648790   \n",
       "wheel base         -0.489971 -0.096709 -0.632812    -0.648790    1.000000   \n",
       "length             -0.386461  0.028638 -0.757087    -0.766527    0.916591   \n",
       "width              -0.231888  0.102410 -0.729644    -0.732745    0.803806   \n",
       "height             -0.461261 -0.373212 -0.211137    -0.249607    0.612676   \n",
       "weight             -0.302027  0.086482 -0.840552    -0.854137    0.815060   \n",
       "engine size        -0.219253  0.134841 -0.807058    -0.802901    0.758025   \n",
       "bore               -0.290272 -0.027988 -0.630850    -0.647893    0.647148   \n",
       "stroke             -0.007211  0.058978 -0.068927    -0.048675    0.209759   \n",
       "compression ratio   0.059540 -0.065144  0.474024     0.401225   -0.061915   \n",
       "horsepower         -0.123427  0.232168 -0.916950    -0.900039    0.632401   \n",
       "peak rpm            0.215553  0.262619 -0.072196    -0.018642   -0.262054   \n",
       "price              -0.244226  0.168187 -0.855705    -0.857664    0.788929   \n",
       "\n",
       "                     length     width    height    weight  engine size  \\\n",
       "riskiness         -0.386461 -0.231888 -0.461261 -0.302027    -0.219253   \n",
       "losses             0.028638  0.102410 -0.373212  0.086482     0.134841   \n",
       "city mpg          -0.757087 -0.729644 -0.211137 -0.840552    -0.807058   \n",
       "highway mpg       -0.766527 -0.732745 -0.249607 -0.854137    -0.802901   \n",
       "wheel base         0.916591  0.803806  0.612676  0.815060     0.758025   \n",
       "length             1.000000  0.868337  0.517699  0.902408     0.844607   \n",
       "width              0.868337  1.000000  0.344495  0.851752     0.844244   \n",
       "height             0.517699  0.344495  1.000000  0.404665     0.240830   \n",
       "weight             0.902408  0.851752  0.404665  1.000000     0.907858   \n",
       "engine size        0.844607  0.844244  0.240830  0.907858     1.000000   \n",
       "bore               0.709217  0.660122  0.285909  0.720314     0.746350   \n",
       "stroke             0.167458  0.231142 -0.048586  0.187234     0.350873   \n",
       "compression ratio -0.125168 -0.086129  0.041941 -0.193901    -0.184861   \n",
       "horsepower         0.746185  0.746669  0.098640  0.820205     0.863859   \n",
       "peak rpm          -0.223602 -0.210473 -0.244504 -0.248796    -0.281254   \n",
       "price              0.876386  0.840324  0.340132  0.924468     0.870362   \n",
       "\n",
       "                       bore    stroke  compression ratio  horsepower  \\\n",
       "riskiness         -0.290272 -0.007211           0.059540   -0.123427   \n",
       "losses            -0.027988  0.058978          -0.065144    0.232168   \n",
       "city mpg          -0.630850 -0.068927           0.474024   -0.916950   \n",
       "highway mpg       -0.647893 -0.048675           0.401225   -0.900039   \n",
       "wheel base         0.647148  0.209759          -0.061915    0.632401   \n",
       "length             0.709217  0.167458          -0.125168    0.746185   \n",
       "width              0.660122  0.231142          -0.086129    0.746669   \n",
       "height             0.285909 -0.048586           0.041941    0.098640   \n",
       "weight             0.720314  0.187234          -0.193901    0.820205   \n",
       "engine size        0.746350  0.350873          -0.184861    0.863859   \n",
       "bore               1.000000 -0.045076          -0.156251    0.665487   \n",
       "stroke            -0.045076  1.000000           0.017792    0.201432   \n",
       "compression ratio -0.156251  0.017792           1.000000   -0.317669   \n",
       "horsepower         0.665487  0.201432          -0.317669    1.000000   \n",
       "peak rpm          -0.331799 -0.074401          -0.054873    0.058446   \n",
       "price              0.670155  0.170916          -0.177988    0.858188   \n",
       "\n",
       "                   peak rpm     price  \n",
       "riskiness          0.215553 -0.244226  \n",
       "losses             0.262619  0.168187  \n",
       "city mpg          -0.072196 -0.855705  \n",
       "highway mpg       -0.018642 -0.857664  \n",
       "wheel base        -0.262054  0.788929  \n",
       "length            -0.223602  0.876386  \n",
       "width             -0.210473  0.840324  \n",
       "height            -0.244504  0.340132  \n",
       "weight            -0.248796  0.924468  \n",
       "engine size       -0.281254  0.870362  \n",
       "bore              -0.331799  0.670155  \n",
       "stroke            -0.074401  0.170916  \n",
       "compression ratio -0.054873 -0.177988  \n",
       "horsepower         0.058446  0.858188  \n",
       "peak rpm           1.000000 -0.123028  \n",
       "price             -0.123028  1.000000  "
      ]
     },
     "execution_count": 63,
     "metadata": {},
     "output_type": "execute_result"
    }
   ],
   "source": [
    "#Descobrindo a correlação entre os dados\n",
    "df.corr(method=\"spearman\")"
   ]
  },
  {
   "cell_type": "code",
   "execution_count": 78,
   "metadata": {},
   "outputs": [
    {
     "data": {
      "text/plain": [
       "<matplotlib.axes._subplots.AxesSubplot at 0x2021b2f8a90>"
      ]
     },
     "execution_count": 78,
     "metadata": {},
     "output_type": "execute_result"
    },
    {
     "data": {
      "image/png": "[encoded data removed]",
      "text/plain": [
       "<Figure size 720x648 with 2 Axes>"
      ]
     },
     "metadata": {
      "needs_background": "light"
     },
     "output_type": "display_data"
    }
   ],
   "source": [
    "#Matriz de correlação dos dados\n",
    "plt.figure(figsize=(10,9))\n",
    "sns.heatmap(df.corr(method='spearman'), annot=True, annot_kws={\"size\":8})"
   ]
  },
  {
   "cell_type": "markdown",
   "metadata": {},
   "source": [
    "----------------------------\n",
    "<h2> Atividade 4</h2>\n",
    "<i> Hora de Praticar </i>\n"
   ]
  },
  {
   "cell_type": "markdown",
   "metadata": {},
   "source": [
    "----------------"
   ]
  },
  {
   "cell_type": "code",
   "execution_count": 68,
   "metadata": {},
   "outputs": [
    {
     "data": {
      "text/plain": [
       "<matplotlib.axes._subplots.AxesSubplot at 0x2021a048940>"
      ]
     },
     "execution_count": 68,
     "metadata": {},
     "output_type": "execute_result"
    },
    {
     "data": {
      "image/png": "[encoded data removed]",
      "text/plain": [
       "<Figure size 432x288 with 1 Axes>"
      ]
     },
     "metadata": {
      "needs_background": "light"
     },
     "output_type": "display_data"
    }
   ],
   "source": [
    "#Estratificando os dados\n",
    "sns.countplot(df[\"riskiness\"])"
   ]
  },
  {
   "cell_type": "code",
   "execution_count": 70,
   "metadata": {},
   "outputs": [
    {
     "data": {
      "text/plain": [
       "<matplotlib.axes._subplots.AxesSubplot at 0x2021a019a20>"
      ]
     },
     "execution_count": 70,
     "metadata": {},
     "output_type": "execute_result"
    },
    {
     "data": {
      "image/png": "[encoded data removed]",
      "text/plain": [
       "<Figure size 432x288 with 1 Axes>"
      ]
     },
     "metadata": {
      "needs_background": "light"
     },
     "output_type": "display_data"
    }
   ],
   "source": [
    "sns.countplot(df[\"fuel type\"])"
   ]
  },
  {
   "cell_type": "code",
   "execution_count": 69,
   "metadata": {},
   "outputs": [
    {
     "data": {
      "text/plain": [
       "<matplotlib.axes._subplots.AxesSubplot at 0x20219e5f1d0>"
      ]
     },
     "execution_count": 69,
     "metadata": {},
     "output_type": "execute_result"
    },
    {
     "data": {
      "image/png": "[encoded data removed]",
      "text/plain": [
       "<Figure size 432x288 with 1 Axes>"
      ]
     },
     "metadata": {
      "needs_background": "light"
     },
     "output_type": "display_data"
    }
   ],
   "source": [
    "sns.countplot(df[\"fuel type\"], hue=df['riskiness'])"
   ]
  },
  {
   "cell_type": "code",
   "execution_count": 71,
   "metadata": {},
   "outputs": [
    {
     "data": {
      "text/plain": [
       "<matplotlib.axes._subplots.AxesSubplot at 0x20219f22208>"
      ]
     },
     "execution_count": 71,
     "metadata": {},
     "output_type": "execute_result"
    },
    {
     "data": {
      "image/png": "[encoded data removed]",
      "text/plain": [
       "<Figure size 432x288 with 1 Axes>"
      ]
     },
     "metadata": {
      "needs_background": "light"
     },
     "output_type": "display_data"
    }
   ],
   "source": [
    "sns.countplot(df[\"aspiration\"])"
   ]
  },
  {
   "cell_type": "code",
   "execution_count": 72,
   "metadata": {},
   "outputs": [
    {
     "data": {
      "text/plain": [
       "<matplotlib.axes._subplots.AxesSubplot at 0x20219f69710>"
      ]
     },
     "execution_count": 72,
     "metadata": {},
     "output_type": "execute_result"
    },
    {
     "data": {
      "image/png": "[encoded data removed]",
      "text/plain": [
       "<Figure size 432x288 with 1 Axes>"
      ]
     },
     "metadata": {
      "needs_background": "light"
     },
     "output_type": "display_data"
    }
   ],
   "source": [
    "sns.countplot(df[\"aspiration\"], hue=df[\"riskiness\"])"
   ]
  },
  {
   "cell_type": "code",
   "execution_count": 75,
   "metadata": {},
   "outputs": [
    {
     "data": {
      "text/plain": [
       "<matplotlib.axes._subplots.AxesSubplot at 0x2021b225208>"
      ]
     },
     "execution_count": 75,
     "metadata": {},
     "output_type": "execute_result"
    },
    {
     "data": {
      "image/png": "[encoded data removed]",
      "text/plain": [
       "<Figure size 432x288 with 1 Axes>"
      ]
     },
     "metadata": {
      "needs_background": "light"
     },
     "output_type": "display_data"
    }
   ],
   "source": [
    "sns.distplot(df[df.riskiness == -1].length,label=\"-1\")\n",
    "sns.distplot(df[df.riskiness == 0].length,label=\"0\")\n",
    "sns.distplot(df[df.riskiness == 1].length,label=\"1\")\n",
    "sns.distplot(df[df.riskiness == 2].length,label=\"2\")\n",
    "sns.distplot(df[df.riskiness == 3].length,label=\"3\")"
   ]
  },
  {
   "cell_type": "markdown",
   "metadata": {},
   "source": [
    "----------------------------\n",
    "<h2> Atividade 5</h2>\n",
    "<i> Hora de Praticar </i>\n"
   ]
  }
 ],
 "metadata": {
  "kernelspec": {
   "display_name": "Python 3",
   "language": "python",
   "name": "python3"
  },
  "language_info": {
   "codemirror_mode": {
    "name": "ipython",
    "version": 3
   },
   "file_extension": ".py",
   "mimetype": "text/x-python",
   "name": "python",
   "nbconvert_exporter": "python",
   "pygments_lexer": "ipython3",
   "version": "3.7.3"
  }
 },
 "nbformat": 4,
 "nbformat_minor": 4
}
